{
 "cells": [
  {
   "cell_type": "code",
   "execution_count": 1,
   "metadata": {},
   "outputs": [],
   "source": [
    "import numpy as np\n",
    "import pyldpc as ldpc\n",
    "from tqdm import tqdm\n",
    "import matplotlib.pyplot as plt\n",
    "import sys\n",
    "from utils_f import load_code\n",
    "import os\n",
    "import torch\n",
    "device = torch.device('cuda' if torch.cuda.is_available() else 'cpu')"
   ]
  },
  {
   "cell_type": "code",
   "execution_count": 2,
   "metadata": {},
   "outputs": [],
   "source": [
    "device='cuda:1'"
   ]
  },
  {
   "cell_type": "code",
   "execution_count": 3,
   "metadata": {},
   "outputs": [],
   "source": [
    "H_filename = './source/hamming.alist'\n",
    "code = load_code(H_filename)\n",
    "H = code.H\n",
    "G = code.G\n",
    "var_degrees = code.var_degrees\n",
    "chk_degrees = code.chk_degrees\n",
    "num_edges = code.num_edges\n",
    "u = code.u\n",
    "d = code.d\n",
    "n = code.n\n",
    "m = code.m\n",
    "k = code.k"
   ]
  },
  {
   "cell_type": "code",
   "execution_count": 4,
   "metadata": {},
   "outputs": [],
   "source": [
    "class Decoder(torch.nn.Module):\n",
    "    def __init__(self, num_iterations = 5):\n",
    "        super(Decoder, self).__init__()\n",
    "        self.W_cv = torch.nn.Parameter(0.5*torch.abs(torch.randn((num_iterations, num_edges))))\n",
    "        self.W_cv.requires_grad = True\n",
    "        self.B_cv = torch.nn.Parameter(0.5*torch.abs(torch.randn((num_iterations, num_edges))))\n",
    "        self.B_cv.requires_grad = True\n",
    "        self.W_vc = torch.nn.Parameter(0.5*torch.abs(torch.randn((num_iterations, num_edges))))\n",
    "        self.W_vc.requires_grad = True\n",
    "        \n",
    "        self.num_iterations = num_iterations\n",
    "        \n",
    "    def forward(self, soft_input):\n",
    "        soft_input = soft_input.T           # TODO! Fix matrix dimensions inside functions\n",
    "        # print(soft_input.shape)\n",
    "        cv = torch.zeros((num_edges, soft_input.shape[1]))\n",
    "        for iteration in range(0, self.num_iterations):\n",
    "            vc = self.compute_vc(cv, soft_input, iteration)\n",
    "            cv = self.compute_cv(vc, iteration)\n",
    "            soft_input = self.marginalize(soft_input, cv)\n",
    "        output = torch.sigmoid(soft_input)\n",
    "        output = output.T\n",
    "        # output = soft_input\n",
    "        return output\n",
    "\n",
    "        \n",
    "    def compute_vc(self, cv, soft_input, iteration):\n",
    "        edges = []\n",
    "        for i in range(0, n):\n",
    "            for j in range(0, var_degrees[i]):\n",
    "                edges.append(i)\n",
    "        # print(soft_input.shape, len(edges), edges)\n",
    "        reordered_soft_input = torch.index_select(soft_input, 0, torch.tensor(edges).to(device))\n",
    "\n",
    "        vc = torch.zeros((num_edges, cv.shape[1])).to(device)\n",
    "        counter = 0\n",
    "        edge_order = []\n",
    "\n",
    "        for i in range(0, n): # for each variable node v\n",
    "            for j in range(0, var_degrees[i]):\n",
    "                edge_order.append(d[i][j])\n",
    "                extrinsic_edges = []\n",
    "                for jj in range(0, var_degrees[i]):\n",
    "                    if jj != j: # extrinsic information only\n",
    "                        extrinsic_edges.append(d[i][jj])\n",
    "                # if the list of edges is not empty, add them up\n",
    "                if extrinsic_edges:\n",
    "                    # print(cv.shape, len(extrinsic_edges), extrinsic_edges)\n",
    "                    temp = torch.index_select(cv.to(device), 0, torch.tensor(extrinsic_edges).to(device))\n",
    "                    temp = torch.sum(temp, 0)\n",
    "                else:\n",
    "                    temp = torch.zeros(cv.shape[1])\n",
    "\n",
    "                temp = temp.to(device)\n",
    "                vc[counter] = temp\n",
    "        \n",
    "        new_order = np.zeros(num_edges).astype(int)\n",
    "        new_order[edge_order] = np.arange(0, num_edges)\n",
    "        vc = torch.index_select(vc, 0, torch.tensor(new_order).to(device))\n",
    "        vc += reordered_soft_input * torch.tile(torch.reshape(self.W_vc[iteration], (-1,1)), (1, cv.shape[1]))       # add soft inputs of the previous iterations!\n",
    "        return vc \n",
    "\n",
    "    def compute_cv(self, vc, iteration):\n",
    "        cv_list = []\n",
    "        prod_list = []\n",
    "        min_list = []\n",
    "        edge_order = []\n",
    "        for i in range(0, m): # for each check node c\n",
    "            for j in range(0, chk_degrees[i]):\n",
    "                edge_order.append(u[i][j])\n",
    "                extrinsic_edges = []\n",
    "                for jj in range(0, chk_degrees[i]):\n",
    "                    if jj != j:\n",
    "                        extrinsic_edges.append(u[i][jj])\n",
    "                temp = torch.index_select(vc.to(device),0,torch.tensor(extrinsic_edges).to(device))\n",
    "                temp1 = torch.prod(torch.sign(temp),0)\n",
    "                temp2 = torch.min(torch.abs(temp),0)[0]\n",
    "                prod_list.append(temp1)\n",
    "                min_list.append(temp2)\n",
    "        prods = torch.stack(prod_list)\n",
    "        mins = torch.stack(min_list)\n",
    "        mins = torch.relu(mins - torch.tile(torch.reshape(self.B_cv[iteration], (-1,1)), (1, vc.shape[1])))\n",
    "        cv = prods * mins\n",
    "        new_order = np.zeros(num_edges).astype(int)\n",
    "        new_order[edge_order] = np.array(range(0,num_edges)).astype(int)\n",
    "        cv = torch.index_select(cv, 0, torch.tensor(new_order).to(device))\n",
    "        cv = cv * torch.tile(torch.reshape(self.W_cv[iteration], (-1,1)), (1, vc.shape[1]))\n",
    "        return cv\n",
    "\n",
    "    # combine messages to get posterior LLRs\n",
    "    def marginalize(self, soft_input, cv):\n",
    "        weighted_soft_input = soft_input\n",
    "        soft_output = []\n",
    "        for i in range(0,n):\n",
    "            edges = []\n",
    "            for e in range(0,var_degrees[i]):\n",
    "                edges.append(d[i][e])\n",
    "            temp = torch.index_select(cv,0,torch.tensor(edges).to(device))\n",
    "            temp = torch.sum(temp, 0)\n",
    "            soft_output.append(temp)\n",
    "        soft_output = torch.stack(soft_output)\n",
    "        soft_output = weighted_soft_input + soft_output\n",
    "        return soft_output"
   ]
  },
  {
   "cell_type": "code",
   "execution_count": 5,
   "metadata": {},
   "outputs": [],
   "source": [
    "def epoch_train(loader, clf, criterion, opt):\n",
    "    clf.train(True)\n",
    "    avg_loss = 0\n",
    "    avg_acc = 0\n",
    "    correct = 0\n",
    "    # load batch\n",
    "    for model_input, target in loader:\n",
    "        # move data to device\n",
    "        model_input = model_input.to(device)\n",
    "        target = target.to(device)\n",
    "        # calculate outputs, loss and accuracy\n",
    "        model_output = clf(model_input)\n",
    "        loss = criterion(model_output, target)\n",
    "        # print(model_input[0], model_output[0])\n",
    "        avg_loss += loss\n",
    "        correct += torch.count_nonzero(torch.heaviside(model_output-0.5, torch.tensor([0.]).to(device)).to(device) == target)\n",
    "        # calculate grad, upd weights\n",
    "        opt.zero_grad()\n",
    "        loss.backward()\n",
    "        opt.step()\n",
    "    avg_loss = avg_loss / len(loader)\n",
    "    avg_acc = correct / len(loader.dataset)\n",
    "    return avg_loss, avg_acc\n",
    "\n",
    "            \n",
    "            \n",
    "                        \n",
    "def epoch_test(loader, clf, criterion):\n",
    "    clf.eval()\n",
    "    avg_loss = 0\n",
    "    avg_acc = 0\n",
    "    correct = 0\n",
    "    # load batch\n",
    "    for model_input, target in loader:\n",
    "        # move data to device\n",
    "        model_input = model_input.to(device)\n",
    "        target = target.to(device)\n",
    "        # calculate outputs, loss and accuracy\n",
    "        model_output = clf(model_input)\n",
    "        loss = criterion(model_output, target)\n",
    "        avg_loss += loss\n",
    "        correct += torch.count_nonzero(torch.heaviside(model_output-0.5, torch.tensor([0.]).to(device)).to(device) == target)\n",
    "    avg_loss = avg_loss / len(loader)\n",
    "    avg_acc = correct / len(loader.dataset)\n",
    "\n",
    "    return avg_loss, avg_acc\n",
    "\n",
    "def train(train_loader, test_loader, clf, criterion, opt, n_epochs=50):\n",
    "    for epoch in tqdm(range(n_epochs)):\n",
    "        train_loss, train_acc = epoch_train(train_loader, clf, criterion, opt)\n",
    "        test_loss, test_acc = epoch_test(test_loader, clf, criterion)\n",
    "\n",
    "        if (np.mod(epoch+1,2)==0):\n",
    "            print(f'[Epoch {epoch + 1}] train loss: {train_loss:.3f}; train acc: {train_acc:.2f}; ' + \n",
    "                  f'test loss: {test_loss:.3f}; test acc: {test_acc:.2f}')"
   ]
  },
  {
   "cell_type": "markdown",
   "metadata": {
    "tags": []
   },
   "source": [
    "## Create dataloader"
   ]
  },
  {
   "cell_type": "code",
   "execution_count": 6,
   "metadata": {},
   "outputs": [],
   "source": [
    "train_size = 100000\n",
    "\n",
    "\n",
    "def gen():\n",
    "    messages = np.random.randint(0,2,[train_size,k])\n",
    "    codewords = messages @ G % 2\n",
    "    BPSK_codewords = (0.5 - codewords.astype(np.float32)) * 2.0\n",
    "    soft_input = np.zeros_like(BPSK_codewords)\n",
    "    SNRs = np.arange(1,6)\n",
    "    for i in range(0,len(SNRs)):\n",
    "        sigma = np.sqrt(1. / (2 * (np.float(k)/np.float(n)) * 10**(SNRs[i]/10)))\n",
    "        noise = sigma * np.random.randn(train_size//len(SNRs),n)\n",
    "        start_idx = train_size*i//len(SNRs)\n",
    "        end_idx = train_size*(i+1)//len(SNRs)\n",
    "        soft_input[start_idx:end_idx,:] = BPSK_codewords[start_idx:end_idx,:] + noise\n",
    "        soft_input = 2*soft_input / (sigma**2)\n",
    "    return soft_input, codewords\n",
    "    \n",
    "    \n",
    "    \n",
    "def update_loaders():\n",
    "\n",
    "\n",
    "    soft_input_train, codewords_train = gen()\n",
    "    train_X = torch.Tensor(soft_input_train) # transform to torch tensor\n",
    "    train_y = torch.Tensor(codewords_train)\n",
    "    training_dataset = torch.utils.data.TensorDataset(train_X, train_y) # create your datset\n",
    "    training_loader = torch.utils.data.DataLoader(training_dataset, batch_size=20000, shuffle=True) # create your dataloader\n",
    "\n",
    "\n",
    "    soft_input_test, codewords_test = gen()\n",
    "    test_X = torch.Tensor(soft_input_test) # transform to torch tensor\n",
    "    test_y = torch.Tensor(codewords_test)\n",
    "    test_dataset = torch.utils.data.TensorDataset(test_X, test_y) # create your datset\n",
    "    test_loader = torch.utils.data.DataLoader(test_dataset, batch_size=20000, shuffle=True) # create your dataloader\n",
    "    return training_loader, test_loader"
   ]
  },
  {
   "cell_type": "code",
   "execution_count": 7,
   "metadata": {},
   "outputs": [],
   "source": [
    "decoder = Decoder(num_iterations=5).to(device)\n",
    "opt = torch.optim.Adam(decoder.parameters(), lr=0.1)\n",
    "# opt = torch.optim.SGD(decoder.parameters(), lr=0.01)\n",
    "criterion = torch.nn.CrossEntropyLoss()\n",
    "# criterion = torch.nn.MSELoss()"
   ]
  },
  {
   "cell_type": "code",
   "execution_count": 8,
   "metadata": {},
   "outputs": [
    {
     "name": "stdout",
     "output_type": "stream",
     "text": [
      "1/5\n"
     ]
    },
    {
     "name": "stderr",
     "output_type": "stream",
     "text": [
      "  3%|███▉                                                                                                                   | 2/60 [00:04<01:59,  2.07s/it]"
     ]
    },
    {
     "name": "stdout",
     "output_type": "stream",
     "text": [
      "[Epoch 2] train loss: 7.923; train acc: 1.74; test loss: 7.655; test acc: 2.36\n"
     ]
    },
    {
     "name": "stderr",
     "output_type": "stream",
     "text": [
      "  7%|███████▉                                                                                                               | 4/60 [00:08<01:52,  2.02s/it]"
     ]
    },
    {
     "name": "stdout",
     "output_type": "stream",
     "text": [
      "[Epoch 4] train loss: 7.116; train acc: 3.64; test loss: 6.808; test acc: 4.33\n"
     ]
    },
    {
     "name": "stderr",
     "output_type": "stream",
     "text": [
      " 10%|███████████▉                                                                                                           | 6/60 [00:12<01:48,  2.00s/it]"
     ]
    },
    {
     "name": "stdout",
     "output_type": "stream",
     "text": [
      "[Epoch 6] train loss: 6.716; train acc: 4.57; test loss: 6.566; test acc: 4.89\n"
     ]
    },
    {
     "name": "stderr",
     "output_type": "stream",
     "text": [
      " 13%|███████████████▊                                                                                                       | 8/60 [00:16<01:44,  2.02s/it]"
     ]
    },
    {
     "name": "stdout",
     "output_type": "stream",
     "text": [
      "[Epoch 8] train loss: 6.293; train acc: 5.56; test loss: 6.336; test acc: 5.43\n"
     ]
    },
    {
     "name": "stderr",
     "output_type": "stream",
     "text": [
      " 17%|███████████████████▋                                                                                                  | 10/60 [00:20<01:40,  2.02s/it]"
     ]
    },
    {
     "name": "stdout",
     "output_type": "stream",
     "text": [
      "[Epoch 10] train loss: 6.347; train acc: 5.43; test loss: 6.327; test acc: 5.45\n"
     ]
    },
    {
     "name": "stderr",
     "output_type": "stream",
     "text": [
      " 20%|███████████████████████▌                                                                                              | 12/60 [00:24<01:38,  2.05s/it]"
     ]
    },
    {
     "name": "stdout",
     "output_type": "stream",
     "text": [
      "[Epoch 12] train loss: 6.316; train acc: 5.51; test loss: 6.293; test acc: 5.53\n"
     ]
    },
    {
     "name": "stderr",
     "output_type": "stream",
     "text": [
      " 23%|███████████████████████████▌                                                                                          | 14/60 [00:28<01:33,  2.04s/it]"
     ]
    },
    {
     "name": "stdout",
     "output_type": "stream",
     "text": [
      "[Epoch 14] train loss: 6.172; train acc: 5.84; test loss: 6.121; test acc: 5.93\n"
     ]
    },
    {
     "name": "stderr",
     "output_type": "stream",
     "text": [
      " 27%|███████████████████████████████▍                                                                                      | 16/60 [00:32<01:29,  2.04s/it]"
     ]
    },
    {
     "name": "stdout",
     "output_type": "stream",
     "text": [
      "[Epoch 16] train loss: 6.154; train acc: 5.88; test loss: 6.180; test acc: 5.80\n"
     ]
    },
    {
     "name": "stderr",
     "output_type": "stream",
     "text": [
      " 30%|███████████████████████████████████▍                                                                                  | 18/60 [00:36<01:26,  2.05s/it]"
     ]
    },
    {
     "name": "stdout",
     "output_type": "stream",
     "text": [
      "[Epoch 18] train loss: 6.181; train acc: 5.82; test loss: 6.161; test acc: 5.84\n"
     ]
    },
    {
     "name": "stderr",
     "output_type": "stream",
     "text": [
      " 33%|███████████████████████████████████████▎                                                                              | 20/60 [00:40<01:21,  2.04s/it]"
     ]
    },
    {
     "name": "stdout",
     "output_type": "stream",
     "text": [
      "[Epoch 20] train loss: 6.177; train acc: 5.83; test loss: 6.155; test acc: 5.86\n"
     ]
    },
    {
     "name": "stderr",
     "output_type": "stream",
     "text": [
      " 37%|███████████████████████████████████████████▎                                                                          | 22/60 [00:44<01:18,  2.07s/it]"
     ]
    },
    {
     "name": "stdout",
     "output_type": "stream",
     "text": [
      "[Epoch 22] train loss: 6.123; train acc: 5.96; test loss: 6.100; test acc: 5.98\n"
     ]
    },
    {
     "name": "stderr",
     "output_type": "stream",
     "text": [
      " 40%|███████████████████████████████████████████████▏                                                                      | 24/60 [00:49<01:13,  2.05s/it]"
     ]
    },
    {
     "name": "stdout",
     "output_type": "stream",
     "text": [
      "[Epoch 24] train loss: 6.085; train acc: 6.05; test loss: 6.067; test acc: 6.06\n"
     ]
    },
    {
     "name": "stderr",
     "output_type": "stream",
     "text": [
      " 43%|███████████████████████████████████████████████████▏                                                                  | 26/60 [00:53<01:09,  2.06s/it]"
     ]
    },
    {
     "name": "stdout",
     "output_type": "stream",
     "text": [
      "[Epoch 26] train loss: 6.075; train acc: 6.07; test loss: 6.076; test acc: 6.04\n"
     ]
    },
    {
     "name": "stderr",
     "output_type": "stream",
     "text": [
      " 47%|███████████████████████████████████████████████████████                                                               | 28/60 [00:57<01:05,  2.05s/it]"
     ]
    },
    {
     "name": "stdout",
     "output_type": "stream",
     "text": [
      "[Epoch 28] train loss: 6.153; train acc: 5.89; test loss: 6.170; test acc: 5.82\n"
     ]
    },
    {
     "name": "stderr",
     "output_type": "stream",
     "text": [
      " 50%|███████████████████████████████████████████████████████████                                                           | 30/60 [01:01<01:01,  2.05s/it]"
     ]
    },
    {
     "name": "stdout",
     "output_type": "stream",
     "text": [
      "[Epoch 30] train loss: 6.200; train acc: 5.78; test loss: 6.181; test acc: 5.79\n"
     ]
    },
    {
     "name": "stderr",
     "output_type": "stream",
     "text": [
      " 53%|██████████████████████████████████████████████████████████████▉                                                       | 32/60 [01:05<00:58,  2.08s/it]"
     ]
    },
    {
     "name": "stdout",
     "output_type": "stream",
     "text": [
      "[Epoch 32] train loss: 6.231; train acc: 5.71; test loss: 6.243; test acc: 5.65\n"
     ]
    },
    {
     "name": "stderr",
     "output_type": "stream",
     "text": [
      " 57%|██████████████████████████████████████████████████████████████████▊                                                   | 34/60 [01:09<00:53,  2.06s/it]"
     ]
    },
    {
     "name": "stdout",
     "output_type": "stream",
     "text": [
      "[Epoch 34] train loss: 6.291; train acc: 5.57; test loss: 6.304; test acc: 5.52\n"
     ]
    },
    {
     "name": "stderr",
     "output_type": "stream",
     "text": [
      " 60%|██████████████████████████████████████████████████████████████████████▊                                               | 36/60 [01:13<00:49,  2.05s/it]"
     ]
    },
    {
     "name": "stdout",
     "output_type": "stream",
     "text": [
      "[Epoch 36] train loss: 6.243; train acc: 5.68; test loss: 6.218; test acc: 5.71\n"
     ]
    },
    {
     "name": "stderr",
     "output_type": "stream",
     "text": [
      " 63%|██████████████████████████████████████████████████████████████████████████▋                                           | 38/60 [01:17<00:45,  2.05s/it]"
     ]
    },
    {
     "name": "stdout",
     "output_type": "stream",
     "text": [
      "[Epoch 38] train loss: 6.129; train acc: 5.94; test loss: 6.107; test acc: 5.97\n"
     ]
    },
    {
     "name": "stderr",
     "output_type": "stream",
     "text": [
      " 67%|██████████████████████████████████████████████████████████████████████████████▋                                       | 40/60 [01:21<00:40,  2.04s/it]"
     ]
    },
    {
     "name": "stdout",
     "output_type": "stream",
     "text": [
      "[Epoch 40] train loss: 6.127; train acc: 5.95; test loss: 6.105; test acc: 5.97\n"
     ]
    },
    {
     "name": "stderr",
     "output_type": "stream",
     "text": [
      " 70%|██████████████████████████████████████████████████████████████████████████████████▌                                   | 42/60 [01:26<00:36,  2.05s/it]"
     ]
    },
    {
     "name": "stdout",
     "output_type": "stream",
     "text": [
      "[Epoch 42] train loss: 6.098; train acc: 6.02; test loss: 6.089; test acc: 6.01\n"
     ]
    },
    {
     "name": "stderr",
     "output_type": "stream",
     "text": [
      " 73%|██████████████████████████████████████████████████████████████████████████████████████▌                               | 44/60 [01:30<00:32,  2.05s/it]"
     ]
    },
    {
     "name": "stdout",
     "output_type": "stream",
     "text": [
      "[Epoch 44] train loss: 6.115; train acc: 5.98; test loss: 6.118; test acc: 5.94\n"
     ]
    },
    {
     "name": "stderr",
     "output_type": "stream",
     "text": [
      " 77%|██████████████████████████████████████████████████████████████████████████████████████████▍                           | 46/60 [01:34<00:28,  2.07s/it]"
     ]
    },
    {
     "name": "stdout",
     "output_type": "stream",
     "text": [
      "[Epoch 46] train loss: 6.149; train acc: 5.90; test loss: 6.145; test acc: 5.88\n"
     ]
    },
    {
     "name": "stderr",
     "output_type": "stream",
     "text": [
      " 80%|██████████████████████████████████████████████████████████████████████████████████████████████▍                       | 48/60 [01:38<00:24,  2.07s/it]"
     ]
    },
    {
     "name": "stdout",
     "output_type": "stream",
     "text": [
      "[Epoch 48] train loss: 6.126; train acc: 5.95; test loss: 6.156; test acc: 5.85\n"
     ]
    },
    {
     "name": "stderr",
     "output_type": "stream",
     "text": [
      " 83%|██████████████████████████████████████████████████████████████████████████████████████████████████▎                   | 50/60 [01:42<00:20,  2.06s/it]"
     ]
    },
    {
     "name": "stdout",
     "output_type": "stream",
     "text": [
      "[Epoch 50] train loss: 6.119; train acc: 5.96; test loss: 6.089; test acc: 6.00\n"
     ]
    },
    {
     "name": "stderr",
     "output_type": "stream",
     "text": [
      " 87%|██████████████████████████████████████████████████████████████████████████████████████████████████████▎               | 52/60 [01:46<00:16,  2.05s/it]"
     ]
    },
    {
     "name": "stdout",
     "output_type": "stream",
     "text": [
      "[Epoch 52] train loss: 6.111; train acc: 5.98; test loss: 6.113; test acc: 5.95\n"
     ]
    },
    {
     "name": "stderr",
     "output_type": "stream",
     "text": [
      " 90%|██████████████████████████████████████████████████████████████████████████████████████████████████████████▏           | 54/60 [01:50<00:12,  2.05s/it]"
     ]
    },
    {
     "name": "stdout",
     "output_type": "stream",
     "text": [
      "[Epoch 54] train loss: 6.115; train acc: 5.97; test loss: 6.045; test acc: 6.11\n"
     ]
    },
    {
     "name": "stderr",
     "output_type": "stream",
     "text": [
      " 93%|██████████████████████████████████████████████████████████████████████████████████████████████████████████████▏       | 56/60 [01:54<00:08,  2.07s/it]"
     ]
    },
    {
     "name": "stdout",
     "output_type": "stream",
     "text": [
      "[Epoch 56] train loss: 6.603; train acc: 4.84; test loss: 6.701; test acc: 4.58\n"
     ]
    },
    {
     "name": "stderr",
     "output_type": "stream",
     "text": [
      " 97%|██████████████████████████████████████████████████████████████████████████████████████████████████████████████████    | 58/60 [01:58<00:04,  2.05s/it]"
     ]
    },
    {
     "name": "stdout",
     "output_type": "stream",
     "text": [
      "[Epoch 58] train loss: 6.744; train acc: 4.51; test loss: 6.750; test acc: 4.47\n"
     ]
    },
    {
     "name": "stderr",
     "output_type": "stream",
     "text": [
      "100%|██████████████████████████████████████████████████████████████████████████████████████████████████████████████████████| 60/60 [02:03<00:00,  2.05s/it]"
     ]
    },
    {
     "name": "stdout",
     "output_type": "stream",
     "text": [
      "[Epoch 60] train loss: 6.790; train acc: 4.40; test loss: 6.725; test acc: 4.52\n"
     ]
    },
    {
     "name": "stderr",
     "output_type": "stream",
     "text": [
      "\n"
     ]
    }
   ],
   "source": [
    "for i in range(1):\n",
    "    print(f'{i+1}/5')\n",
    "    training_loader, test_loader = update_loaders()\n",
    "    train(training_loader, test_loader, decoder, criterion, opt, n_epochs=60)"
   ]
  },
  {
   "cell_type": "code",
   "execution_count": 14,
   "metadata": {},
   "outputs": [
    {
     "name": "stdout",
     "output_type": "stream",
     "text": [
      "SNR: -10, correct: 304140, errors: 395860\n",
      "SNR: -9, correct: 297570, errors: 402430\n",
      "SNR: -8, correct: 288832, errors: 411168\n",
      "SNR: -7, correct: 281272, errors: 418728\n",
      "SNR: -6, correct: 270273, errors: 429727\n",
      "SNR: -5, correct: 257441, errors: 442559\n",
      "SNR: -4, correct: 243163, errors: 456837\n",
      "SNR: -3, correct: 226284, errors: 473716\n",
      "SNR: -2, correct: 208075, errors: 491925\n",
      "SNR: -1, correct: 186797, errors: 513203\n",
      "SNR: 0, correct: 161787, errors: 538213\n",
      "SNR: 1, correct: 136079, errors: 563921\n",
      "SNR: 2, correct: 108718, errors: 591282\n",
      "SNR: 3, correct: 83453, errors: 616547\n",
      "SNR: 4, correct: 57338, errors: 642662\n",
      "SNR: 5, correct: 37686, errors: 662314\n",
      "SNR: 6, correct: 20751, errors: 679249\n",
      "SNR: 7, correct: 10849, errors: 689151\n",
      "SNR: 8, correct: 4638, errors: 695362\n",
      "SNR: 9, correct: 1652, errors: 698348\n"
     ]
    }
   ],
   "source": [
    "test_size = 100000\n",
    "SNRs = np.arange(-10,10)\n",
    "results_hard = torch.zeros(len(SNRs))\n",
    "results_nn = torch.zeros(len(SNRs))\n",
    "\n",
    "decoder.eval()\n",
    "messages = torch.randint(0, 2, (test_size, k))\n",
    "codewords = messages @ G % 2\n",
    "codewords = codewords.to(device)\n",
    "BPSK_codewords = (0.5 - codewords) * 2\n",
    "for i, snr in enumerate(SNRs):\n",
    "    sigma = np.sqrt(1. / (2 * (np.float(k)/np.float(n)) * 10**(snr/10)))\n",
    "    noise = torch.tensor(sigma).to(device) * torch.randn(test_size, n).to(device)\n",
    "    soft_input = BPSK_codewords + noise\n",
    "    correct_hard = torch.count_nonzero((-(torch.sign(soft_input) - 1)/2) == codewords)\n",
    "    # correct_nn = torch.count_nonzero(torch.heaviside(decoder(soft_input) - 0.5, torch.tensor([0.]).to(device)) == codewords)\n",
    "    correct_nn = torch.count_nonzero(torch.heaviside(decoder(soft_input) - 0.5, torch.tensor([0.]).to(device)) != codewords)\n",
    "\n",
    "    print(f'SNR: {snr}, correct: {correct_nn}, errors: {test_size*n - correct_nn}')\n",
    "    results_hard[i] = correct_hard\n",
    "    results_nn[i] = correct_nn"
   ]
  },
  {
   "cell_type": "code",
   "execution_count": 15,
   "metadata": {},
   "outputs": [
    {
     "data": {
      "image/png": "[encoded data removed]",
      "text/plain": [
       "<Figure size 1152x720 with 1 Axes>"
      ]
     },
     "metadata": {
      "needs_background": "light"
     },
     "output_type": "display_data"
    }
   ],
   "source": [
    "plt.figure(figsize=(16,10))\n",
    "plt.semilogy(SNRs, (test_size*n - results_nn.numpy()) / (test_size*n), label='NN')\n",
    "plt.semilogy(SNRs, (test_size*n - results_hard.numpy()) / (test_size*n), label='hard decision')\n",
    "plt.legend()\n",
    "plt.show()"
   ]
  },
  {
   "cell_type": "code",
   "execution_count": 11,
   "metadata": {},
   "outputs": [
    {
     "data": {
      "text/plain": [
       "tensor([0.5000, 0.5000, 0.5000, 0.5000, 0.5000, 0.5000, 0.5000],\n",
       "       device='cuda:1', grad_fn=<SubBackward0>)"
      ]
     },
     "execution_count": 11,
     "metadata": {},
     "output_type": "execute_result"
    }
   ],
   "source": [
    "decoder(soft_input)[0] - 0.5"
   ]
  },
  {
   "cell_type": "code",
   "execution_count": 12,
   "metadata": {},
   "outputs": [
    {
     "data": {
      "text/plain": [
       "tensor([1, 1, 1, 1, 1, 1, 1], device='cuda:1')"
      ]
     },
     "execution_count": 12,
     "metadata": {},
     "output_type": "execute_result"
    }
   ],
   "source": [
    "codewords[0]"
   ]
  },
  {
   "cell_type": "code",
   "execution_count": 13,
   "metadata": {},
   "outputs": [
    {
     "data": {
      "text/plain": [
       "Parameter containing:\n",
       "tensor([[-0.6510, -3.1827, -2.5294,  0.6723,  1.4784,  2.5545,  0.9434,  2.5654,\n",
       "          1.6559,  2.6246,  1.4692,  1.4508],\n",
       "        [-1.0317, -0.0479,  2.3691, -0.4511,  0.4820, -1.0999,  1.4614, -2.1509,\n",
       "          2.1552, -3.4284,  2.2952,  0.3389],\n",
       "        [-1.6593, -2.8796,  1.8818, -1.3438, -0.7484,  2.5036,  2.1464,  0.6561,\n",
       "          4.0739,  3.2363, -1.6556,  2.3673],\n",
       "        [-1.1021, -2.6439,  1.8845,  0.8336,  2.8893, -4.4014,  1.6569, -1.5601,\n",
       "          3.7244,  1.0861,  4.0938,  1.5546],\n",
       "        [ 0.4948,  0.1329, -2.2415,  2.8786,  3.1903,  1.9015,  2.1405,  3.3994,\n",
       "         -0.4039,  1.9769, -3.3160,  0.8218]], device='cuda:1',\n",
       "       requires_grad=True)"
      ]
     },
     "execution_count": 13,
     "metadata": {},
     "output_type": "execute_result"
    }
   ],
   "source": [
    "decoder.W_vc"
   ]
  },
  {
   "cell_type": "code",
   "execution_count": null,
   "metadata": {},
   "outputs": [],
   "source": []
  }
 ],
 "metadata": {
  "interpreter": {
   "hash": "40d3a090f54c6569ab1632332b64b2c03c39dcf918b08424e98f38b5ae0af88f"
  },
  "kernelspec": {
   "display_name": "Python 3 (ipykernel)",
   "language": "python",
   "name": "python3"
  },
  "language_info": {
   "codemirror_mode": {
    "name": "ipython",
    "version": 3
   },
   "file_extension": ".py",
   "mimetype": "text/x-python",
   "name": "python",
   "nbconvert_exporter": "python",
   "pygments_lexer": "ipython3",
   "version": "3.9.10"
  }
 },
 "nbformat": 4,
 "nbformat_minor": 4
}
