{
 "cells": [
  {
   "cell_type": "code",
   "execution_count": 1,
   "metadata": {},
   "outputs": [],
   "source": [
    "import numpy as np\n",
    "import pyldpc as ldpc\n",
    "from tqdm import tqdm, trange\n",
    "import matplotlib.pyplot as plt\n",
    "import sys\n",
    "from utils_f import load_code\n",
    "import os\n",
    "import torch\n",
    "device = torch.device('cuda' if torch.cuda.is_available() else 'cpu')"
   ]
  },
  {
   "cell_type": "code",
   "execution_count": 2,
   "metadata": {},
   "outputs": [],
   "source": [
    "device='cuda:1'"
   ]
  },
  {
   "cell_type": "code",
   "execution_count": 3,
   "metadata": {},
   "outputs": [],
   "source": [
    "H_filename = './source/BCH_15_11.alist'\n",
    "code = load_code(H_filename)\n",
    "H = code.H\n",
    "G = code.G\n",
    "var_degrees = code.var_degrees\n",
    "chk_degrees = code.chk_degrees\n",
    "num_edges = code.num_edges\n",
    "u = code.u\n",
    "d = code.d\n",
    "n = code.n\n",
    "m = code.m\n",
    "k = code.k"
   ]
  },
  {
   "cell_type": "code",
   "execution_count": 4,
   "metadata": {
    "jupyter": {
     "source_hidden": true
    },
    "tags": []
   },
   "outputs": [],
   "source": [
    "class min_sum(torch.nn.Module):\n",
    "    def __init__(self, num_iterations = 5):\n",
    "        super(min_sum, self).__init__()\n",
    "        self.W_cv = torch.ones((num_iterations, num_edges))\n",
    "        # self.W_cv = torch.nn.Parameter(torch.abs(torch.ones((num_iterations, num_edges))))\n",
    "        # self.W_cv.requires_grad = True\n",
    "        self.B_cv = torch.zeros((num_iterations, num_edges))\n",
    "        # self.B_cv = torch.nn.Parameter(torch.abs(torch.zeros((num_iterations, num_edges))))\n",
    "        # self.B_cv.requires_grad = True\n",
    "        self.W_vc = torch.ones((num_iterations, num_edges))\n",
    "        # self.W_vc = torch.nn.Parameter(torch.abs(torch.ones((num_iterations, num_edges))))\n",
    "        # self.W_vc.requires_grad = True\n",
    "        \n",
    "        self.num_iterations = num_iterations\n",
    "        \n",
    "    def forward(self, soft_input):\n",
    "        soft_input = soft_input.T           # TODO! Fix matrix dimensions inside functions\n",
    "        # print(soft_input.shape)\n",
    "        cv = torch.zeros((num_edges, soft_input.shape[1]))\n",
    "        for iteration in range(0, self.num_iterations):\n",
    "            vc = self.compute_vc(cv, soft_input, iteration)\n",
    "            cv = self.compute_cv(vc, iteration)\n",
    "            soft_input = self.marginalize(soft_input, cv)\n",
    "        output = torch.sigmoid(-soft_input)\n",
    "        output = output.T\n",
    "        \n",
    "        # self.W_cv = torch.nn.Parameter(torch.abs(self.W_cv))\n",
    "        # self.B_cv =torch.nn.Parameter(torch.abs(self.B_cv))\n",
    "        # self.W_vc = torch.nn.Parameter(torch.abs(self.W_vc))\n",
    "        # output = soft_input\n",
    "        return output\n",
    "\n",
    "        \n",
    "    def compute_vc(self, cv, soft_input, iteration):\n",
    "        edges = []\n",
    "        for i in range(0, n):\n",
    "            for j in range(0, var_degrees[i]):\n",
    "                edges.append(i)\n",
    "        # print(soft_input.shape, len(edges), edges)\n",
    "        reordered_soft_input = torch.index_select(soft_input, 0, torch.tensor(edges).to(device))\n",
    "\n",
    "        vc = torch.zeros((num_edges, cv.shape[1])).to(device)\n",
    "        counter = 0\n",
    "        edge_order = []\n",
    "\n",
    "        for i in range(0, n): # for each variable node v\n",
    "            for j in range(0, var_degrees[i]):\n",
    "                edge_order.append(d[i][j])\n",
    "                extrinsic_edges = []\n",
    "                for jj in range(0, var_degrees[i]):\n",
    "                    if jj != j: # extrinsic information only\n",
    "                        extrinsic_edges.append(d[i][jj])\n",
    "                # if the list of edges is not empty, add them up\n",
    "                if extrinsic_edges:\n",
    "                    # print(cv.shape, len(extrinsic_edges), extrinsic_edges)\n",
    "                    temp = torch.index_select(cv.to(device), 0, torch.tensor(extrinsic_edges).to(device))\n",
    "                    temp = torch.sum(temp, 0)\n",
    "                else:\n",
    "                    temp = torch.zeros(cv.shape[1])\n",
    "\n",
    "                temp = temp.to(device)\n",
    "                vc[counter] = temp\n",
    "        \n",
    "        new_order = np.zeros(num_edges).astype(int)\n",
    "        new_order[edge_order] = np.arange(0, num_edges)\n",
    "        vc = torch.index_select(vc, 0, torch.tensor(new_order).to(device))\n",
    "        vc += reordered_soft_input * torch.tile(torch.reshape(self.W_vc[iteration], (-1,1)), (1, cv.shape[1])).to(device)       # add soft inputs of the previous iterations!\n",
    "        return vc \n",
    "\n",
    "    def compute_cv(self, vc, iteration):\n",
    "        cv_list = []\n",
    "        prod_list = []\n",
    "        min_list = []\n",
    "        edge_order = []\n",
    "        for i in range(0, m): # for each check node c\n",
    "            for j in range(0, chk_degrees[i]):\n",
    "                edge_order.append(u[i][j])\n",
    "                extrinsic_edges = []\n",
    "                for jj in range(0, chk_degrees[i]):\n",
    "                    if jj != j:\n",
    "                        extrinsic_edges.append(u[i][jj])\n",
    "                temp = torch.index_select(vc.to(device),0,torch.tensor(extrinsic_edges).to(device))\n",
    "                temp1 = torch.prod(torch.sign(temp),0)\n",
    "                temp2 = torch.min(torch.abs(temp),0)[0]\n",
    "                prod_list.append(temp1)\n",
    "                min_list.append(temp2)\n",
    "        prods = torch.stack(prod_list)\n",
    "        mins = torch.stack(min_list)\n",
    "        mins = torch.relu(mins - torch.tile(torch.reshape(self.B_cv[iteration], (-1,1)), (1, vc.shape[1])).to(device))\n",
    "        cv = prods * mins\n",
    "        new_order = np.zeros(num_edges).astype(int)\n",
    "        new_order[edge_order] = np.array(range(0,num_edges)).astype(int)\n",
    "        cv = torch.index_select(cv, 0, torch.tensor(new_order).to(device))\n",
    "        cv = cv * torch.tile(torch.reshape(self.W_cv[iteration], (-1,1)), (1, vc.shape[1])).to(device)\n",
    "        return cv\n",
    "\n",
    "    # combine messages to get posterior LLRs\n",
    "    def marginalize(self, soft_input, cv):\n",
    "        weighted_soft_input = soft_input\n",
    "        soft_output = []\n",
    "        for i in range(0,n):\n",
    "            edges = []\n",
    "            for e in range(0,var_degrees[i]):\n",
    "                edges.append(d[i][e])\n",
    "            temp = torch.index_select(cv,0,torch.tensor(edges).to(device))\n",
    "            temp = torch.sum(temp, 0)\n",
    "            soft_output.append(temp)\n",
    "        soft_output = torch.stack(soft_output)\n",
    "        soft_output = weighted_soft_input + soft_output\n",
    "        return soft_output"
   ]
  },
  {
   "cell_type": "code",
   "execution_count": 5,
   "metadata": {},
   "outputs": [],
   "source": [
    "class Decoder(torch.nn.Module):\n",
    "    def __init__(self, num_iterations = 5):\n",
    "        super(Decoder, self).__init__()\n",
    "        # self.W_cv = torch.ones((num_iterations, num_edges))\n",
    "        self.W_cv = torch.nn.Parameter(torch.abs(torch.randn((num_iterations, num_edges))))\n",
    "        self.W_cv.requires_grad = True\n",
    "        # self.B_cv = torch.zeros((num_iterations, num_edges))\n",
    "        self.B_cv = torch.nn.Parameter(torch.abs(torch.randn((num_iterations, num_edges))))\n",
    "        self.B_cv.requires_grad = True\n",
    "        # self.W_vc = torch.ones((num_iterations, num_edges))\n",
    "        self.W_vc = torch.nn.Parameter(torch.abs(torch.randn((num_iterations, num_edges))))\n",
    "        self.W_vc.requires_grad = True\n",
    "        \n",
    "        self.num_iterations = num_iterations\n",
    "        \n",
    "    def forward(self, soft_input):\n",
    "        soft_input = soft_input.T           # TODO! Fix matrix dimensions inside functions\n",
    "        # print(soft_input.shape)\n",
    "        cv = torch.zeros((num_edges, soft_input.shape[1]))\n",
    "        for iteration in range(0, self.num_iterations):\n",
    "            vc = self.compute_vc(cv, soft_input, iteration)\n",
    "            cv = self.compute_cv(vc, iteration)\n",
    "            soft_input = self.marginalize(soft_input, cv)\n",
    "        output = torch.sigmoid(-soft_input)\n",
    "        output = output.T\n",
    "        \n",
    "        # self.W_cv = torch.nn.Parameter(torch.abs(self.W_cv))\n",
    "        # self.B_cv =torch.nn.Parameter(torch.abs(self.B_cv))\n",
    "        # self.W_vc = torch.nn.Parameter(torch.abs(self.W_vc))\n",
    "        \n",
    "        # output = soft_input\n",
    "        return output\n",
    "\n",
    "        \n",
    "    def compute_vc(self, cv, soft_input, iteration):\n",
    "        edges = []\n",
    "        for i in range(0, n):\n",
    "            for j in range(0, var_degrees[i]):\n",
    "                edges.append(i)\n",
    "        # print(soft_input.shape, len(edges), edges)\n",
    "        reordered_soft_input = torch.index_select(soft_input, 0, torch.tensor(edges).to(device))\n",
    "\n",
    "        vc = torch.zeros((num_edges, cv.shape[1])).to(device)\n",
    "        counter = 0\n",
    "        edge_order = []\n",
    "\n",
    "        for i in range(0, n): # for each variable node v\n",
    "            for j in range(0, var_degrees[i]):\n",
    "                edge_order.append(d[i][j])\n",
    "                extrinsic_edges = []\n",
    "                for jj in range(0, var_degrees[i]):\n",
    "                    if jj != j: # extrinsic information only\n",
    "                        extrinsic_edges.append(d[i][jj])\n",
    "                # if the list of edges is not empty, add them up\n",
    "                if extrinsic_edges:\n",
    "                    # print(cv.shape, len(extrinsic_edges), extrinsic_edges)\n",
    "                    temp = torch.index_select(cv.to(device), 0, torch.tensor(extrinsic_edges).to(device))\n",
    "                    temp = torch.sum(temp, 0)\n",
    "                else:\n",
    "                    temp = torch.zeros(cv.shape[1])\n",
    "\n",
    "                temp = temp.to(device)\n",
    "                vc[counter] = temp\n",
    "        \n",
    "        new_order = np.zeros(num_edges).astype(int)\n",
    "        new_order[edge_order] = np.arange(0, num_edges)\n",
    "        vc = torch.index_select(vc, 0, torch.tensor(new_order).to(device))\n",
    "        vc += reordered_soft_input * torch.tile(torch.reshape(self.W_vc[iteration], (-1,1)), (1, cv.shape[1]))       # add soft inputs of the previous iterations!\n",
    "        return vc \n",
    "\n",
    "    def compute_cv(self, vc, iteration):\n",
    "        cv_list = []\n",
    "        prod_list = []\n",
    "        min_list = []\n",
    "        edge_order = []\n",
    "        for i in range(0, m): # for each check node c\n",
    "            for j in range(0, chk_degrees[i]):\n",
    "                edge_order.append(u[i][j])\n",
    "                extrinsic_edges = []\n",
    "                for jj in range(0, chk_degrees[i]):\n",
    "                    if jj != j:\n",
    "                        extrinsic_edges.append(u[i][jj])\n",
    "                temp = torch.index_select(vc.to(device),0,torch.tensor(extrinsic_edges).to(device))\n",
    "                temp1 = torch.prod(torch.sign(temp),0)\n",
    "                temp2 = torch.min(torch.abs(temp),0)[0]\n",
    "                prod_list.append(temp1)\n",
    "                min_list.append(temp2)\n",
    "        prods = torch.stack(prod_list)\n",
    "        mins = torch.stack(min_list)\n",
    "        mins = torch.relu(mins - torch.tile(torch.reshape(self.B_cv[iteration], (-1,1)), (1, vc.shape[1])))\n",
    "        cv = prods * mins\n",
    "        new_order = np.zeros(num_edges).astype(int)\n",
    "        new_order[edge_order] = np.array(range(0,num_edges)).astype(int)\n",
    "        cv = torch.index_select(cv, 0, torch.tensor(new_order).to(device))\n",
    "        cv = cv * torch.tile(torch.reshape(self.W_cv[iteration], (-1,1)), (1, vc.shape[1]))\n",
    "        return cv\n",
    "\n",
    "    # combine messages to get posterior LLRs\n",
    "    def marginalize(self, soft_input, cv):\n",
    "        weighted_soft_input = soft_input\n",
    "        soft_output = []\n",
    "        for i in range(0,n):\n",
    "            edges = []\n",
    "            for e in range(0,var_degrees[i]):\n",
    "                edges.append(d[i][e])\n",
    "            temp = torch.index_select(cv,0,torch.tensor(edges).to(device))\n",
    "            temp = torch.sum(temp, 0)\n",
    "            soft_output.append(temp)\n",
    "        soft_output = torch.stack(soft_output)\n",
    "        soft_output = weighted_soft_input + soft_output\n",
    "        return soft_output"
   ]
  },
  {
   "cell_type": "code",
   "execution_count": 6,
   "metadata": {},
   "outputs": [],
   "source": [
    "def epoch_train(loader, clf, criterion, opt):\n",
    "    clf.train(True)\n",
    "    avg_loss = 0\n",
    "    avg_acc = 0\n",
    "    correct = 0\n",
    "    # load batch\n",
    "    for model_input, target in loader:\n",
    "        # move data to device\n",
    "        model_input = model_input.to(device)\n",
    "        target = target.to(device)\n",
    "        # calculate outputs, loss and accuracy\n",
    "        model_output = clf(model_input)\n",
    "        loss = criterion(model_output, target)\n",
    "        # print(model_input[0], model_output[0])\n",
    "        avg_loss += loss\n",
    "        correct += torch.count_nonzero(torch.heaviside(model_output-0.5, torch.tensor([0.]).to(device)).to(device) == target)\n",
    "        # calculate grad, upd weights\n",
    "        opt.zero_grad()\n",
    "        loss.backward()\n",
    "        opt.step()\n",
    "    avg_loss = avg_loss / len(loader)\n",
    "    avg_acc = correct / len(loader.dataset)\n",
    "    return avg_loss, avg_acc\n",
    "\n",
    "            \n",
    "            \n",
    "                        \n",
    "def epoch_test(loader, clf, criterion):\n",
    "    clf.eval()\n",
    "    avg_loss = 0\n",
    "    avg_acc = 0\n",
    "    correct = 0\n",
    "    # load batch\n",
    "    for model_input, target in loader:\n",
    "        # move data to device\n",
    "        model_input = model_input.to(device)\n",
    "        target = target.to(device)\n",
    "        # calculate outputs, loss and accuracy\n",
    "        model_output = clf(model_input)\n",
    "        loss = criterion(model_output, target)\n",
    "        avg_loss += loss\n",
    "        correct += torch.count_nonzero(torch.heaviside(model_output-0.5, torch.tensor([0.]).to(device)).to(device) == target)\n",
    "    avg_loss = avg_loss / len(loader)\n",
    "    avg_acc = correct / len(loader.dataset)\n",
    "\n",
    "    return avg_loss, avg_acc\n",
    "\n",
    "def train(train_loader, test_loader, clf, criterion, opt, n_epochs=50):\n",
    "    for epoch in trange(n_epochs):\n",
    "        train_loss, train_acc = epoch_train(train_loader, clf, criterion, opt)\n",
    "        test_loss, test_acc = epoch_test(test_loader, clf, criterion)\n",
    "        # clf.apply(constraints)\n",
    "\n",
    "        # clf.W_cv = torch.nn.Parameter(torch.relu(clf.W_cv))\n",
    "        # clf.B_cv = torch.nn.Parameter(torch.relu(clf.B_cv))\n",
    "        # clf.W_vc = torch.nn.Parameter(torch.relu(clf.W_vc))\n",
    "        # print(clf.W_cv[0])\n",
    "\n",
    "\n",
    "        if (np.mod(epoch+1,1)==0):\n",
    "            print(f'[Epoch {epoch + 1}] train loss: {train_loss:.3f}; train acc: {train_acc:.2f}; ' + \n",
    "                  f'test loss: {test_loss:.3f}; test acc: {test_acc:.2f}')"
   ]
  },
  {
   "cell_type": "markdown",
   "metadata": {
    "tags": []
   },
   "source": [
    "## Create dataloader"
   ]
  },
  {
   "cell_type": "code",
   "execution_count": 7,
   "metadata": {},
   "outputs": [],
   "source": [
    "def gen():\n",
    "    messages = np.random.randint(0,2,[train_size,k])\n",
    "    codewords = messages @ G % 2\n",
    "    BPSK_codewords = (0.5 - codewords.astype(np.float32)) * 2.0\n",
    "    soft_input = np.zeros_like(BPSK_codewords)\n",
    "    SNRs = np.arange(1,6)\n",
    "    for i in range(0,len(SNRs)):\n",
    "        sigma = np.sqrt(1. / (2 * (np.float(k)/np.float(n)) * 10**(SNRs[i]/10)))\n",
    "        noise = sigma * np.random.randn(train_size//len(SNRs),n)\n",
    "        start_idx = train_size*i//len(SNRs)\n",
    "        end_idx = train_size*(i+1)//len(SNRs)\n",
    "        soft_input[start_idx:end_idx,:] = BPSK_codewords[start_idx:end_idx,:] + noise\n",
    "        soft_input = 2 * soft_input / (sigma**2)\n",
    "    return soft_input, codewords\n",
    "    \n",
    "def update_loaders():\n",
    "\n",
    "\n",
    "    soft_input_train, codewords_train = gen()\n",
    "    train_X = torch.Tensor(soft_input_train) # transform to torch tensor\n",
    "    train_y = torch.Tensor(codewords_train)\n",
    "    training_dataset = torch.utils.data.TensorDataset(train_X, train_y) # create your datset\n",
    "    training_loader = torch.utils.data.DataLoader(training_dataset, batch_size=20000, shuffle=True) # create your dataloader\n",
    "\n",
    "\n",
    "    soft_input_test, codewords_test = gen()\n",
    "    test_X = torch.Tensor(soft_input_test) # transform to torch tensor\n",
    "    test_y = torch.Tensor(codewords_test)\n",
    "    test_dataset = torch.utils.data.TensorDataset(test_X, test_y) # create your datset\n",
    "    test_loader = torch.utils.data.DataLoader(test_dataset, batch_size=20000, shuffle=True) # create your dataloader\n",
    "    return training_loader, test_loader"
   ]
  },
  {
   "cell_type": "code",
   "execution_count": 8,
   "metadata": {},
   "outputs": [],
   "source": [
    "decoder = Decoder(num_iterations=5).to(device)\n",
    "# opt = torch.optim.Adam(decoder.parameters(), lr=0.0025)\n",
    "opt = torch.optim.SGD(decoder.parameters(), lr=0.01)\n",
    "criterion = torch.nn.CrossEntropyLoss()\n",
    "# criterion = torch.nn.MSELoss()"
   ]
  },
  {
   "cell_type": "code",
   "execution_count": 9,
   "metadata": {
    "scrolled": true,
    "tags": []
   },
   "outputs": [],
   "source": [
    "test_size = 100000\n",
    "req_err = 500*n\n",
    "SNRs = np.arange(-10,5)"
   ]
  },
  {
   "cell_type": "code",
   "execution_count": 25,
   "metadata": {
    "tags": []
   },
   "outputs": [
    {
     "name": "stdout",
     "output_type": "stream",
     "text": [
      "SNR: -10, 7271.880%, test BER: 0.3635939955711365                \n",
      "\n",
      "SNR: -9, 6963.173%, test BER: 0.34815865755081177                \n",
      "\n",
      "SNR: -8, 6627.280%, test BER: 0.3313640058040619                \n",
      "\n",
      "SNR: -7, 6258.987%, test BER: 0.3129493296146393                \n",
      "\n",
      "SNR: -6, 5851.520%, test BER: 0.29257598519325256                \n",
      "\n",
      "SNR: -5, 5406.440%, test BER: 0.2703219950199127                \n",
      "\n",
      "SNR: -4, 4894.827%, test BER: 0.24474133551120758                \n",
      "\n",
      "SNR: -3, 4358.000%, test BER: 0.21789999306201935                \n",
      "\n",
      "SNR: -2, 3723.613%, test BER: 0.18618066608905792                \n",
      "\n",
      "SNR: -1, 3026.520%, test BER: 0.1513260006904602                \n",
      "\n",
      "SNR: 0, 2310.173%, test BER: 0.11550866812467575                \n",
      "\n",
      "SNR: 1, 1601.200%, test BER: 0.08005999773740768                \n",
      "\n",
      "SNR: 2, 979.400%, test BER: 0.048969998955726624                \n",
      "\n",
      "SNR: 3, 509.347%, test BER: 0.02546733245253563                \n",
      "\n",
      "SNR: 4, 221.133%, test BER: 0.011056666262447834                \n",
      "\n"
     ]
    }
   ],
   "source": [
    "# hard decisions, classic min-sum\n",
    "ms = min_sum(num_iterations=5).to(device)\n",
    "\n",
    "bit_errors_hard = torch.zeros(len(SNRs)).to(device)\n",
    "nb_bits_hard = torch.zeros(len(SNRs)).to(device)\n",
    "bit_errors_min_sum = torch.zeros(len(SNRs)).to(device)\n",
    "nb_bits_min_sum = torch.zeros(len(SNRs)).to(device)\n",
    "for i, snr in enumerate(SNRs):\n",
    "            while bit_errors_min_sum[i] < req_err:\n",
    "                messages = torch.randint(0, 2, (test_size, k))\n",
    "                codewords = messages @ G % 2\n",
    "                codewords = codewords.to(device)\n",
    "                BPSK_codewords = (0.5 - codewords) * 2\n",
    "                sigma = torch.sqrt(torch.tensor(1) / (2 * (k/n) * 10**(snr/10)))\n",
    "                noise = sigma * torch.randn(test_size, n).to(device)\n",
    "                soft_input = BPSK_codewords + noise\n",
    "                bit_errors_hard[i] += torch.count_nonzero((-(torch.sign(soft_input) - 1)/2) != codewords)\n",
    "                bit_errors_min_sum[i] += torch.count_nonzero(torch.heaviside(ms(soft_input) - 0.5, torch.tensor([0.]).to(device)) != codewords)\n",
    "                nb_bits_hard[i] += test_size * n\n",
    "                nb_bits_min_sum[i] += test_size * n\n",
    "                print(f'SNR: {snr}, {100*bit_errors_min_sum[i]/req_err :.3f}%, test BER: {bit_errors_min_sum[i] / nb_bits_min_sum[i]}                ', end='\\r')\n",
    "            print('\\n')"
   ]
  },
  {
   "cell_type": "code",
   "execution_count": 11,
   "metadata": {},
   "outputs": [],
   "source": [
    "class weightConstraint(object):\n",
    "    def __init__(self):\n",
    "        pass\n",
    "    \n",
    "    def __call__(self,module):\n",
    "        if hasattr(module,'weight'):\n",
    "            print(\"Entered\")\n",
    "            W_cv=module.W_cv\n",
    "            W_cv = torch.clamp(W_cv, min=0)\n",
    "            module.W_cv=W_cv\n",
    "            B_cv=module.B_cv\n",
    "            B_cv = torch.clamp(W_cv, min=0)\n",
    "            module.B_cv=B_cv\n",
    "            W_vc=module.W_vc\n",
    "            W_vc = torch.clamp(W_vc, min=0)\n",
    "            module.W_vc=W_vc"
   ]
  },
  {
   "cell_type": "code",
   "execution_count": 12,
   "metadata": {},
   "outputs": [],
   "source": [
    "constraints=weightConstraint()"
   ]
  },
  {
   "cell_type": "code",
   "execution_count": null,
   "metadata": {
    "scrolled": true,
    "tags": []
   },
   "outputs": [
    {
     "name": "stdout",
     "output_type": "stream",
     "text": [
      "TRAINING ITERATION #1/500\n"
     ]
    },
    {
     "name": "stderr",
     "output_type": "stream",
     "text": [
      " 33%|████████████████████████████████████████                                                                                | 1/3 [00:01<00:02,  1.35s/it]"
     ]
    },
    {
     "name": "stdout",
     "output_type": "stream",
     "text": [
      "[Epoch 1] train loss: 17.886; train acc: 14.49; test loss: 17.880; test acc: 14.49\n"
     ]
    },
    {
     "name": "stderr",
     "output_type": "stream",
     "text": [
      " 67%|████████████████████████████████████████████████████████████████████████████████                                        | 2/3 [00:02<00:01,  1.37s/it]"
     ]
    },
    {
     "name": "stdout",
     "output_type": "stream",
     "text": [
      "[Epoch 2] train loss: 17.881; train acc: 14.49; test loss: 17.881; test acc: 14.49\n"
     ]
    },
    {
     "name": "stderr",
     "output_type": "stream",
     "text": [
      "100%|████████████████████████████████████████████████████████████████████████████████████████████████████████████████████████| 3/3 [00:04<00:00,  1.37s/it]\n"
     ]
    },
    {
     "name": "stdout",
     "output_type": "stream",
     "text": [
      "[Epoch 3] train loss: 17.889; train acc: 14.49; test loss: 17.870; test acc: 14.49\n",
      "TRAINING ITERATION #2/500\n"
     ]
    },
    {
     "name": "stderr",
     "output_type": "stream",
     "text": [
      " 33%|████████████████████████████████████████                                                                                | 1/3 [00:01<00:02,  1.32s/it]"
     ]
    },
    {
     "name": "stdout",
     "output_type": "stream",
     "text": [
      "[Epoch 1] train loss: 17.859; train acc: 14.49; test loss: 17.842; test acc: 14.50\n"
     ]
    },
    {
     "name": "stderr",
     "output_type": "stream",
     "text": [
      " 67%|████████████████████████████████████████████████████████████████████████████████                                        | 2/3 [00:02<00:01,  1.36s/it]"
     ]
    },
    {
     "name": "stdout",
     "output_type": "stream",
     "text": [
      "[Epoch 2] train loss: 17.860; train acc: 14.49; test loss: 17.852; test acc: 14.50\n"
     ]
    },
    {
     "name": "stderr",
     "output_type": "stream",
     "text": [
      "100%|████████████████████████████████████████████████████████████████████████████████████████████████████████████████████████| 3/3 [00:04<00:00,  1.35s/it]\n"
     ]
    },
    {
     "name": "stdout",
     "output_type": "stream",
     "text": [
      "[Epoch 3] train loss: 17.855; train acc: 14.49; test loss: 17.848; test acc: 14.50\n",
      "TRAINING ITERATION #3/500\n"
     ]
    },
    {
     "name": "stderr",
     "output_type": "stream",
     "text": [
      " 33%|████████████████████████████████████████                                                                                | 1/3 [00:01<00:02,  1.33s/it]"
     ]
    },
    {
     "name": "stdout",
     "output_type": "stream",
     "text": [
      "[Epoch 1] train loss: 17.870; train acc: 14.49; test loss: 17.902; test acc: 14.49\n"
     ]
    },
    {
     "name": "stderr",
     "output_type": "stream",
     "text": [
      " 67%|████████████████████████████████████████████████████████████████████████████████                                        | 2/3 [00:02<00:01,  1.32s/it]"
     ]
    },
    {
     "name": "stdout",
     "output_type": "stream",
     "text": [
      "[Epoch 2] train loss: 17.877; train acc: 14.49; test loss: 17.872; test acc: 14.50\n"
     ]
    },
    {
     "name": "stderr",
     "output_type": "stream",
     "text": [
      "100%|████████████████████████████████████████████████████████████████████████████████████████████████████████████████████████| 3/3 [00:04<00:00,  1.35s/it]\n"
     ]
    },
    {
     "name": "stdout",
     "output_type": "stream",
     "text": [
      "[Epoch 3] train loss: 17.881; train acc: 14.49; test loss: 17.893; test acc: 14.50\n",
      "TRAINING ITERATION #4/500\n"
     ]
    },
    {
     "name": "stderr",
     "output_type": "stream",
     "text": [
      " 33%|████████████████████████████████████████                                                                                | 1/3 [00:01<00:02,  1.32s/it]"
     ]
    },
    {
     "name": "stdout",
     "output_type": "stream",
     "text": [
      "[Epoch 1] train loss: 17.871; train acc: 14.48; test loss: 17.851; test acc: 14.49\n"
     ]
    },
    {
     "name": "stderr",
     "output_type": "stream",
     "text": [
      " 67%|████████████████████████████████████████████████████████████████████████████████                                        | 2/3 [00:02<00:01,  1.36s/it]"
     ]
    },
    {
     "name": "stdout",
     "output_type": "stream",
     "text": [
      "[Epoch 2] train loss: 17.880; train acc: 14.49; test loss: 17.842; test acc: 14.49\n"
     ]
    },
    {
     "name": "stderr",
     "output_type": "stream",
     "text": [
      "100%|████████████████████████████████████████████████████████████████████████████████████████████████████████████████████████| 3/3 [00:04<00:00,  1.34s/it]\n"
     ]
    },
    {
     "name": "stdout",
     "output_type": "stream",
     "text": [
      "[Epoch 3] train loss: 17.860; train acc: 14.49; test loss: 17.863; test acc: 14.49\n",
      "TRAINING ITERATION #5/500\n"
     ]
    },
    {
     "name": "stderr",
     "output_type": "stream",
     "text": [
      " 33%|████████████████████████████████████████                                                                                | 1/3 [00:01<00:02,  1.32s/it]"
     ]
    },
    {
     "name": "stdout",
     "output_type": "stream",
     "text": [
      "[Epoch 1] train loss: 17.880; train acc: 14.49; test loss: 17.894; test acc: 14.50\n"
     ]
    },
    {
     "name": "stderr",
     "output_type": "stream",
     "text": [
      " 67%|████████████████████████████████████████████████████████████████████████████████                                        | 2/3 [00:02<00:01,  1.32s/it]"
     ]
    },
    {
     "name": "stdout",
     "output_type": "stream",
     "text": [
      "[Epoch 2] train loss: 17.865; train acc: 14.49; test loss: 17.899; test acc: 14.50\n"
     ]
    },
    {
     "name": "stderr",
     "output_type": "stream",
     "text": [
      "100%|████████████████████████████████████████████████████████████████████████████████████████████████████████████████████████| 3/3 [00:04<00:00,  1.34s/it]"
     ]
    },
    {
     "name": "stdout",
     "output_type": "stream",
     "text": [
      "[Epoch 3] train loss: 17.882; train acc: 14.49; test loss: 17.900; test acc: 14.50\n",
      "SNR: -10, 7043.960%, test BER: 0.3521980047225952                \n",
      "\n"
     ]
    },
    {
     "name": "stderr",
     "output_type": "stream",
     "text": [
      "\n"
     ]
    },
    {
     "name": "stdout",
     "output_type": "stream",
     "text": [
      "SNR: -9, 6696.160%, test BER: 0.33480799198150635                \n",
      "\n",
      "SNR: -8, 6321.987%, test BER: 0.3160993456840515                \n",
      "\n",
      "SNR: -7, 5928.800%, test BER: 0.2964400053024292                \n",
      "\n",
      "SNR: -6, 5483.173%, test BER: 0.27415865659713745                \n",
      "\n",
      "SNR: -5, 5002.200%, test BER: 0.250110000371933                \n",
      "\n",
      "SNR: -4, 4486.733%, test BER: 0.2243366688489914                \n",
      "\n",
      "SNR: -3, 3938.787%, test BER: 0.19693933427333832                \n",
      "\n",
      "SNR: -2, 3386.600%, test BER: 0.16933000087738037                \n",
      "\n",
      "SNR: -1, 2804.707%, test BER: 0.14023533463478088                \n",
      "\n",
      "SNR: 0, 2239.400%, test BER: 0.11196999996900558                \n",
      "\n",
      "SNR: 1, 1700.693%, test BER: 0.08503466844558716                \n",
      "\n",
      "SNR: 2, 1210.253%, test BER: 0.060512665659189224                \n",
      "\n",
      "SNR: 3, 792.387%, test BER: 0.039619334042072296                \n",
      "\n",
      "SNR: 4, 470.693%, test BER: 0.023534666746854782                \n",
      "\n",
      "TRAINING ITERATION #6/500\n"
     ]
    },
    {
     "name": "stderr",
     "output_type": "stream",
     "text": [
      " 33%|████████████████████████████████████████                                                                                | 1/3 [00:01<00:02,  1.32s/it]"
     ]
    },
    {
     "name": "stdout",
     "output_type": "stream",
     "text": [
      "[Epoch 1] train loss: 17.873; train acc: 14.50; test loss: 17.841; test acc: 14.49\n"
     ]
    },
    {
     "name": "stderr",
     "output_type": "stream",
     "text": [
      " 67%|████████████████████████████████████████████████████████████████████████████████                                        | 2/3 [00:02<00:01,  1.36s/it]"
     ]
    },
    {
     "name": "stdout",
     "output_type": "stream",
     "text": [
      "[Epoch 2] train loss: 17.876; train acc: 14.50; test loss: 17.835; test acc: 14.49\n"
     ]
    },
    {
     "name": "stderr",
     "output_type": "stream",
     "text": [
      "100%|████████████████████████████████████████████████████████████████████████████████████████████████████████████████████████| 3/3 [00:04<00:00,  1.34s/it]\n"
     ]
    },
    {
     "name": "stdout",
     "output_type": "stream",
     "text": [
      "[Epoch 3] train loss: 17.878; train acc: 14.50; test loss: 17.831; test acc: 14.49\n",
      "TRAINING ITERATION #7/500\n"
     ]
    },
    {
     "name": "stderr",
     "output_type": "stream",
     "text": [
      " 33%|████████████████████████████████████████                                                                                | 1/3 [00:01<00:02,  1.31s/it]"
     ]
    },
    {
     "name": "stdout",
     "output_type": "stream",
     "text": [
      "[Epoch 1] train loss: 17.912; train acc: 14.49; test loss: 17.862; test acc: 14.49\n"
     ]
    },
    {
     "name": "stderr",
     "output_type": "stream",
     "text": [
      " 67%|████████████████████████████████████████████████████████████████████████████████                                        | 2/3 [00:02<00:01,  1.35s/it]"
     ]
    },
    {
     "name": "stdout",
     "output_type": "stream",
     "text": [
      "[Epoch 2] train loss: 17.917; train acc: 14.49; test loss: 17.857; test acc: 14.49\n"
     ]
    },
    {
     "name": "stderr",
     "output_type": "stream",
     "text": [
      "100%|████████████████████████████████████████████████████████████████████████████████████████████████████████████████████████| 3/3 [00:04<00:00,  1.34s/it]\n"
     ]
    },
    {
     "name": "stdout",
     "output_type": "stream",
     "text": [
      "[Epoch 3] train loss: 17.909; train acc: 14.49; test loss: 17.868; test acc: 14.49\n",
      "TRAINING ITERATION #8/500\n"
     ]
    },
    {
     "name": "stderr",
     "output_type": "stream",
     "text": [
      " 33%|████████████████████████████████████████                                                                                | 1/3 [00:01<00:02,  1.31s/it]"
     ]
    },
    {
     "name": "stdout",
     "output_type": "stream",
     "text": [
      "[Epoch 1] train loss: 17.945; train acc: 14.50; test loss: 17.886; test acc: 14.49\n"
     ]
    },
    {
     "name": "stderr",
     "output_type": "stream",
     "text": [
      " 67%|████████████████████████████████████████████████████████████████████████████████                                        | 2/3 [00:02<00:01,  1.36s/it]"
     ]
    },
    {
     "name": "stdout",
     "output_type": "stream",
     "text": [
      "[Epoch 2] train loss: 17.948; train acc: 14.50; test loss: 17.887; test acc: 14.49\n"
     ]
    },
    {
     "name": "stderr",
     "output_type": "stream",
     "text": [
      "100%|████████████████████████████████████████████████████████████████████████████████████████████████████████████████████████| 3/3 [00:04<00:00,  1.35s/it]\n"
     ]
    },
    {
     "name": "stdout",
     "output_type": "stream",
     "text": [
      "[Epoch 3] train loss: 17.923; train acc: 14.50; test loss: 17.913; test acc: 14.49\n",
      "TRAINING ITERATION #9/500\n"
     ]
    },
    {
     "name": "stderr",
     "output_type": "stream",
     "text": [
      " 33%|████████████████████████████████████████                                                                                | 1/3 [00:01<00:02,  1.32s/it]"
     ]
    },
    {
     "name": "stdout",
     "output_type": "stream",
     "text": [
      "[Epoch 1] train loss: 17.853; train acc: 14.50; test loss: 17.887; test acc: 14.50\n"
     ]
    },
    {
     "name": "stderr",
     "output_type": "stream",
     "text": [
      " 67%|████████████████████████████████████████████████████████████████████████████████                                        | 2/3 [00:02<00:01,  1.35s/it]"
     ]
    },
    {
     "name": "stdout",
     "output_type": "stream",
     "text": [
      "[Epoch 2] train loss: 17.849; train acc: 14.50; test loss: 17.897; test acc: 14.50\n"
     ]
    },
    {
     "name": "stderr",
     "output_type": "stream",
     "text": [
      "100%|████████████████████████████████████████████████████████████████████████████████████████████████████████████████████████| 3/3 [00:04<00:00,  1.34s/it]\n"
     ]
    },
    {
     "name": "stdout",
     "output_type": "stream",
     "text": [
      "[Epoch 3] train loss: 17.845; train acc: 14.50; test loss: 17.898; test acc: 14.50\n",
      "TRAINING ITERATION #10/500\n"
     ]
    },
    {
     "name": "stderr",
     "output_type": "stream",
     "text": [
      " 33%|████████████████████████████████████████                                                                                | 1/3 [00:01<00:02,  1.33s/it]"
     ]
    },
    {
     "name": "stdout",
     "output_type": "stream",
     "text": [
      "[Epoch 1] train loss: 17.869; train acc: 14.50; test loss: 17.898; test acc: 14.50\n"
     ]
    },
    {
     "name": "stderr",
     "output_type": "stream",
     "text": [
      " 67%|████████████████████████████████████████████████████████████████████████████████                                        | 2/3 [00:02<00:01,  1.36s/it]"
     ]
    },
    {
     "name": "stdout",
     "output_type": "stream",
     "text": [
      "[Epoch 2] train loss: 17.885; train acc: 14.50; test loss: 17.900; test acc: 14.50\n"
     ]
    },
    {
     "name": "stderr",
     "output_type": "stream",
     "text": [
      "100%|████████████████████████████████████████████████████████████████████████████████████████████████████████████████████████| 3/3 [00:04<00:00,  1.35s/it]"
     ]
    },
    {
     "name": "stdout",
     "output_type": "stream",
     "text": [
      "[Epoch 3] train loss: 17.876; train acc: 14.50; test loss: 17.895; test acc: 14.50\n",
      "SNR: -10, 7038.454%, test BER: 0.3519226610660553                \n",
      "\n"
     ]
    },
    {
     "name": "stderr",
     "output_type": "stream",
     "text": [
      "\n"
     ]
    },
    {
     "name": "stdout",
     "output_type": "stream",
     "text": [
      "SNR: -9, 6708.120%, test BER: 0.33540600538253784                \n",
      "\n",
      "SNR: -8, 6332.173%, test BER: 0.3166086673736572                \n",
      "\n",
      "SNR: -7, 5917.773%, test BER: 0.29588866233825684                \n",
      "\n",
      "SNR: -6, 5476.293%, test BER: 0.27381467819213867                \n",
      "\n",
      "SNR: -5, 4985.520%, test BER: 0.24927599728107452                \n",
      "\n",
      "SNR: -4, 4486.573%, test BER: 0.2243286669254303                \n",
      "\n",
      "SNR: -3, 3940.733%, test BER: 0.19703666865825653                \n",
      "\n",
      "SNR: -2, 3380.227%, test BER: 0.16901133954524994                \n",
      "\n",
      "SNR: -1, 2817.400%, test BER: 0.14087000489234924                \n",
      "\n",
      "SNR: 0, 2250.773%, test BER: 0.1125386655330658                \n",
      "\n",
      "SNR: 1, 1695.027%, test BER: 0.08475133031606674                \n",
      "\n",
      "SNR: 2, 1207.133%, test BER: 0.06035666540265083                \n",
      "\n",
      "SNR: 3, 785.613%, test BER: 0.039280667901039124                \n",
      "\n",
      "SNR: 4, 473.000%, test BER: 0.023649999871850014                \n",
      "\n",
      "TRAINING ITERATION #11/500\n"
     ]
    },
    {
     "name": "stderr",
     "output_type": "stream",
     "text": [
      " 33%|████████████████████████████████████████                                                                                | 1/3 [00:01<00:02,  1.32s/it]"
     ]
    },
    {
     "name": "stdout",
     "output_type": "stream",
     "text": [
      "[Epoch 1] train loss: 17.885; train acc: 14.50; test loss: 17.849; test acc: 14.50\n"
     ]
    },
    {
     "name": "stderr",
     "output_type": "stream",
     "text": [
      " 67%|████████████████████████████████████████████████████████████████████████████████                                        | 2/3 [00:02<00:01,  1.35s/it]"
     ]
    },
    {
     "name": "stdout",
     "output_type": "stream",
     "text": [
      "[Epoch 2] train loss: 17.880; train acc: 14.50; test loss: 17.858; test acc: 14.50\n"
     ]
    },
    {
     "name": "stderr",
     "output_type": "stream",
     "text": [
      "100%|████████████████████████████████████████████████████████████████████████████████████████████████████████████████████████| 3/3 [00:04<00:00,  1.34s/it]\n"
     ]
    },
    {
     "name": "stdout",
     "output_type": "stream",
     "text": [
      "[Epoch 3] train loss: 17.872; train acc: 14.50; test loss: 17.840; test acc: 14.50\n",
      "TRAINING ITERATION #12/500\n"
     ]
    },
    {
     "name": "stderr",
     "output_type": "stream",
     "text": [
      " 33%|████████████████████████████████████████                                                                                | 1/3 [00:01<00:02,  1.30s/it]"
     ]
    },
    {
     "name": "stdout",
     "output_type": "stream",
     "text": [
      "[Epoch 1] train loss: 17.836; train acc: 14.50; test loss: 17.885; test acc: 14.50\n"
     ]
    },
    {
     "name": "stderr",
     "output_type": "stream",
     "text": [
      " 67%|████████████████████████████████████████████████████████████████████████████████                                        | 2/3 [00:02<00:01,  1.35s/it]"
     ]
    },
    {
     "name": "stdout",
     "output_type": "stream",
     "text": [
      "[Epoch 2] train loss: 17.843; train acc: 14.50; test loss: 17.883; test acc: 14.50\n"
     ]
    },
    {
     "name": "stderr",
     "output_type": "stream",
     "text": [
      "100%|████████████████████████████████████████████████████████████████████████████████████████████████████████████████████████| 3/3 [00:04<00:00,  1.34s/it]\n"
     ]
    },
    {
     "name": "stdout",
     "output_type": "stream",
     "text": [
      "[Epoch 3] train loss: 17.840; train acc: 14.50; test loss: 17.894; test acc: 14.50\n",
      "TRAINING ITERATION #13/500\n"
     ]
    },
    {
     "name": "stderr",
     "output_type": "stream",
     "text": [
      " 33%|████████████████████████████████████████                                                                                | 1/3 [00:01<00:02,  1.31s/it]"
     ]
    },
    {
     "name": "stdout",
     "output_type": "stream",
     "text": [
      "[Epoch 1] train loss: 17.864; train acc: 14.50; test loss: 17.862; test acc: 14.50\n"
     ]
    },
    {
     "name": "stderr",
     "output_type": "stream",
     "text": [
      " 67%|████████████████████████████████████████████████████████████████████████████████                                        | 2/3 [00:02<00:01,  1.34s/it]"
     ]
    },
    {
     "name": "stdout",
     "output_type": "stream",
     "text": [
      "[Epoch 2] train loss: 17.858; train acc: 14.50; test loss: 17.863; test acc: 14.50\n"
     ]
    },
    {
     "name": "stderr",
     "output_type": "stream",
     "text": [
      "100%|████████████████████████████████████████████████████████████████████████████████████████████████████████████████████████| 3/3 [00:04<00:00,  1.34s/it]\n"
     ]
    },
    {
     "name": "stdout",
     "output_type": "stream",
     "text": [
      "[Epoch 3] train loss: 17.868; train acc: 14.50; test loss: 17.880; test acc: 14.50\n",
      "TRAINING ITERATION #14/500\n"
     ]
    },
    {
     "name": "stderr",
     "output_type": "stream",
     "text": [
      " 33%|████████████████████████████████████████                                                                                | 1/3 [00:01<00:02,  1.29s/it]"
     ]
    },
    {
     "name": "stdout",
     "output_type": "stream",
     "text": [
      "[Epoch 1] train loss: 17.857; train acc: 14.51; test loss: 17.862; test acc: 14.50\n"
     ]
    },
    {
     "name": "stderr",
     "output_type": "stream",
     "text": [
      " 67%|████████████████████████████████████████████████████████████████████████████████                                        | 2/3 [00:02<00:01,  1.34s/it]"
     ]
    },
    {
     "name": "stdout",
     "output_type": "stream",
     "text": [
      "[Epoch 2] train loss: 17.873; train acc: 14.51; test loss: 17.871; test acc: 14.50\n"
     ]
    },
    {
     "name": "stderr",
     "output_type": "stream",
     "text": [
      "100%|████████████████████████████████████████████████████████████████████████████████████████████████████████████████████████| 3/3 [00:03<00:00,  1.33s/it]\n"
     ]
    },
    {
     "name": "stdout",
     "output_type": "stream",
     "text": [
      "[Epoch 3] train loss: 17.869; train acc: 14.51; test loss: 17.866; test acc: 14.50\n",
      "TRAINING ITERATION #15/500\n"
     ]
    },
    {
     "name": "stderr",
     "output_type": "stream",
     "text": [
      " 33%|████████████████████████████████████████                                                                                | 1/3 [00:01<00:02,  1.38s/it]"
     ]
    },
    {
     "name": "stdout",
     "output_type": "stream",
     "text": [
      "[Epoch 1] train loss: 17.899; train acc: 14.51; test loss: 17.907; test acc: 14.50\n"
     ]
    },
    {
     "name": "stderr",
     "output_type": "stream",
     "text": [
      " 67%|████████████████████████████████████████████████████████████████████████████████                                        | 2/3 [00:02<00:01,  1.34s/it]"
     ]
    },
    {
     "name": "stdout",
     "output_type": "stream",
     "text": [
      "[Epoch 2] train loss: 17.910; train acc: 14.51; test loss: 17.897; test acc: 14.50\n"
     ]
    },
    {
     "name": "stderr",
     "output_type": "stream",
     "text": [
      "100%|████████████████████████████████████████████████████████████████████████████████████████████████████████████████████████| 3/3 [00:04<00:00,  1.34s/it]"
     ]
    },
    {
     "name": "stdout",
     "output_type": "stream",
     "text": [
      "[Epoch 3] train loss: 17.893; train acc: 14.51; test loss: 17.902; test acc: 14.50\n",
      "SNR: -10, 7049.827%, test BER: 0.3524913191795349                \n",
      "\n"
     ]
    },
    {
     "name": "stderr",
     "output_type": "stream",
     "text": [
      "\n"
     ]
    },
    {
     "name": "stdout",
     "output_type": "stream",
     "text": [
      "SNR: -9, 6697.280%, test BER: 0.3348639905452728                \n",
      "\n",
      "SNR: -8, 6338.133%, test BER: 0.3169066607952118                \n",
      "\n",
      "SNR: -7, 5928.333%, test BER: 0.29641667008399963                \n",
      "\n",
      "SNR: -6, 5472.173%, test BER: 0.27360865473747253                \n",
      "\n",
      "SNR: -5, 5003.280%, test BER: 0.2501640021800995                \n",
      "\n",
      "SNR: -4, 4458.760%, test BER: 0.22293800115585327                \n",
      "\n",
      "SNR: -3, 3950.587%, test BER: 0.19752933084964752                \n",
      "\n",
      "SNR: -2, 3372.893%, test BER: 0.16864466667175293                \n",
      "\n",
      "SNR: -1, 2811.480%, test BER: 0.14057399332523346                \n",
      "\n",
      "SNR: 0, 2240.800%, test BER: 0.11203999817371368                \n",
      "\n",
      "SNR: 1, 1690.640%, test BER: 0.0845320001244545                \n",
      "\n",
      "SNR: 2, 1206.440%, test BER: 0.060322001576423645                \n",
      "\n",
      "SNR: 3, 791.933%, test BER: 0.039596665650606155                \n",
      "\n",
      "SNR: 4, 466.600%, test BER: 0.023329999297857285                \n",
      "\n",
      "TRAINING ITERATION #16/500\n"
     ]
    },
    {
     "name": "stderr",
     "output_type": "stream",
     "text": [
      " 33%|████████████████████████████████████████                                                                                | 1/3 [00:01<00:02,  1.37s/it]"
     ]
    },
    {
     "name": "stdout",
     "output_type": "stream",
     "text": [
      "[Epoch 1] train loss: 17.909; train acc: 14.50; test loss: 17.898; test acc: 14.50\n"
     ]
    },
    {
     "name": "stderr",
     "output_type": "stream",
     "text": [
      " 67%|████████████████████████████████████████████████████████████████████████████████                                        | 2/3 [00:02<00:01,  1.34s/it]"
     ]
    },
    {
     "name": "stdout",
     "output_type": "stream",
     "text": [
      "[Epoch 2] train loss: 17.909; train acc: 14.50; test loss: 17.897; test acc: 14.50\n"
     ]
    },
    {
     "name": "stderr",
     "output_type": "stream",
     "text": [
      "100%|████████████████████████████████████████████████████████████████████████████████████████████████████████████████████████| 3/3 [00:04<00:00,  1.33s/it]\n"
     ]
    },
    {
     "name": "stdout",
     "output_type": "stream",
     "text": [
      "[Epoch 3] train loss: 17.905; train acc: 14.50; test loss: 17.904; test acc: 14.50\n",
      "TRAINING ITERATION #17/500\n"
     ]
    },
    {
     "name": "stderr",
     "output_type": "stream",
     "text": [
      " 33%|████████████████████████████████████████                                                                                | 1/3 [00:01<00:02,  1.35s/it]"
     ]
    },
    {
     "name": "stdout",
     "output_type": "stream",
     "text": [
      "[Epoch 1] train loss: 17.872; train acc: 14.50; test loss: 17.825; test acc: 14.50\n"
     ]
    },
    {
     "name": "stderr",
     "output_type": "stream",
     "text": [
      " 67%|████████████████████████████████████████████████████████████████████████████████                                        | 2/3 [00:02<00:01,  1.32s/it]"
     ]
    },
    {
     "name": "stdout",
     "output_type": "stream",
     "text": [
      "[Epoch 2] train loss: 17.888; train acc: 14.50; test loss: 17.849; test acc: 14.50\n"
     ]
    },
    {
     "name": "stderr",
     "output_type": "stream",
     "text": [
      "100%|████████████████████████████████████████████████████████████████████████████████████████████████████████████████████████| 3/3 [00:04<00:00,  1.34s/it]\n"
     ]
    },
    {
     "name": "stdout",
     "output_type": "stream",
     "text": [
      "[Epoch 3] train loss: 17.904; train acc: 14.50; test loss: 17.833; test acc: 14.50\n",
      "TRAINING ITERATION #18/500\n"
     ]
    },
    {
     "name": "stderr",
     "output_type": "stream",
     "text": [
      " 33%|████████████████████████████████████████                                                                                | 1/3 [00:01<00:02,  1.40s/it]"
     ]
    },
    {
     "name": "stdout",
     "output_type": "stream",
     "text": [
      "[Epoch 1] train loss: 17.869; train acc: 14.51; test loss: 17.890; test acc: 14.50\n"
     ]
    },
    {
     "name": "stderr",
     "output_type": "stream",
     "text": [
      " 67%|████████████████████████████████████████████████████████████████████████████████                                        | 2/3 [00:02<00:01,  1.34s/it]"
     ]
    },
    {
     "name": "stdout",
     "output_type": "stream",
     "text": [
      "[Epoch 2] train loss: 17.879; train acc: 14.51; test loss: 17.895; test acc: 14.50\n"
     ]
    },
    {
     "name": "stderr",
     "output_type": "stream",
     "text": [
      "100%|████████████████████████████████████████████████████████████████████████████████████████████████████████████████████████| 3/3 [00:04<00:00,  1.34s/it]\n"
     ]
    },
    {
     "name": "stdout",
     "output_type": "stream",
     "text": [
      "[Epoch 3] train loss: 17.880; train acc: 14.51; test loss: 17.897; test acc: 14.50\n",
      "TRAINING ITERATION #19/500\n"
     ]
    },
    {
     "name": "stderr",
     "output_type": "stream",
     "text": [
      " 33%|████████████████████████████████████████                                                                                | 1/3 [00:01<00:02,  1.34s/it]"
     ]
    },
    {
     "name": "stdout",
     "output_type": "stream",
     "text": [
      "[Epoch 1] train loss: 17.824; train acc: 14.51; test loss: 17.897; test acc: 14.50\n"
     ]
    },
    {
     "name": "stderr",
     "output_type": "stream",
     "text": [
      " 67%|████████████████████████████████████████████████████████████████████████████████                                        | 2/3 [00:02<00:01,  1.32s/it]"
     ]
    },
    {
     "name": "stdout",
     "output_type": "stream",
     "text": [
      "[Epoch 2] train loss: 17.824; train acc: 14.51; test loss: 17.905; test acc: 14.50\n"
     ]
    },
    {
     "name": "stderr",
     "output_type": "stream",
     "text": [
      "100%|████████████████████████████████████████████████████████████████████████████████████████████████████████████████████████| 3/3 [00:03<00:00,  1.32s/it]\n"
     ]
    },
    {
     "name": "stdout",
     "output_type": "stream",
     "text": [
      "[Epoch 3] train loss: 17.855; train acc: 14.51; test loss: 17.906; test acc: 14.50\n",
      "TRAINING ITERATION #20/500\n"
     ]
    },
    {
     "name": "stderr",
     "output_type": "stream",
     "text": [
      " 33%|████████████████████████████████████████                                                                                | 1/3 [00:01<00:02,  1.35s/it]"
     ]
    },
    {
     "name": "stdout",
     "output_type": "stream",
     "text": [
      "[Epoch 1] train loss: 17.888; train acc: 14.50; test loss: 17.860; test acc: 14.50\n"
     ]
    },
    {
     "name": "stderr",
     "output_type": "stream",
     "text": [
      " 67%|████████████████████████████████████████████████████████████████████████████████                                        | 2/3 [00:02<00:01,  1.32s/it]"
     ]
    },
    {
     "name": "stdout",
     "output_type": "stream",
     "text": [
      "[Epoch 2] train loss: 17.903; train acc: 14.50; test loss: 17.881; test acc: 14.50\n"
     ]
    },
    {
     "name": "stderr",
     "output_type": "stream",
     "text": [
      "100%|████████████████████████████████████████████████████████████████████████████████████████████████████████████████████████| 3/3 [00:03<00:00,  1.33s/it]"
     ]
    },
    {
     "name": "stdout",
     "output_type": "stream",
     "text": [
      "[Epoch 3] train loss: 17.884; train acc: 14.50; test loss: 17.881; test acc: 14.50\n",
      "SNR: -10, 7045.974%, test BER: 0.35229867696762085                \n",
      "\n"
     ]
    },
    {
     "name": "stderr",
     "output_type": "stream",
     "text": [
      "\n"
     ]
    },
    {
     "name": "stdout",
     "output_type": "stream",
     "text": [
      "SNR: -9, 6697.573%, test BER: 0.3348786532878876                \n",
      "\n",
      "SNR: -8, 6318.920%, test BER: 0.3159460127353668                \n",
      "\n",
      "SNR: -7, 5913.653%, test BER: 0.2956826686859131                \n",
      "\n",
      "SNR: -6, 5484.747%, test BER: 0.27423733472824097                \n",
      "\n",
      "SNR: -5, 4998.493%, test BER: 0.2499246597290039                \n",
      "\n",
      "SNR: -4, 4484.374%, test BER: 0.22421866655349731                \n",
      "\n",
      "SNR: -3, 3944.680%, test BER: 0.19723400473594666                \n",
      "\n",
      "SNR: -2, 3398.733%, test BER: 0.1699366718530655                \n",
      "\n",
      "SNR: -1, 2806.213%, test BER: 0.14031066000461578                \n",
      "\n",
      "SNR: 0, 2235.533%, test BER: 0.11177666485309601                \n",
      "\n",
      "SNR: 1, 1691.840%, test BER: 0.08459199965000153                \n",
      "\n",
      "SNR: 2, 1201.573%, test BER: 0.06007866561412811                \n",
      "\n",
      "SNR: 3, 789.613%, test BER: 0.03948066756129265                \n",
      "\n",
      "SNR: 4, 470.613%, test BER: 0.023530665785074234                \n",
      "\n",
      "TRAINING ITERATION #21/500\n"
     ]
    },
    {
     "name": "stderr",
     "output_type": "stream",
     "text": [
      " 33%|████████████████████████████████████████                                                                                | 1/3 [00:01<00:02,  1.35s/it]"
     ]
    },
    {
     "name": "stdout",
     "output_type": "stream",
     "text": [
      "[Epoch 1] train loss: 17.837; train acc: 14.50; test loss: 17.846; test acc: 14.50\n"
     ]
    },
    {
     "name": "stderr",
     "output_type": "stream",
     "text": [
      " 67%|████████████████████████████████████████████████████████████████████████████████                                        | 2/3 [00:02<00:01,  1.32s/it]"
     ]
    },
    {
     "name": "stdout",
     "output_type": "stream",
     "text": [
      "[Epoch 2] train loss: 17.826; train acc: 14.50; test loss: 17.841; test acc: 14.50\n"
     ]
    },
    {
     "name": "stderr",
     "output_type": "stream",
     "text": [
      "100%|████████████████████████████████████████████████████████████████████████████████████████████████████████████████████████| 3/3 [00:03<00:00,  1.32s/it]\n"
     ]
    },
    {
     "name": "stdout",
     "output_type": "stream",
     "text": [
      "[Epoch 3] train loss: 17.840; train acc: 14.50; test loss: 17.838; test acc: 14.50\n",
      "TRAINING ITERATION #22/500\n"
     ]
    },
    {
     "name": "stderr",
     "output_type": "stream",
     "text": [
      " 33%|████████████████████████████████████████                                                                                | 1/3 [00:01<00:02,  1.35s/it]"
     ]
    },
    {
     "name": "stdout",
     "output_type": "stream",
     "text": [
      "[Epoch 1] train loss: 17.868; train acc: 14.50; test loss: 17.860; test acc: 14.50\n"
     ]
    },
    {
     "name": "stderr",
     "output_type": "stream",
     "text": [
      " 67%|████████████████████████████████████████████████████████████████████████████████                                        | 2/3 [00:02<00:01,  1.32s/it]"
     ]
    },
    {
     "name": "stdout",
     "output_type": "stream",
     "text": [
      "[Epoch 2] train loss: 17.870; train acc: 14.50; test loss: 17.865; test acc: 14.50\n"
     ]
    },
    {
     "name": "stderr",
     "output_type": "stream",
     "text": [
      "100%|████████████████████████████████████████████████████████████████████████████████████████████████████████████████████████| 3/3 [00:03<00:00,  1.33s/it]\n"
     ]
    },
    {
     "name": "stdout",
     "output_type": "stream",
     "text": [
      "[Epoch 3] train loss: 17.860; train acc: 14.50; test loss: 17.856; test acc: 14.51\n",
      "TRAINING ITERATION #23/500\n"
     ]
    },
    {
     "name": "stderr",
     "output_type": "stream",
     "text": [
      " 33%|████████████████████████████████████████                                                                                | 1/3 [00:01<00:02,  1.35s/it]"
     ]
    },
    {
     "name": "stdout",
     "output_type": "stream",
     "text": [
      "[Epoch 1] train loss: 17.865; train acc: 14.51; test loss: 17.857; test acc: 14.50\n"
     ]
    },
    {
     "name": "stderr",
     "output_type": "stream",
     "text": [
      " 67%|████████████████████████████████████████████████████████████████████████████████                                        | 2/3 [00:02<00:01,  1.33s/it]"
     ]
    },
    {
     "name": "stdout",
     "output_type": "stream",
     "text": [
      "[Epoch 2] train loss: 17.871; train acc: 14.50; test loss: 17.848; test acc: 14.50\n"
     ]
    },
    {
     "name": "stderr",
     "output_type": "stream",
     "text": [
      "100%|████████████████████████████████████████████████████████████████████████████████████████████████████████████████████████| 3/3 [00:04<00:00,  1.33s/it]\n"
     ]
    },
    {
     "name": "stdout",
     "output_type": "stream",
     "text": [
      "[Epoch 3] train loss: 17.864; train acc: 14.51; test loss: 17.867; test acc: 14.50\n",
      "TRAINING ITERATION #24/500\n"
     ]
    },
    {
     "name": "stderr",
     "output_type": "stream",
     "text": [
      " 33%|████████████████████████████████████████                                                                                | 1/3 [00:01<00:02,  1.35s/it]"
     ]
    },
    {
     "name": "stdout",
     "output_type": "stream",
     "text": [
      "[Epoch 1] train loss: 17.885; train acc: 14.51; test loss: 17.869; test acc: 14.51\n"
     ]
    },
    {
     "name": "stderr",
     "output_type": "stream",
     "text": [
      " 67%|████████████████████████████████████████████████████████████████████████████████                                        | 2/3 [00:02<00:01,  1.32s/it]"
     ]
    },
    {
     "name": "stdout",
     "output_type": "stream",
     "text": [
      "[Epoch 2] train loss: 17.879; train acc: 14.51; test loss: 17.871; test acc: 14.51\n"
     ]
    },
    {
     "name": "stderr",
     "output_type": "stream",
     "text": [
      "100%|████████████████████████████████████████████████████████████████████████████████████████████████████████████████████████| 3/3 [00:03<00:00,  1.33s/it]\n"
     ]
    },
    {
     "name": "stdout",
     "output_type": "stream",
     "text": [
      "[Epoch 3] train loss: 17.890; train acc: 14.51; test loss: 17.871; test acc: 14.51\n",
      "TRAINING ITERATION #25/500\n"
     ]
    },
    {
     "name": "stderr",
     "output_type": "stream",
     "text": [
      " 33%|████████████████████████████████████████                                                                                | 1/3 [00:01<00:02,  1.34s/it]"
     ]
    },
    {
     "name": "stdout",
     "output_type": "stream",
     "text": [
      "[Epoch 1] train loss: 17.853; train acc: 14.50; test loss: 17.876; test acc: 14.51\n"
     ]
    },
    {
     "name": "stderr",
     "output_type": "stream",
     "text": [
      " 67%|████████████████████████████████████████████████████████████████████████████████                                        | 2/3 [00:02<00:01,  1.31s/it]"
     ]
    },
    {
     "name": "stdout",
     "output_type": "stream",
     "text": [
      "[Epoch 2] train loss: 17.867; train acc: 14.50; test loss: 17.879; test acc: 14.51\n"
     ]
    },
    {
     "name": "stderr",
     "output_type": "stream",
     "text": [
      "100%|████████████████████████████████████████████████████████████████████████████████████████████████████████████████████████| 3/3 [00:03<00:00,  1.32s/it]"
     ]
    },
    {
     "name": "stdout",
     "output_type": "stream",
     "text": [
      "[Epoch 3] train loss: 17.880; train acc: 14.50; test loss: 17.862; test acc: 14.51\n",
      "SNR: -10, 7049.867%, test BER: 0.3524933457374573                \n",
      "\n"
     ]
    },
    {
     "name": "stderr",
     "output_type": "stream",
     "text": [
      "\n"
     ]
    },
    {
     "name": "stdout",
     "output_type": "stream",
     "text": [
      "SNR: -9, 6705.747%, test BER: 0.33528733253479004                \n",
      "\n",
      "SNR: -8, 6330.187%, test BER: 0.31650933623313904                \n",
      "\n",
      "SNR: -7, 5913.920%, test BER: 0.2956959903240204                \n",
      "\n",
      "SNR: -6, 5474.947%, test BER: 0.2737473249435425                \n",
      "\n",
      "SNR: -5, 4998.454%, test BER: 0.24992266297340393                \n",
      "\n",
      "SNR: -4, 4485.400%, test BER: 0.22427000105381012                \n",
      "\n",
      "SNR: -3, 3940.987%, test BER: 0.1970493346452713                \n",
      "\n",
      "SNR: -2, 3382.707%, test BER: 0.16913533210754395                \n",
      "\n",
      "SNR: -1, 2798.453%, test BER: 0.13992266356945038                \n",
      "\n",
      "SNR: 0, 2245.960%, test BER: 0.11229799687862396                \n",
      "\n",
      "SNR: 1, 1683.107%, test BER: 0.08415533602237701                \n",
      "\n",
      "SNR: 2, 1202.760%, test BER: 0.060137998312711716                \n",
      "\n",
      "SNR: 3, 785.160%, test BER: 0.03925799950957298                \n",
      "\n",
      "SNR: 4, 467.133%, test BER: 0.023356666788458824                \n",
      "\n",
      "TRAINING ITERATION #26/500\n"
     ]
    },
    {
     "name": "stderr",
     "output_type": "stream",
     "text": [
      " 33%|████████████████████████████████████████                                                                                | 1/3 [00:01<00:02,  1.36s/it]"
     ]
    },
    {
     "name": "stdout",
     "output_type": "stream",
     "text": [
      "[Epoch 1] train loss: 17.908; train acc: 14.51; test loss: 17.897; test acc: 14.50\n"
     ]
    },
    {
     "name": "stderr",
     "output_type": "stream",
     "text": [
      " 67%|████████████████████████████████████████████████████████████████████████████████                                        | 2/3 [00:02<00:01,  1.35s/it]"
     ]
    },
    {
     "name": "stdout",
     "output_type": "stream",
     "text": [
      "[Epoch 2] train loss: 17.891; train acc: 14.51; test loss: 17.891; test acc: 14.50\n"
     ]
    },
    {
     "name": "stderr",
     "output_type": "stream",
     "text": [
      "100%|████████████████████████████████████████████████████████████████████████████████████████████████████████████████████████| 3/3 [00:04<00:00,  1.34s/it]\n"
     ]
    },
    {
     "name": "stdout",
     "output_type": "stream",
     "text": [
      "[Epoch 3] train loss: 17.898; train acc: 14.51; test loss: 17.899; test acc: 14.50\n",
      "TRAINING ITERATION #27/500\n"
     ]
    },
    {
     "name": "stderr",
     "output_type": "stream",
     "text": [
      " 33%|████████████████████████████████████████                                                                                | 1/3 [00:01<00:02,  1.36s/it]"
     ]
    },
    {
     "name": "stdout",
     "output_type": "stream",
     "text": [
      "[Epoch 1] train loss: 17.815; train acc: 14.51; test loss: 17.864; test acc: 14.50\n"
     ]
    },
    {
     "name": "stderr",
     "output_type": "stream",
     "text": [
      " 67%|████████████████████████████████████████████████████████████████████████████████                                        | 2/3 [00:02<00:01,  1.33s/it]"
     ]
    },
    {
     "name": "stdout",
     "output_type": "stream",
     "text": [
      "[Epoch 2] train loss: 17.814; train acc: 14.51; test loss: 17.874; test acc: 14.50\n"
     ]
    },
    {
     "name": "stderr",
     "output_type": "stream",
     "text": [
      "100%|████████████████████████████████████████████████████████████████████████████████████████████████████████████████████████| 3/3 [00:04<00:00,  1.33s/it]\n"
     ]
    },
    {
     "name": "stdout",
     "output_type": "stream",
     "text": [
      "[Epoch 3] train loss: 17.820; train acc: 14.51; test loss: 17.874; test acc: 14.51\n",
      "TRAINING ITERATION #28/500\n"
     ]
    },
    {
     "name": "stderr",
     "output_type": "stream",
     "text": [
      " 33%|████████████████████████████████████████                                                                                | 1/3 [00:01<00:02,  1.34s/it]"
     ]
    },
    {
     "name": "stdout",
     "output_type": "stream",
     "text": [
      "[Epoch 1] train loss: 17.873; train acc: 14.51; test loss: 17.875; test acc: 14.51\n"
     ]
    },
    {
     "name": "stderr",
     "output_type": "stream",
     "text": [
      " 67%|████████████████████████████████████████████████████████████████████████████████                                        | 2/3 [00:02<00:01,  1.31s/it]"
     ]
    },
    {
     "name": "stdout",
     "output_type": "stream",
     "text": [
      "[Epoch 2] train loss: 17.845; train acc: 14.51; test loss: 17.893; test acc: 14.51\n"
     ]
    },
    {
     "name": "stderr",
     "output_type": "stream",
     "text": [
      "100%|████████████████████████████████████████████████████████████████████████████████████████████████████████████████████████| 3/3 [00:03<00:00,  1.32s/it]\n"
     ]
    },
    {
     "name": "stdout",
     "output_type": "stream",
     "text": [
      "[Epoch 3] train loss: 17.875; train acc: 14.51; test loss: 17.891; test acc: 14.51\n",
      "TRAINING ITERATION #29/500\n"
     ]
    },
    {
     "name": "stderr",
     "output_type": "stream",
     "text": [
      " 33%|████████████████████████████████████████                                                                                | 1/3 [00:01<00:02,  1.34s/it]"
     ]
    },
    {
     "name": "stdout",
     "output_type": "stream",
     "text": [
      "[Epoch 1] train loss: 17.904; train acc: 14.50; test loss: 17.888; test acc: 14.51\n"
     ]
    },
    {
     "name": "stderr",
     "output_type": "stream",
     "text": [
      " 67%|████████████████████████████████████████████████████████████████████████████████                                        | 2/3 [00:02<00:01,  1.33s/it]"
     ]
    },
    {
     "name": "stdout",
     "output_type": "stream",
     "text": [
      "[Epoch 2] train loss: 17.907; train acc: 14.50; test loss: 17.860; test acc: 14.51\n"
     ]
    },
    {
     "name": "stderr",
     "output_type": "stream",
     "text": [
      "100%|████████████████████████████████████████████████████████████████████████████████████████████████████████████████████████| 3/3 [00:04<00:00,  1.33s/it]\n"
     ]
    },
    {
     "name": "stdout",
     "output_type": "stream",
     "text": [
      "[Epoch 3] train loss: 17.891; train acc: 14.50; test loss: 17.884; test acc: 14.51\n",
      "TRAINING ITERATION #30/500\n"
     ]
    },
    {
     "name": "stderr",
     "output_type": "stream",
     "text": [
      " 33%|████████████████████████████████████████                                                                                | 1/3 [00:01<00:02,  1.34s/it]"
     ]
    },
    {
     "name": "stdout",
     "output_type": "stream",
     "text": [
      "[Epoch 1] train loss: 17.893; train acc: 14.50; test loss: 17.873; test acc: 14.51\n"
     ]
    },
    {
     "name": "stderr",
     "output_type": "stream",
     "text": [
      " 67%|████████████████████████████████████████████████████████████████████████████████                                        | 2/3 [00:02<00:01,  1.33s/it]"
     ]
    },
    {
     "name": "stdout",
     "output_type": "stream",
     "text": [
      "[Epoch 2] train loss: 17.879; train acc: 14.50; test loss: 17.889; test acc: 14.51\n"
     ]
    },
    {
     "name": "stderr",
     "output_type": "stream",
     "text": [
      "100%|████████████████████████████████████████████████████████████████████████████████████████████████████████████████████████| 3/3 [00:03<00:00,  1.33s/it]"
     ]
    },
    {
     "name": "stdout",
     "output_type": "stream",
     "text": [
      "[Epoch 3] train loss: 17.904; train acc: 14.51; test loss: 17.862; test acc: 14.51\n",
      "SNR: -10, 7035.707%, test BER: 0.3517853319644928                \n",
      "\n"
     ]
    },
    {
     "name": "stderr",
     "output_type": "stream",
     "text": [
      "\n"
     ]
    },
    {
     "name": "stdout",
     "output_type": "stream",
     "text": [
      "SNR: -9, 6704.520%, test BER: 0.33522599935531616                \n",
      "\n",
      "SNR: -8, 6325.267%, test BER: 0.316263347864151                \n",
      "\n",
      "SNR: -7, 5922.013%, test BER: 0.2961006760597229                \n",
      "\n",
      "SNR: -6, 5456.680%, test BER: 0.27283400297164917                \n",
      "\n",
      "SNR: -5, 5001.720%, test BER: 0.2500860095024109                \n",
      "\n",
      "SNR: -4, 4492.653%, test BER: 0.22463266551494598                \n",
      "\n",
      "SNR: -3, 3942.187%, test BER: 0.19710932672023773                \n",
      "\n",
      "SNR: -2, 3384.307%, test BER: 0.1692153364419937                \n",
      "\n",
      "SNR: -1, 2808.173%, test BER: 0.14040866494178772                \n",
      "\n",
      "SNR: 0, 2222.893%, test BER: 0.11114466935396194                \n",
      "\n",
      "SNR: 1, 1691.040%, test BER: 0.08455199748277664                \n",
      "\n",
      "SNR: 2, 1194.667%, test BER: 0.05973333492875099                \n",
      "\n",
      "SNR: 3, 783.053%, test BER: 0.03915266692638397                \n",
      "\n",
      "SNR: 4, 464.827%, test BER: 0.023241333663463593                \n",
      "\n",
      "TRAINING ITERATION #31/500\n"
     ]
    },
    {
     "name": "stderr",
     "output_type": "stream",
     "text": [
      " 33%|████████████████████████████████████████                                                                                | 1/3 [00:01<00:02,  1.36s/it]"
     ]
    },
    {
     "name": "stdout",
     "output_type": "stream",
     "text": [
      "[Epoch 1] train loss: 17.872; train acc: 14.52; test loss: 17.845; test acc: 14.52\n"
     ]
    },
    {
     "name": "stderr",
     "output_type": "stream",
     "text": [
      " 67%|████████████████████████████████████████████████████████████████████████████████                                        | 2/3 [00:02<00:01,  1.33s/it]"
     ]
    },
    {
     "name": "stdout",
     "output_type": "stream",
     "text": [
      "[Epoch 2] train loss: 17.891; train acc: 14.52; test loss: 17.853; test acc: 14.52\n"
     ]
    },
    {
     "name": "stderr",
     "output_type": "stream",
     "text": [
      "100%|████████████████████████████████████████████████████████████████████████████████████████████████████████████████████████| 3/3 [00:03<00:00,  1.33s/it]\n"
     ]
    },
    {
     "name": "stdout",
     "output_type": "stream",
     "text": [
      "[Epoch 3] train loss: 17.878; train acc: 14.52; test loss: 17.851; test acc: 14.52\n",
      "TRAINING ITERATION #32/500\n"
     ]
    },
    {
     "name": "stderr",
     "output_type": "stream",
     "text": [
      " 33%|████████████████████████████████████████                                                                                | 1/3 [00:01<00:02,  1.35s/it]"
     ]
    },
    {
     "name": "stdout",
     "output_type": "stream",
     "text": [
      "[Epoch 1] train loss: 17.799; train acc: 14.51; test loss: 17.884; test acc: 14.52\n"
     ]
    },
    {
     "name": "stderr",
     "output_type": "stream",
     "text": [
      " 67%|████████████████████████████████████████████████████████████████████████████████                                        | 2/3 [00:02<00:01,  1.34s/it]"
     ]
    },
    {
     "name": "stdout",
     "output_type": "stream",
     "text": [
      "[Epoch 2] train loss: 17.800; train acc: 14.51; test loss: 17.860; test acc: 14.52\n"
     ]
    },
    {
     "name": "stderr",
     "output_type": "stream",
     "text": [
      "100%|████████████████████████████████████████████████████████████████████████████████████████████████████████████████████████| 3/3 [00:03<00:00,  1.33s/it]\n"
     ]
    },
    {
     "name": "stdout",
     "output_type": "stream",
     "text": [
      "[Epoch 3] train loss: 17.793; train acc: 14.51; test loss: 17.883; test acc: 14.52\n",
      "TRAINING ITERATION #33/500\n"
     ]
    },
    {
     "name": "stderr",
     "output_type": "stream",
     "text": [
      " 33%|████████████████████████████████████████                                                                                | 1/3 [00:01<00:02,  1.33s/it]"
     ]
    },
    {
     "name": "stdout",
     "output_type": "stream",
     "text": [
      "[Epoch 1] train loss: 17.860; train acc: 14.51; test loss: 17.881; test acc: 14.52\n"
     ]
    },
    {
     "name": "stderr",
     "output_type": "stream",
     "text": [
      " 67%|████████████████████████████████████████████████████████████████████████████████                                        | 2/3 [00:02<00:01,  1.33s/it]"
     ]
    },
    {
     "name": "stdout",
     "output_type": "stream",
     "text": [
      "[Epoch 2] train loss: 17.853; train acc: 14.51; test loss: 17.869; test acc: 14.52\n"
     ]
    },
    {
     "name": "stderr",
     "output_type": "stream",
     "text": [
      "100%|████████████████████████████████████████████████████████████████████████████████████████████████████████████████████████| 3/3 [00:03<00:00,  1.32s/it]\n"
     ]
    },
    {
     "name": "stdout",
     "output_type": "stream",
     "text": [
      "[Epoch 3] train loss: 17.857; train acc: 14.51; test loss: 17.848; test acc: 14.52\n",
      "TRAINING ITERATION #34/500\n"
     ]
    },
    {
     "name": "stderr",
     "output_type": "stream",
     "text": [
      " 33%|████████████████████████████████████████                                                                                | 1/3 [00:01<00:02,  1.35s/it]"
     ]
    },
    {
     "name": "stdout",
     "output_type": "stream",
     "text": [
      "[Epoch 1] train loss: 17.889; train acc: 14.51; test loss: 17.877; test acc: 14.51\n"
     ]
    },
    {
     "name": "stderr",
     "output_type": "stream",
     "text": [
      " 67%|████████████████████████████████████████████████████████████████████████████████                                        | 2/3 [00:02<00:01,  1.34s/it]"
     ]
    },
    {
     "name": "stdout",
     "output_type": "stream",
     "text": [
      "[Epoch 2] train loss: 17.882; train acc: 14.51; test loss: 17.875; test acc: 14.51\n"
     ]
    },
    {
     "name": "stderr",
     "output_type": "stream",
     "text": [
      "100%|████████████████████████████████████████████████████████████████████████████████████████████████████████████████████████| 3/3 [00:03<00:00,  1.33s/it]\n"
     ]
    },
    {
     "name": "stdout",
     "output_type": "stream",
     "text": [
      "[Epoch 3] train loss: 17.900; train acc: 14.51; test loss: 17.874; test acc: 14.51\n",
      "TRAINING ITERATION #35/500\n"
     ]
    },
    {
     "name": "stderr",
     "output_type": "stream",
     "text": [
      " 33%|████████████████████████████████████████                                                                                | 1/3 [00:01<00:02,  1.32s/it]"
     ]
    },
    {
     "name": "stdout",
     "output_type": "stream",
     "text": [
      "[Epoch 1] train loss: 17.827; train acc: 14.51; test loss: 17.892; test acc: 14.51\n"
     ]
    },
    {
     "name": "stderr",
     "output_type": "stream",
     "text": [
      " 67%|████████████████████████████████████████████████████████████████████████████████                                        | 2/3 [00:02<00:01,  1.32s/it]"
     ]
    },
    {
     "name": "stdout",
     "output_type": "stream",
     "text": [
      "[Epoch 2] train loss: 17.855; train acc: 14.51; test loss: 17.897; test acc: 14.51\n"
     ]
    },
    {
     "name": "stderr",
     "output_type": "stream",
     "text": [
      "100%|████████████████████████████████████████████████████████████████████████████████████████████████████████████████████████| 3/3 [00:03<00:00,  1.32s/it]"
     ]
    },
    {
     "name": "stdout",
     "output_type": "stream",
     "text": [
      "[Epoch 3] train loss: 17.848; train acc: 14.51; test loss: 17.899; test acc: 14.51\n"
     ]
    },
    {
     "name": "stderr",
     "output_type": "stream",
     "text": [
      "\n"
     ]
    },
    {
     "name": "stdout",
     "output_type": "stream",
     "text": [
      "SNR: -10, 7049.027%, test BER: 0.3524513244628906                \n",
      "\n",
      "SNR: -9, 6701.227%, test BER: 0.33506134152412415                \n",
      "\n",
      "SNR: -8, 6339.013%, test BER: 0.3169506788253784                \n",
      "\n",
      "SNR: -7, 5924.374%, test BER: 0.2962186634540558                \n",
      "\n",
      "SNR: -6, 5469.760%, test BER: 0.27348798513412476                \n",
      "\n",
      "SNR: -5, 4995.894%, test BER: 0.24979466199874878                \n",
      "\n",
      "SNR: -4, 4488.093%, test BER: 0.22440466284751892                \n",
      "\n",
      "SNR: -3, 3947.253%, test BER: 0.19736266136169434                \n",
      "\n",
      "SNR: -2, 3372.493%, test BER: 0.1686246693134308                \n",
      "\n",
      "SNR: -1, 2802.627%, test BER: 0.14013133943080902                \n",
      "\n",
      "SNR: 0, 2239.013%, test BER: 0.11195066571235657                \n",
      "\n",
      "SNR: 1, 1684.867%, test BER: 0.08424333482980728                \n",
      "\n",
      "SNR: 2, 1202.627%, test BER: 0.06013133376836777                \n",
      "\n",
      "SNR: 3, 785.653%, test BER: 0.0392826683819294                \n",
      "\n",
      "SNR: 4, 464.080%, test BER: 0.023204000666737556                \n",
      "\n",
      "TRAINING ITERATION #36/500\n"
     ]
    },
    {
     "name": "stderr",
     "output_type": "stream",
     "text": [
      " 33%|████████████████████████████████████████                                                                                | 1/3 [00:01<00:02,  1.28s/it]"
     ]
    },
    {
     "name": "stdout",
     "output_type": "stream",
     "text": [
      "[Epoch 1] train loss: 17.888; train acc: 14.52; test loss: 17.892; test acc: 14.51\n"
     ]
    },
    {
     "name": "stderr",
     "output_type": "stream",
     "text": [
      " 67%|████████████████████████████████████████████████████████████████████████████████                                        | 2/3 [00:02<00:01,  1.31s/it]"
     ]
    },
    {
     "name": "stdout",
     "output_type": "stream",
     "text": [
      "[Epoch 2] train loss: 17.873; train acc: 14.52; test loss: 17.893; test acc: 14.51\n"
     ]
    },
    {
     "name": "stderr",
     "output_type": "stream",
     "text": [
      "100%|████████████████████████████████████████████████████████████████████████████████████████████████████████████████████████| 3/3 [00:03<00:00,  1.32s/it]\n"
     ]
    },
    {
     "name": "stdout",
     "output_type": "stream",
     "text": [
      "[Epoch 3] train loss: 17.871; train acc: 14.52; test loss: 17.888; test acc: 14.51\n",
      "TRAINING ITERATION #37/500\n"
     ]
    },
    {
     "name": "stderr",
     "output_type": "stream",
     "text": [
      " 33%|████████████████████████████████████████                                                                                | 1/3 [00:01<00:02,  1.31s/it]"
     ]
    },
    {
     "name": "stdout",
     "output_type": "stream",
     "text": [
      "[Epoch 1] train loss: 17.879; train acc: 14.52; test loss: 17.917; test acc: 14.51\n"
     ]
    },
    {
     "name": "stderr",
     "output_type": "stream",
     "text": [
      " 67%|████████████████████████████████████████████████████████████████████████████████                                        | 2/3 [00:02<00:01,  1.32s/it]"
     ]
    },
    {
     "name": "stdout",
     "output_type": "stream",
     "text": [
      "[Epoch 2] train loss: 17.893; train acc: 14.52; test loss: 17.932; test acc: 14.51\n"
     ]
    },
    {
     "name": "stderr",
     "output_type": "stream",
     "text": [
      "100%|████████████████████████████████████████████████████████████████████████████████████████████████████████████████████████| 3/3 [00:04<00:00,  1.33s/it]\n"
     ]
    },
    {
     "name": "stdout",
     "output_type": "stream",
     "text": [
      "[Epoch 3] train loss: 17.870; train acc: 14.52; test loss: 17.903; test acc: 14.51\n",
      "TRAINING ITERATION #38/500\n"
     ]
    },
    {
     "name": "stderr",
     "output_type": "stream",
     "text": [
      " 33%|████████████████████████████████████████                                                                                | 1/3 [00:01<00:02,  1.29s/it]"
     ]
    },
    {
     "name": "stdout",
     "output_type": "stream",
     "text": [
      "[Epoch 1] train loss: 17.854; train acc: 14.52; test loss: 17.854; test acc: 14.51\n"
     ]
    },
    {
     "name": "stderr",
     "output_type": "stream",
     "text": [
      " 67%|████████████████████████████████████████████████████████████████████████████████                                        | 2/3 [00:02<00:01,  1.30s/it]"
     ]
    },
    {
     "name": "stdout",
     "output_type": "stream",
     "text": [
      "[Epoch 2] train loss: 17.857; train acc: 14.52; test loss: 17.865; test acc: 14.51\n"
     ]
    },
    {
     "name": "stderr",
     "output_type": "stream",
     "text": [
      "100%|████████████████████████████████████████████████████████████████████████████████████████████████████████████████████████| 3/3 [00:03<00:00,  1.32s/it]\n"
     ]
    },
    {
     "name": "stdout",
     "output_type": "stream",
     "text": [
      "[Epoch 3] train loss: 17.856; train acc: 14.52; test loss: 17.864; test acc: 14.51\n",
      "TRAINING ITERATION #39/500\n"
     ]
    },
    {
     "name": "stderr",
     "output_type": "stream",
     "text": [
      " 33%|████████████████████████████████████████                                                                                | 1/3 [00:01<00:02,  1.30s/it]"
     ]
    },
    {
     "name": "stdout",
     "output_type": "stream",
     "text": [
      "[Epoch 1] train loss: 17.873; train acc: 14.51; test loss: 17.879; test acc: 14.51\n"
     ]
    },
    {
     "name": "stderr",
     "output_type": "stream",
     "text": [
      " 67%|████████████████████████████████████████████████████████████████████████████████                                        | 2/3 [00:02<00:01,  1.30s/it]"
     ]
    },
    {
     "name": "stdout",
     "output_type": "stream",
     "text": [
      "[Epoch 2] train loss: 17.874; train acc: 14.51; test loss: 17.892; test acc: 14.51\n"
     ]
    },
    {
     "name": "stderr",
     "output_type": "stream",
     "text": [
      "100%|████████████████████████████████████████████████████████████████████████████████████████████████████████████████████████| 3/3 [00:03<00:00,  1.32s/it]\n"
     ]
    },
    {
     "name": "stdout",
     "output_type": "stream",
     "text": [
      "[Epoch 3] train loss: 17.883; train acc: 14.51; test loss: 17.894; test acc: 14.51\n",
      "TRAINING ITERATION #40/500\n"
     ]
    },
    {
     "name": "stderr",
     "output_type": "stream",
     "text": [
      " 33%|████████████████████████████████████████                                                                                | 1/3 [00:01<00:02,  1.31s/it]"
     ]
    },
    {
     "name": "stdout",
     "output_type": "stream",
     "text": [
      "[Epoch 1] train loss: 17.864; train acc: 14.51; test loss: 17.834; test acc: 14.51\n"
     ]
    },
    {
     "name": "stderr",
     "output_type": "stream",
     "text": [
      " 67%|████████████████████████████████████████████████████████████████████████████████                                        | 2/3 [00:02<00:01,  1.30s/it]"
     ]
    },
    {
     "name": "stdout",
     "output_type": "stream",
     "text": [
      "[Epoch 2] train loss: 17.881; train acc: 14.51; test loss: 17.841; test acc: 14.51\n"
     ]
    },
    {
     "name": "stderr",
     "output_type": "stream",
     "text": [
      "100%|████████████████████████████████████████████████████████████████████████████████████████████████████████████████████████| 3/3 [00:03<00:00,  1.33s/it]"
     ]
    },
    {
     "name": "stdout",
     "output_type": "stream",
     "text": [
      "[Epoch 3] train loss: 17.878; train acc: 14.51; test loss: 17.842; test acc: 14.51\n",
      "SNR: -10, 7046.760%, test BER: 0.3523379862308502                \n",
      "\n"
     ]
    },
    {
     "name": "stderr",
     "output_type": "stream",
     "text": [
      "\n"
     ]
    },
    {
     "name": "stdout",
     "output_type": "stream",
     "text": [
      "SNR: -9, 6700.920%, test BER: 0.3350459933280945                \n",
      "\n",
      "SNR: -8, 6333.480%, test BER: 0.31667399406433105                \n",
      "\n",
      "SNR: -7, 5929.227%, test BER: 0.2964613437652588                \n",
      "\n",
      "SNR: -6, 5471.813%, test BER: 0.27359065413475037                \n",
      "\n",
      "SNR: -5, 4976.854%, test BER: 0.24884267151355743                \n",
      "\n",
      "SNR: -4, 4490.840%, test BER: 0.22454200685024261                \n",
      "\n",
      "SNR: -3, 3932.653%, test BER: 0.19663266837596893                \n",
      "\n",
      "SNR: -2, 3373.333%, test BER: 0.16866666078567505                \n",
      "\n",
      "SNR: -1, 2804.373%, test BER: 0.14021866023540497                \n",
      "\n",
      "SNR: 0, 2235.587%, test BER: 0.11177933216094971                \n",
      "\n",
      "SNR: 1, 1682.707%, test BER: 0.08413533121347427                \n",
      "\n",
      "SNR: 2, 1193.547%, test BER: 0.059677332639694214                \n",
      "\n",
      "SNR: 3, 782.227%, test BER: 0.03911133483052254                \n",
      "\n",
      "SNR: 4, 458.933%, test BER: 0.022946666926145554                \n",
      "\n",
      "TRAINING ITERATION #41/500\n"
     ]
    },
    {
     "name": "stderr",
     "output_type": "stream",
     "text": [
      " 33%|████████████████████████████████████████                                                                                | 1/3 [00:01<00:02,  1.30s/it]"
     ]
    },
    {
     "name": "stdout",
     "output_type": "stream",
     "text": [
      "[Epoch 1] train loss: 17.886; train acc: 14.51; test loss: 17.852; test acc: 14.51\n"
     ]
    },
    {
     "name": "stderr",
     "output_type": "stream",
     "text": [
      " 67%|████████████████████████████████████████████████████████████████████████████████                                        | 2/3 [00:02<00:01,  1.34s/it]"
     ]
    },
    {
     "name": "stdout",
     "output_type": "stream",
     "text": [
      "[Epoch 2] train loss: 17.873; train acc: 14.51; test loss: 17.836; test acc: 14.51\n"
     ]
    },
    {
     "name": "stderr",
     "output_type": "stream",
     "text": [
      "100%|████████████████████████████████████████████████████████████████████████████████████████████████████████████████████████| 3/3 [00:03<00:00,  1.33s/it]\n"
     ]
    },
    {
     "name": "stdout",
     "output_type": "stream",
     "text": [
      "[Epoch 3] train loss: 17.870; train acc: 14.51; test loss: 17.823; test acc: 14.51\n",
      "TRAINING ITERATION #42/500\n"
     ]
    },
    {
     "name": "stderr",
     "output_type": "stream",
     "text": [
      " 33%|████████████████████████████████████████                                                                                | 1/3 [00:01<00:02,  1.30s/it]"
     ]
    },
    {
     "name": "stdout",
     "output_type": "stream",
     "text": [
      "[Epoch 1] train loss: 17.899; train acc: 14.51; test loss: 17.877; test acc: 14.51\n"
     ]
    },
    {
     "name": "stderr",
     "output_type": "stream",
     "text": [
      " 67%|████████████████████████████████████████████████████████████████████████████████                                        | 2/3 [00:02<00:01,  1.35s/it]"
     ]
    },
    {
     "name": "stdout",
     "output_type": "stream",
     "text": [
      "[Epoch 2] train loss: 17.888; train acc: 14.51; test loss: 17.868; test acc: 14.51\n"
     ]
    },
    {
     "name": "stderr",
     "output_type": "stream",
     "text": [
      "100%|████████████████████████████████████████████████████████████████████████████████████████████████████████████████████████| 3/3 [00:04<00:00,  1.34s/it]\n"
     ]
    },
    {
     "name": "stdout",
     "output_type": "stream",
     "text": [
      "[Epoch 3] train loss: 17.885; train acc: 14.51; test loss: 17.881; test acc: 14.51\n",
      "TRAINING ITERATION #43/500\n"
     ]
    },
    {
     "name": "stderr",
     "output_type": "stream",
     "text": [
      " 33%|████████████████████████████████████████                                                                                | 1/3 [00:01<00:02,  1.29s/it]"
     ]
    },
    {
     "name": "stdout",
     "output_type": "stream",
     "text": [
      "[Epoch 1] train loss: 17.871; train acc: 14.51; test loss: 17.854; test acc: 14.52\n"
     ]
    },
    {
     "name": "stderr",
     "output_type": "stream",
     "text": [
      " 67%|████████████████████████████████████████████████████████████████████████████████                                        | 2/3 [00:02<00:01,  1.33s/it]"
     ]
    },
    {
     "name": "stdout",
     "output_type": "stream",
     "text": [
      "[Epoch 2] train loss: 17.899; train acc: 14.51; test loss: 17.841; test acc: 14.52\n"
     ]
    },
    {
     "name": "stderr",
     "output_type": "stream",
     "text": [
      "100%|████████████████████████████████████████████████████████████████████████████████████████████████████████████████████████| 3/3 [00:03<00:00,  1.33s/it]\n"
     ]
    },
    {
     "name": "stdout",
     "output_type": "stream",
     "text": [
      "[Epoch 3] train loss: 17.865; train acc: 14.51; test loss: 17.856; test acc: 14.52\n",
      "TRAINING ITERATION #44/500\n"
     ]
    },
    {
     "name": "stderr",
     "output_type": "stream",
     "text": [
      " 33%|████████████████████████████████████████                                                                                | 1/3 [00:01<00:02,  1.29s/it]"
     ]
    },
    {
     "name": "stdout",
     "output_type": "stream",
     "text": [
      "[Epoch 1] train loss: 17.870; train acc: 14.51; test loss: 17.922; test acc: 14.51\n"
     ]
    },
    {
     "name": "stderr",
     "output_type": "stream",
     "text": [
      " 67%|████████████████████████████████████████████████████████████████████████████████                                        | 2/3 [00:02<00:01,  1.33s/it]"
     ]
    },
    {
     "name": "stdout",
     "output_type": "stream",
     "text": [
      "[Epoch 2] train loss: 17.882; train acc: 14.51; test loss: 17.923; test acc: 14.51\n"
     ]
    },
    {
     "name": "stderr",
     "output_type": "stream",
     "text": [
      "100%|████████████████████████████████████████████████████████████████████████████████████████████████████████████████████████| 3/3 [00:03<00:00,  1.32s/it]\n"
     ]
    },
    {
     "name": "stdout",
     "output_type": "stream",
     "text": [
      "[Epoch 3] train loss: 17.887; train acc: 14.51; test loss: 17.914; test acc: 14.51\n",
      "TRAINING ITERATION #45/500\n"
     ]
    },
    {
     "name": "stderr",
     "output_type": "stream",
     "text": [
      " 33%|████████████████████████████████████████                                                                                | 1/3 [00:01<00:02,  1.30s/it]"
     ]
    },
    {
     "name": "stdout",
     "output_type": "stream",
     "text": [
      "[Epoch 1] train loss: 17.891; train acc: 14.51; test loss: 17.880; test acc: 14.52\n"
     ]
    },
    {
     "name": "stderr",
     "output_type": "stream",
     "text": [
      " 67%|████████████████████████████████████████████████████████████████████████████████                                        | 2/3 [00:02<00:01,  1.35s/it]"
     ]
    },
    {
     "name": "stdout",
     "output_type": "stream",
     "text": [
      "[Epoch 2] train loss: 17.892; train acc: 14.51; test loss: 17.885; test acc: 14.52\n"
     ]
    },
    {
     "name": "stderr",
     "output_type": "stream",
     "text": [
      "100%|████████████████████████████████████████████████████████████████████████████████████████████████████████████████████████| 3/3 [00:03<00:00,  1.33s/it]"
     ]
    },
    {
     "name": "stdout",
     "output_type": "stream",
     "text": [
      "[Epoch 3] train loss: 17.884; train acc: 14.51; test loss: 17.897; test acc: 14.52\n",
      "SNR: -10, 7052.494%, test BER: 0.35262465476989746                \n",
      "\n"
     ]
    },
    {
     "name": "stderr",
     "output_type": "stream",
     "text": [
      "\n"
     ]
    },
    {
     "name": "stdout",
     "output_type": "stream",
     "text": [
      "SNR: -9, 6716.480%, test BER: 0.33582401275634766                \n",
      "\n",
      "SNR: -8, 6331.600%, test BER: 0.31657999753952026                \n",
      "\n",
      "SNR: -7, 5925.240%, test BER: 0.2962619960308075                \n",
      "\n",
      "SNR: -6, 5487.280%, test BER: 0.27436399459838867                \n",
      "\n",
      "SNR: -5, 4997.600%, test BER: 0.24988000094890594                \n",
      "\n",
      "SNR: -4, 4497.133%, test BER: 0.2248566597700119                \n",
      "\n",
      "SNR: -3, 3939.587%, test BER: 0.1969793289899826                \n",
      "\n",
      "SNR: -2, 3371.467%, test BER: 0.16857333481311798                \n",
      "\n",
      "SNR: -1, 2799.813%, test BER: 0.1399906724691391                \n",
      "\n",
      "SNR: 0, 2214.920%, test BER: 0.11074600368738174                \n",
      "\n",
      "SNR: 1, 1686.880%, test BER: 0.08434399962425232                \n",
      "\n",
      "SNR: 2, 1188.707%, test BER: 0.05943533405661583                \n",
      "\n",
      "SNR: 3, 779.787%, test BER: 0.03898933157324791                \n",
      "\n",
      "SNR: 4, 459.093%, test BER: 0.0229546669870615                \n",
      "\n",
      "TRAINING ITERATION #46/500\n"
     ]
    },
    {
     "name": "stderr",
     "output_type": "stream",
     "text": [
      " 33%|████████████████████████████████████████                                                                                | 1/3 [00:01<00:02,  1.29s/it]"
     ]
    },
    {
     "name": "stdout",
     "output_type": "stream",
     "text": [
      "[Epoch 1] train loss: 17.879; train acc: 14.51; test loss: 17.824; test acc: 14.51\n"
     ]
    },
    {
     "name": "stderr",
     "output_type": "stream",
     "text": [
      " 67%|████████████████████████████████████████████████████████████████████████████████                                        | 2/3 [00:02<00:01,  1.34s/it]"
     ]
    },
    {
     "name": "stdout",
     "output_type": "stream",
     "text": [
      "[Epoch 2] train loss: 17.878; train acc: 14.51; test loss: 17.823; test acc: 14.51\n"
     ]
    },
    {
     "name": "stderr",
     "output_type": "stream",
     "text": [
      "100%|████████████████████████████████████████████████████████████████████████████████████████████████████████████████████████| 3/3 [00:03<00:00,  1.33s/it]\n"
     ]
    },
    {
     "name": "stdout",
     "output_type": "stream",
     "text": [
      "[Epoch 3] train loss: 17.856; train acc: 14.51; test loss: 17.825; test acc: 14.51\n",
      "TRAINING ITERATION #47/500\n"
     ]
    },
    {
     "name": "stderr",
     "output_type": "stream",
     "text": [
      " 33%|████████████████████████████████████████                                                                                | 1/3 [00:01<00:02,  1.30s/it]"
     ]
    },
    {
     "name": "stdout",
     "output_type": "stream",
     "text": [
      "[Epoch 1] train loss: 17.851; train acc: 14.51; test loss: 17.830; test acc: 14.52\n"
     ]
    },
    {
     "name": "stderr",
     "output_type": "stream",
     "text": [
      " 67%|████████████████████████████████████████████████████████████████████████████████                                        | 2/3 [00:02<00:01,  1.33s/it]"
     ]
    },
    {
     "name": "stdout",
     "output_type": "stream",
     "text": [
      "[Epoch 2] train loss: 17.837; train acc: 14.51; test loss: 17.843; test acc: 14.52\n"
     ]
    },
    {
     "name": "stderr",
     "output_type": "stream",
     "text": [
      "100%|████████████████████████████████████████████████████████████████████████████████████████████████████████████████████████| 3/3 [00:03<00:00,  1.32s/it]\n"
     ]
    },
    {
     "name": "stdout",
     "output_type": "stream",
     "text": [
      "[Epoch 3] train loss: 17.851; train acc: 14.51; test loss: 17.829; test acc: 14.52\n",
      "TRAINING ITERATION #48/500\n"
     ]
    },
    {
     "name": "stderr",
     "output_type": "stream",
     "text": [
      " 33%|████████████████████████████████████████                                                                                | 1/3 [00:01<00:02,  1.28s/it]"
     ]
    },
    {
     "name": "stdout",
     "output_type": "stream",
     "text": [
      "[Epoch 1] train loss: 17.877; train acc: 14.51; test loss: 17.871; test acc: 14.51\n"
     ]
    },
    {
     "name": "stderr",
     "output_type": "stream",
     "text": [
      " 67%|████████████████████████████████████████████████████████████████████████████████                                        | 2/3 [00:02<00:01,  1.33s/it]"
     ]
    },
    {
     "name": "stdout",
     "output_type": "stream",
     "text": [
      "[Epoch 2] train loss: 17.903; train acc: 14.51; test loss: 17.861; test acc: 14.51\n"
     ]
    },
    {
     "name": "stderr",
     "output_type": "stream",
     "text": [
      "100%|████████████████████████████████████████████████████████████████████████████████████████████████████████████████████████| 3/3 [00:04<00:00,  1.35s/it]\n"
     ]
    },
    {
     "name": "stdout",
     "output_type": "stream",
     "text": [
      "[Epoch 3] train loss: 17.894; train acc: 14.51; test loss: 17.863; test acc: 14.51\n",
      "TRAINING ITERATION #49/500\n"
     ]
    },
    {
     "name": "stderr",
     "output_type": "stream",
     "text": [
      " 33%|████████████████████████████████████████                                                                                | 1/3 [00:01<00:02,  1.32s/it]"
     ]
    },
    {
     "name": "stdout",
     "output_type": "stream",
     "text": [
      "[Epoch 1] train loss: 17.866; train acc: 14.51; test loss: 17.870; test acc: 14.52\n"
     ]
    },
    {
     "name": "stderr",
     "output_type": "stream",
     "text": [
      " 67%|████████████████████████████████████████████████████████████████████████████████                                        | 2/3 [00:02<00:01,  1.36s/it]"
     ]
    },
    {
     "name": "stdout",
     "output_type": "stream",
     "text": [
      "[Epoch 2] train loss: 17.855; train acc: 14.51; test loss: 17.857; test acc: 14.52\n"
     ]
    },
    {
     "name": "stderr",
     "output_type": "stream",
     "text": [
      "100%|████████████████████████████████████████████████████████████████████████████████████████████████████████████████████████| 3/3 [00:04<00:00,  1.35s/it]\n"
     ]
    },
    {
     "name": "stdout",
     "output_type": "stream",
     "text": [
      "[Epoch 3] train loss: 17.858; train acc: 14.51; test loss: 17.867; test acc: 14.52\n",
      "TRAINING ITERATION #50/500\n"
     ]
    },
    {
     "name": "stderr",
     "output_type": "stream",
     "text": [
      " 33%|████████████████████████████████████████                                                                                | 1/3 [00:01<00:02,  1.28s/it]"
     ]
    },
    {
     "name": "stdout",
     "output_type": "stream",
     "text": [
      "[Epoch 1] train loss: 17.900; train acc: 14.51; test loss: 17.895; test acc: 14.52\n"
     ]
    },
    {
     "name": "stderr",
     "output_type": "stream",
     "text": [
      " 67%|████████████████████████████████████████████████████████████████████████████████                                        | 2/3 [00:02<00:01,  1.34s/it]"
     ]
    },
    {
     "name": "stdout",
     "output_type": "stream",
     "text": [
      "[Epoch 2] train loss: 17.912; train acc: 14.51; test loss: 17.876; test acc: 14.52\n"
     ]
    },
    {
     "name": "stderr",
     "output_type": "stream",
     "text": [
      "100%|████████████████████████████████████████████████████████████████████████████████████████████████████████████████████████| 3/3 [00:04<00:00,  1.35s/it]"
     ]
    },
    {
     "name": "stdout",
     "output_type": "stream",
     "text": [
      "[Epoch 3] train loss: 17.921; train acc: 14.51; test loss: 17.885; test acc: 14.52\n",
      "SNR: -10, 7053.187%, test BER: 0.35265934467315674                \n",
      "\n"
     ]
    },
    {
     "name": "stderr",
     "output_type": "stream",
     "text": [
      "\n"
     ]
    },
    {
     "name": "stdout",
     "output_type": "stream",
     "text": [
      "SNR: -9, 6698.867%, test BER: 0.33494332432746887                \n",
      "\n",
      "SNR: -8, 6340.400%, test BER: 0.3170199990272522                \n",
      "\n",
      "SNR: -7, 5923.013%, test BER: 0.29615065455436707                \n",
      "\n",
      "SNR: -6, 5465.867%, test BER: 0.2732933461666107                \n",
      "\n",
      "SNR: -5, 4996.347%, test BER: 0.24981732666492462                \n",
      "\n",
      "SNR: -4, 4484.827%, test BER: 0.22424133121967316                \n",
      "\n",
      "SNR: -3, 3941.480%, test BER: 0.19707399606704712                \n",
      "\n",
      "SNR: -2, 3366.373%, test BER: 0.16831867396831512                \n",
      "\n",
      "SNR: -1, 2811.547%, test BER: 0.14057733118534088                \n",
      "\n",
      "SNR: 0, 2222.427%, test BER: 0.11112133413553238                \n",
      "\n",
      "SNR: 1, 1674.560%, test BER: 0.08372800052165985                \n",
      "\n",
      "SNR: 2, 1185.733%, test BER: 0.05928666517138481                \n",
      "\n",
      "SNR: 3, 770.947%, test BER: 0.038547333329916                \n",
      "\n",
      "SNR: 4, 451.413%, test BER: 0.022570665925741196                \n",
      "\n",
      "TRAINING ITERATION #51/500\n"
     ]
    },
    {
     "name": "stderr",
     "output_type": "stream",
     "text": [
      " 33%|████████████████████████████████████████                                                                                | 1/3 [00:01<00:02,  1.34s/it]"
     ]
    },
    {
     "name": "stdout",
     "output_type": "stream",
     "text": [
      "[Epoch 1] train loss: 17.865; train acc: 14.51; test loss: 17.876; test acc: 14.51\n"
     ]
    },
    {
     "name": "stderr",
     "output_type": "stream",
     "text": [
      " 67%|████████████████████████████████████████████████████████████████████████████████                                        | 2/3 [00:02<00:01,  1.32s/it]"
     ]
    },
    {
     "name": "stdout",
     "output_type": "stream",
     "text": [
      "[Epoch 2] train loss: 17.884; train acc: 14.51; test loss: 17.873; test acc: 14.51\n"
     ]
    },
    {
     "name": "stderr",
     "output_type": "stream",
     "text": [
      "100%|████████████████████████████████████████████████████████████████████████████████████████████████████████████████████████| 3/3 [00:03<00:00,  1.32s/it]\n"
     ]
    },
    {
     "name": "stdout",
     "output_type": "stream",
     "text": [
      "[Epoch 3] train loss: 17.879; train acc: 14.51; test loss: 17.864; test acc: 14.51\n",
      "TRAINING ITERATION #52/500\n"
     ]
    },
    {
     "name": "stderr",
     "output_type": "stream",
     "text": [
      " 33%|████████████████████████████████████████                                                                                | 1/3 [00:01<00:02,  1.34s/it]"
     ]
    },
    {
     "name": "stdout",
     "output_type": "stream",
     "text": [
      "[Epoch 1] train loss: 17.858; train acc: 14.52; test loss: 17.869; test acc: 14.51\n"
     ]
    },
    {
     "name": "stderr",
     "output_type": "stream",
     "text": [
      " 67%|████████████████████████████████████████████████████████████████████████████████                                        | 2/3 [00:02<00:01,  1.33s/it]"
     ]
    },
    {
     "name": "stdout",
     "output_type": "stream",
     "text": [
      "[Epoch 2] train loss: 17.862; train acc: 14.52; test loss: 17.871; test acc: 14.51\n"
     ]
    },
    {
     "name": "stderr",
     "output_type": "stream",
     "text": [
      "100%|████████████████████████████████████████████████████████████████████████████████████████████████████████████████████████| 3/3 [00:03<00:00,  1.33s/it]\n"
     ]
    },
    {
     "name": "stdout",
     "output_type": "stream",
     "text": [
      "[Epoch 3] train loss: 17.844; train acc: 14.52; test loss: 17.854; test acc: 14.51\n",
      "TRAINING ITERATION #53/500\n"
     ]
    },
    {
     "name": "stderr",
     "output_type": "stream",
     "text": [
      " 33%|████████████████████████████████████████                                                                                | 1/3 [00:01<00:02,  1.36s/it]"
     ]
    },
    {
     "name": "stdout",
     "output_type": "stream",
     "text": [
      "[Epoch 1] train loss: 17.868; train acc: 14.51; test loss: 17.870; test acc: 14.51\n"
     ]
    },
    {
     "name": "stderr",
     "output_type": "stream",
     "text": [
      " 67%|████████████████████████████████████████████████████████████████████████████████                                        | 2/3 [00:02<00:01,  1.34s/it]"
     ]
    },
    {
     "name": "stdout",
     "output_type": "stream",
     "text": [
      "[Epoch 2] train loss: 17.876; train acc: 14.51; test loss: 17.876; test acc: 14.51\n"
     ]
    },
    {
     "name": "stderr",
     "output_type": "stream",
     "text": [
      "100%|████████████████████████████████████████████████████████████████████████████████████████████████████████████████████████| 3/3 [00:03<00:00,  1.33s/it]\n"
     ]
    },
    {
     "name": "stdout",
     "output_type": "stream",
     "text": [
      "[Epoch 3] train loss: 17.877; train acc: 14.51; test loss: 17.866; test acc: 14.51\n",
      "TRAINING ITERATION #54/500\n"
     ]
    },
    {
     "name": "stderr",
     "output_type": "stream",
     "text": [
      " 33%|████████████████████████████████████████                                                                                | 1/3 [00:01<00:02,  1.35s/it]"
     ]
    },
    {
     "name": "stdout",
     "output_type": "stream",
     "text": [
      "[Epoch 1] train loss: 17.839; train acc: 14.52; test loss: 17.862; test acc: 14.51\n"
     ]
    },
    {
     "name": "stderr",
     "output_type": "stream",
     "text": [
      " 67%|████████████████████████████████████████████████████████████████████████████████                                        | 2/3 [00:02<00:01,  1.34s/it]"
     ]
    },
    {
     "name": "stdout",
     "output_type": "stream",
     "text": [
      "[Epoch 2] train loss: 17.837; train acc: 14.52; test loss: 17.865; test acc: 14.51\n"
     ]
    },
    {
     "name": "stderr",
     "output_type": "stream",
     "text": [
      "100%|████████████████████████████████████████████████████████████████████████████████████████████████████████████████████████| 3/3 [00:03<00:00,  1.33s/it]\n"
     ]
    },
    {
     "name": "stdout",
     "output_type": "stream",
     "text": [
      "[Epoch 3] train loss: 17.830; train acc: 14.52; test loss: 17.845; test acc: 14.51\n",
      "TRAINING ITERATION #55/500\n"
     ]
    },
    {
     "name": "stderr",
     "output_type": "stream",
     "text": [
      " 33%|████████████████████████████████████████                                                                                | 1/3 [00:01<00:02,  1.34s/it]"
     ]
    },
    {
     "name": "stdout",
     "output_type": "stream",
     "text": [
      "[Epoch 1] train loss: 17.865; train acc: 14.52; test loss: 17.837; test acc: 14.52\n"
     ]
    },
    {
     "name": "stderr",
     "output_type": "stream",
     "text": [
      " 67%|████████████████████████████████████████████████████████████████████████████████                                        | 2/3 [00:02<00:01,  1.33s/it]"
     ]
    },
    {
     "name": "stdout",
     "output_type": "stream",
     "text": [
      "[Epoch 2] train loss: 17.877; train acc: 14.52; test loss: 17.828; test acc: 14.52\n"
     ]
    },
    {
     "name": "stderr",
     "output_type": "stream",
     "text": [
      "100%|████████████████████████████████████████████████████████████████████████████████████████████████████████████████████████| 3/3 [00:03<00:00,  1.32s/it]"
     ]
    },
    {
     "name": "stdout",
     "output_type": "stream",
     "text": [
      "[Epoch 3] train loss: 17.868; train acc: 14.52; test loss: 17.829; test acc: 14.52\n",
      "SNR: -10, 7044.760%, test BER: 0.3522379994392395                \n",
      "\n"
     ]
    },
    {
     "name": "stderr",
     "output_type": "stream",
     "text": [
      "\n"
     ]
    },
    {
     "name": "stdout",
     "output_type": "stream",
     "text": [
      "SNR: -9, 6711.320%, test BER: 0.3355660140514374                \n",
      "\n",
      "SNR: -8, 6332.320%, test BER: 0.3166159987449646                \n",
      "\n",
      "SNR: -7, 5924.627%, test BER: 0.29623132944107056                \n",
      "\n",
      "SNR: -6, 5458.000%, test BER: 0.2728999853134155                \n",
      "\n",
      "SNR: -5, 4996.267%, test BER: 0.24981333315372467                \n",
      "\n",
      "SNR: -4, 4496.000%, test BER: 0.2248000055551529                \n",
      "\n",
      "SNR: -3, 3947.040%, test BER: 0.19735200703144073                \n",
      "\n",
      "SNR: -2, 3374.280%, test BER: 0.1687140017747879                \n",
      "\n",
      "SNR: -1, 2803.587%, test BER: 0.1401793360710144                \n",
      "\n",
      "SNR: 0, 2224.920%, test BER: 0.11124599725008011                \n",
      "\n",
      "SNR: 1, 1680.867%, test BER: 0.08404333144426346                \n",
      "\n",
      "SNR: 2, 1184.560%, test BER: 0.05922799929976463                \n",
      "\n",
      "SNR: 3, 770.000%, test BER: 0.03849999979138374                \n",
      "\n",
      "SNR: 4, 453.347%, test BER: 0.022667333483695984                \n",
      "\n",
      "TRAINING ITERATION #56/500\n"
     ]
    },
    {
     "name": "stderr",
     "output_type": "stream",
     "text": [
      " 33%|████████████████████████████████████████                                                                                | 1/3 [00:01<00:02,  1.29s/it]"
     ]
    },
    {
     "name": "stdout",
     "output_type": "stream",
     "text": [
      "[Epoch 1] train loss: 17.902; train acc: 14.52; test loss: 17.863; test acc: 14.52\n"
     ]
    },
    {
     "name": "stderr",
     "output_type": "stream",
     "text": [
      " 67%|████████████████████████████████████████████████████████████████████████████████                                        | 2/3 [00:02<00:01,  1.30s/it]"
     ]
    },
    {
     "name": "stdout",
     "output_type": "stream",
     "text": [
      "[Epoch 2] train loss: 17.900; train acc: 14.52; test loss: 17.859; test acc: 14.52\n"
     ]
    },
    {
     "name": "stderr",
     "output_type": "stream",
     "text": [
      "100%|████████████████████████████████████████████████████████████████████████████████████████████████████████████████████████| 3/3 [00:03<00:00,  1.33s/it]\n"
     ]
    },
    {
     "name": "stdout",
     "output_type": "stream",
     "text": [
      "[Epoch 3] train loss: 17.883; train acc: 14.52; test loss: 17.865; test acc: 14.52\n",
      "TRAINING ITERATION #57/500\n"
     ]
    },
    {
     "name": "stderr",
     "output_type": "stream",
     "text": [
      " 33%|████████████████████████████████████████                                                                                | 1/3 [00:01<00:02,  1.29s/it]"
     ]
    },
    {
     "name": "stdout",
     "output_type": "stream",
     "text": [
      "[Epoch 1] train loss: 17.864; train acc: 14.52; test loss: 17.851; test acc: 14.51\n"
     ]
    },
    {
     "name": "stderr",
     "output_type": "stream",
     "text": [
      " 67%|████████████████████████████████████████████████████████████████████████████████                                        | 2/3 [00:02<00:01,  1.31s/it]"
     ]
    },
    {
     "name": "stdout",
     "output_type": "stream",
     "text": [
      "[Epoch 2] train loss: 17.857; train acc: 14.52; test loss: 17.846; test acc: 14.51\n"
     ]
    },
    {
     "name": "stderr",
     "output_type": "stream",
     "text": [
      "100%|████████████████████████████████████████████████████████████████████████████████████████████████████████████████████████| 3/3 [00:04<00:00,  1.33s/it]\n"
     ]
    },
    {
     "name": "stdout",
     "output_type": "stream",
     "text": [
      "[Epoch 3] train loss: 17.850; train acc: 14.52; test loss: 17.849; test acc: 14.51\n",
      "TRAINING ITERATION #58/500\n"
     ]
    },
    {
     "name": "stderr",
     "output_type": "stream",
     "text": [
      " 33%|████████████████████████████████████████                                                                                | 1/3 [00:01<00:02,  1.29s/it]"
     ]
    },
    {
     "name": "stdout",
     "output_type": "stream",
     "text": [
      "[Epoch 1] train loss: 17.859; train acc: 14.52; test loss: 17.879; test acc: 14.51\n"
     ]
    },
    {
     "name": "stderr",
     "output_type": "stream",
     "text": [
      " 67%|████████████████████████████████████████████████████████████████████████████████                                        | 2/3 [00:02<00:01,  1.31s/it]"
     ]
    },
    {
     "name": "stdout",
     "output_type": "stream",
     "text": [
      "[Epoch 2] train loss: 17.855; train acc: 14.52; test loss: 17.866; test acc: 14.51\n"
     ]
    },
    {
     "name": "stderr",
     "output_type": "stream",
     "text": [
      "100%|████████████████████████████████████████████████████████████████████████████████████████████████████████████████████████| 3/3 [00:03<00:00,  1.33s/it]\n"
     ]
    },
    {
     "name": "stdout",
     "output_type": "stream",
     "text": [
      "[Epoch 3] train loss: 17.849; train acc: 14.52; test loss: 17.870; test acc: 14.51\n",
      "TRAINING ITERATION #59/500\n"
     ]
    },
    {
     "name": "stderr",
     "output_type": "stream",
     "text": [
      " 33%|████████████████████████████████████████                                                                                | 1/3 [00:01<00:02,  1.34s/it]"
     ]
    },
    {
     "name": "stdout",
     "output_type": "stream",
     "text": [
      "[Epoch 1] train loss: 17.844; train acc: 14.51; test loss: 17.863; test acc: 14.52\n"
     ]
    },
    {
     "name": "stderr",
     "output_type": "stream",
     "text": [
      " 67%|████████████████████████████████████████████████████████████████████████████████                                        | 2/3 [00:02<00:01,  1.36s/it]"
     ]
    },
    {
     "name": "stdout",
     "output_type": "stream",
     "text": [
      "[Epoch 2] train loss: 17.838; train acc: 14.51; test loss: 17.889; test acc: 14.52\n"
     ]
    },
    {
     "name": "stderr",
     "output_type": "stream",
     "text": [
      "100%|████████████████████████████████████████████████████████████████████████████████████████████████████████████████████████| 3/3 [00:04<00:00,  1.37s/it]\n"
     ]
    },
    {
     "name": "stdout",
     "output_type": "stream",
     "text": [
      "[Epoch 3] train loss: 17.854; train acc: 14.51; test loss: 17.883; test acc: 14.52\n",
      "TRAINING ITERATION #60/500\n"
     ]
    },
    {
     "name": "stderr",
     "output_type": "stream",
     "text": [
      " 33%|████████████████████████████████████████                                                                                | 1/3 [00:01<00:02,  1.29s/it]"
     ]
    },
    {
     "name": "stdout",
     "output_type": "stream",
     "text": [
      "[Epoch 1] train loss: 17.899; train acc: 14.53; test loss: 17.835; test acc: 14.52\n"
     ]
    },
    {
     "name": "stderr",
     "output_type": "stream",
     "text": [
      " 67%|████████████████████████████████████████████████████████████████████████████████                                        | 2/3 [00:02<00:01,  1.30s/it]"
     ]
    },
    {
     "name": "stdout",
     "output_type": "stream",
     "text": [
      "[Epoch 2] train loss: 17.890; train acc: 14.53; test loss: 17.843; test acc: 14.52\n"
     ]
    },
    {
     "name": "stderr",
     "output_type": "stream",
     "text": [
      "100%|████████████████████████████████████████████████████████████████████████████████████████████████████████████████████████| 3/3 [00:03<00:00,  1.33s/it]"
     ]
    },
    {
     "name": "stdout",
     "output_type": "stream",
     "text": [
      "[Epoch 3] train loss: 17.914; train acc: 14.53; test loss: 17.852; test acc: 14.52\n",
      "SNR: -10, 7055.053%, test BER: 0.3527526557445526                \n",
      "\n"
     ]
    },
    {
     "name": "stderr",
     "output_type": "stream",
     "text": [
      "\n"
     ]
    },
    {
     "name": "stdout",
     "output_type": "stream",
     "text": [
      "SNR: -9, 6700.000%, test BER: 0.33500000834465027                \n",
      "\n",
      "SNR: -8, 6325.600%, test BER: 0.3162800073623657                \n",
      "\n",
      "SNR: -7, 5921.680%, test BER: 0.2960839867591858                \n",
      "\n",
      "SNR: -6, 5475.667%, test BER: 0.2737833261489868                \n",
      "\n",
      "SNR: -5, 4991.480%, test BER: 0.24957400560379028                \n",
      "\n",
      "SNR: -4, 4489.467%, test BER: 0.22447332739830017                \n",
      "\n",
      "SNR: -3, 3950.760%, test BER: 0.19753800332546234                \n",
      "\n",
      "SNR: -2, 3377.227%, test BER: 0.16886132955551147                \n",
      "\n",
      "SNR: -1, 2781.760%, test BER: 0.1390880048274994                \n",
      "\n",
      "SNR: 0, 2219.400%, test BER: 0.11096999794244766                \n",
      "\n",
      "SNR: 1, 1677.000%, test BER: 0.08384999632835388                \n",
      "\n",
      "SNR: 2, 1180.627%, test BER: 0.05903133377432823                \n",
      "\n",
      "SNR: 3, 774.640%, test BER: 0.038731999695301056                \n",
      "\n",
      "SNR: 4, 448.667%, test BER: 0.022433333098888397                \n",
      "\n",
      "TRAINING ITERATION #61/500\n"
     ]
    },
    {
     "name": "stderr",
     "output_type": "stream",
     "text": [
      " 33%|████████████████████████████████████████                                                                                | 1/3 [00:01<00:02,  1.30s/it]"
     ]
    },
    {
     "name": "stdout",
     "output_type": "stream",
     "text": [
      "[Epoch 1] train loss: 17.886; train acc: 14.52; test loss: 17.848; test acc: 14.52\n"
     ]
    },
    {
     "name": "stderr",
     "output_type": "stream",
     "text": [
      " 67%|████████████████████████████████████████████████████████████████████████████████                                        | 2/3 [00:02<00:01,  1.31s/it]"
     ]
    },
    {
     "name": "stdout",
     "output_type": "stream",
     "text": [
      "[Epoch 2] train loss: 17.876; train acc: 14.52; test loss: 17.849; test acc: 14.52\n"
     ]
    },
    {
     "name": "stderr",
     "output_type": "stream",
     "text": [
      "100%|████████████████████████████████████████████████████████████████████████████████████████████████████████████████████████| 3/3 [00:04<00:00,  1.33s/it]\n"
     ]
    },
    {
     "name": "stdout",
     "output_type": "stream",
     "text": [
      "[Epoch 3] train loss: 17.880; train acc: 14.52; test loss: 17.853; test acc: 14.52\n",
      "TRAINING ITERATION #62/500\n"
     ]
    },
    {
     "name": "stderr",
     "output_type": "stream",
     "text": [
      " 33%|████████████████████████████████████████                                                                                | 1/3 [00:01<00:02,  1.30s/it]"
     ]
    },
    {
     "name": "stdout",
     "output_type": "stream",
     "text": [
      "[Epoch 1] train loss: 17.901; train acc: 14.52; test loss: 17.861; test acc: 14.53\n"
     ]
    },
    {
     "name": "stderr",
     "output_type": "stream",
     "text": [
      " 67%|████████████████████████████████████████████████████████████████████████████████                                        | 2/3 [00:02<00:01,  1.30s/it]"
     ]
    },
    {
     "name": "stdout",
     "output_type": "stream",
     "text": [
      "[Epoch 2] train loss: 17.896; train acc: 14.52; test loss: 17.876; test acc: 14.53\n"
     ]
    },
    {
     "name": "stderr",
     "output_type": "stream",
     "text": [
      "100%|████████████████████████████████████████████████████████████████████████████████████████████████████████████████████████| 3/3 [00:03<00:00,  1.33s/it]\n"
     ]
    },
    {
     "name": "stdout",
     "output_type": "stream",
     "text": [
      "[Epoch 3] train loss: 17.900; train acc: 14.52; test loss: 17.876; test acc: 14.53\n",
      "TRAINING ITERATION #63/500\n"
     ]
    },
    {
     "name": "stderr",
     "output_type": "stream",
     "text": [
      " 33%|████████████████████████████████████████                                                                                | 1/3 [00:01<00:02,  1.30s/it]"
     ]
    },
    {
     "name": "stdout",
     "output_type": "stream",
     "text": [
      "[Epoch 1] train loss: 17.855; train acc: 14.51; test loss: 17.866; test acc: 14.52\n"
     ]
    },
    {
     "name": "stderr",
     "output_type": "stream",
     "text": [
      " 67%|████████████████████████████████████████████████████████████████████████████████                                        | 2/3 [00:02<00:01,  1.30s/it]"
     ]
    },
    {
     "name": "stdout",
     "output_type": "stream",
     "text": [
      "[Epoch 2] train loss: 17.866; train acc: 14.51; test loss: 17.858; test acc: 14.52\n"
     ]
    },
    {
     "name": "stderr",
     "output_type": "stream",
     "text": [
      "100%|████████████████████████████████████████████████████████████████████████████████████████████████████████████████████████| 3/3 [00:03<00:00,  1.32s/it]\n"
     ]
    },
    {
     "name": "stdout",
     "output_type": "stream",
     "text": [
      "[Epoch 3] train loss: 17.846; train acc: 14.51; test loss: 17.844; test acc: 14.52\n",
      "TRAINING ITERATION #64/500\n"
     ]
    },
    {
     "name": "stderr",
     "output_type": "stream",
     "text": [
      " 33%|████████████████████████████████████████                                                                                | 1/3 [00:01<00:02,  1.31s/it]"
     ]
    },
    {
     "name": "stdout",
     "output_type": "stream",
     "text": [
      "[Epoch 1] train loss: 17.883; train acc: 14.52; test loss: 17.855; test acc: 14.51\n"
     ]
    },
    {
     "name": "stderr",
     "output_type": "stream",
     "text": [
      " 67%|████████████████████████████████████████████████████████████████████████████████                                        | 2/3 [00:02<00:01,  1.34s/it]"
     ]
    },
    {
     "name": "stdout",
     "output_type": "stream",
     "text": [
      "[Epoch 2] train loss: 17.865; train acc: 14.52; test loss: 17.870; test acc: 14.51\n"
     ]
    },
    {
     "name": "stderr",
     "output_type": "stream",
     "text": [
      "100%|████████████████████████████████████████████████████████████████████████████████████████████████████████████████████████| 3/3 [00:03<00:00,  1.32s/it]\n"
     ]
    },
    {
     "name": "stdout",
     "output_type": "stream",
     "text": [
      "[Epoch 3] train loss: 17.867; train acc: 14.52; test loss: 17.866; test acc: 14.51\n",
      "TRAINING ITERATION #65/500\n"
     ]
    },
    {
     "name": "stderr",
     "output_type": "stream",
     "text": [
      " 33%|████████████████████████████████████████                                                                                | 1/3 [00:01<00:02,  1.32s/it]"
     ]
    },
    {
     "name": "stdout",
     "output_type": "stream",
     "text": [
      "[Epoch 1] train loss: 17.870; train acc: 14.52; test loss: 17.878; test acc: 14.52\n"
     ]
    },
    {
     "name": "stderr",
     "output_type": "stream",
     "text": [
      " 67%|████████████████████████████████████████████████████████████████████████████████                                        | 2/3 [00:02<00:01,  1.30s/it]"
     ]
    },
    {
     "name": "stdout",
     "output_type": "stream",
     "text": [
      "[Epoch 2] train loss: 17.866; train acc: 14.52; test loss: 17.879; test acc: 14.52\n"
     ]
    },
    {
     "name": "stderr",
     "output_type": "stream",
     "text": [
      "100%|████████████████████████████████████████████████████████████████████████████████████████████████████████████████████████| 3/3 [00:03<00:00,  1.33s/it]"
     ]
    },
    {
     "name": "stdout",
     "output_type": "stream",
     "text": [
      "[Epoch 3] train loss: 17.873; train acc: 14.52; test loss: 17.891; test acc: 14.52\n",
      "SNR: -10, 7049.934%, test BER: 0.3524966537952423                \n",
      "\n"
     ]
    },
    {
     "name": "stderr",
     "output_type": "stream",
     "text": [
      "\n"
     ]
    },
    {
     "name": "stdout",
     "output_type": "stream",
     "text": [
      "SNR: -9, 6707.560%, test BER: 0.3353779911994934                \n",
      "\n",
      "SNR: -8, 6339.027%, test BER: 0.31695133447647095                \n",
      "\n",
      "SNR: -7, 5925.454%, test BER: 0.2962726652622223                \n",
      "\n",
      "SNR: -6, 5488.040%, test BER: 0.274401992559433                \n",
      "\n",
      "SNR: -5, 4991.813%, test BER: 0.249590665102005                \n",
      "\n",
      "SNR: -4, 4478.720%, test BER: 0.22393600642681122                \n",
      "\n",
      "SNR: -3, 3955.587%, test BER: 0.1977793276309967                \n",
      "\n",
      "SNR: -2, 3377.333%, test BER: 0.16886666417121887                \n",
      "\n",
      "SNR: -1, 2799.307%, test BER: 0.13996534049510956                \n",
      "\n",
      "SNR: 0, 2220.093%, test BER: 0.11100466549396515                \n",
      "\n",
      "SNR: 1, 1680.347%, test BER: 0.08401733636856079                \n",
      "\n",
      "SNR: 2, 1177.880%, test BER: 0.05889400094747543                \n",
      "\n",
      "SNR: 3, 762.853%, test BER: 0.03814266622066498                \n",
      "\n",
      "SNR: 4, 449.893%, test BER: 0.022494666278362274                \n",
      "\n",
      "TRAINING ITERATION #66/500\n"
     ]
    },
    {
     "name": "stderr",
     "output_type": "stream",
     "text": [
      " 33%|████████████████████████████████████████                                                                                | 1/3 [00:01<00:02,  1.31s/it]"
     ]
    },
    {
     "name": "stdout",
     "output_type": "stream",
     "text": [
      "[Epoch 1] train loss: 17.851; train acc: 14.52; test loss: 17.861; test acc: 14.52\n"
     ]
    },
    {
     "name": "stderr",
     "output_type": "stream",
     "text": [
      " 67%|████████████████████████████████████████████████████████████████████████████████                                        | 2/3 [00:02<00:01,  1.36s/it]"
     ]
    },
    {
     "name": "stdout",
     "output_type": "stream",
     "text": [
      "[Epoch 2] train loss: 17.834; train acc: 14.52; test loss: 17.863; test acc: 14.52\n"
     ]
    },
    {
     "name": "stderr",
     "output_type": "stream",
     "text": [
      "100%|████████████████████████████████████████████████████████████████████████████████████████████████████████████████████████| 3/3 [00:04<00:00,  1.34s/it]\n"
     ]
    },
    {
     "name": "stdout",
     "output_type": "stream",
     "text": [
      "[Epoch 3] train loss: 17.834; train acc: 14.52; test loss: 17.871; test acc: 14.52\n",
      "TRAINING ITERATION #67/500\n"
     ]
    },
    {
     "name": "stderr",
     "output_type": "stream",
     "text": [
      " 33%|████████████████████████████████████████                                                                                | 1/3 [00:01<00:02,  1.29s/it]"
     ]
    },
    {
     "name": "stdout",
     "output_type": "stream",
     "text": [
      "[Epoch 1] train loss: 17.847; train acc: 14.52; test loss: 17.902; test acc: 14.52\n"
     ]
    },
    {
     "name": "stderr",
     "output_type": "stream",
     "text": [
      " 67%|████████████████████████████████████████████████████████████████████████████████                                        | 2/3 [00:02<00:01,  1.34s/it]"
     ]
    },
    {
     "name": "stdout",
     "output_type": "stream",
     "text": [
      "[Epoch 2] train loss: 17.835; train acc: 14.52; test loss: 17.872; test acc: 14.52\n"
     ]
    },
    {
     "name": "stderr",
     "output_type": "stream",
     "text": [
      "100%|████████████████████████████████████████████████████████████████████████████████████████████████████████████████████████| 3/3 [00:04<00:00,  1.33s/it]\n"
     ]
    },
    {
     "name": "stdout",
     "output_type": "stream",
     "text": [
      "[Epoch 3] train loss: 17.838; train acc: 14.52; test loss: 17.892; test acc: 14.52\n",
      "TRAINING ITERATION #68/500\n"
     ]
    },
    {
     "name": "stderr",
     "output_type": "stream",
     "text": [
      " 33%|████████████████████████████████████████                                                                                | 1/3 [00:01<00:02,  1.30s/it]"
     ]
    },
    {
     "name": "stdout",
     "output_type": "stream",
     "text": [
      "[Epoch 1] train loss: 17.822; train acc: 14.52; test loss: 17.868; test acc: 14.52\n"
     ]
    },
    {
     "name": "stderr",
     "output_type": "stream",
     "text": [
      " 67%|████████████████████████████████████████████████████████████████████████████████                                        | 2/3 [00:02<00:01,  1.36s/it]"
     ]
    },
    {
     "name": "stdout",
     "output_type": "stream",
     "text": [
      "[Epoch 2] train loss: 17.820; train acc: 14.52; test loss: 17.861; test acc: 14.52\n"
     ]
    },
    {
     "name": "stderr",
     "output_type": "stream",
     "text": [
      "100%|████████████████████████████████████████████████████████████████████████████████████████████████████████████████████████| 3/3 [00:04<00:00,  1.34s/it]\n"
     ]
    },
    {
     "name": "stdout",
     "output_type": "stream",
     "text": [
      "[Epoch 3] train loss: 17.811; train acc: 14.52; test loss: 17.860; test acc: 14.52\n",
      "TRAINING ITERATION #69/500\n"
     ]
    },
    {
     "name": "stderr",
     "output_type": "stream",
     "text": [
      " 33%|████████████████████████████████████████                                                                                | 1/3 [00:01<00:02,  1.29s/it]"
     ]
    },
    {
     "name": "stdout",
     "output_type": "stream",
     "text": [
      "[Epoch 1] train loss: 17.838; train acc: 14.52; test loss: 17.873; test acc: 14.52\n"
     ]
    },
    {
     "name": "stderr",
     "output_type": "stream",
     "text": [
      " 67%|████████████████████████████████████████████████████████████████████████████████                                        | 2/3 [00:02<00:01,  1.33s/it]"
     ]
    },
    {
     "name": "stdout",
     "output_type": "stream",
     "text": [
      "[Epoch 2] train loss: 17.855; train acc: 14.52; test loss: 17.857; test acc: 14.52\n"
     ]
    },
    {
     "name": "stderr",
     "output_type": "stream",
     "text": [
      "100%|████████████████████████████████████████████████████████████████████████████████████████████████████████████████████████| 3/3 [00:03<00:00,  1.32s/it]\n"
     ]
    },
    {
     "name": "stdout",
     "output_type": "stream",
     "text": [
      "[Epoch 3] train loss: 17.851; train acc: 14.52; test loss: 17.880; test acc: 14.52\n",
      "TRAINING ITERATION #70/500\n"
     ]
    },
    {
     "name": "stderr",
     "output_type": "stream",
     "text": [
      " 33%|████████████████████████████████████████                                                                                | 1/3 [00:01<00:02,  1.29s/it]"
     ]
    },
    {
     "name": "stdout",
     "output_type": "stream",
     "text": [
      "[Epoch 1] train loss: 17.831; train acc: 14.52; test loss: 17.846; test acc: 14.52\n"
     ]
    },
    {
     "name": "stderr",
     "output_type": "stream",
     "text": [
      " 67%|████████████████████████████████████████████████████████████████████████████████                                        | 2/3 [00:02<00:01,  1.33s/it]"
     ]
    },
    {
     "name": "stdout",
     "output_type": "stream",
     "text": [
      "[Epoch 2] train loss: 17.837; train acc: 14.52; test loss: 17.845; test acc: 14.52\n"
     ]
    },
    {
     "name": "stderr",
     "output_type": "stream",
     "text": [
      "100%|████████████████████████████████████████████████████████████████████████████████████████████████████████████████████████| 3/3 [00:03<00:00,  1.33s/it]"
     ]
    },
    {
     "name": "stdout",
     "output_type": "stream",
     "text": [
      "[Epoch 3] train loss: 17.833; train acc: 14.52; test loss: 17.842; test acc: 14.52\n",
      "SNR: -10, 7047.653%, test BER: 0.3523826599121094                \n",
      "\n"
     ]
    },
    {
     "name": "stderr",
     "output_type": "stream",
     "text": [
      "\n"
     ]
    },
    {
     "name": "stdout",
     "output_type": "stream",
     "text": [
      "SNR: -9, 6703.880%, test BER: 0.3351939916610718                \n",
      "\n",
      "SNR: -8, 6335.854%, test BER: 0.31679266691207886                \n",
      "\n",
      "SNR: -7, 5923.987%, test BER: 0.29619932174682617                \n",
      "\n",
      "SNR: -6, 5470.146%, test BER: 0.27350732684135437                \n",
      "\n",
      "SNR: -5, 5002.840%, test BER: 0.25014200806617737                \n",
      "\n",
      "SNR: -4, 4509.773%, test BER: 0.22548866271972656                \n",
      "\n",
      "SNR: -3, 3951.240%, test BER: 0.19756199419498444                \n",
      "\n",
      "SNR: -2, 3375.227%, test BER: 0.16876132786273956                \n",
      "\n",
      "SNR: -1, 2806.760%, test BER: 0.1403380036354065                \n",
      "\n",
      "SNR: 0, 2211.640%, test BER: 0.11058200150728226                \n",
      "\n",
      "SNR: 1, 1667.333%, test BER: 0.08336666971445084                \n",
      "\n",
      "SNR: 2, 1179.427%, test BER: 0.058971334248781204                \n",
      "\n",
      "SNR: 3, 766.880%, test BER: 0.03834399953484535                \n",
      "\n",
      "SNR: 4, 447.200%, test BER: 0.022360000759363174                \n",
      "\n",
      "TRAINING ITERATION #71/500\n"
     ]
    },
    {
     "name": "stderr",
     "output_type": "stream",
     "text": [
      " 33%|████████████████████████████████████████                                                                                | 1/3 [00:01<00:02,  1.35s/it]"
     ]
    },
    {
     "name": "stdout",
     "output_type": "stream",
     "text": [
      "[Epoch 1] train loss: 17.862; train acc: 14.52; test loss: 17.882; test acc: 14.52\n"
     ]
    },
    {
     "name": "stderr",
     "output_type": "stream",
     "text": [
      " 67%|████████████████████████████████████████████████████████████████████████████████                                        | 2/3 [00:02<00:01,  1.33s/it]"
     ]
    },
    {
     "name": "stdout",
     "output_type": "stream",
     "text": [
      "[Epoch 2] train loss: 17.854; train acc: 14.52; test loss: 17.883; test acc: 14.53\n"
     ]
    },
    {
     "name": "stderr",
     "output_type": "stream",
     "text": [
      "100%|████████████████████████████████████████████████████████████████████████████████████████████████████████████████████████| 3/3 [00:03<00:00,  1.33s/it]\n"
     ]
    },
    {
     "name": "stdout",
     "output_type": "stream",
     "text": [
      "[Epoch 3] train loss: 17.856; train acc: 14.52; test loss: 17.882; test acc: 14.53\n",
      "TRAINING ITERATION #72/500\n"
     ]
    },
    {
     "name": "stderr",
     "output_type": "stream",
     "text": [
      " 33%|████████████████████████████████████████                                                                                | 1/3 [00:01<00:02,  1.35s/it]"
     ]
    },
    {
     "name": "stdout",
     "output_type": "stream",
     "text": [
      "[Epoch 1] train loss: 17.862; train acc: 14.52; test loss: 17.872; test acc: 14.52\n"
     ]
    },
    {
     "name": "stderr",
     "output_type": "stream",
     "text": [
      " 67%|████████████████████████████████████████████████████████████████████████████████                                        | 2/3 [00:02<00:01,  1.32s/it]"
     ]
    },
    {
     "name": "stdout",
     "output_type": "stream",
     "text": [
      "[Epoch 2] train loss: 17.851; train acc: 14.52; test loss: 17.865; test acc: 14.52\n"
     ]
    },
    {
     "name": "stderr",
     "output_type": "stream",
     "text": [
      "100%|████████████████████████████████████████████████████████████████████████████████████████████████████████████████████████| 3/3 [00:03<00:00,  1.32s/it]\n"
     ]
    },
    {
     "name": "stdout",
     "output_type": "stream",
     "text": [
      "[Epoch 3] train loss: 17.868; train acc: 14.52; test loss: 17.861; test acc: 14.52\n",
      "TRAINING ITERATION #73/500\n"
     ]
    },
    {
     "name": "stderr",
     "output_type": "stream",
     "text": [
      " 33%|████████████████████████████████████████                                                                                | 1/3 [00:01<00:02,  1.36s/it]"
     ]
    },
    {
     "name": "stdout",
     "output_type": "stream",
     "text": [
      "[Epoch 1] train loss: 17.902; train acc: 14.52; test loss: 17.872; test acc: 14.51\n"
     ]
    },
    {
     "name": "stderr",
     "output_type": "stream",
     "text": [
      " 67%|████████████████████████████████████████████████████████████████████████████████                                        | 2/3 [00:02<00:01,  1.33s/it]"
     ]
    },
    {
     "name": "stdout",
     "output_type": "stream",
     "text": [
      "[Epoch 2] train loss: 17.892; train acc: 14.52; test loss: 17.867; test acc: 14.51\n"
     ]
    },
    {
     "name": "stderr",
     "output_type": "stream",
     "text": [
      "100%|████████████████████████████████████████████████████████████████████████████████████████████████████████████████████████| 3/3 [00:03<00:00,  1.33s/it]\n"
     ]
    },
    {
     "name": "stdout",
     "output_type": "stream",
     "text": [
      "[Epoch 3] train loss: 17.894; train acc: 14.52; test loss: 17.861; test acc: 14.51\n",
      "TRAINING ITERATION #74/500\n"
     ]
    },
    {
     "name": "stderr",
     "output_type": "stream",
     "text": [
      " 33%|████████████████████████████████████████                                                                                | 1/3 [00:01<00:02,  1.29s/it]"
     ]
    },
    {
     "name": "stdout",
     "output_type": "stream",
     "text": [
      "[Epoch 1] train loss: 17.875; train acc: 14.52; test loss: 17.864; test acc: 14.52\n"
     ]
    },
    {
     "name": "stderr",
     "output_type": "stream",
     "text": [
      " 67%|████████████████████████████████████████████████████████████████████████████████                                        | 2/3 [00:02<00:01,  1.34s/it]"
     ]
    },
    {
     "name": "stdout",
     "output_type": "stream",
     "text": [
      "[Epoch 2] train loss: 17.882; train acc: 14.52; test loss: 17.854; test acc: 14.52\n"
     ]
    },
    {
     "name": "stderr",
     "output_type": "stream",
     "text": [
      "100%|████████████████████████████████████████████████████████████████████████████████████████████████████████████████████████| 3/3 [00:04<00:00,  1.33s/it]\n"
     ]
    },
    {
     "name": "stdout",
     "output_type": "stream",
     "text": [
      "[Epoch 3] train loss: 17.870; train acc: 14.52; test loss: 17.855; test acc: 14.52\n",
      "TRAINING ITERATION #75/500\n"
     ]
    },
    {
     "name": "stderr",
     "output_type": "stream",
     "text": [
      " 33%|████████████████████████████████████████                                                                                | 1/3 [00:01<00:02,  1.29s/it]"
     ]
    },
    {
     "name": "stdout",
     "output_type": "stream",
     "text": [
      "[Epoch 1] train loss: 17.865; train acc: 14.52; test loss: 17.865; test acc: 14.53\n"
     ]
    },
    {
     "name": "stderr",
     "output_type": "stream",
     "text": [
      " 67%|████████████████████████████████████████████████████████████████████████████████                                        | 2/3 [00:02<00:01,  1.33s/it]"
     ]
    },
    {
     "name": "stdout",
     "output_type": "stream",
     "text": [
      "[Epoch 2] train loss: 17.866; train acc: 14.52; test loss: 17.871; test acc: 14.53\n"
     ]
    },
    {
     "name": "stderr",
     "output_type": "stream",
     "text": [
      "100%|████████████████████████████████████████████████████████████████████████████████████████████████████████████████████████| 3/3 [00:03<00:00,  1.33s/it]"
     ]
    },
    {
     "name": "stdout",
     "output_type": "stream",
     "text": [
      "[Epoch 3] train loss: 17.858; train acc: 14.52; test loss: 17.848; test acc: 14.53\n",
      "SNR: -10, 7044.467%, test BER: 0.35222333669662476                \n",
      "\n"
     ]
    },
    {
     "name": "stderr",
     "output_type": "stream",
     "text": [
      "\n"
     ]
    },
    {
     "name": "stdout",
     "output_type": "stream",
     "text": [
      "SNR: -9, 6702.507%, test BER: 0.3351253271102905                \n",
      "\n",
      "SNR: -8, 6334.480%, test BER: 0.3167240023612976                \n",
      "\n",
      "SNR: -7, 5925.507%, test BER: 0.2962753474712372                \n",
      "\n",
      "SNR: -6, 5465.934%, test BER: 0.27329665422439575                \n",
      "\n",
      "SNR: -5, 4993.267%, test BER: 0.2496633380651474                \n",
      "\n",
      "SNR: -4, 4497.400%, test BER: 0.2248699963092804                \n",
      "\n",
      "SNR: -3, 3938.200%, test BER: 0.19690999388694763                \n",
      "\n",
      "SNR: -2, 3372.973%, test BER: 0.16864866018295288                \n",
      "\n",
      "SNR: -1, 2796.987%, test BER: 0.13984933495521545                \n",
      "\n",
      "SNR: 0, 2215.507%, test BER: 0.11077533662319183                \n",
      "\n",
      "SNR: 1, 1678.773%, test BER: 0.08393866568803787                \n",
      "\n",
      "SNR: 2, 1173.733%, test BER: 0.05868666619062424                \n",
      "\n",
      "SNR: 3, 758.693%, test BER: 0.037934668362140656                \n",
      "\n",
      "SNR: 4, 446.880%, test BER: 0.02234400063753128                \n",
      "\n",
      "TRAINING ITERATION #76/500\n"
     ]
    },
    {
     "name": "stderr",
     "output_type": "stream",
     "text": [
      " 33%|████████████████████████████████████████                                                                                | 1/3 [00:01<00:02,  1.31s/it]"
     ]
    },
    {
     "name": "stdout",
     "output_type": "stream",
     "text": [
      "[Epoch 1] train loss: 17.861; train acc: 14.52; test loss: 17.853; test acc: 14.52\n"
     ]
    },
    {
     "name": "stderr",
     "output_type": "stream",
     "text": [
      " 67%|████████████████████████████████████████████████████████████████████████████████                                        | 2/3 [00:02<00:01,  1.34s/it]"
     ]
    },
    {
     "name": "stdout",
     "output_type": "stream",
     "text": [
      "[Epoch 2] train loss: 17.840; train acc: 14.52; test loss: 17.856; test acc: 14.52\n"
     ]
    },
    {
     "name": "stderr",
     "output_type": "stream",
     "text": [
      "100%|████████████████████████████████████████████████████████████████████████████████████████████████████████████████████████| 3/3 [00:03<00:00,  1.33s/it]\n"
     ]
    },
    {
     "name": "stdout",
     "output_type": "stream",
     "text": [
      "[Epoch 3] train loss: 17.862; train acc: 14.52; test loss: 17.863; test acc: 14.52\n",
      "TRAINING ITERATION #77/500\n"
     ]
    },
    {
     "name": "stderr",
     "output_type": "stream",
     "text": [
      " 33%|████████████████████████████████████████                                                                                | 1/3 [00:01<00:02,  1.30s/it]"
     ]
    },
    {
     "name": "stdout",
     "output_type": "stream",
     "text": [
      "[Epoch 1] train loss: 17.841; train acc: 14.52; test loss: 17.860; test acc: 14.52\n"
     ]
    },
    {
     "name": "stderr",
     "output_type": "stream",
     "text": [
      " 67%|████████████████████████████████████████████████████████████████████████████████                                        | 2/3 [00:02<00:01,  1.34s/it]"
     ]
    },
    {
     "name": "stdout",
     "output_type": "stream",
     "text": [
      "[Epoch 2] train loss: 17.862; train acc: 14.52; test loss: 17.853; test acc: 14.52\n"
     ]
    },
    {
     "name": "stderr",
     "output_type": "stream",
     "text": [
      "100%|████████████████████████████████████████████████████████████████████████████████████████████████████████████████████████| 3/3 [00:03<00:00,  1.33s/it]\n"
     ]
    },
    {
     "name": "stdout",
     "output_type": "stream",
     "text": [
      "[Epoch 3] train loss: 17.840; train acc: 14.52; test loss: 17.863; test acc: 14.52\n",
      "TRAINING ITERATION #78/500\n"
     ]
    },
    {
     "name": "stderr",
     "output_type": "stream",
     "text": [
      " 33%|████████████████████████████████████████                                                                                | 1/3 [00:01<00:02,  1.29s/it]"
     ]
    },
    {
     "name": "stdout",
     "output_type": "stream",
     "text": [
      "[Epoch 1] train loss: 17.894; train acc: 14.52; test loss: 17.925; test acc: 14.52\n"
     ]
    },
    {
     "name": "stderr",
     "output_type": "stream",
     "text": [
      " 67%|████████████████████████████████████████████████████████████████████████████████                                        | 2/3 [00:02<00:01,  1.33s/it]"
     ]
    },
    {
     "name": "stdout",
     "output_type": "stream",
     "text": [
      "[Epoch 2] train loss: 17.910; train acc: 14.52; test loss: 17.926; test acc: 14.52\n"
     ]
    },
    {
     "name": "stderr",
     "output_type": "stream",
     "text": [
      "100%|████████████████████████████████████████████████████████████████████████████████████████████████████████████████████████| 3/3 [00:03<00:00,  1.32s/it]\n"
     ]
    },
    {
     "name": "stdout",
     "output_type": "stream",
     "text": [
      "[Epoch 3] train loss: 17.896; train acc: 14.52; test loss: 17.945; test acc: 14.52\n",
      "TRAINING ITERATION #79/500\n"
     ]
    },
    {
     "name": "stderr",
     "output_type": "stream",
     "text": [
      " 33%|████████████████████████████████████████                                                                                | 1/3 [00:01<00:02,  1.29s/it]"
     ]
    },
    {
     "name": "stdout",
     "output_type": "stream",
     "text": [
      "[Epoch 1] train loss: 17.873; train acc: 14.53; test loss: 17.881; test acc: 14.52\n"
     ]
    },
    {
     "name": "stderr",
     "output_type": "stream",
     "text": [
      " 67%|████████████████████████████████████████████████████████████████████████████████                                        | 2/3 [00:02<00:01,  1.33s/it]"
     ]
    },
    {
     "name": "stdout",
     "output_type": "stream",
     "text": [
      "[Epoch 2] train loss: 17.879; train acc: 14.53; test loss: 17.877; test acc: 14.52\n"
     ]
    },
    {
     "name": "stderr",
     "output_type": "stream",
     "text": [
      "100%|████████████████████████████████████████████████████████████████████████████████████████████████████████████████████████| 3/3 [00:03<00:00,  1.33s/it]\n"
     ]
    },
    {
     "name": "stdout",
     "output_type": "stream",
     "text": [
      "[Epoch 3] train loss: 17.866; train acc: 14.53; test loss: 17.877; test acc: 14.52\n",
      "TRAINING ITERATION #80/500\n"
     ]
    },
    {
     "name": "stderr",
     "output_type": "stream",
     "text": [
      " 33%|████████████████████████████████████████                                                                                | 1/3 [00:01<00:02,  1.28s/it]"
     ]
    },
    {
     "name": "stdout",
     "output_type": "stream",
     "text": [
      "[Epoch 1] train loss: 17.849; train acc: 14.52; test loss: 17.852; test acc: 14.53\n"
     ]
    },
    {
     "name": "stderr",
     "output_type": "stream",
     "text": [
      " 67%|████████████████████████████████████████████████████████████████████████████████                                        | 2/3 [00:02<00:01,  1.33s/it]"
     ]
    },
    {
     "name": "stdout",
     "output_type": "stream",
     "text": [
      "[Epoch 2] train loss: 17.836; train acc: 14.52; test loss: 17.855; test acc: 14.53\n"
     ]
    },
    {
     "name": "stderr",
     "output_type": "stream",
     "text": [
      "100%|████████████████████████████████████████████████████████████████████████████████████████████████████████████████████████| 3/3 [00:03<00:00,  1.33s/it]"
     ]
    },
    {
     "name": "stdout",
     "output_type": "stream",
     "text": [
      "[Epoch 3] train loss: 17.853; train acc: 14.52; test loss: 17.837; test acc: 14.53\n",
      "SNR: -10, 7056.733%, test BER: 0.3528366684913635                \n",
      "\n"
     ]
    },
    {
     "name": "stderr",
     "output_type": "stream",
     "text": [
      "\n"
     ]
    },
    {
     "name": "stdout",
     "output_type": "stream",
     "text": [
      "SNR: -9, 6708.520%, test BER: 0.33542600274086                \n",
      "\n",
      "SNR: -8, 6346.640%, test BER: 0.317331999540329                \n",
      "\n",
      "SNR: -7, 5940.013%, test BER: 0.2970006763935089                \n",
      "\n",
      "SNR: -6, 5474.307%, test BER: 0.2737153470516205                \n",
      "\n",
      "SNR: -5, 4980.974%, test BER: 0.24904866516590118                \n",
      "\n",
      "SNR: -4, 4483.720%, test BER: 0.2241860032081604                \n",
      "\n",
      "SNR: -3, 3933.880%, test BER: 0.1966940015554428                \n",
      "\n",
      "SNR: -2, 3368.747%, test BER: 0.16843733191490173                \n",
      "\n",
      "SNR: -1, 2791.720%, test BER: 0.13958600163459778                \n",
      "\n",
      "SNR: 0, 2211.053%, test BER: 0.11055266857147217                \n",
      "\n",
      "SNR: 1, 1658.173%, test BER: 0.08290866762399673                \n",
      "\n",
      "SNR: 2, 1166.467%, test BER: 0.05832333490252495                \n",
      "\n",
      "SNR: 3, 753.387%, test BER: 0.037669334560632706                \n",
      "\n",
      "SNR: 4, 445.747%, test BER: 0.022287333384156227                \n",
      "\n",
      "TRAINING ITERATION #81/500\n"
     ]
    },
    {
     "name": "stderr",
     "output_type": "stream",
     "text": [
      " 33%|████████████████████████████████████████                                                                                | 1/3 [00:01<00:02,  1.30s/it]"
     ]
    },
    {
     "name": "stdout",
     "output_type": "stream",
     "text": [
      "[Epoch 1] train loss: 17.892; train acc: 14.52; test loss: 17.823; test acc: 14.52\n"
     ]
    },
    {
     "name": "stderr",
     "output_type": "stream",
     "text": [
      " 67%|████████████████████████████████████████████████████████████████████████████████                                        | 2/3 [00:02<00:01,  1.34s/it]"
     ]
    },
    {
     "name": "stdout",
     "output_type": "stream",
     "text": [
      "[Epoch 2] train loss: 17.900; train acc: 14.52; test loss: 17.821; test acc: 14.52\n"
     ]
    },
    {
     "name": "stderr",
     "output_type": "stream",
     "text": [
      "100%|████████████████████████████████████████████████████████████████████████████████████████████████████████████████████████| 3/3 [00:03<00:00,  1.33s/it]\n"
     ]
    },
    {
     "name": "stdout",
     "output_type": "stream",
     "text": [
      "[Epoch 3] train loss: 17.898; train acc: 14.52; test loss: 17.828; test acc: 14.52\n",
      "TRAINING ITERATION #82/500\n"
     ]
    },
    {
     "name": "stderr",
     "output_type": "stream",
     "text": [
      " 33%|████████████████████████████████████████                                                                                | 1/3 [00:01<00:02,  1.36s/it]"
     ]
    },
    {
     "name": "stdout",
     "output_type": "stream",
     "text": [
      "[Epoch 1] train loss: 17.876; train acc: 14.52; test loss: 17.842; test acc: 14.52\n"
     ]
    },
    {
     "name": "stderr",
     "output_type": "stream",
     "text": [
      " 67%|████████████████████████████████████████████████████████████████████████████████                                        | 2/3 [00:02<00:01,  1.32s/it]"
     ]
    },
    {
     "name": "stdout",
     "output_type": "stream",
     "text": [
      "[Epoch 2] train loss: 17.872; train acc: 14.52; test loss: 17.841; test acc: 14.52\n"
     ]
    },
    {
     "name": "stderr",
     "output_type": "stream",
     "text": [
      "100%|████████████████████████████████████████████████████████████████████████████████████████████████████████████████████████| 3/3 [00:03<00:00,  1.33s/it]\n"
     ]
    },
    {
     "name": "stdout",
     "output_type": "stream",
     "text": [
      "[Epoch 3] train loss: 17.881; train acc: 14.52; test loss: 17.826; test acc: 14.52\n",
      "TRAINING ITERATION #83/500\n"
     ]
    },
    {
     "name": "stderr",
     "output_type": "stream",
     "text": [
      " 33%|████████████████████████████████████████                                                                                | 1/3 [00:01<00:02,  1.29s/it]"
     ]
    },
    {
     "name": "stdout",
     "output_type": "stream",
     "text": [
      "[Epoch 1] train loss: 17.888; train acc: 14.52; test loss: 17.845; test acc: 14.52\n"
     ]
    },
    {
     "name": "stderr",
     "output_type": "stream",
     "text": [
      " 67%|████████████████████████████████████████████████████████████████████████████████                                        | 2/3 [00:02<00:01,  1.34s/it]"
     ]
    },
    {
     "name": "stdout",
     "output_type": "stream",
     "text": [
      "[Epoch 2] train loss: 17.865; train acc: 14.52; test loss: 17.856; test acc: 14.52\n"
     ]
    },
    {
     "name": "stderr",
     "output_type": "stream",
     "text": [
      "100%|████████████████████████████████████████████████████████████████████████████████████████████████████████████████████████| 3/3 [00:03<00:00,  1.32s/it]\n"
     ]
    },
    {
     "name": "stdout",
     "output_type": "stream",
     "text": [
      "[Epoch 3] train loss: 17.877; train acc: 14.52; test loss: 17.839; test acc: 14.52\n",
      "TRAINING ITERATION #84/500\n"
     ]
    },
    {
     "name": "stderr",
     "output_type": "stream",
     "text": [
      " 33%|████████████████████████████████████████                                                                                | 1/3 [00:01<00:02,  1.29s/it]"
     ]
    },
    {
     "name": "stdout",
     "output_type": "stream",
     "text": [
      "[Epoch 1] train loss: 17.879; train acc: 14.53; test loss: 17.904; test acc: 14.52\n"
     ]
    },
    {
     "name": "stderr",
     "output_type": "stream",
     "text": [
      " 67%|████████████████████████████████████████████████████████████████████████████████                                        | 2/3 [00:02<00:01,  1.33s/it]"
     ]
    },
    {
     "name": "stdout",
     "output_type": "stream",
     "text": [
      "[Epoch 2] train loss: 17.873; train acc: 14.53; test loss: 17.900; test acc: 14.52\n"
     ]
    },
    {
     "name": "stderr",
     "output_type": "stream",
     "text": [
      "100%|████████████████████████████████████████████████████████████████████████████████████████████████████████████████████████| 3/3 [00:03<00:00,  1.32s/it]\n"
     ]
    },
    {
     "name": "stdout",
     "output_type": "stream",
     "text": [
      "[Epoch 3] train loss: 17.878; train acc: 14.53; test loss: 17.890; test acc: 14.52\n",
      "TRAINING ITERATION #85/500\n"
     ]
    },
    {
     "name": "stderr",
     "output_type": "stream",
     "text": [
      " 33%|████████████████████████████████████████                                                                                | 1/3 [00:01<00:02,  1.31s/it]"
     ]
    },
    {
     "name": "stdout",
     "output_type": "stream",
     "text": [
      "[Epoch 1] train loss: 17.885; train acc: 14.53; test loss: 17.827; test acc: 14.53\n"
     ]
    },
    {
     "name": "stderr",
     "output_type": "stream",
     "text": [
      " 67%|████████████████████████████████████████████████████████████████████████████████                                        | 2/3 [00:02<00:01,  1.34s/it]"
     ]
    },
    {
     "name": "stdout",
     "output_type": "stream",
     "text": [
      "[Epoch 2] train loss: 17.889; train acc: 14.53; test loss: 17.819; test acc: 14.53\n"
     ]
    },
    {
     "name": "stderr",
     "output_type": "stream",
     "text": [
      "100%|████████████████████████████████████████████████████████████████████████████████████████████████████████████████████████| 3/3 [00:03<00:00,  1.32s/it]"
     ]
    },
    {
     "name": "stdout",
     "output_type": "stream",
     "text": [
      "[Epoch 3] train loss: 17.896; train acc: 14.53; test loss: 17.829; test acc: 14.53\n",
      "SNR: -10, 7058.280%, test BER: 0.3529140055179596                \n",
      "\n"
     ]
    },
    {
     "name": "stderr",
     "output_type": "stream",
     "text": [
      "\n"
     ]
    },
    {
     "name": "stdout",
     "output_type": "stream",
     "text": [
      "SNR: -9, 6720.760%, test BER: 0.3360379934310913                \n",
      "\n",
      "SNR: -8, 6336.454%, test BER: 0.31682267785072327                \n",
      "\n",
      "SNR: -7, 5913.093%, test BER: 0.29565465450286865                \n",
      "\n",
      "SNR: -6, 5478.253%, test BER: 0.2739126682281494                \n",
      "\n",
      "SNR: -5, 5009.894%, test BER: 0.25049465894699097                \n",
      "\n",
      "SNR: -4, 4493.013%, test BER: 0.22465066611766815                \n",
      "\n",
      "SNR: -3, 3915.027%, test BER: 0.1957513391971588                \n",
      "\n",
      "SNR: -2, 3374.067%, test BER: 0.1687033325433731                \n",
      "\n",
      "SNR: -1, 2796.667%, test BER: 0.13983333110809326                \n",
      "\n",
      "SNR: 0, 2222.493%, test BER: 0.1111246645450592                \n",
      "\n",
      "SNR: 1, 1668.693%, test BER: 0.08343466371297836                \n",
      "\n",
      "SNR: 2, 1178.520%, test BER: 0.05892600119113922                \n",
      "\n",
      "SNR: 3, 754.280%, test BER: 0.037714000791311264                \n",
      "\n",
      "SNR: 4, 443.107%, test BER: 0.022155333310365677                \n",
      "\n",
      "TRAINING ITERATION #86/500\n"
     ]
    },
    {
     "name": "stderr",
     "output_type": "stream",
     "text": [
      " 33%|████████████████████████████████████████                                                                                | 1/3 [00:01<00:02,  1.30s/it]"
     ]
    },
    {
     "name": "stdout",
     "output_type": "stream",
     "text": [
      "[Epoch 1] train loss: 17.837; train acc: 14.53; test loss: 17.845; test acc: 14.53\n"
     ]
    },
    {
     "name": "stderr",
     "output_type": "stream",
     "text": [
      " 67%|████████████████████████████████████████████████████████████████████████████████                                        | 2/3 [00:02<00:01,  1.34s/it]"
     ]
    },
    {
     "name": "stdout",
     "output_type": "stream",
     "text": [
      "[Epoch 2] train loss: 17.837; train acc: 14.53; test loss: 17.834; test acc: 14.53\n"
     ]
    },
    {
     "name": "stderr",
     "output_type": "stream",
     "text": [
      "100%|████████████████████████████████████████████████████████████████████████████████████████████████████████████████████████| 3/3 [00:03<00:00,  1.33s/it]\n"
     ]
    },
    {
     "name": "stdout",
     "output_type": "stream",
     "text": [
      "[Epoch 3] train loss: 17.843; train acc: 14.53; test loss: 17.840; test acc: 14.53\n",
      "TRAINING ITERATION #87/500\n"
     ]
    },
    {
     "name": "stderr",
     "output_type": "stream",
     "text": [
      " 33%|████████████████████████████████████████                                                                                | 1/3 [00:01<00:02,  1.29s/it]"
     ]
    },
    {
     "name": "stdout",
     "output_type": "stream",
     "text": [
      "[Epoch 1] train loss: 17.903; train acc: 14.52; test loss: 17.868; test acc: 14.52\n"
     ]
    },
    {
     "name": "stderr",
     "output_type": "stream",
     "text": [
      " 67%|████████████████████████████████████████████████████████████████████████████████                                        | 2/3 [00:02<00:01,  1.34s/it]"
     ]
    },
    {
     "name": "stdout",
     "output_type": "stream",
     "text": [
      "[Epoch 2] train loss: 17.893; train acc: 14.52; test loss: 17.865; test acc: 14.52\n"
     ]
    },
    {
     "name": "stderr",
     "output_type": "stream",
     "text": [
      "100%|████████████████████████████████████████████████████████████████████████████████████████████████████████████████████████| 3/3 [00:03<00:00,  1.32s/it]\n"
     ]
    },
    {
     "name": "stdout",
     "output_type": "stream",
     "text": [
      "[Epoch 3] train loss: 17.899; train acc: 14.52; test loss: 17.869; test acc: 14.52\n",
      "TRAINING ITERATION #88/500\n"
     ]
    },
    {
     "name": "stderr",
     "output_type": "stream",
     "text": [
      " 33%|████████████████████████████████████████                                                                                | 1/3 [00:01<00:02,  1.29s/it]"
     ]
    },
    {
     "name": "stdout",
     "output_type": "stream",
     "text": [
      "[Epoch 1] train loss: 17.856; train acc: 14.53; test loss: 17.919; test acc: 14.53\n"
     ]
    },
    {
     "name": "stderr",
     "output_type": "stream",
     "text": [
      " 67%|████████████████████████████████████████████████████████████████████████████████                                        | 2/3 [00:02<00:01,  1.33s/it]"
     ]
    },
    {
     "name": "stdout",
     "output_type": "stream",
     "text": [
      "[Epoch 2] train loss: 17.844; train acc: 14.53; test loss: 17.919; test acc: 14.53\n"
     ]
    },
    {
     "name": "stderr",
     "output_type": "stream",
     "text": [
      "100%|████████████████████████████████████████████████████████████████████████████████████████████████████████████████████████| 3/3 [00:03<00:00,  1.33s/it]\n"
     ]
    },
    {
     "name": "stdout",
     "output_type": "stream",
     "text": [
      "[Epoch 3] train loss: 17.859; train acc: 14.53; test loss: 17.901; test acc: 14.53\n",
      "TRAINING ITERATION #89/500\n"
     ]
    },
    {
     "name": "stderr",
     "output_type": "stream",
     "text": [
      " 33%|████████████████████████████████████████                                                                                | 1/3 [00:01<00:02,  1.27s/it]"
     ]
    },
    {
     "name": "stdout",
     "output_type": "stream",
     "text": [
      "[Epoch 1] train loss: 17.857; train acc: 14.53; test loss: 17.894; test acc: 14.52\n"
     ]
    },
    {
     "name": "stderr",
     "output_type": "stream",
     "text": [
      " 67%|████████████████████████████████████████████████████████████████████████████████                                        | 2/3 [00:02<00:01,  1.33s/it]"
     ]
    },
    {
     "name": "stdout",
     "output_type": "stream",
     "text": [
      "[Epoch 2] train loss: 17.859; train acc: 14.53; test loss: 17.903; test acc: 14.52\n"
     ]
    },
    {
     "name": "stderr",
     "output_type": "stream",
     "text": [
      "100%|████████████████████████████████████████████████████████████████████████████████████████████████████████████████████████| 3/3 [00:03<00:00,  1.32s/it]\n"
     ]
    },
    {
     "name": "stdout",
     "output_type": "stream",
     "text": [
      "[Epoch 3] train loss: 17.857; train acc: 14.53; test loss: 17.909; test acc: 14.52\n",
      "TRAINING ITERATION #90/500\n"
     ]
    },
    {
     "name": "stderr",
     "output_type": "stream",
     "text": [
      " 33%|████████████████████████████████████████                                                                                | 1/3 [00:01<00:02,  1.29s/it]"
     ]
    },
    {
     "name": "stdout",
     "output_type": "stream",
     "text": [
      "[Epoch 1] train loss: 17.863; train acc: 14.52; test loss: 17.835; test acc: 14.53\n"
     ]
    },
    {
     "name": "stderr",
     "output_type": "stream",
     "text": [
      " 67%|████████████████████████████████████████████████████████████████████████████████                                        | 2/3 [00:02<00:01,  1.34s/it]"
     ]
    },
    {
     "name": "stdout",
     "output_type": "stream",
     "text": [
      "[Epoch 2] train loss: 17.850; train acc: 14.52; test loss: 17.834; test acc: 14.53\n"
     ]
    },
    {
     "name": "stderr",
     "output_type": "stream",
     "text": [
      "100%|████████████████████████████████████████████████████████████████████████████████████████████████████████████████████████| 3/3 [00:03<00:00,  1.33s/it]"
     ]
    },
    {
     "name": "stdout",
     "output_type": "stream",
     "text": [
      "[Epoch 3] train loss: 17.855; train acc: 14.52; test loss: 17.837; test acc: 14.53\n",
      "SNR: -10, 7053.947%, test BER: 0.35269734263420105                \n",
      "\n"
     ]
    },
    {
     "name": "stderr",
     "output_type": "stream",
     "text": [
      "\n"
     ]
    },
    {
     "name": "stdout",
     "output_type": "stream",
     "text": [
      "SNR: -9, 6721.680%, test BER: 0.3360840082168579                \n",
      "\n",
      "SNR: -8, 6333.080%, test BER: 0.3166539967060089                \n",
      "\n",
      "SNR: -7, 5918.907%, test BER: 0.29594534635543823                \n",
      "\n",
      "SNR: -6, 5476.120%, test BER: 0.27380600571632385                \n",
      "\n",
      "SNR: -5, 4989.840%, test BER: 0.24949200451374054                \n",
      "\n",
      "SNR: -4, 4477.987%, test BER: 0.22389933466911316                \n",
      "\n",
      "SNR: -3, 3940.080%, test BER: 0.19700400531291962                \n",
      "\n",
      "SNR: -2, 3372.173%, test BER: 0.1686086654663086                \n",
      "\n",
      "SNR: -1, 2794.613%, test BER: 0.13973066210746765                \n",
      "\n",
      "SNR: 0, 2214.747%, test BER: 0.11073733121156693                \n",
      "\n",
      "SNR: 1, 1659.253%, test BER: 0.08296266943216324                \n",
      "\n",
      "SNR: 2, 1160.253%, test BER: 0.058012668043375015                \n",
      "\n",
      "SNR: 3, 748.573%, test BER: 0.03742866590619087                \n",
      "\n",
      "SNR: 4, 439.213%, test BER: 0.0219606664031744                \n",
      "\n",
      "TRAINING ITERATION #91/500\n"
     ]
    },
    {
     "name": "stderr",
     "output_type": "stream",
     "text": [
      " 33%|████████████████████████████████████████                                                                                | 1/3 [00:01<00:02,  1.34s/it]"
     ]
    },
    {
     "name": "stdout",
     "output_type": "stream",
     "text": [
      "[Epoch 1] train loss: 17.886; train acc: 14.52; test loss: 17.880; test acc: 14.53\n"
     ]
    },
    {
     "name": "stderr",
     "output_type": "stream",
     "text": [
      " 67%|████████████████████████████████████████████████████████████████████████████████                                        | 2/3 [00:02<00:01,  1.31s/it]"
     ]
    },
    {
     "name": "stdout",
     "output_type": "stream",
     "text": [
      "[Epoch 2] train loss: 17.887; train acc: 14.52; test loss: 17.879; test acc: 14.53\n"
     ]
    },
    {
     "name": "stderr",
     "output_type": "stream",
     "text": [
      "100%|████████████████████████████████████████████████████████████████████████████████████████████████████████████████████████| 3/3 [00:03<00:00,  1.31s/it]\n"
     ]
    },
    {
     "name": "stdout",
     "output_type": "stream",
     "text": [
      "[Epoch 3] train loss: 17.896; train acc: 14.52; test loss: 17.879; test acc: 14.53\n",
      "TRAINING ITERATION #92/500\n"
     ]
    },
    {
     "name": "stderr",
     "output_type": "stream",
     "text": [
      " 33%|████████████████████████████████████████                                                                                | 1/3 [00:01<00:02,  1.35s/it]"
     ]
    },
    {
     "name": "stdout",
     "output_type": "stream",
     "text": [
      "[Epoch 1] train loss: 17.882; train acc: 14.53; test loss: 17.817; test acc: 14.52\n"
     ]
    },
    {
     "name": "stderr",
     "output_type": "stream",
     "text": [
      " 67%|████████████████████████████████████████████████████████████████████████████████                                        | 2/3 [00:02<00:01,  1.34s/it]"
     ]
    },
    {
     "name": "stdout",
     "output_type": "stream",
     "text": [
      "[Epoch 2] train loss: 17.879; train acc: 14.53; test loss: 17.844; test acc: 14.52\n"
     ]
    },
    {
     "name": "stderr",
     "output_type": "stream",
     "text": [
      "100%|████████████████████████████████████████████████████████████████████████████████████████████████████████████████████████| 3/3 [00:04<00:00,  1.34s/it]\n"
     ]
    },
    {
     "name": "stdout",
     "output_type": "stream",
     "text": [
      "[Epoch 3] train loss: 17.891; train acc: 14.53; test loss: 17.841; test acc: 14.52\n",
      "TRAINING ITERATION #93/500\n"
     ]
    },
    {
     "name": "stderr",
     "output_type": "stream",
     "text": [
      " 33%|████████████████████████████████████████                                                                                | 1/3 [00:01<00:02,  1.36s/it]"
     ]
    },
    {
     "name": "stdout",
     "output_type": "stream",
     "text": [
      "[Epoch 1] train loss: 17.867; train acc: 14.53; test loss: 17.854; test acc: 14.52\n"
     ]
    },
    {
     "name": "stderr",
     "output_type": "stream",
     "text": [
      " 67%|████████████████████████████████████████████████████████████████████████████████                                        | 2/3 [00:02<00:01,  1.33s/it]"
     ]
    },
    {
     "name": "stdout",
     "output_type": "stream",
     "text": [
      "[Epoch 2] train loss: 17.862; train acc: 14.53; test loss: 17.861; test acc: 14.52\n"
     ]
    },
    {
     "name": "stderr",
     "output_type": "stream",
     "text": [
      "100%|████████████████████████████████████████████████████████████████████████████████████████████████████████████████████████| 3/3 [00:04<00:00,  1.34s/it]\n"
     ]
    },
    {
     "name": "stdout",
     "output_type": "stream",
     "text": [
      "[Epoch 3] train loss: 17.861; train acc: 14.53; test loss: 17.852; test acc: 14.52\n",
      "TRAINING ITERATION #94/500\n"
     ]
    },
    {
     "name": "stderr",
     "output_type": "stream",
     "text": [
      " 33%|████████████████████████████████████████                                                                                | 1/3 [00:01<00:02,  1.30s/it]"
     ]
    },
    {
     "name": "stdout",
     "output_type": "stream",
     "text": [
      "[Epoch 1] train loss: 17.849; train acc: 14.52; test loss: 17.859; test acc: 14.53\n"
     ]
    },
    {
     "name": "stderr",
     "output_type": "stream",
     "text": [
      " 67%|████████████████████████████████████████████████████████████████████████████████                                        | 2/3 [00:02<00:01,  1.33s/it]"
     ]
    },
    {
     "name": "stdout",
     "output_type": "stream",
     "text": [
      "[Epoch 2] train loss: 17.862; train acc: 14.52; test loss: 17.854; test acc: 14.53\n"
     ]
    },
    {
     "name": "stderr",
     "output_type": "stream",
     "text": [
      "100%|████████████████████████████████████████████████████████████████████████████████████████████████████████████████████████| 3/3 [00:03<00:00,  1.33s/it]\n"
     ]
    },
    {
     "name": "stdout",
     "output_type": "stream",
     "text": [
      "[Epoch 3] train loss: 17.859; train acc: 14.52; test loss: 17.872; test acc: 14.53\n",
      "TRAINING ITERATION #95/500\n"
     ]
    },
    {
     "name": "stderr",
     "output_type": "stream",
     "text": [
      " 33%|████████████████████████████████████████                                                                                | 1/3 [00:01<00:02,  1.30s/it]"
     ]
    },
    {
     "name": "stdout",
     "output_type": "stream",
     "text": [
      "[Epoch 1] train loss: 17.908; train acc: 14.52; test loss: 17.893; test acc: 14.53\n"
     ]
    },
    {
     "name": "stderr",
     "output_type": "stream",
     "text": [
      " 67%|████████████████████████████████████████████████████████████████████████████████                                        | 2/3 [00:02<00:01,  1.33s/it]"
     ]
    },
    {
     "name": "stdout",
     "output_type": "stream",
     "text": [
      "[Epoch 2] train loss: 17.878; train acc: 14.52; test loss: 17.904; test acc: 14.53\n"
     ]
    },
    {
     "name": "stderr",
     "output_type": "stream",
     "text": [
      "100%|████████████████████████████████████████████████████████████████████████████████████████████████████████████████████████| 3/3 [00:03<00:00,  1.32s/it]"
     ]
    },
    {
     "name": "stdout",
     "output_type": "stream",
     "text": [
      "[Epoch 3] train loss: 17.902; train acc: 14.52; test loss: 17.902; test acc: 14.53\n",
      "SNR: -10, 7058.187%, test BER: 0.3529093265533447                \n",
      "\n"
     ]
    },
    {
     "name": "stderr",
     "output_type": "stream",
     "text": [
      "\n"
     ]
    },
    {
     "name": "stdout",
     "output_type": "stream",
     "text": [
      "SNR: -9, 6710.080%, test BER: 0.3355039954185486                \n",
      "\n",
      "SNR: -8, 6329.120%, test BER: 0.31645599007606506                \n",
      "\n",
      "SNR: -7, 5924.693%, test BER: 0.296234667301178                \n",
      "\n",
      "SNR: -6, 5472.414%, test BER: 0.2736206650733948                \n",
      "\n",
      "SNR: -5, 4990.067%, test BER: 0.24950332939624786                \n",
      "\n",
      "SNR: -4, 4482.454%, test BER: 0.22412267327308655                \n",
      "\n",
      "SNR: -3, 3934.693%, test BER: 0.19673466682434082                \n",
      "\n",
      "SNR: -2, 3374.720%, test BER: 0.16873599588871002                \n",
      "\n",
      "SNR: -1, 2790.907%, test BER: 0.13954533636569977                \n",
      "\n",
      "SNR: 0, 2208.093%, test BER: 0.11040467023849487                \n",
      "\n",
      "SNR: 1, 1671.067%, test BER: 0.08355333656072617                \n",
      "\n",
      "SNR: 2, 1172.520%, test BER: 0.058625999838113785                \n",
      "\n",
      "SNR: 3, 755.667%, test BER: 0.03778333216905594                \n",
      "\n",
      "SNR: 4, 445.573%, test BER: 0.022278666496276855                \n",
      "\n",
      "TRAINING ITERATION #96/500\n"
     ]
    },
    {
     "name": "stderr",
     "output_type": "stream",
     "text": [
      " 33%|████████████████████████████████████████                                                                                | 1/3 [00:01<00:02,  1.30s/it]"
     ]
    },
    {
     "name": "stdout",
     "output_type": "stream",
     "text": [
      "[Epoch 1] train loss: 17.885; train acc: 14.52; test loss: 17.854; test acc: 14.52\n"
     ]
    },
    {
     "name": "stderr",
     "output_type": "stream",
     "text": [
      " 67%|████████████████████████████████████████████████████████████████████████████████                                        | 2/3 [00:02<00:01,  1.35s/it]"
     ]
    },
    {
     "name": "stdout",
     "output_type": "stream",
     "text": [
      "[Epoch 2] train loss: 17.886; train acc: 14.52; test loss: 17.849; test acc: 14.52\n"
     ]
    },
    {
     "name": "stderr",
     "output_type": "stream",
     "text": [
      "100%|████████████████████████████████████████████████████████████████████████████████████████████████████████████████████████| 3/3 [00:04<00:00,  1.34s/it]\n"
     ]
    },
    {
     "name": "stdout",
     "output_type": "stream",
     "text": [
      "[Epoch 3] train loss: 17.894; train acc: 14.52; test loss: 17.850; test acc: 14.52\n",
      "TRAINING ITERATION #97/500\n"
     ]
    },
    {
     "name": "stderr",
     "output_type": "stream",
     "text": [
      " 33%|████████████████████████████████████████                                                                                | 1/3 [00:01<00:02,  1.35s/it]"
     ]
    },
    {
     "name": "stdout",
     "output_type": "stream",
     "text": [
      "[Epoch 1] train loss: 17.837; train acc: 14.52; test loss: 17.837; test acc: 14.52\n"
     ]
    },
    {
     "name": "stderr",
     "output_type": "stream",
     "text": [
      " 67%|████████████████████████████████████████████████████████████████████████████████                                        | 2/3 [00:02<00:01,  1.34s/it]"
     ]
    },
    {
     "name": "stdout",
     "output_type": "stream",
     "text": [
      "[Epoch 2] train loss: 17.840; train acc: 14.52; test loss: 17.849; test acc: 14.52\n"
     ]
    },
    {
     "name": "stderr",
     "output_type": "stream",
     "text": [
      "100%|████████████████████████████████████████████████████████████████████████████████████████████████████████████████████████| 3/3 [00:03<00:00,  1.33s/it]\n"
     ]
    },
    {
     "name": "stdout",
     "output_type": "stream",
     "text": [
      "[Epoch 3] train loss: 17.836; train acc: 14.52; test loss: 17.859; test acc: 14.52\n",
      "TRAINING ITERATION #98/500\n"
     ]
    },
    {
     "name": "stderr",
     "output_type": "stream",
     "text": [
      " 33%|████████████████████████████████████████                                                                                | 1/3 [00:01<00:02,  1.28s/it]"
     ]
    },
    {
     "name": "stdout",
     "output_type": "stream",
     "text": [
      "[Epoch 1] train loss: 17.827; train acc: 14.52; test loss: 17.883; test acc: 14.53\n"
     ]
    },
    {
     "name": "stderr",
     "output_type": "stream",
     "text": [
      " 67%|████████████████████████████████████████████████████████████████████████████████                                        | 2/3 [00:02<00:01,  1.32s/it]"
     ]
    },
    {
     "name": "stdout",
     "output_type": "stream",
     "text": [
      "[Epoch 2] train loss: 17.820; train acc: 14.52; test loss: 17.892; test acc: 14.53\n"
     ]
    },
    {
     "name": "stderr",
     "output_type": "stream",
     "text": [
      "100%|████████████████████████████████████████████████████████████████████████████████████████████████████████████████████████| 3/3 [00:03<00:00,  1.31s/it]\n"
     ]
    },
    {
     "name": "stdout",
     "output_type": "stream",
     "text": [
      "[Epoch 3] train loss: 17.854; train acc: 14.52; test loss: 17.887; test acc: 14.53\n",
      "TRAINING ITERATION #99/500\n"
     ]
    },
    {
     "name": "stderr",
     "output_type": "stream",
     "text": [
      " 33%|████████████████████████████████████████                                                                                | 1/3 [00:01<00:02,  1.28s/it]"
     ]
    },
    {
     "name": "stdout",
     "output_type": "stream",
     "text": [
      "[Epoch 1] train loss: 17.879; train acc: 14.53; test loss: 17.854; test acc: 14.53\n"
     ]
    },
    {
     "name": "stderr",
     "output_type": "stream",
     "text": [
      " 67%|████████████████████████████████████████████████████████████████████████████████                                        | 2/3 [00:02<00:01,  1.31s/it]"
     ]
    },
    {
     "name": "stdout",
     "output_type": "stream",
     "text": [
      "[Epoch 2] train loss: 17.896; train acc: 14.53; test loss: 17.828; test acc: 14.53\n"
     ]
    },
    {
     "name": "stderr",
     "output_type": "stream",
     "text": [
      "100%|████████████████████████████████████████████████████████████████████████████████████████████████████████████████████████| 3/3 [00:03<00:00,  1.31s/it]\n"
     ]
    },
    {
     "name": "stdout",
     "output_type": "stream",
     "text": [
      "[Epoch 3] train loss: 17.879; train acc: 14.53; test loss: 17.838; test acc: 14.53\n",
      "TRAINING ITERATION #100/500\n"
     ]
    },
    {
     "name": "stderr",
     "output_type": "stream",
     "text": [
      " 33%|████████████████████████████████████████                                                                                | 1/3 [00:01<00:02,  1.27s/it]"
     ]
    },
    {
     "name": "stdout",
     "output_type": "stream",
     "text": [
      "[Epoch 1] train loss: 17.875; train acc: 14.54; test loss: 17.864; test acc: 14.53\n"
     ]
    },
    {
     "name": "stderr",
     "output_type": "stream",
     "text": [
      " 67%|████████████████████████████████████████████████████████████████████████████████                                        | 2/3 [00:02<00:01,  1.32s/it]"
     ]
    },
    {
     "name": "stdout",
     "output_type": "stream",
     "text": [
      "[Epoch 2] train loss: 17.879; train acc: 14.54; test loss: 17.856; test acc: 14.53\n"
     ]
    },
    {
     "name": "stderr",
     "output_type": "stream",
     "text": [
      "100%|████████████████████████████████████████████████████████████████████████████████████████████████████████████████████████| 3/3 [00:03<00:00,  1.32s/it]"
     ]
    },
    {
     "name": "stdout",
     "output_type": "stream",
     "text": [
      "[Epoch 3] train loss: 17.867; train acc: 14.54; test loss: 17.875; test acc: 14.53\n",
      "SNR: -10, 7064.400%, test BER: 0.35321998596191406                \n",
      "\n"
     ]
    },
    {
     "name": "stderr",
     "output_type": "stream",
     "text": [
      "\n"
     ]
    },
    {
     "name": "stdout",
     "output_type": "stream",
     "text": [
      "SNR: -9, 6706.747%, test BER: 0.3353373408317566                \n",
      "\n",
      "SNR: -8, 6349.947%, test BER: 0.3174973428249359                \n",
      "\n",
      "SNR: -7, 5925.374%, test BER: 0.29626867175102234                \n",
      "\n",
      "SNR: -6, 5474.720%, test BER: 0.27373600006103516                \n",
      "\n",
      "SNR: -5, 4991.840%, test BER: 0.24959200620651245                \n",
      "\n",
      "SNR: -4, 4483.467%, test BER: 0.22417333722114563                \n",
      "\n",
      "SNR: -3, 3952.933%, test BER: 0.19764666259288788                \n",
      "\n",
      "SNR: -2, 3379.213%, test BER: 0.16896066069602966                \n",
      "\n",
      "SNR: -1, 2790.560%, test BER: 0.13952800631523132                \n",
      "\n",
      "SNR: 0, 2216.827%, test BER: 0.11084133386611938                \n",
      "\n",
      "SNR: 1, 1663.733%, test BER: 0.08318666368722916                \n",
      "\n",
      "SNR: 2, 1173.013%, test BER: 0.0586506649851799                \n",
      "\n",
      "SNR: 3, 757.627%, test BER: 0.037881333380937576                \n",
      "\n",
      "SNR: 4, 433.773%, test BER: 0.021688666194677353                \n",
      "\n",
      "TRAINING ITERATION #101/500\n"
     ]
    },
    {
     "name": "stderr",
     "output_type": "stream",
     "text": [
      " 33%|████████████████████████████████████████                                                                                | 1/3 [00:01<00:02,  1.32s/it]"
     ]
    },
    {
     "name": "stdout",
     "output_type": "stream",
     "text": [
      "[Epoch 1] train loss: 17.860; train acc: 14.52; test loss: 17.846; test acc: 14.52\n"
     ]
    },
    {
     "name": "stderr",
     "output_type": "stream",
     "text": [
      " 67%|████████████████████████████████████████████████████████████████████████████████                                        | 2/3 [00:02<00:01,  1.34s/it]"
     ]
    },
    {
     "name": "stdout",
     "output_type": "stream",
     "text": [
      "[Epoch 2] train loss: 17.870; train acc: 14.52; test loss: 17.845; test acc: 14.52\n"
     ]
    },
    {
     "name": "stderr",
     "output_type": "stream",
     "text": [
      "100%|████████████████████████████████████████████████████████████████████████████████████████████████████████████████████████| 3/3 [00:03<00:00,  1.32s/it]\n"
     ]
    },
    {
     "name": "stdout",
     "output_type": "stream",
     "text": [
      "[Epoch 3] train loss: 17.875; train acc: 14.52; test loss: 17.848; test acc: 14.52\n",
      "TRAINING ITERATION #102/500\n"
     ]
    },
    {
     "name": "stderr",
     "output_type": "stream",
     "text": [
      " 33%|████████████████████████████████████████                                                                                | 1/3 [00:01<00:02,  1.35s/it]"
     ]
    },
    {
     "name": "stdout",
     "output_type": "stream",
     "text": [
      "[Epoch 1] train loss: 17.862; train acc: 14.52; test loss: 17.844; test acc: 14.53\n"
     ]
    },
    {
     "name": "stderr",
     "output_type": "stream",
     "text": [
      " 67%|████████████████████████████████████████████████████████████████████████████████                                        | 2/3 [00:02<00:01,  1.31s/it]"
     ]
    },
    {
     "name": "stdout",
     "output_type": "stream",
     "text": [
      "[Epoch 2] train loss: 17.878; train acc: 14.53; test loss: 17.866; test acc: 14.53\n"
     ]
    },
    {
     "name": "stderr",
     "output_type": "stream",
     "text": [
      "100%|████████████████████████████████████████████████████████████████████████████████████████████████████████████████████████| 3/3 [00:03<00:00,  1.32s/it]\n"
     ]
    },
    {
     "name": "stdout",
     "output_type": "stream",
     "text": [
      "[Epoch 3] train loss: 17.870; train acc: 14.53; test loss: 17.842; test acc: 14.53\n",
      "TRAINING ITERATION #103/500\n"
     ]
    },
    {
     "name": "stderr",
     "output_type": "stream",
     "text": [
      " 33%|████████████████████████████████████████                                                                                | 1/3 [00:01<00:02,  1.28s/it]"
     ]
    },
    {
     "name": "stdout",
     "output_type": "stream",
     "text": [
      "[Epoch 1] train loss: 17.916; train acc: 14.52; test loss: 17.835; test acc: 14.52\n"
     ]
    },
    {
     "name": "stderr",
     "output_type": "stream",
     "text": [
      " 67%|████████████████████████████████████████████████████████████████████████████████                                        | 2/3 [00:02<00:01,  1.32s/it]"
     ]
    },
    {
     "name": "stdout",
     "output_type": "stream",
     "text": [
      "[Epoch 2] train loss: 17.903; train acc: 14.52; test loss: 17.843; test acc: 14.52\n"
     ]
    },
    {
     "name": "stderr",
     "output_type": "stream",
     "text": [
      "100%|████████████████████████████████████████████████████████████████████████████████████████████████████████████████████████| 3/3 [00:03<00:00,  1.31s/it]\n"
     ]
    },
    {
     "name": "stdout",
     "output_type": "stream",
     "text": [
      "[Epoch 3] train loss: 17.910; train acc: 14.52; test loss: 17.856; test acc: 14.52\n",
      "TRAINING ITERATION #104/500\n"
     ]
    },
    {
     "name": "stderr",
     "output_type": "stream",
     "text": [
      " 33%|████████████████████████████████████████                                                                                | 1/3 [00:01<00:02,  1.29s/it]"
     ]
    },
    {
     "name": "stdout",
     "output_type": "stream",
     "text": [
      "[Epoch 1] train loss: 17.842; train acc: 14.53; test loss: 17.887; test acc: 14.53\n"
     ]
    },
    {
     "name": "stderr",
     "output_type": "stream",
     "text": [
      " 67%|████████████████████████████████████████████████████████████████████████████████                                        | 2/3 [00:02<00:01,  1.33s/it]"
     ]
    },
    {
     "name": "stdout",
     "output_type": "stream",
     "text": [
      "[Epoch 2] train loss: 17.849; train acc: 14.53; test loss: 17.885; test acc: 14.53\n"
     ]
    },
    {
     "name": "stderr",
     "output_type": "stream",
     "text": [
      "100%|████████████████████████████████████████████████████████████████████████████████████████████████████████████████████████| 3/3 [00:03<00:00,  1.32s/it]\n"
     ]
    },
    {
     "name": "stdout",
     "output_type": "stream",
     "text": [
      "[Epoch 3] train loss: 17.831; train acc: 14.53; test loss: 17.896; test acc: 14.53\n",
      "TRAINING ITERATION #105/500\n"
     ]
    },
    {
     "name": "stderr",
     "output_type": "stream",
     "text": [
      " 33%|████████████████████████████████████████                                                                                | 1/3 [00:01<00:02,  1.29s/it]"
     ]
    },
    {
     "name": "stdout",
     "output_type": "stream",
     "text": [
      "[Epoch 1] train loss: 17.859; train acc: 14.52; test loss: 17.890; test acc: 14.53\n"
     ]
    },
    {
     "name": "stderr",
     "output_type": "stream",
     "text": [
      " 67%|████████████████████████████████████████████████████████████████████████████████                                        | 2/3 [00:02<00:01,  1.32s/it]"
     ]
    },
    {
     "name": "stdout",
     "output_type": "stream",
     "text": [
      "[Epoch 2] train loss: 17.873; train acc: 14.52; test loss: 17.891; test acc: 14.53\n"
     ]
    },
    {
     "name": "stderr",
     "output_type": "stream",
     "text": [
      "100%|████████████████████████████████████████████████████████████████████████████████████████████████████████████████████████| 3/3 [00:03<00:00,  1.31s/it]"
     ]
    },
    {
     "name": "stdout",
     "output_type": "stream",
     "text": [
      "[Epoch 3] train loss: 17.869; train acc: 14.52; test loss: 17.873; test acc: 14.53\n",
      "SNR: -10, 7048.587%, test BER: 0.3524293303489685                \n",
      "\n"
     ]
    },
    {
     "name": "stderr",
     "output_type": "stream",
     "text": [
      "\n"
     ]
    },
    {
     "name": "stdout",
     "output_type": "stream",
     "text": [
      "SNR: -9, 6709.093%, test BER: 0.33545467257499695                \n",
      "\n",
      "SNR: -8, 6319.854%, test BER: 0.31599265336990356                \n",
      "\n",
      "SNR: -7, 5908.454%, test BER: 0.29542267322540283                \n",
      "\n",
      "SNR: -6, 5471.493%, test BER: 0.27357468008995056                \n",
      "\n",
      "SNR: -5, 5000.880%, test BER: 0.25004398822784424                \n",
      "\n",
      "SNR: -4, 4472.374%, test BER: 0.22361867129802704                \n",
      "\n",
      "SNR: -3, 3939.093%, test BER: 0.1969546675682068                \n",
      "\n",
      "SNR: -2, 3379.760%, test BER: 0.16898800432682037                \n",
      "\n",
      "SNR: -1, 2792.373%, test BER: 0.1396186649799347                \n",
      "\n",
      "SNR: 0, 2210.733%, test BER: 0.11053666472434998                \n",
      "\n",
      "SNR: 1, 1663.747%, test BER: 0.08318733423948288                \n",
      "\n",
      "SNR: 2, 1170.213%, test BER: 0.058510664850473404                \n",
      "\n",
      "SNR: 3, 749.440%, test BER: 0.03747199848294258                \n",
      "\n",
      "SNR: 4, 437.520%, test BER: 0.021875999867916107                \n",
      "\n",
      "TRAINING ITERATION #106/500\n"
     ]
    },
    {
     "name": "stderr",
     "output_type": "stream",
     "text": [
      " 33%|████████████████████████████████████████                                                                                | 1/3 [00:01<00:02,  1.29s/it]"
     ]
    },
    {
     "name": "stdout",
     "output_type": "stream",
     "text": [
      "[Epoch 1] train loss: 17.898; train acc: 14.53; test loss: 17.872; test acc: 14.52\n"
     ]
    },
    {
     "name": "stderr",
     "output_type": "stream",
     "text": [
      " 67%|████████████████████████████████████████████████████████████████████████████████                                        | 2/3 [00:02<00:01,  1.32s/it]"
     ]
    },
    {
     "name": "stdout",
     "output_type": "stream",
     "text": [
      "[Epoch 2] train loss: 17.899; train acc: 14.53; test loss: 17.867; test acc: 14.52\n"
     ]
    },
    {
     "name": "stderr",
     "output_type": "stream",
     "text": [
      "100%|████████████████████████████████████████████████████████████████████████████████████████████████████████████████████████| 3/3 [00:03<00:00,  1.31s/it]\n"
     ]
    },
    {
     "name": "stdout",
     "output_type": "stream",
     "text": [
      "[Epoch 3] train loss: 17.904; train acc: 14.53; test loss: 17.866; test acc: 14.52\n",
      "TRAINING ITERATION #107/500\n"
     ]
    },
    {
     "name": "stderr",
     "output_type": "stream",
     "text": [
      " 33%|████████████████████████████████████████                                                                                | 1/3 [00:01<00:02,  1.27s/it]"
     ]
    },
    {
     "name": "stdout",
     "output_type": "stream",
     "text": [
      "[Epoch 1] train loss: 17.843; train acc: 14.53; test loss: 17.897; test acc: 14.53\n"
     ]
    },
    {
     "name": "stderr",
     "output_type": "stream",
     "text": [
      " 67%|████████████████████████████████████████████████████████████████████████████████                                        | 2/3 [00:02<00:01,  1.31s/it]"
     ]
    },
    {
     "name": "stdout",
     "output_type": "stream",
     "text": [
      "[Epoch 2] train loss: 17.837; train acc: 14.53; test loss: 17.894; test acc: 14.53\n"
     ]
    },
    {
     "name": "stderr",
     "output_type": "stream",
     "text": [
      "100%|████████████████████████████████████████████████████████████████████████████████████████████████████████████████████████| 3/3 [00:03<00:00,  1.30s/it]\n"
     ]
    },
    {
     "name": "stdout",
     "output_type": "stream",
     "text": [
      "[Epoch 3] train loss: 17.827; train acc: 14.53; test loss: 17.881; test acc: 14.53\n",
      "TRAINING ITERATION #108/500\n"
     ]
    },
    {
     "name": "stderr",
     "output_type": "stream",
     "text": [
      " 33%|████████████████████████████████████████                                                                                | 1/3 [00:01<00:02,  1.27s/it]"
     ]
    },
    {
     "name": "stdout",
     "output_type": "stream",
     "text": [
      "[Epoch 1] train loss: 17.884; train acc: 14.53; test loss: 17.838; test acc: 14.52\n"
     ]
    },
    {
     "name": "stderr",
     "output_type": "stream",
     "text": [
      " 67%|████████████████████████████████████████████████████████████████████████████████                                        | 2/3 [00:02<00:01,  1.31s/it]"
     ]
    },
    {
     "name": "stdout",
     "output_type": "stream",
     "text": [
      "[Epoch 2] train loss: 17.903; train acc: 14.53; test loss: 17.856; test acc: 14.52\n"
     ]
    },
    {
     "name": "stderr",
     "output_type": "stream",
     "text": [
      "100%|████████████████████████████████████████████████████████████████████████████████████████████████████████████████████████| 3/3 [00:03<00:00,  1.31s/it]\n"
     ]
    },
    {
     "name": "stdout",
     "output_type": "stream",
     "text": [
      "[Epoch 3] train loss: 17.892; train acc: 14.53; test loss: 17.837; test acc: 14.52\n",
      "TRAINING ITERATION #109/500\n"
     ]
    },
    {
     "name": "stderr",
     "output_type": "stream",
     "text": [
      " 33%|████████████████████████████████████████                                                                                | 1/3 [00:01<00:02,  1.29s/it]"
     ]
    },
    {
     "name": "stdout",
     "output_type": "stream",
     "text": [
      "[Epoch 1] train loss: 17.859; train acc: 14.53; test loss: 17.847; test acc: 14.53\n"
     ]
    },
    {
     "name": "stderr",
     "output_type": "stream",
     "text": [
      " 67%|████████████████████████████████████████████████████████████████████████████████                                        | 2/3 [00:02<00:01,  1.33s/it]"
     ]
    },
    {
     "name": "stdout",
     "output_type": "stream",
     "text": [
      "[Epoch 2] train loss: 17.864; train acc: 14.53; test loss: 17.847; test acc: 14.53\n"
     ]
    },
    {
     "name": "stderr",
     "output_type": "stream",
     "text": [
      "100%|████████████████████████████████████████████████████████████████████████████████████████████████████████████████████████| 3/3 [00:03<00:00,  1.33s/it]\n"
     ]
    },
    {
     "name": "stdout",
     "output_type": "stream",
     "text": [
      "[Epoch 3] train loss: 17.865; train acc: 14.53; test loss: 17.842; test acc: 14.53\n",
      "TRAINING ITERATION #110/500\n"
     ]
    },
    {
     "name": "stderr",
     "output_type": "stream",
     "text": [
      " 33%|████████████████████████████████████████                                                                                | 1/3 [00:01<00:02,  1.26s/it]"
     ]
    },
    {
     "name": "stdout",
     "output_type": "stream",
     "text": [
      "[Epoch 1] train loss: 17.854; train acc: 14.53; test loss: 17.858; test acc: 14.53\n"
     ]
    },
    {
     "name": "stderr",
     "output_type": "stream",
     "text": [
      " 67%|████████████████████████████████████████████████████████████████████████████████                                        | 2/3 [00:02<00:01,  1.31s/it]"
     ]
    },
    {
     "name": "stdout",
     "output_type": "stream",
     "text": [
      "[Epoch 2] train loss: 17.857; train acc: 14.53; test loss: 17.845; test acc: 14.53\n"
     ]
    },
    {
     "name": "stderr",
     "output_type": "stream",
     "text": [
      "100%|████████████████████████████████████████████████████████████████████████████████████████████████████████████████████████| 3/3 [00:03<00:00,  1.31s/it]"
     ]
    },
    {
     "name": "stdout",
     "output_type": "stream",
     "text": [
      "[Epoch 3] train loss: 17.854; train acc: 14.53; test loss: 17.835; test acc: 14.53\n",
      "SNR: -10, 7033.414%, test BER: 0.35167065262794495                \n",
      "\n"
     ]
    },
    {
     "name": "stderr",
     "output_type": "stream",
     "text": [
      "\n"
     ]
    },
    {
     "name": "stdout",
     "output_type": "stream",
     "text": [
      "SNR: -9, 6705.320%, test BER: 0.33526599407196045                \n",
      "\n",
      "SNR: -8, 6346.974%, test BER: 0.3173486590385437                \n",
      "\n",
      "SNR: -7, 5926.773%, test BER: 0.29633867740631104                \n",
      "\n",
      "SNR: -6, 5475.894%, test BER: 0.27379468083381653                \n",
      "\n",
      "SNR: -5, 4995.360%, test BER: 0.24976800382137299                \n",
      "\n",
      "SNR: -4, 4477.093%, test BER: 0.223854660987854                \n",
      "\n",
      "SNR: -3, 3928.920%, test BER: 0.1964460015296936                \n",
      "\n",
      "SNR: -2, 3365.187%, test BER: 0.16825933754444122                \n",
      "\n",
      "SNR: -1, 2789.360%, test BER: 0.1394679993391037                \n",
      "\n",
      "SNR: 0, 2212.227%, test BER: 0.11061133444309235                \n",
      "\n",
      "SNR: 1, 1665.120%, test BER: 0.08325599879026413                \n",
      "\n",
      "SNR: 2, 1162.413%, test BER: 0.058120667934417725                \n",
      "\n",
      "SNR: 3, 751.187%, test BER: 0.03755933418869972                \n",
      "\n",
      "SNR: 4, 434.947%, test BER: 0.02174733392894268                \n",
      "\n",
      "TRAINING ITERATION #111/500\n"
     ]
    },
    {
     "name": "stderr",
     "output_type": "stream",
     "text": [
      " 33%|████████████████████████████████████████                                                                                | 1/3 [00:01<00:02,  1.34s/it]"
     ]
    },
    {
     "name": "stdout",
     "output_type": "stream",
     "text": [
      "[Epoch 1] train loss: 17.871; train acc: 14.52; test loss: 17.827; test acc: 14.53\n"
     ]
    },
    {
     "name": "stderr",
     "output_type": "stream",
     "text": [
      " 67%|████████████████████████████████████████████████████████████████████████████████                                        | 2/3 [00:02<00:01,  1.31s/it]"
     ]
    },
    {
     "name": "stdout",
     "output_type": "stream",
     "text": [
      "[Epoch 2] train loss: 17.866; train acc: 14.52; test loss: 17.825; test acc: 14.53\n"
     ]
    },
    {
     "name": "stderr",
     "output_type": "stream",
     "text": [
      "100%|████████████████████████████████████████████████████████████████████████████████████████████████████████████████████████| 3/3 [00:03<00:00,  1.31s/it]\n"
     ]
    },
    {
     "name": "stdout",
     "output_type": "stream",
     "text": [
      "[Epoch 3] train loss: 17.892; train acc: 14.52; test loss: 17.825; test acc: 14.53\n",
      "TRAINING ITERATION #112/500\n"
     ]
    },
    {
     "name": "stderr",
     "output_type": "stream",
     "text": [
      " 33%|████████████████████████████████████████                                                                                | 1/3 [00:01<00:02,  1.33s/it]"
     ]
    },
    {
     "name": "stdout",
     "output_type": "stream",
     "text": [
      "[Epoch 1] train loss: 17.843; train acc: 14.53; test loss: 17.862; test acc: 14.53\n"
     ]
    },
    {
     "name": "stderr",
     "output_type": "stream",
     "text": [
      " 67%|████████████████████████████████████████████████████████████████████████████████                                        | 2/3 [00:02<00:01,  1.30s/it]"
     ]
    },
    {
     "name": "stdout",
     "output_type": "stream",
     "text": [
      "[Epoch 2] train loss: 17.814; train acc: 14.53; test loss: 17.836; test acc: 14.53\n"
     ]
    },
    {
     "name": "stderr",
     "output_type": "stream",
     "text": [
      "100%|████████████████████████████████████████████████████████████████████████████████████████████████████████████████████████| 3/3 [00:03<00:00,  1.30s/it]\n"
     ]
    },
    {
     "name": "stdout",
     "output_type": "stream",
     "text": [
      "[Epoch 3] train loss: 17.834; train acc: 14.53; test loss: 17.847; test acc: 14.53\n",
      "TRAINING ITERATION #113/500\n"
     ]
    },
    {
     "name": "stderr",
     "output_type": "stream",
     "text": [
      " 33%|████████████████████████████████████████                                                                                | 1/3 [00:01<00:02,  1.34s/it]"
     ]
    },
    {
     "name": "stdout",
     "output_type": "stream",
     "text": [
      "[Epoch 1] train loss: 17.873; train acc: 14.53; test loss: 17.852; test acc: 14.52\n"
     ]
    },
    {
     "name": "stderr",
     "output_type": "stream",
     "text": [
      " 67%|████████████████████████████████████████████████████████████████████████████████                                        | 2/3 [00:02<00:01,  1.31s/it]"
     ]
    },
    {
     "name": "stdout",
     "output_type": "stream",
     "text": [
      "[Epoch 2] train loss: 17.881; train acc: 14.53; test loss: 17.823; test acc: 14.52\n"
     ]
    },
    {
     "name": "stderr",
     "output_type": "stream",
     "text": [
      "100%|████████████████████████████████████████████████████████████████████████████████████████████████████████████████████████| 3/3 [00:03<00:00,  1.31s/it]\n"
     ]
    },
    {
     "name": "stdout",
     "output_type": "stream",
     "text": [
      "[Epoch 3] train loss: 17.869; train acc: 14.53; test loss: 17.849; test acc: 14.52\n",
      "TRAINING ITERATION #114/500\n"
     ]
    },
    {
     "name": "stderr",
     "output_type": "stream",
     "text": [
      " 33%|████████████████████████████████████████                                                                                | 1/3 [00:01<00:02,  1.28s/it]"
     ]
    },
    {
     "name": "stdout",
     "output_type": "stream",
     "text": [
      "[Epoch 1] train loss: 17.837; train acc: 14.54; test loss: 17.895; test acc: 14.52\n"
     ]
    },
    {
     "name": "stderr",
     "output_type": "stream",
     "text": [
      " 67%|████████████████████████████████████████████████████████████████████████████████                                        | 2/3 [00:02<00:01,  1.32s/it]"
     ]
    },
    {
     "name": "stdout",
     "output_type": "stream",
     "text": [
      "[Epoch 2] train loss: 17.840; train acc: 14.54; test loss: 17.897; test acc: 14.52\n"
     ]
    },
    {
     "name": "stderr",
     "output_type": "stream",
     "text": [
      "100%|████████████████████████████████████████████████████████████████████████████████████████████████████████████████████████| 3/3 [00:03<00:00,  1.31s/it]\n"
     ]
    },
    {
     "name": "stdout",
     "output_type": "stream",
     "text": [
      "[Epoch 3] train loss: 17.838; train acc: 14.54; test loss: 17.905; test acc: 14.52\n",
      "TRAINING ITERATION #115/500\n"
     ]
    },
    {
     "name": "stderr",
     "output_type": "stream",
     "text": [
      " 33%|████████████████████████████████████████                                                                                | 1/3 [00:01<00:02,  1.28s/it]"
     ]
    },
    {
     "name": "stdout",
     "output_type": "stream",
     "text": [
      "[Epoch 1] train loss: 17.868; train acc: 14.53; test loss: 17.860; test acc: 14.52\n"
     ]
    },
    {
     "name": "stderr",
     "output_type": "stream",
     "text": [
      " 67%|████████████████████████████████████████████████████████████████████████████████                                        | 2/3 [00:02<00:01,  1.32s/it]"
     ]
    },
    {
     "name": "stdout",
     "output_type": "stream",
     "text": [
      "[Epoch 2] train loss: 17.844; train acc: 14.53; test loss: 17.858; test acc: 14.52\n"
     ]
    },
    {
     "name": "stderr",
     "output_type": "stream",
     "text": [
      "100%|████████████████████████████████████████████████████████████████████████████████████████████████████████████████████████| 3/3 [00:03<00:00,  1.31s/it]"
     ]
    },
    {
     "name": "stdout",
     "output_type": "stream",
     "text": [
      "[Epoch 3] train loss: 17.861; train acc: 14.53; test loss: 17.878; test acc: 14.52\n",
      "SNR: -10, 7037.813%, test BER: 0.3518906533718109                \n",
      "\n"
     ]
    },
    {
     "name": "stderr",
     "output_type": "stream",
     "text": [
      "\n"
     ]
    },
    {
     "name": "stdout",
     "output_type": "stream",
     "text": [
      "SNR: -9, 6699.360%, test BER: 0.3349680006504059                \n",
      "\n",
      "SNR: -8, 6347.800%, test BER: 0.31738999485969543                \n",
      "\n",
      "SNR: -7, 5929.600%, test BER: 0.2964800000190735                \n",
      "\n",
      "SNR: -6, 5472.454%, test BER: 0.27362266182899475                \n",
      "\n",
      "SNR: -5, 5000.960%, test BER: 0.2500480115413666                \n",
      "\n",
      "SNR: -4, 4462.867%, test BER: 0.2231433391571045                \n",
      "\n",
      "SNR: -3, 3942.067%, test BER: 0.1971033364534378                \n",
      "\n",
      "SNR: -2, 3360.467%, test BER: 0.16802333295345306                \n",
      "\n",
      "SNR: -1, 2783.147%, test BER: 0.13915733993053436                \n",
      "\n",
      "SNR: 0, 2219.160%, test BER: 0.11095800250768661                \n",
      "\n",
      "SNR: 1, 1662.000%, test BER: 0.08309999853372574                \n",
      "\n",
      "SNR: 2, 1170.720%, test BER: 0.05853600054979324                \n",
      "\n",
      "SNR: 3, 749.773%, test BER: 0.0374886654317379                \n",
      "\n",
      "SNR: 4, 436.627%, test BER: 0.02183133363723755                \n",
      "\n",
      "TRAINING ITERATION #116/500\n"
     ]
    },
    {
     "name": "stderr",
     "output_type": "stream",
     "text": [
      " 33%|████████████████████████████████████████                                                                                | 1/3 [00:01<00:02,  1.28s/it]"
     ]
    },
    {
     "name": "stdout",
     "output_type": "stream",
     "text": [
      "[Epoch 1] train loss: 17.868; train acc: 14.52; test loss: 17.824; test acc: 14.52\n"
     ]
    },
    {
     "name": "stderr",
     "output_type": "stream",
     "text": [
      " 67%|████████████████████████████████████████████████████████████████████████████████                                        | 2/3 [00:02<00:01,  1.32s/it]"
     ]
    },
    {
     "name": "stdout",
     "output_type": "stream",
     "text": [
      "[Epoch 2] train loss: 17.867; train acc: 14.53; test loss: 17.836; test acc: 14.52\n"
     ]
    },
    {
     "name": "stderr",
     "output_type": "stream",
     "text": [
      "100%|████████████████████████████████████████████████████████████████████████████████████████████████████████████████████████| 3/3 [00:03<00:00,  1.31s/it]\n"
     ]
    },
    {
     "name": "stdout",
     "output_type": "stream",
     "text": [
      "[Epoch 3] train loss: 17.862; train acc: 14.53; test loss: 17.816; test acc: 14.52\n",
      "TRAINING ITERATION #117/500\n"
     ]
    },
    {
     "name": "stderr",
     "output_type": "stream",
     "text": [
      " 33%|████████████████████████████████████████                                                                                | 1/3 [00:01<00:02,  1.28s/it]"
     ]
    },
    {
     "name": "stdout",
     "output_type": "stream",
     "text": [
      "[Epoch 1] train loss: 17.852; train acc: 14.52; test loss: 17.856; test acc: 14.53\n"
     ]
    },
    {
     "name": "stderr",
     "output_type": "stream",
     "text": [
      " 67%|████████████████████████████████████████████████████████████████████████████████                                        | 2/3 [00:02<00:01,  1.31s/it]"
     ]
    },
    {
     "name": "stdout",
     "output_type": "stream",
     "text": [
      "[Epoch 2] train loss: 17.852; train acc: 14.52; test loss: 17.854; test acc: 14.53\n"
     ]
    },
    {
     "name": "stderr",
     "output_type": "stream",
     "text": [
      "100%|████████████████████████████████████████████████████████████████████████████████████████████████████████████████████████| 3/3 [00:03<00:00,  1.31s/it]\n"
     ]
    },
    {
     "name": "stdout",
     "output_type": "stream",
     "text": [
      "[Epoch 3] train loss: 17.841; train acc: 14.52; test loss: 17.852; test acc: 14.53\n",
      "TRAINING ITERATION #118/500\n"
     ]
    },
    {
     "name": "stderr",
     "output_type": "stream",
     "text": [
      " 33%|████████████████████████████████████████                                                                                | 1/3 [00:01<00:02,  1.27s/it]"
     ]
    },
    {
     "name": "stdout",
     "output_type": "stream",
     "text": [
      "[Epoch 1] train loss: 17.895; train acc: 14.53; test loss: 17.868; test acc: 14.53\n"
     ]
    },
    {
     "name": "stderr",
     "output_type": "stream",
     "text": [
      " 67%|████████████████████████████████████████████████████████████████████████████████                                        | 2/3 [00:02<00:01,  1.31s/it]"
     ]
    },
    {
     "name": "stdout",
     "output_type": "stream",
     "text": [
      "[Epoch 2] train loss: 17.907; train acc: 14.53; test loss: 17.888; test acc: 14.53\n"
     ]
    },
    {
     "name": "stderr",
     "output_type": "stream",
     "text": [
      "100%|████████████████████████████████████████████████████████████████████████████████████████████████████████████████████████| 3/3 [00:03<00:00,  1.30s/it]\n"
     ]
    },
    {
     "name": "stdout",
     "output_type": "stream",
     "text": [
      "[Epoch 3] train loss: 17.907; train acc: 14.53; test loss: 17.876; test acc: 14.53\n",
      "TRAINING ITERATION #119/500\n"
     ]
    },
    {
     "name": "stderr",
     "output_type": "stream",
     "text": [
      " 33%|████████████████████████████████████████                                                                                | 1/3 [00:01<00:02,  1.27s/it]"
     ]
    },
    {
     "name": "stdout",
     "output_type": "stream",
     "text": [
      "[Epoch 1] train loss: 17.815; train acc: 14.53; test loss: 17.837; test acc: 14.53\n"
     ]
    },
    {
     "name": "stderr",
     "output_type": "stream",
     "text": [
      " 67%|████████████████████████████████████████████████████████████████████████████████                                        | 2/3 [00:02<00:01,  1.31s/it]"
     ]
    },
    {
     "name": "stdout",
     "output_type": "stream",
     "text": [
      "[Epoch 2] train loss: 17.814; train acc: 14.53; test loss: 17.822; test acc: 14.53\n"
     ]
    },
    {
     "name": "stderr",
     "output_type": "stream",
     "text": [
      "100%|████████████████████████████████████████████████████████████████████████████████████████████████████████████████████████| 3/3 [00:03<00:00,  1.31s/it]\n"
     ]
    },
    {
     "name": "stdout",
     "output_type": "stream",
     "text": [
      "[Epoch 3] train loss: 17.818; train acc: 14.53; test loss: 17.833; test acc: 14.53\n",
      "TRAINING ITERATION #120/500\n"
     ]
    },
    {
     "name": "stderr",
     "output_type": "stream",
     "text": [
      " 33%|████████████████████████████████████████                                                                                | 1/3 [00:01<00:02,  1.27s/it]"
     ]
    },
    {
     "name": "stdout",
     "output_type": "stream",
     "text": [
      "[Epoch 1] train loss: 17.895; train acc: 14.53; test loss: 17.894; test acc: 14.53\n"
     ]
    },
    {
     "name": "stderr",
     "output_type": "stream",
     "text": [
      " 67%|████████████████████████████████████████████████████████████████████████████████                                        | 2/3 [00:02<00:01,  1.31s/it]"
     ]
    },
    {
     "name": "stdout",
     "output_type": "stream",
     "text": [
      "[Epoch 2] train loss: 17.866; train acc: 14.53; test loss: 17.886; test acc: 14.53\n"
     ]
    },
    {
     "name": "stderr",
     "output_type": "stream",
     "text": [
      "100%|████████████████████████████████████████████████████████████████████████████████████████████████████████████████████████| 3/3 [00:03<00:00,  1.31s/it]"
     ]
    },
    {
     "name": "stdout",
     "output_type": "stream",
     "text": [
      "[Epoch 3] train loss: 17.892; train acc: 14.53; test loss: 17.894; test acc: 14.53\n",
      "SNR: -10, 7053.960%, test BER: 0.3526979982852936                \n",
      "\n"
     ]
    },
    {
     "name": "stderr",
     "output_type": "stream",
     "text": [
      "\n"
     ]
    },
    {
     "name": "stdout",
     "output_type": "stream",
     "text": [
      "SNR: -9, 6706.707%, test BER: 0.3353353440761566                \n",
      "\n",
      "SNR: -8, 6327.107%, test BER: 0.3163553476333618                \n",
      "\n",
      "SNR: -7, 5925.414%, test BER: 0.2962706685066223                \n",
      "\n",
      "SNR: -6, 5484.880%, test BER: 0.2742440104484558                \n",
      "\n",
      "SNR: -5, 5007.227%, test BER: 0.2503613233566284                \n",
      "\n",
      "SNR: -4, 4490.333%, test BER: 0.22451665997505188                \n",
      "\n",
      "SNR: -3, 3941.707%, test BER: 0.19708533585071564                \n",
      "\n",
      "SNR: -2, 3369.947%, test BER: 0.16849733889102936                \n",
      "\n",
      "SNR: -1, 2789.973%, test BER: 0.13949866592884064                \n",
      "\n",
      "SNR: 0, 2205.427%, test BER: 0.11027133464813232                \n",
      "\n",
      "SNR: 1, 1664.173%, test BER: 0.08320866525173187                \n",
      "\n",
      "SNR: 2, 1164.493%, test BER: 0.058224666863679886                \n",
      "\n",
      "SNR: 3, 747.560%, test BER: 0.03737799823284149                \n",
      "\n",
      "SNR: 4, 437.933%, test BER: 0.021896665915846825                \n",
      "\n",
      "TRAINING ITERATION #121/500\n"
     ]
    },
    {
     "name": "stderr",
     "output_type": "stream",
     "text": [
      " 33%|████████████████████████████████████████                                                                                | 1/3 [00:01<00:02,  1.29s/it]"
     ]
    },
    {
     "name": "stdout",
     "output_type": "stream",
     "text": [
      "[Epoch 1] train loss: 17.880; train acc: 14.52; test loss: 17.893; test acc: 14.52\n"
     ]
    },
    {
     "name": "stderr",
     "output_type": "stream",
     "text": [
      " 67%|████████████████████████████████████████████████████████████████████████████████                                        | 2/3 [00:02<00:01,  1.32s/it]"
     ]
    },
    {
     "name": "stdout",
     "output_type": "stream",
     "text": [
      "[Epoch 2] train loss: 17.879; train acc: 14.52; test loss: 17.892; test acc: 14.52\n"
     ]
    },
    {
     "name": "stderr",
     "output_type": "stream",
     "text": [
      "100%|████████████████████████████████████████████████████████████████████████████████████████████████████████████████████████| 3/3 [00:03<00:00,  1.32s/it]\n"
     ]
    },
    {
     "name": "stdout",
     "output_type": "stream",
     "text": [
      "[Epoch 3] train loss: 17.890; train acc: 14.52; test loss: 17.910; test acc: 14.52\n",
      "TRAINING ITERATION #122/500\n"
     ]
    },
    {
     "name": "stderr",
     "output_type": "stream",
     "text": [
      " 33%|████████████████████████████████████████                                                                                | 1/3 [00:01<00:02,  1.35s/it]"
     ]
    },
    {
     "name": "stdout",
     "output_type": "stream",
     "text": [
      "[Epoch 1] train loss: 17.889; train acc: 14.53; test loss: 17.851; test acc: 14.54\n"
     ]
    },
    {
     "name": "stderr",
     "output_type": "stream",
     "text": [
      " 67%|████████████████████████████████████████████████████████████████████████████████                                        | 2/3 [00:02<00:01,  1.32s/it]"
     ]
    },
    {
     "name": "stdout",
     "output_type": "stream",
     "text": [
      "[Epoch 2] train loss: 17.893; train acc: 14.53; test loss: 17.858; test acc: 14.54\n"
     ]
    },
    {
     "name": "stderr",
     "output_type": "stream",
     "text": [
      "100%|████████████████████████████████████████████████████████████████████████████████████████████████████████████████████████| 3/3 [00:03<00:00,  1.32s/it]\n"
     ]
    },
    {
     "name": "stdout",
     "output_type": "stream",
     "text": [
      "[Epoch 3] train loss: 17.884; train acc: 14.53; test loss: 17.860; test acc: 14.54\n",
      "TRAINING ITERATION #123/500\n"
     ]
    },
    {
     "name": "stderr",
     "output_type": "stream",
     "text": [
      " 33%|████████████████████████████████████████                                                                                | 1/3 [00:01<00:02,  1.27s/it]"
     ]
    },
    {
     "name": "stdout",
     "output_type": "stream",
     "text": [
      "[Epoch 1] train loss: 17.814; train acc: 14.52; test loss: 17.816; test acc: 14.54\n"
     ]
    },
    {
     "name": "stderr",
     "output_type": "stream",
     "text": [
      " 67%|████████████████████████████████████████████████████████████████████████████████                                        | 2/3 [00:02<00:01,  1.31s/it]"
     ]
    },
    {
     "name": "stdout",
     "output_type": "stream",
     "text": [
      "[Epoch 2] train loss: 17.819; train acc: 14.52; test loss: 17.812; test acc: 14.54\n"
     ]
    },
    {
     "name": "stderr",
     "output_type": "stream",
     "text": [
      "100%|████████████████████████████████████████████████████████████████████████████████████████████████████████████████████████| 3/3 [00:03<00:00,  1.31s/it]\n"
     ]
    },
    {
     "name": "stdout",
     "output_type": "stream",
     "text": [
      "[Epoch 3] train loss: 17.824; train acc: 14.52; test loss: 17.812; test acc: 14.54\n",
      "TRAINING ITERATION #124/500\n"
     ]
    },
    {
     "name": "stderr",
     "output_type": "stream",
     "text": [
      " 33%|████████████████████████████████████████                                                                                | 1/3 [00:01<00:02,  1.27s/it]"
     ]
    },
    {
     "name": "stdout",
     "output_type": "stream",
     "text": [
      "[Epoch 1] train loss: 17.865; train acc: 14.52; test loss: 17.877; test acc: 14.52\n"
     ]
    },
    {
     "name": "stderr",
     "output_type": "stream",
     "text": [
      " 67%|████████████████████████████████████████████████████████████████████████████████                                        | 2/3 [00:02<00:01,  1.31s/it]"
     ]
    },
    {
     "name": "stdout",
     "output_type": "stream",
     "text": [
      "[Epoch 2] train loss: 17.858; train acc: 14.52; test loss: 17.880; test acc: 14.52\n"
     ]
    },
    {
     "name": "stderr",
     "output_type": "stream",
     "text": [
      "100%|████████████████████████████████████████████████████████████████████████████████████████████████████████████████████████| 3/3 [00:03<00:00,  1.31s/it]\n"
     ]
    },
    {
     "name": "stdout",
     "output_type": "stream",
     "text": [
      "[Epoch 3] train loss: 17.867; train acc: 14.52; test loss: 17.893; test acc: 14.52\n",
      "TRAINING ITERATION #125/500\n"
     ]
    },
    {
     "name": "stderr",
     "output_type": "stream",
     "text": [
      " 33%|████████████████████████████████████████                                                                                | 1/3 [00:01<00:02,  1.28s/it]"
     ]
    },
    {
     "name": "stdout",
     "output_type": "stream",
     "text": [
      "[Epoch 1] train loss: 17.818; train acc: 14.53; test loss: 17.880; test acc: 14.53\n"
     ]
    },
    {
     "name": "stderr",
     "output_type": "stream",
     "text": [
      " 67%|████████████████████████████████████████████████████████████████████████████████                                        | 2/3 [00:02<00:01,  1.33s/it]"
     ]
    },
    {
     "name": "stdout",
     "output_type": "stream",
     "text": [
      "[Epoch 2] train loss: 17.817; train acc: 14.53; test loss: 17.876; test acc: 14.53\n"
     ]
    },
    {
     "name": "stderr",
     "output_type": "stream",
     "text": [
      "100%|████████████████████████████████████████████████████████████████████████████████████████████████████████████████████████| 3/3 [00:03<00:00,  1.31s/it]"
     ]
    },
    {
     "name": "stdout",
     "output_type": "stream",
     "text": [
      "[Epoch 3] train loss: 17.813; train acc: 14.53; test loss: 17.879; test acc: 14.53\n",
      "SNR: -10, 7051.640%, test BER: 0.35258200764656067                \n",
      "\n"
     ]
    },
    {
     "name": "stderr",
     "output_type": "stream",
     "text": [
      "\n"
     ]
    },
    {
     "name": "stdout",
     "output_type": "stream",
     "text": [
      "SNR: -9, 6711.720%, test BER: 0.3355860114097595                \n",
      "\n",
      "SNR: -8, 6337.013%, test BER: 0.3168506622314453                \n",
      "\n",
      "SNR: -7, 5908.693%, test BER: 0.2954346537590027                \n",
      "\n",
      "SNR: -6, 5479.854%, test BER: 0.273992657661438                \n",
      "\n",
      "SNR: -5, 5001.627%, test BER: 0.250081330537796                \n",
      "\n",
      "SNR: -4, 4478.013%, test BER: 0.2239006608724594                \n",
      "\n",
      "SNR: -3, 3945.147%, test BER: 0.19725733995437622                \n",
      "\n",
      "SNR: -2, 3362.907%, test BER: 0.1681453287601471                \n",
      "\n",
      "SNR: -1, 2784.493%, test BER: 0.13922466337680817                \n",
      "\n",
      "SNR: 0, 2223.427%, test BER: 0.11117133498191833                \n",
      "\n",
      "SNR: 1, 1658.520%, test BER: 0.08292599767446518                \n",
      "\n",
      "SNR: 2, 1155.227%, test BER: 0.057761333882808685                \n",
      "\n",
      "SNR: 3, 739.720%, test BER: 0.03698600083589554                \n",
      "\n",
      "SNR: 4, 434.267%, test BER: 0.02171333320438862                \n",
      "\n",
      "TRAINING ITERATION #126/500\n"
     ]
    },
    {
     "name": "stderr",
     "output_type": "stream",
     "text": [
      " 33%|████████████████████████████████████████                                                                                | 1/3 [00:01<00:02,  1.27s/it]"
     ]
    },
    {
     "name": "stdout",
     "output_type": "stream",
     "text": [
      "[Epoch 1] train loss: 17.817; train acc: 14.53; test loss: 17.846; test acc: 14.53\n"
     ]
    },
    {
     "name": "stderr",
     "output_type": "stream",
     "text": [
      " 67%|████████████████████████████████████████████████████████████████████████████████                                        | 2/3 [00:02<00:01,  1.31s/it]"
     ]
    },
    {
     "name": "stdout",
     "output_type": "stream",
     "text": [
      "[Epoch 2] train loss: 17.818; train acc: 14.53; test loss: 17.844; test acc: 14.53\n"
     ]
    },
    {
     "name": "stderr",
     "output_type": "stream",
     "text": [
      "100%|████████████████████████████████████████████████████████████████████████████████████████████████████████████████████████| 3/3 [00:03<00:00,  1.30s/it]\n"
     ]
    },
    {
     "name": "stdout",
     "output_type": "stream",
     "text": [
      "[Epoch 3] train loss: 17.814; train acc: 14.53; test loss: 17.849; test acc: 14.53\n",
      "TRAINING ITERATION #127/500\n"
     ]
    },
    {
     "name": "stderr",
     "output_type": "stream",
     "text": [
      " 33%|████████████████████████████████████████                                                                                | 1/3 [00:01<00:02,  1.27s/it]"
     ]
    },
    {
     "name": "stdout",
     "output_type": "stream",
     "text": [
      "[Epoch 1] train loss: 17.873; train acc: 14.53; test loss: 17.846; test acc: 14.53\n"
     ]
    },
    {
     "name": "stderr",
     "output_type": "stream",
     "text": [
      " 67%|████████████████████████████████████████████████████████████████████████████████                                        | 2/3 [00:02<00:01,  1.31s/it]"
     ]
    },
    {
     "name": "stdout",
     "output_type": "stream",
     "text": [
      "[Epoch 2] train loss: 17.865; train acc: 14.53; test loss: 17.843; test acc: 14.53\n"
     ]
    },
    {
     "name": "stderr",
     "output_type": "stream",
     "text": [
      "100%|████████████████████████████████████████████████████████████████████████████████████████████████████████████████████████| 3/3 [00:03<00:00,  1.30s/it]\n"
     ]
    },
    {
     "name": "stdout",
     "output_type": "stream",
     "text": [
      "[Epoch 3] train loss: 17.867; train acc: 14.53; test loss: 17.857; test acc: 14.53\n",
      "TRAINING ITERATION #128/500\n"
     ]
    },
    {
     "name": "stderr",
     "output_type": "stream",
     "text": [
      " 33%|████████████████████████████████████████                                                                                | 1/3 [00:01<00:02,  1.26s/it]"
     ]
    },
    {
     "name": "stdout",
     "output_type": "stream",
     "text": [
      "[Epoch 1] train loss: 17.819; train acc: 14.54; test loss: 17.833; test acc: 14.53\n"
     ]
    },
    {
     "name": "stderr",
     "output_type": "stream",
     "text": [
      " 67%|████████████████████████████████████████████████████████████████████████████████                                        | 2/3 [00:02<00:01,  1.30s/it]"
     ]
    },
    {
     "name": "stdout",
     "output_type": "stream",
     "text": [
      "[Epoch 2] train loss: 17.846; train acc: 14.54; test loss: 17.837; test acc: 14.53\n"
     ]
    },
    {
     "name": "stderr",
     "output_type": "stream",
     "text": [
      "100%|████████████████████████████████████████████████████████████████████████████████████████████████████████████████████████| 3/3 [00:03<00:00,  1.29s/it]\n"
     ]
    },
    {
     "name": "stdout",
     "output_type": "stream",
     "text": [
      "[Epoch 3] train loss: 17.845; train acc: 14.54; test loss: 17.827; test acc: 14.53\n",
      "TRAINING ITERATION #129/500\n"
     ]
    },
    {
     "name": "stderr",
     "output_type": "stream",
     "text": [
      " 33%|████████████████████████████████████████                                                                                | 1/3 [00:01<00:02,  1.27s/it]"
     ]
    },
    {
     "name": "stdout",
     "output_type": "stream",
     "text": [
      "[Epoch 1] train loss: 17.866; train acc: 14.52; test loss: 17.874; test acc: 14.53\n"
     ]
    },
    {
     "name": "stderr",
     "output_type": "stream",
     "text": [
      " 67%|████████████████████████████████████████████████████████████████████████████████                                        | 2/3 [00:02<00:01,  1.33s/it]"
     ]
    },
    {
     "name": "stdout",
     "output_type": "stream",
     "text": [
      "[Epoch 2] train loss: 17.867; train acc: 14.53; test loss: 17.892; test acc: 14.53\n"
     ]
    },
    {
     "name": "stderr",
     "output_type": "stream",
     "text": [
      "100%|████████████████████████████████████████████████████████████████████████████████████████████████████████████████████████| 3/3 [00:03<00:00,  1.32s/it]\n"
     ]
    },
    {
     "name": "stdout",
     "output_type": "stream",
     "text": [
      "[Epoch 3] train loss: 17.866; train acc: 14.53; test loss: 17.903; test acc: 14.53\n",
      "TRAINING ITERATION #130/500\n"
     ]
    },
    {
     "name": "stderr",
     "output_type": "stream",
     "text": [
      " 33%|████████████████████████████████████████                                                                                | 1/3 [00:01<00:02,  1.27s/it]"
     ]
    },
    {
     "name": "stdout",
     "output_type": "stream",
     "text": [
      "[Epoch 1] train loss: 17.868; train acc: 14.53; test loss: 17.900; test acc: 14.53\n"
     ]
    },
    {
     "name": "stderr",
     "output_type": "stream",
     "text": [
      " 67%|████████████████████████████████████████████████████████████████████████████████                                        | 2/3 [00:02<00:01,  1.31s/it]"
     ]
    },
    {
     "name": "stdout",
     "output_type": "stream",
     "text": [
      "[Epoch 2] train loss: 17.862; train acc: 14.53; test loss: 17.888; test acc: 14.53\n"
     ]
    },
    {
     "name": "stderr",
     "output_type": "stream",
     "text": [
      "100%|████████████████████████████████████████████████████████████████████████████████████████████████████████████████████████| 3/3 [00:03<00:00,  1.30s/it]"
     ]
    },
    {
     "name": "stdout",
     "output_type": "stream",
     "text": [
      "[Epoch 3] train loss: 17.854; train acc: 14.53; test loss: 17.884; test acc: 14.53\n",
      "SNR: -10, 7041.613%, test BER: 0.35208067297935486                \n",
      "\n"
     ]
    },
    {
     "name": "stderr",
     "output_type": "stream",
     "text": [
      "\n"
     ]
    },
    {
     "name": "stdout",
     "output_type": "stream",
     "text": [
      "SNR: -9, 6696.533%, test BER: 0.33482667803764343                \n",
      "\n",
      "SNR: -8, 6346.013%, test BER: 0.3173006772994995                \n",
      "\n",
      "SNR: -7, 5933.320%, test BER: 0.2966659963130951                \n",
      "\n",
      "SNR: -6, 5475.560%, test BER: 0.2737779915332794                \n",
      "\n",
      "SNR: -5, 4994.227%, test BER: 0.24971133470535278                \n",
      "\n",
      "SNR: -4, 4488.067%, test BER: 0.22440333664417267                \n",
      "\n",
      "SNR: -3, 3939.093%, test BER: 0.1969546675682068                \n",
      "\n",
      "SNR: -2, 3366.013%, test BER: 0.16830067336559296                \n",
      "\n",
      "SNR: -1, 2792.440%, test BER: 0.13962200284004211                \n",
      "\n",
      "SNR: 0, 2213.413%, test BER: 0.11067066341638565                \n",
      "\n",
      "SNR: 1, 1660.467%, test BER: 0.08302333205938339                \n",
      "\n",
      "SNR: 2, 1162.040%, test BER: 0.05810200050473213                \n",
      "\n",
      "SNR: 3, 748.507%, test BER: 0.03742533177137375                \n",
      "\n",
      "SNR: 4, 432.747%, test BER: 0.021637333557009697                \n",
      "\n",
      "TRAINING ITERATION #131/500\n"
     ]
    },
    {
     "name": "stderr",
     "output_type": "stream",
     "text": [
      " 33%|████████████████████████████████████████                                                                                | 1/3 [00:01<00:02,  1.35s/it]"
     ]
    },
    {
     "name": "stdout",
     "output_type": "stream",
     "text": [
      "[Epoch 1] train loss: 17.857; train acc: 14.53; test loss: 17.871; test acc: 14.54\n"
     ]
    },
    {
     "name": "stderr",
     "output_type": "stream",
     "text": [
      " 67%|████████████████████████████████████████████████████████████████████████████████                                        | 2/3 [00:02<00:01,  1.31s/it]"
     ]
    },
    {
     "name": "stdout",
     "output_type": "stream",
     "text": [
      "[Epoch 2] train loss: 17.850; train acc: 14.53; test loss: 17.870; test acc: 14.54\n"
     ]
    },
    {
     "name": "stderr",
     "output_type": "stream",
     "text": [
      "100%|████████████████████████████████████████████████████████████████████████████████████████████████████████████████████████| 3/3 [00:03<00:00,  1.31s/it]\n"
     ]
    },
    {
     "name": "stdout",
     "output_type": "stream",
     "text": [
      "[Epoch 3] train loss: 17.844; train acc: 14.53; test loss: 17.875; test acc: 14.54\n",
      "TRAINING ITERATION #132/500\n"
     ]
    },
    {
     "name": "stderr",
     "output_type": "stream",
     "text": [
      " 33%|████████████████████████████████████████                                                                                | 1/3 [00:01<00:02,  1.33s/it]"
     ]
    },
    {
     "name": "stdout",
     "output_type": "stream",
     "text": [
      "[Epoch 1] train loss: 17.845; train acc: 14.53; test loss: 17.860; test acc: 14.53\n"
     ]
    },
    {
     "name": "stderr",
     "output_type": "stream",
     "text": [
      " 67%|████████████████████████████████████████████████████████████████████████████████                                        | 2/3 [00:02<00:01,  1.30s/it]"
     ]
    },
    {
     "name": "stdout",
     "output_type": "stream",
     "text": [
      "[Epoch 2] train loss: 17.850; train acc: 14.53; test loss: 17.871; test acc: 14.53\n"
     ]
    },
    {
     "name": "stderr",
     "output_type": "stream",
     "text": [
      "100%|████████████████████████████████████████████████████████████████████████████████████████████████████████████████████████| 3/3 [00:03<00:00,  1.33s/it]\n"
     ]
    },
    {
     "name": "stdout",
     "output_type": "stream",
     "text": [
      "[Epoch 3] train loss: 17.840; train acc: 14.53; test loss: 17.860; test acc: 14.53\n",
      "TRAINING ITERATION #133/500\n"
     ]
    },
    {
     "name": "stderr",
     "output_type": "stream",
     "text": [
      " 33%|████████████████████████████████████████                                                                                | 1/3 [00:01<00:02,  1.34s/it]"
     ]
    },
    {
     "name": "stdout",
     "output_type": "stream",
     "text": [
      "[Epoch 1] train loss: 17.816; train acc: 14.53; test loss: 17.882; test acc: 14.53\n"
     ]
    },
    {
     "name": "stderr",
     "output_type": "stream",
     "text": [
      " 67%|████████████████████████████████████████████████████████████████████████████████                                        | 2/3 [00:02<00:01,  1.31s/it]"
     ]
    },
    {
     "name": "stdout",
     "output_type": "stream",
     "text": [
      "[Epoch 2] train loss: 17.824; train acc: 14.53; test loss: 17.886; test acc: 14.53\n"
     ]
    },
    {
     "name": "stderr",
     "output_type": "stream",
     "text": [
      "100%|████████████████████████████████████████████████████████████████████████████████████████████████████████████████████████| 3/3 [00:03<00:00,  1.31s/it]\n"
     ]
    },
    {
     "name": "stdout",
     "output_type": "stream",
     "text": [
      "[Epoch 3] train loss: 17.819; train acc: 14.53; test loss: 17.897; test acc: 14.53\n",
      "TRAINING ITERATION #134/500\n"
     ]
    },
    {
     "name": "stderr",
     "output_type": "stream",
     "text": [
      " 33%|████████████████████████████████████████                                                                                | 1/3 [00:01<00:02,  1.27s/it]"
     ]
    },
    {
     "name": "stdout",
     "output_type": "stream",
     "text": [
      "[Epoch 1] train loss: 17.887; train acc: 14.53; test loss: 17.845; test acc: 14.53\n"
     ]
    },
    {
     "name": "stderr",
     "output_type": "stream",
     "text": [
      " 67%|████████████████████████████████████████████████████████████████████████████████                                        | 2/3 [00:02<00:01,  1.31s/it]"
     ]
    },
    {
     "name": "stdout",
     "output_type": "stream",
     "text": [
      "[Epoch 2] train loss: 17.889; train acc: 14.53; test loss: 17.852; test acc: 14.53\n"
     ]
    },
    {
     "name": "stderr",
     "output_type": "stream",
     "text": [
      "100%|████████████████████████████████████████████████████████████████████████████████████████████████████████████████████████| 3/3 [00:03<00:00,  1.30s/it]\n"
     ]
    },
    {
     "name": "stdout",
     "output_type": "stream",
     "text": [
      "[Epoch 3] train loss: 17.884; train acc: 14.53; test loss: 17.848; test acc: 14.53\n",
      "TRAINING ITERATION #135/500\n"
     ]
    },
    {
     "name": "stderr",
     "output_type": "stream",
     "text": [
      " 33%|████████████████████████████████████████                                                                                | 1/3 [00:01<00:02,  1.28s/it]"
     ]
    },
    {
     "name": "stdout",
     "output_type": "stream",
     "text": [
      "[Epoch 1] train loss: 17.859; train acc: 14.53; test loss: 17.891; test acc: 14.53\n"
     ]
    },
    {
     "name": "stderr",
     "output_type": "stream",
     "text": [
      " 67%|████████████████████████████████████████████████████████████████████████████████                                        | 2/3 [00:02<00:01,  1.33s/it]"
     ]
    },
    {
     "name": "stdout",
     "output_type": "stream",
     "text": [
      "[Epoch 2] train loss: 17.840; train acc: 14.53; test loss: 17.880; test acc: 14.53\n"
     ]
    },
    {
     "name": "stderr",
     "output_type": "stream",
     "text": [
      "100%|████████████████████████████████████████████████████████████████████████████████████████████████████████████████████████| 3/3 [00:03<00:00,  1.31s/it]"
     ]
    },
    {
     "name": "stdout",
     "output_type": "stream",
     "text": [
      "[Epoch 3] train loss: 17.838; train acc: 14.53; test loss: 17.897; test acc: 14.53\n",
      "SNR: -10, 7048.133%, test BER: 0.35240668058395386                \n",
      "\n"
     ]
    },
    {
     "name": "stderr",
     "output_type": "stream",
     "text": [
      "\n"
     ]
    },
    {
     "name": "stdout",
     "output_type": "stream",
     "text": [
      "SNR: -9, 6707.040%, test BER: 0.33535200357437134                \n",
      "\n",
      "SNR: -8, 6324.560%, test BER: 0.3162280023097992                \n",
      "\n",
      "SNR: -7, 5909.067%, test BER: 0.29545333981513977                \n",
      "\n",
      "SNR: -6, 5486.120%, test BER: 0.2743059992790222                \n",
      "\n",
      "SNR: -5, 5007.374%, test BER: 0.2503686547279358                \n",
      "\n",
      "SNR: -4, 4464.347%, test BER: 0.22321733832359314                \n",
      "\n",
      "SNR: -3, 3924.320%, test BER: 0.19621600210666656                \n",
      "\n",
      "SNR: -2, 3364.093%, test BER: 0.168204665184021                \n",
      "\n",
      "SNR: -1, 2796.133%, test BER: 0.13980667293071747                \n",
      "\n",
      "SNR: 0, 2203.280%, test BER: 0.11016400158405304                \n",
      "\n",
      "SNR: 1, 1655.467%, test BER: 0.08277333527803421                \n",
      "\n",
      "SNR: 2, 1159.333%, test BER: 0.05796666815876961                \n",
      "\n",
      "SNR: 3, 742.947%, test BER: 0.03714733198285103                \n",
      "\n",
      "SNR: 4, 433.693%, test BER: 0.021684667095541954                \n",
      "\n",
      "TRAINING ITERATION #136/500\n"
     ]
    },
    {
     "name": "stderr",
     "output_type": "stream",
     "text": [
      " 33%|████████████████████████████████████████                                                                                | 1/3 [00:01<00:02,  1.29s/it]"
     ]
    },
    {
     "name": "stdout",
     "output_type": "stream",
     "text": [
      "[Epoch 1] train loss: 17.867; train acc: 14.53; test loss: 17.893; test acc: 14.54\n"
     ]
    },
    {
     "name": "stderr",
     "output_type": "stream",
     "text": [
      " 67%|████████████████████████████████████████████████████████████████████████████████                                        | 2/3 [00:02<00:01,  1.32s/it]"
     ]
    },
    {
     "name": "stdout",
     "output_type": "stream",
     "text": [
      "[Epoch 2] train loss: 17.875; train acc: 14.53; test loss: 17.906; test acc: 14.54\n"
     ]
    },
    {
     "name": "stderr",
     "output_type": "stream",
     "text": [
      "100%|████████████████████████████████████████████████████████████████████████████████████████████████████████████████████████| 3/3 [00:03<00:00,  1.31s/it]\n"
     ]
    },
    {
     "name": "stdout",
     "output_type": "stream",
     "text": [
      "[Epoch 3] train loss: 17.871; train acc: 14.53; test loss: 17.908; test acc: 14.54\n",
      "TRAINING ITERATION #137/500\n"
     ]
    },
    {
     "name": "stderr",
     "output_type": "stream",
     "text": [
      " 33%|████████████████████████████████████████                                                                                | 1/3 [00:01<00:02,  1.29s/it]"
     ]
    },
    {
     "name": "stdout",
     "output_type": "stream",
     "text": [
      "[Epoch 1] train loss: 17.859; train acc: 14.53; test loss: 17.910; test acc: 14.53\n"
     ]
    },
    {
     "name": "stderr",
     "output_type": "stream",
     "text": [
      " 67%|████████████████████████████████████████████████████████████████████████████████                                        | 2/3 [00:02<00:01,  1.32s/it]"
     ]
    },
    {
     "name": "stdout",
     "output_type": "stream",
     "text": [
      "[Epoch 2] train loss: 17.855; train acc: 14.53; test loss: 17.905; test acc: 14.53\n"
     ]
    },
    {
     "name": "stderr",
     "output_type": "stream",
     "text": [
      "100%|████████████████████████████████████████████████████████████████████████████████████████████████████████████████████████| 3/3 [00:03<00:00,  1.31s/it]\n"
     ]
    },
    {
     "name": "stdout",
     "output_type": "stream",
     "text": [
      "[Epoch 3] train loss: 17.853; train acc: 14.53; test loss: 17.898; test acc: 14.53\n",
      "TRAINING ITERATION #138/500\n"
     ]
    },
    {
     "name": "stderr",
     "output_type": "stream",
     "text": [
      " 33%|████████████████████████████████████████                                                                                | 1/3 [00:01<00:02,  1.28s/it]"
     ]
    },
    {
     "name": "stdout",
     "output_type": "stream",
     "text": [
      "[Epoch 1] train loss: 17.890; train acc: 14.53; test loss: 17.866; test acc: 14.53\n"
     ]
    },
    {
     "name": "stderr",
     "output_type": "stream",
     "text": [
      " 67%|████████████████████████████████████████████████████████████████████████████████                                        | 2/3 [00:02<00:01,  1.32s/it]"
     ]
    },
    {
     "name": "stdout",
     "output_type": "stream",
     "text": [
      "[Epoch 2] train loss: 17.890; train acc: 14.53; test loss: 17.865; test acc: 14.53\n"
     ]
    },
    {
     "name": "stderr",
     "output_type": "stream",
     "text": [
      "100%|████████████████████████████████████████████████████████████████████████████████████████████████████████████████████████| 3/3 [00:03<00:00,  1.31s/it]\n"
     ]
    },
    {
     "name": "stdout",
     "output_type": "stream",
     "text": [
      "[Epoch 3] train loss: 17.896; train acc: 14.53; test loss: 17.854; test acc: 14.53\n",
      "TRAINING ITERATION #139/500\n"
     ]
    },
    {
     "name": "stderr",
     "output_type": "stream",
     "text": [
      " 33%|████████████████████████████████████████                                                                                | 1/3 [00:01<00:02,  1.28s/it]"
     ]
    },
    {
     "name": "stdout",
     "output_type": "stream",
     "text": [
      "[Epoch 1] train loss: 17.904; train acc: 14.53; test loss: 17.881; test acc: 14.53\n"
     ]
    },
    {
     "name": "stderr",
     "output_type": "stream",
     "text": [
      " 67%|████████████████████████████████████████████████████████████████████████████████                                        | 2/3 [00:02<00:01,  1.32s/it]"
     ]
    },
    {
     "name": "stdout",
     "output_type": "stream",
     "text": [
      "[Epoch 2] train loss: 17.876; train acc: 14.53; test loss: 17.879; test acc: 14.53\n"
     ]
    },
    {
     "name": "stderr",
     "output_type": "stream",
     "text": [
      "100%|████████████████████████████████████████████████████████████████████████████████████████████████████████████████████████| 3/3 [00:03<00:00,  1.31s/it]\n"
     ]
    },
    {
     "name": "stdout",
     "output_type": "stream",
     "text": [
      "[Epoch 3] train loss: 17.897; train acc: 14.53; test loss: 17.875; test acc: 14.53\n",
      "TRAINING ITERATION #140/500\n"
     ]
    },
    {
     "name": "stderr",
     "output_type": "stream",
     "text": [
      " 33%|████████████████████████████████████████                                                                                | 1/3 [00:01<00:02,  1.27s/it]"
     ]
    },
    {
     "name": "stdout",
     "output_type": "stream",
     "text": [
      "[Epoch 1] train loss: 17.874; train acc: 14.53; test loss: 17.878; test acc: 14.53\n"
     ]
    },
    {
     "name": "stderr",
     "output_type": "stream",
     "text": [
      " 67%|████████████████████████████████████████████████████████████████████████████████                                        | 2/3 [00:02<00:01,  1.32s/it]"
     ]
    },
    {
     "name": "stdout",
     "output_type": "stream",
     "text": [
      "[Epoch 2] train loss: 17.883; train acc: 14.53; test loss: 17.872; test acc: 14.53\n"
     ]
    },
    {
     "name": "stderr",
     "output_type": "stream",
     "text": [
      "100%|████████████████████████████████████████████████████████████████████████████████████████████████████████████████████████| 3/3 [00:03<00:00,  1.32s/it]"
     ]
    },
    {
     "name": "stdout",
     "output_type": "stream",
     "text": [
      "[Epoch 3] train loss: 17.882; train acc: 14.53; test loss: 17.868; test acc: 14.53\n",
      "SNR: -10, 7045.400%, test BER: 0.3522700071334839                \n",
      "\n"
     ]
    },
    {
     "name": "stderr",
     "output_type": "stream",
     "text": [
      "\n"
     ]
    },
    {
     "name": "stdout",
     "output_type": "stream",
     "text": [
      "SNR: -9, 6724.854%, test BER: 0.33624267578125                \n",
      "\n",
      "SNR: -8, 6344.627%, test BER: 0.31723132729530334                \n",
      "\n",
      "SNR: -7, 5926.667%, test BER: 0.29633334279060364                \n",
      "\n",
      "SNR: -6, 5485.267%, test BER: 0.27426332235336304                \n",
      "\n",
      "SNR: -5, 4990.773%, test BER: 0.24953866004943848                \n",
      "\n",
      "SNR: -4, 4457.253%, test BER: 0.22286266088485718                \n",
      "\n",
      "SNR: -3, 3936.613%, test BER: 0.1968306601047516                \n",
      "\n",
      "SNR: -2, 3373.560%, test BER: 0.16867800056934357                \n",
      "\n",
      "SNR: -1, 2785.773%, test BER: 0.13928866386413574                \n",
      "\n",
      "SNR: 0, 2209.987%, test BER: 0.11049932986497879                \n",
      "\n",
      "SNR: 1, 1654.040%, test BER: 0.08270200341939926                \n",
      "\n",
      "SNR: 2, 1161.267%, test BER: 0.0580633319914341                \n",
      "\n",
      "SNR: 3, 747.747%, test BER: 0.03738733381032944                \n",
      "\n",
      "SNR: 4, 436.587%, test BER: 0.021829333156347275                \n",
      "\n",
      "TRAINING ITERATION #141/500\n"
     ]
    },
    {
     "name": "stderr",
     "output_type": "stream",
     "text": [
      " 33%|████████████████████████████████████████                                                                                | 1/3 [00:01<00:02,  1.28s/it]"
     ]
    },
    {
     "name": "stdout",
     "output_type": "stream",
     "text": [
      "[Epoch 1] train loss: 17.858; train acc: 14.53; test loss: 17.880; test acc: 14.53\n"
     ]
    },
    {
     "name": "stderr",
     "output_type": "stream",
     "text": [
      " 67%|████████████████████████████████████████████████████████████████████████████████                                        | 2/3 [00:02<00:01,  1.32s/it]"
     ]
    },
    {
     "name": "stdout",
     "output_type": "stream",
     "text": [
      "[Epoch 2] train loss: 17.866; train acc: 14.53; test loss: 17.892; test acc: 14.53\n"
     ]
    },
    {
     "name": "stderr",
     "output_type": "stream",
     "text": [
      "100%|████████████████████████████████████████████████████████████████████████████████████████████████████████████████████████| 3/3 [00:03<00:00,  1.31s/it]\n"
     ]
    },
    {
     "name": "stdout",
     "output_type": "stream",
     "text": [
      "[Epoch 3] train loss: 17.873; train acc: 14.53; test loss: 17.870; test acc: 14.53\n",
      "TRAINING ITERATION #142/500\n"
     ]
    },
    {
     "name": "stderr",
     "output_type": "stream",
     "text": [
      " 33%|████████████████████████████████████████                                                                                | 1/3 [00:01<00:02,  1.34s/it]"
     ]
    },
    {
     "name": "stdout",
     "output_type": "stream",
     "text": [
      "[Epoch 1] train loss: 17.780; train acc: 14.53; test loss: 17.838; test acc: 14.53\n"
     ]
    },
    {
     "name": "stderr",
     "output_type": "stream",
     "text": [
      " 67%|████████████████████████████████████████████████████████████████████████████████                                        | 2/3 [00:02<00:01,  1.31s/it]"
     ]
    },
    {
     "name": "stdout",
     "output_type": "stream",
     "text": [
      "[Epoch 2] train loss: 17.791; train acc: 14.53; test loss: 17.843; test acc: 14.53\n"
     ]
    },
    {
     "name": "stderr",
     "output_type": "stream",
     "text": [
      "100%|████████████████████████████████████████████████████████████████████████████████████████████████████████████████████████| 3/3 [00:03<00:00,  1.31s/it]\n"
     ]
    },
    {
     "name": "stdout",
     "output_type": "stream",
     "text": [
      "[Epoch 3] train loss: 17.787; train acc: 14.53; test loss: 17.832; test acc: 14.53\n",
      "TRAINING ITERATION #143/500\n"
     ]
    },
    {
     "name": "stderr",
     "output_type": "stream",
     "text": [
      " 33%|████████████████████████████████████████                                                                                | 1/3 [00:01<00:02,  1.28s/it]"
     ]
    },
    {
     "name": "stdout",
     "output_type": "stream",
     "text": [
      "[Epoch 1] train loss: 17.855; train acc: 14.53; test loss: 17.872; test acc: 14.53\n"
     ]
    },
    {
     "name": "stderr",
     "output_type": "stream",
     "text": [
      " 67%|████████████████████████████████████████████████████████████████████████████████                                        | 2/3 [00:02<00:01,  1.33s/it]"
     ]
    },
    {
     "name": "stdout",
     "output_type": "stream",
     "text": [
      "[Epoch 2] train loss: 17.861; train acc: 14.53; test loss: 17.866; test acc: 14.53\n"
     ]
    },
    {
     "name": "stderr",
     "output_type": "stream",
     "text": [
      "100%|████████████████████████████████████████████████████████████████████████████████████████████████████████████████████████| 3/3 [00:03<00:00,  1.32s/it]\n"
     ]
    },
    {
     "name": "stdout",
     "output_type": "stream",
     "text": [
      "[Epoch 3] train loss: 17.864; train acc: 14.53; test loss: 17.880; test acc: 14.53\n",
      "TRAINING ITERATION #144/500\n"
     ]
    },
    {
     "name": "stderr",
     "output_type": "stream",
     "text": [
      " 33%|████████████████████████████████████████                                                                                | 1/3 [00:01<00:02,  1.27s/it]"
     ]
    },
    {
     "name": "stdout",
     "output_type": "stream",
     "text": [
      "[Epoch 1] train loss: 17.868; train acc: 14.53; test loss: 17.905; test acc: 14.53\n"
     ]
    },
    {
     "name": "stderr",
     "output_type": "stream",
     "text": [
      " 67%|████████████████████████████████████████████████████████████████████████████████                                        | 2/3 [00:02<00:01,  1.31s/it]"
     ]
    },
    {
     "name": "stdout",
     "output_type": "stream",
     "text": [
      "[Epoch 2] train loss: 17.855; train acc: 14.54; test loss: 17.883; test acc: 14.53\n"
     ]
    },
    {
     "name": "stderr",
     "output_type": "stream",
     "text": [
      "100%|████████████████████████████████████████████████████████████████████████████████████████████████████████████████████████| 3/3 [00:03<00:00,  1.31s/it]\n"
     ]
    },
    {
     "name": "stdout",
     "output_type": "stream",
     "text": [
      "[Epoch 3] train loss: 17.848; train acc: 14.54; test loss: 17.894; test acc: 14.53\n",
      "TRAINING ITERATION #145/500\n"
     ]
    },
    {
     "name": "stderr",
     "output_type": "stream",
     "text": [
      " 33%|████████████████████████████████████████                                                                                | 1/3 [00:01<00:02,  1.29s/it]"
     ]
    },
    {
     "name": "stdout",
     "output_type": "stream",
     "text": [
      "[Epoch 1] train loss: 17.858; train acc: 14.53; test loss: 17.881; test acc: 14.54\n"
     ]
    },
    {
     "name": "stderr",
     "output_type": "stream",
     "text": [
      " 67%|████████████████████████████████████████████████████████████████████████████████                                        | 2/3 [00:02<00:01,  1.34s/it]"
     ]
    },
    {
     "name": "stdout",
     "output_type": "stream",
     "text": [
      "[Epoch 2] train loss: 17.853; train acc: 14.53; test loss: 17.874; test acc: 14.54\n"
     ]
    },
    {
     "name": "stderr",
     "output_type": "stream",
     "text": [
      "100%|████████████████████████████████████████████████████████████████████████████████████████████████████████████████████████| 3/3 [00:03<00:00,  1.32s/it]"
     ]
    },
    {
     "name": "stdout",
     "output_type": "stream",
     "text": [
      "[Epoch 3] train loss: 17.855; train acc: 14.53; test loss: 17.884; test acc: 14.54\n",
      "SNR: -10, 7044.000%, test BER: 0.3522000014781952                \n",
      "\n"
     ]
    },
    {
     "name": "stderr",
     "output_type": "stream",
     "text": [
      "\n"
     ]
    },
    {
     "name": "stdout",
     "output_type": "stream",
     "text": [
      "SNR: -9, 6710.960%, test BER: 0.3355480134487152                \n",
      "\n",
      "SNR: -8, 6336.587%, test BER: 0.3168293237686157                \n",
      "\n",
      "SNR: -7, 5929.320%, test BER: 0.29646599292755127                \n",
      "\n",
      "SNR: -6, 5489.693%, test BER: 0.27448466420173645                \n",
      "\n",
      "SNR: -5, 4988.867%, test BER: 0.24944333732128143                \n",
      "\n",
      "SNR: -4, 4476.013%, test BER: 0.2238006740808487                \n",
      "\n",
      "SNR: -3, 3936.680%, test BER: 0.196833997964859                \n",
      "\n",
      "SNR: -2, 3363.507%, test BER: 0.1681753396987915                \n",
      "\n",
      "SNR: -1, 2788.373%, test BER: 0.13941866159439087                \n",
      "\n",
      "SNR: 0, 2220.187%, test BER: 0.11100933700799942                \n",
      "\n",
      "SNR: 1, 1662.800%, test BER: 0.08314000070095062                \n",
      "\n",
      "SNR: 2, 1163.920%, test BER: 0.05819600075483322                \n",
      "\n",
      "SNR: 3, 743.813%, test BER: 0.037190668284893036                \n",
      "\n",
      "SNR: 4, 433.013%, test BER: 0.021650666370987892                \n",
      "\n",
      "TRAINING ITERATION #146/500\n"
     ]
    },
    {
     "name": "stderr",
     "output_type": "stream",
     "text": [
      " 33%|████████████████████████████████████████                                                                                | 1/3 [00:01<00:02,  1.30s/it]"
     ]
    },
    {
     "name": "stdout",
     "output_type": "stream",
     "text": [
      "[Epoch 1] train loss: 17.876; train acc: 14.52; test loss: 17.811; test acc: 14.53\n"
     ]
    },
    {
     "name": "stderr",
     "output_type": "stream",
     "text": [
      " 67%|████████████████████████████████████████████████████████████████████████████████                                        | 2/3 [00:02<00:01,  1.34s/it]"
     ]
    },
    {
     "name": "stdout",
     "output_type": "stream",
     "text": [
      "[Epoch 2] train loss: 17.853; train acc: 14.52; test loss: 17.838; test acc: 14.53\n"
     ]
    },
    {
     "name": "stderr",
     "output_type": "stream",
     "text": [
      "100%|████████████████████████████████████████████████████████████████████████████████████████████████████████████████████████| 3/3 [00:03<00:00,  1.32s/it]\n"
     ]
    },
    {
     "name": "stdout",
     "output_type": "stream",
     "text": [
      "[Epoch 3] train loss: 17.861; train acc: 14.52; test loss: 17.834; test acc: 14.53\n",
      "TRAINING ITERATION #147/500\n"
     ]
    },
    {
     "name": "stderr",
     "output_type": "stream",
     "text": [
      " 33%|████████████████████████████████████████                                                                                | 1/3 [00:01<00:02,  1.29s/it]"
     ]
    },
    {
     "name": "stdout",
     "output_type": "stream",
     "text": [
      "[Epoch 1] train loss: 17.892; train acc: 14.53; test loss: 17.847; test acc: 14.53\n"
     ]
    },
    {
     "name": "stderr",
     "output_type": "stream",
     "text": [
      " 67%|████████████████████████████████████████████████████████████████████████████████                                        | 2/3 [00:02<00:01,  1.32s/it]"
     ]
    },
    {
     "name": "stdout",
     "output_type": "stream",
     "text": [
      "[Epoch 2] train loss: 17.886; train acc: 14.53; test loss: 17.845; test acc: 14.53\n"
     ]
    },
    {
     "name": "stderr",
     "output_type": "stream",
     "text": [
      "100%|████████████████████████████████████████████████████████████████████████████████████████████████████████████████████████| 3/3 [00:03<00:00,  1.31s/it]\n"
     ]
    },
    {
     "name": "stdout",
     "output_type": "stream",
     "text": [
      "[Epoch 3] train loss: 17.880; train acc: 14.53; test loss: 17.849; test acc: 14.53\n",
      "TRAINING ITERATION #148/500\n"
     ]
    },
    {
     "name": "stderr",
     "output_type": "stream",
     "text": [
      " 33%|████████████████████████████████████████                                                                                | 1/3 [00:01<00:02,  1.27s/it]"
     ]
    },
    {
     "name": "stdout",
     "output_type": "stream",
     "text": [
      "[Epoch 1] train loss: 17.849; train acc: 14.53; test loss: 17.862; test acc: 14.54\n"
     ]
    },
    {
     "name": "stderr",
     "output_type": "stream",
     "text": [
      " 67%|████████████████████████████████████████████████████████████████████████████████                                        | 2/3 [00:02<00:01,  1.32s/it]"
     ]
    },
    {
     "name": "stdout",
     "output_type": "stream",
     "text": [
      "[Epoch 2] train loss: 17.842; train acc: 14.53; test loss: 17.861; test acc: 14.54\n"
     ]
    },
    {
     "name": "stderr",
     "output_type": "stream",
     "text": [
      "100%|████████████████████████████████████████████████████████████████████████████████████████████████████████████████████████| 3/3 [00:03<00:00,  1.31s/it]\n"
     ]
    },
    {
     "name": "stdout",
     "output_type": "stream",
     "text": [
      "[Epoch 3] train loss: 17.861; train acc: 14.53; test loss: 17.869; test acc: 14.54\n",
      "TRAINING ITERATION #149/500\n"
     ]
    },
    {
     "name": "stderr",
     "output_type": "stream",
     "text": [
      " 33%|████████████████████████████████████████                                                                                | 1/3 [00:01<00:02,  1.28s/it]"
     ]
    },
    {
     "name": "stdout",
     "output_type": "stream",
     "text": [
      "[Epoch 1] train loss: 17.838; train acc: 14.53; test loss: 17.893; test acc: 14.53\n"
     ]
    },
    {
     "name": "stderr",
     "output_type": "stream",
     "text": [
      " 67%|████████████████████████████████████████████████████████████████████████████████                                        | 2/3 [00:02<00:01,  1.33s/it]"
     ]
    },
    {
     "name": "stdout",
     "output_type": "stream",
     "text": [
      "[Epoch 2] train loss: 17.828; train acc: 14.53; test loss: 17.878; test acc: 14.53\n"
     ]
    },
    {
     "name": "stderr",
     "output_type": "stream",
     "text": [
      "100%|████████████████████████████████████████████████████████████████████████████████████████████████████████████████████████| 3/3 [00:03<00:00,  1.32s/it]\n"
     ]
    },
    {
     "name": "stdout",
     "output_type": "stream",
     "text": [
      "[Epoch 3] train loss: 17.848; train acc: 14.53; test loss: 17.891; test acc: 14.53\n",
      "TRAINING ITERATION #150/500\n"
     ]
    },
    {
     "name": "stderr",
     "output_type": "stream",
     "text": [
      " 33%|████████████████████████████████████████                                                                                | 1/3 [00:01<00:02,  1.28s/it]"
     ]
    },
    {
     "name": "stdout",
     "output_type": "stream",
     "text": [
      "[Epoch 1] train loss: 17.865; train acc: 14.53; test loss: 17.838; test acc: 14.54\n"
     ]
    },
    {
     "name": "stderr",
     "output_type": "stream",
     "text": [
      " 67%|████████████████████████████████████████████████████████████████████████████████                                        | 2/3 [00:02<00:01,  1.31s/it]"
     ]
    },
    {
     "name": "stdout",
     "output_type": "stream",
     "text": [
      "[Epoch 2] train loss: 17.867; train acc: 14.52; test loss: 17.842; test acc: 14.54\n"
     ]
    },
    {
     "name": "stderr",
     "output_type": "stream",
     "text": [
      "100%|████████████████████████████████████████████████████████████████████████████████████████████████████████████████████████| 3/3 [00:03<00:00,  1.31s/it]"
     ]
    },
    {
     "name": "stdout",
     "output_type": "stream",
     "text": [
      "[Epoch 3] train loss: 17.874; train acc: 14.53; test loss: 17.832; test acc: 14.54\n",
      "SNR: -10, 7042.227%, test BER: 0.3521113395690918                \n",
      "\n"
     ]
    },
    {
     "name": "stderr",
     "output_type": "stream",
     "text": [
      "\n"
     ]
    },
    {
     "name": "stdout",
     "output_type": "stream",
     "text": [
      "SNR: -9, 6712.707%, test BER: 0.33563533425331116                \n",
      "\n",
      "SNR: -8, 6330.867%, test BER: 0.3165433406829834                \n",
      "\n",
      "SNR: -7, 5907.067%, test BER: 0.29535332322120667                \n",
      "\n",
      "SNR: -6, 5480.533%, test BER: 0.27402666211128235                \n",
      "\n",
      "SNR: -5, 5001.213%, test BER: 0.25006067752838135                \n",
      "\n",
      "SNR: -4, 4485.454%, test BER: 0.22427266836166382                \n",
      "\n",
      "SNR: -3, 3942.613%, test BER: 0.19713066518306732                \n",
      "\n",
      "SNR: -2, 3361.653%, test BER: 0.16808266937732697                \n",
      "\n",
      "SNR: -1, 2784.653%, test BER: 0.13923266530036926                \n",
      "\n",
      "SNR: 0, 2198.547%, test BER: 0.10992733389139175                \n",
      "\n",
      "SNR: 1, 1659.480%, test BER: 0.08297400176525116                \n",
      "\n",
      "SNR: 2, 1168.160%, test BER: 0.05840799957513809                \n",
      "\n",
      "SNR: 3, 744.320%, test BER: 0.03721600025892258                \n",
      "\n",
      "SNR: 4, 432.227%, test BER: 0.021611332893371582                \n",
      "\n",
      "TRAINING ITERATION #151/500\n"
     ]
    },
    {
     "name": "stderr",
     "output_type": "stream",
     "text": [
      " 33%|████████████████████████████████████████                                                                                | 1/3 [00:01<00:02,  1.34s/it]"
     ]
    },
    {
     "name": "stdout",
     "output_type": "stream",
     "text": [
      "[Epoch 1] train loss: 17.854; train acc: 14.53; test loss: 17.863; test acc: 14.53\n"
     ]
    },
    {
     "name": "stderr",
     "output_type": "stream",
     "text": [
      " 67%|████████████████████████████████████████████████████████████████████████████████                                        | 2/3 [00:02<00:01,  1.31s/it]"
     ]
    },
    {
     "name": "stdout",
     "output_type": "stream",
     "text": [
      "[Epoch 2] train loss: 17.854; train acc: 14.53; test loss: 17.850; test acc: 14.53\n"
     ]
    },
    {
     "name": "stderr",
     "output_type": "stream",
     "text": [
      "100%|████████████████████████████████████████████████████████████████████████████████████████████████████████████████████████| 3/3 [00:03<00:00,  1.32s/it]\n"
     ]
    },
    {
     "name": "stdout",
     "output_type": "stream",
     "text": [
      "[Epoch 3] train loss: 17.862; train acc: 14.53; test loss: 17.847; test acc: 14.53\n",
      "TRAINING ITERATION #152/500\n"
     ]
    },
    {
     "name": "stderr",
     "output_type": "stream",
     "text": [
      " 33%|████████████████████████████████████████                                                                                | 1/3 [00:01<00:02,  1.34s/it]"
     ]
    },
    {
     "name": "stdout",
     "output_type": "stream",
     "text": [
      "[Epoch 1] train loss: 17.858; train acc: 14.53; test loss: 17.857; test acc: 14.53\n"
     ]
    },
    {
     "name": "stderr",
     "output_type": "stream",
     "text": [
      " 67%|████████████████████████████████████████████████████████████████████████████████                                        | 2/3 [00:02<00:01,  1.31s/it]"
     ]
    },
    {
     "name": "stdout",
     "output_type": "stream",
     "text": [
      "[Epoch 2] train loss: 17.858; train acc: 14.53; test loss: 17.869; test acc: 14.53\n"
     ]
    },
    {
     "name": "stderr",
     "output_type": "stream",
     "text": [
      "100%|████████████████████████████████████████████████████████████████████████████████████████████████████████████████████████| 3/3 [00:03<00:00,  1.32s/it]\n"
     ]
    },
    {
     "name": "stdout",
     "output_type": "stream",
     "text": [
      "[Epoch 3] train loss: 17.868; train acc: 14.53; test loss: 17.865; test acc: 14.53\n",
      "TRAINING ITERATION #153/500\n"
     ]
    },
    {
     "name": "stderr",
     "output_type": "stream",
     "text": [
      " 33%|████████████████████████████████████████                                                                                | 1/3 [00:01<00:02,  1.35s/it]"
     ]
    },
    {
     "name": "stdout",
     "output_type": "stream",
     "text": [
      "[Epoch 1] train loss: 17.833; train acc: 14.54; test loss: 17.865; test acc: 14.53\n"
     ]
    },
    {
     "name": "stderr",
     "output_type": "stream",
     "text": [
      " 67%|████████████████████████████████████████████████████████████████████████████████                                        | 2/3 [00:02<00:01,  1.32s/it]"
     ]
    },
    {
     "name": "stdout",
     "output_type": "stream",
     "text": [
      "[Epoch 2] train loss: 17.862; train acc: 14.54; test loss: 17.864; test acc: 14.53\n"
     ]
    },
    {
     "name": "stderr",
     "output_type": "stream",
     "text": [
      "100%|████████████████████████████████████████████████████████████████████████████████████████████████████████████████████████| 3/3 [00:03<00:00,  1.32s/it]\n"
     ]
    },
    {
     "name": "stdout",
     "output_type": "stream",
     "text": [
      "[Epoch 3] train loss: 17.863; train acc: 14.54; test loss: 17.862; test acc: 14.53\n",
      "TRAINING ITERATION #154/500\n"
     ]
    },
    {
     "name": "stderr",
     "output_type": "stream",
     "text": [
      " 33%|████████████████████████████████████████                                                                                | 1/3 [00:01<00:02,  1.27s/it]"
     ]
    },
    {
     "name": "stdout",
     "output_type": "stream",
     "text": [
      "[Epoch 1] train loss: 17.798; train acc: 14.53; test loss: 17.890; test acc: 14.53\n"
     ]
    },
    {
     "name": "stderr",
     "output_type": "stream",
     "text": [
      " 67%|████████████████████████████████████████████████████████████████████████████████                                        | 2/3 [00:02<00:01,  1.32s/it]"
     ]
    },
    {
     "name": "stdout",
     "output_type": "stream",
     "text": [
      "[Epoch 2] train loss: 17.804; train acc: 14.53; test loss: 17.901; test acc: 14.53\n"
     ]
    },
    {
     "name": "stderr",
     "output_type": "stream",
     "text": [
      "100%|████████████████████████████████████████████████████████████████████████████████████████████████████████████████████████| 3/3 [00:03<00:00,  1.32s/it]\n"
     ]
    },
    {
     "name": "stdout",
     "output_type": "stream",
     "text": [
      "[Epoch 3] train loss: 17.803; train acc: 14.53; test loss: 17.891; test acc: 14.53\n",
      "TRAINING ITERATION #155/500\n"
     ]
    },
    {
     "name": "stderr",
     "output_type": "stream",
     "text": [
      " 33%|████████████████████████████████████████                                                                                | 1/3 [00:01<00:02,  1.28s/it]"
     ]
    },
    {
     "name": "stdout",
     "output_type": "stream",
     "text": [
      "[Epoch 1] train loss: 17.895; train acc: 14.54; test loss: 17.859; test acc: 14.53\n"
     ]
    },
    {
     "name": "stderr",
     "output_type": "stream",
     "text": [
      " 67%|████████████████████████████████████████████████████████████████████████████████                                        | 2/3 [00:02<00:01,  1.33s/it]"
     ]
    },
    {
     "name": "stdout",
     "output_type": "stream",
     "text": [
      "[Epoch 2] train loss: 17.906; train acc: 14.54; test loss: 17.871; test acc: 14.53\n"
     ]
    },
    {
     "name": "stderr",
     "output_type": "stream",
     "text": [
      "100%|████████████████████████████████████████████████████████████████████████████████████████████████████████████████████████| 3/3 [00:03<00:00,  1.32s/it]"
     ]
    },
    {
     "name": "stdout",
     "output_type": "stream",
     "text": [
      "[Epoch 3] train loss: 17.898; train acc: 14.54; test loss: 17.865; test acc: 14.53\n",
      "SNR: -10, 7046.360%, test BER: 0.3523179888725281                \n",
      "\n"
     ]
    },
    {
     "name": "stderr",
     "output_type": "stream",
     "text": [
      "\n"
     ]
    },
    {
     "name": "stdout",
     "output_type": "stream",
     "text": [
      "SNR: -9, 6714.293%, test BER: 0.3357146680355072                \n",
      "\n",
      "SNR: -8, 6333.333%, test BER: 0.3166666626930237                \n",
      "\n",
      "SNR: -7, 5931.693%, test BER: 0.2965846657752991                \n",
      "\n",
      "SNR: -6, 5482.080%, test BER: 0.2741039991378784                \n",
      "\n",
      "SNR: -5, 4989.693%, test BER: 0.24948467314243317                \n",
      "\n",
      "SNR: -4, 4483.173%, test BER: 0.2241586595773697                \n",
      "\n",
      "SNR: -3, 3934.440%, test BER: 0.19672200083732605                \n",
      "\n",
      "SNR: -2, 3365.613%, test BER: 0.16828066110610962                \n",
      "\n",
      "SNR: -1, 2783.147%, test BER: 0.13915733993053436                \n",
      "\n",
      "SNR: 0, 2212.640%, test BER: 0.11063200235366821                \n",
      "\n",
      "SNR: 1, 1663.720%, test BER: 0.08318600058555603                \n",
      "\n",
      "SNR: 2, 1165.173%, test BER: 0.05825866758823395                \n",
      "\n",
      "SNR: 3, 743.080%, test BER: 0.037154000252485275                \n",
      "\n",
      "SNR: 4, 430.733%, test BER: 0.02153666689991951                \n",
      "\n",
      "TRAINING ITERATION #156/500\n"
     ]
    },
    {
     "name": "stderr",
     "output_type": "stream",
     "text": [
      " 33%|████████████████████████████████████████                                                                                | 1/3 [00:01<00:02,  1.28s/it]"
     ]
    },
    {
     "name": "stdout",
     "output_type": "stream",
     "text": [
      "[Epoch 1] train loss: 17.832; train acc: 14.52; test loss: 17.870; test acc: 14.53\n"
     ]
    },
    {
     "name": "stderr",
     "output_type": "stream",
     "text": [
      " 67%|████████████████████████████████████████████████████████████████████████████████                                        | 2/3 [00:02<00:01,  1.31s/it]"
     ]
    },
    {
     "name": "stdout",
     "output_type": "stream",
     "text": [
      "[Epoch 2] train loss: 17.831; train acc: 14.52; test loss: 17.878; test acc: 14.53\n"
     ]
    },
    {
     "name": "stderr",
     "output_type": "stream",
     "text": [
      "100%|████████████████████████████████████████████████████████████████████████████████████████████████████████████████████████| 3/3 [00:03<00:00,  1.30s/it]\n"
     ]
    },
    {
     "name": "stdout",
     "output_type": "stream",
     "text": [
      "[Epoch 3] train loss: 17.823; train acc: 14.52; test loss: 17.862; test acc: 14.53\n",
      "TRAINING ITERATION #157/500\n"
     ]
    },
    {
     "name": "stderr",
     "output_type": "stream",
     "text": [
      " 33%|████████████████████████████████████████                                                                                | 1/3 [00:01<00:02,  1.30s/it]"
     ]
    },
    {
     "name": "stdout",
     "output_type": "stream",
     "text": [
      "[Epoch 1] train loss: 17.871; train acc: 14.53; test loss: 17.828; test acc: 14.54\n"
     ]
    },
    {
     "name": "stderr",
     "output_type": "stream",
     "text": [
      " 67%|████████████████████████████████████████████████████████████████████████████████                                        | 2/3 [00:02<00:01,  1.32s/it]"
     ]
    },
    {
     "name": "stdout",
     "output_type": "stream",
     "text": [
      "[Epoch 2] train loss: 17.874; train acc: 14.53; test loss: 17.826; test acc: 14.54\n"
     ]
    },
    {
     "name": "stderr",
     "output_type": "stream",
     "text": [
      "100%|████████████████████████████████████████████████████████████████████████████████████████████████████████████████████████| 3/3 [00:03<00:00,  1.31s/it]\n"
     ]
    },
    {
     "name": "stdout",
     "output_type": "stream",
     "text": [
      "[Epoch 3] train loss: 17.886; train acc: 14.53; test loss: 17.819; test acc: 14.54\n",
      "TRAINING ITERATION #158/500\n"
     ]
    },
    {
     "name": "stderr",
     "output_type": "stream",
     "text": [
      " 33%|████████████████████████████████████████                                                                                | 1/3 [00:01<00:02,  1.28s/it]"
     ]
    },
    {
     "name": "stdout",
     "output_type": "stream",
     "text": [
      "[Epoch 1] train loss: 17.865; train acc: 14.53; test loss: 17.843; test acc: 14.54\n"
     ]
    },
    {
     "name": "stderr",
     "output_type": "stream",
     "text": [
      " 67%|████████████████████████████████████████████████████████████████████████████████                                        | 2/3 [00:02<00:01,  1.31s/it]"
     ]
    },
    {
     "name": "stdout",
     "output_type": "stream",
     "text": [
      "[Epoch 2] train loss: 17.854; train acc: 14.53; test loss: 17.853; test acc: 14.54\n"
     ]
    },
    {
     "name": "stderr",
     "output_type": "stream",
     "text": [
      "100%|████████████████████████████████████████████████████████████████████████████████████████████████████████████████████████| 3/3 [00:03<00:00,  1.30s/it]\n"
     ]
    },
    {
     "name": "stdout",
     "output_type": "stream",
     "text": [
      "[Epoch 3] train loss: 17.852; train acc: 14.53; test loss: 17.863; test acc: 14.54\n",
      "TRAINING ITERATION #159/500\n"
     ]
    },
    {
     "name": "stderr",
     "output_type": "stream",
     "text": [
      " 33%|████████████████████████████████████████                                                                                | 1/3 [00:01<00:02,  1.29s/it]"
     ]
    },
    {
     "name": "stdout",
     "output_type": "stream",
     "text": [
      "[Epoch 1] train loss: 17.821; train acc: 14.53; test loss: 17.869; test acc: 14.53\n"
     ]
    },
    {
     "name": "stderr",
     "output_type": "stream",
     "text": [
      " 67%|████████████████████████████████████████████████████████████████████████████████                                        | 2/3 [00:02<00:01,  1.32s/it]"
     ]
    },
    {
     "name": "stdout",
     "output_type": "stream",
     "text": [
      "[Epoch 2] train loss: 17.823; train acc: 14.53; test loss: 17.847; test acc: 14.53\n"
     ]
    },
    {
     "name": "stderr",
     "output_type": "stream",
     "text": [
      "100%|████████████████████████████████████████████████████████████████████████████████████████████████████████████████████████| 3/3 [00:03<00:00,  1.31s/it]\n"
     ]
    },
    {
     "name": "stdout",
     "output_type": "stream",
     "text": [
      "[Epoch 3] train loss: 17.814; train acc: 14.53; test loss: 17.843; test acc: 14.53\n",
      "TRAINING ITERATION #160/500\n"
     ]
    },
    {
     "name": "stderr",
     "output_type": "stream",
     "text": [
      " 33%|████████████████████████████████████████                                                                                | 1/3 [00:01<00:02,  1.28s/it]"
     ]
    },
    {
     "name": "stdout",
     "output_type": "stream",
     "text": [
      "[Epoch 1] train loss: 17.842; train acc: 14.53; test loss: 17.829; test acc: 14.54\n"
     ]
    },
    {
     "name": "stderr",
     "output_type": "stream",
     "text": [
      " 67%|████████████████████████████████████████████████████████████████████████████████                                        | 2/3 [00:02<00:01,  1.33s/it]"
     ]
    },
    {
     "name": "stdout",
     "output_type": "stream",
     "text": [
      "[Epoch 2] train loss: 17.835; train acc: 14.53; test loss: 17.839; test acc: 14.54\n"
     ]
    },
    {
     "name": "stderr",
     "output_type": "stream",
     "text": [
      "100%|████████████████████████████████████████████████████████████████████████████████████████████████████████████████████████| 3/3 [00:03<00:00,  1.32s/it]"
     ]
    },
    {
     "name": "stdout",
     "output_type": "stream",
     "text": [
      "[Epoch 3] train loss: 17.847; train acc: 14.53; test loss: 17.838; test acc: 14.54\n",
      "SNR: -10, 7048.720%, test BER: 0.35243600606918335                \n",
      "\n"
     ]
    },
    {
     "name": "stderr",
     "output_type": "stream",
     "text": [
      "\n"
     ]
    },
    {
     "name": "stdout",
     "output_type": "stream",
     "text": [
      "SNR: -9, 6715.013%, test BER: 0.33575066924095154                \n",
      "\n",
      "SNR: -8, 6336.680%, test BER: 0.3168340027332306                \n",
      "\n",
      "SNR: -7, 5932.560%, test BER: 0.2966279983520508                \n",
      "\n",
      "SNR: -6, 5469.787%, test BER: 0.2734893262386322                \n",
      "\n",
      "SNR: -5, 5002.894%, test BER: 0.2501446604728699                \n",
      "\n",
      "SNR: -4, 4475.507%, test BER: 0.22377532720565796                \n",
      "\n",
      "SNR: -3, 3937.720%, test BER: 0.19688600301742554                \n",
      "\n",
      "SNR: -2, 3352.427%, test BER: 0.16762132942676544                \n",
      "\n",
      "SNR: -1, 2784.107%, test BER: 0.13920533657073975                \n",
      "\n",
      "SNR: 0, 2198.760%, test BER: 0.10993800312280655                \n",
      "\n",
      "SNR: 1, 1655.533%, test BER: 0.08277666568756104                \n",
      "\n",
      "SNR: 2, 1159.787%, test BER: 0.05798933282494545                \n",
      "\n",
      "SNR: 3, 741.280%, test BER: 0.037064000964164734                \n",
      "\n",
      "SNR: 4, 435.947%, test BER: 0.021797332912683487                \n",
      "\n",
      "TRAINING ITERATION #161/500\n"
     ]
    },
    {
     "name": "stderr",
     "output_type": "stream",
     "text": [
      " 33%|████████████████████████████████████████                                                                                | 1/3 [00:01<00:02,  1.27s/it]"
     ]
    },
    {
     "name": "stdout",
     "output_type": "stream",
     "text": [
      "[Epoch 1] train loss: 17.910; train acc: 14.54; test loss: 17.847; test acc: 14.54\n"
     ]
    },
    {
     "name": "stderr",
     "output_type": "stream",
     "text": [
      " 67%|████████████████████████████████████████████████████████████████████████████████                                        | 2/3 [00:02<00:01,  1.31s/it]"
     ]
    },
    {
     "name": "stdout",
     "output_type": "stream",
     "text": [
      "[Epoch 2] train loss: 17.914; train acc: 14.54; test loss: 17.864; test acc: 14.54\n"
     ]
    },
    {
     "name": "stderr",
     "output_type": "stream",
     "text": [
      "100%|████████████████████████████████████████████████████████████████████████████████████████████████████████████████████████| 3/3 [00:03<00:00,  1.31s/it]\n"
     ]
    },
    {
     "name": "stdout",
     "output_type": "stream",
     "text": [
      "[Epoch 3] train loss: 17.886; train acc: 14.54; test loss: 17.846; test acc: 14.54\n",
      "TRAINING ITERATION #162/500\n"
     ]
    },
    {
     "name": "stderr",
     "output_type": "stream",
     "text": [
      " 33%|████████████████████████████████████████                                                                                | 1/3 [00:01<00:02,  1.34s/it]"
     ]
    },
    {
     "name": "stdout",
     "output_type": "stream",
     "text": [
      "[Epoch 1] train loss: 17.887; train acc: 14.53; test loss: 17.851; test acc: 14.54\n"
     ]
    },
    {
     "name": "stderr",
     "output_type": "stream",
     "text": [
      " 67%|████████████████████████████████████████████████████████████████████████████████                                        | 2/3 [00:02<00:01,  1.31s/it]"
     ]
    },
    {
     "name": "stdout",
     "output_type": "stream",
     "text": [
      "[Epoch 2] train loss: 17.872; train acc: 14.53; test loss: 17.835; test acc: 14.54\n"
     ]
    },
    {
     "name": "stderr",
     "output_type": "stream",
     "text": [
      "100%|████████████████████████████████████████████████████████████████████████████████████████████████████████████████████████| 3/3 [00:03<00:00,  1.31s/it]\n"
     ]
    },
    {
     "name": "stdout",
     "output_type": "stream",
     "text": [
      "[Epoch 3] train loss: 17.869; train acc: 14.53; test loss: 17.842; test acc: 14.54\n",
      "TRAINING ITERATION #163/500\n"
     ]
    },
    {
     "name": "stderr",
     "output_type": "stream",
     "text": [
      " 33%|████████████████████████████████████████                                                                                | 1/3 [00:01<00:02,  1.28s/it]"
     ]
    },
    {
     "name": "stdout",
     "output_type": "stream",
     "text": [
      "[Epoch 1] train loss: 17.839; train acc: 14.54; test loss: 17.863; test acc: 14.54\n"
     ]
    },
    {
     "name": "stderr",
     "output_type": "stream",
     "text": [
      " 67%|████████████████████████████████████████████████████████████████████████████████                                        | 2/3 [00:02<00:01,  1.31s/it]"
     ]
    },
    {
     "name": "stdout",
     "output_type": "stream",
     "text": [
      "[Epoch 2] train loss: 17.855; train acc: 14.54; test loss: 17.865; test acc: 14.54\n"
     ]
    },
    {
     "name": "stderr",
     "output_type": "stream",
     "text": [
      "100%|████████████████████████████████████████████████████████████████████████████████████████████████████████████████████████| 3/3 [00:03<00:00,  1.31s/it]\n"
     ]
    },
    {
     "name": "stdout",
     "output_type": "stream",
     "text": [
      "[Epoch 3] train loss: 17.841; train acc: 14.54; test loss: 17.854; test acc: 14.54\n",
      "TRAINING ITERATION #164/500\n"
     ]
    },
    {
     "name": "stderr",
     "output_type": "stream",
     "text": [
      " 33%|████████████████████████████████████████                                                                                | 1/3 [00:01<00:02,  1.29s/it]"
     ]
    },
    {
     "name": "stdout",
     "output_type": "stream",
     "text": [
      "[Epoch 1] train loss: 17.824; train acc: 14.54; test loss: 17.865; test acc: 14.53\n"
     ]
    },
    {
     "name": "stderr",
     "output_type": "stream",
     "text": [
      " 67%|████████████████████████████████████████████████████████████████████████████████                                        | 2/3 [00:02<00:01,  1.32s/it]"
     ]
    },
    {
     "name": "stdout",
     "output_type": "stream",
     "text": [
      "[Epoch 2] train loss: 17.844; train acc: 14.54; test loss: 17.856; test acc: 14.53\n"
     ]
    },
    {
     "name": "stderr",
     "output_type": "stream",
     "text": [
      "100%|████████████████████████████████████████████████████████████████████████████████████████████████████████████████████████| 3/3 [00:03<00:00,  1.31s/it]\n"
     ]
    },
    {
     "name": "stdout",
     "output_type": "stream",
     "text": [
      "[Epoch 3] train loss: 17.836; train acc: 14.54; test loss: 17.852; test acc: 14.53\n",
      "TRAINING ITERATION #165/500\n"
     ]
    },
    {
     "name": "stderr",
     "output_type": "stream",
     "text": [
      " 33%|████████████████████████████████████████                                                                                | 1/3 [00:01<00:02,  1.28s/it]"
     ]
    },
    {
     "name": "stdout",
     "output_type": "stream",
     "text": [
      "[Epoch 1] train loss: 17.798; train acc: 14.53; test loss: 17.873; test acc: 14.54\n"
     ]
    },
    {
     "name": "stderr",
     "output_type": "stream",
     "text": [
      " 67%|████████████████████████████████████████████████████████████████████████████████                                        | 2/3 [00:02<00:01,  1.34s/it]"
     ]
    },
    {
     "name": "stdout",
     "output_type": "stream",
     "text": [
      "[Epoch 2] train loss: 17.829; train acc: 14.53; test loss: 17.867; test acc: 14.54\n"
     ]
    },
    {
     "name": "stderr",
     "output_type": "stream",
     "text": [
      "100%|████████████████████████████████████████████████████████████████████████████████████████████████████████████████████████| 3/3 [00:03<00:00,  1.32s/it]"
     ]
    },
    {
     "name": "stdout",
     "output_type": "stream",
     "text": [
      "[Epoch 3] train loss: 17.789; train acc: 14.53; test loss: 17.858; test acc: 14.54\n",
      "SNR: -10, 7052.573%, test BER: 0.3526286780834198                \n",
      "\n"
     ]
    },
    {
     "name": "stderr",
     "output_type": "stream",
     "text": [
      "\n"
     ]
    },
    {
     "name": "stdout",
     "output_type": "stream",
     "text": [
      "SNR: -9, 6719.707%, test BER: 0.33598533272743225                \n",
      "\n",
      "SNR: -8, 6313.120%, test BER: 0.31565600633621216                \n",
      "\n",
      "SNR: -7, 5920.267%, test BER: 0.29601332545280457                \n",
      "\n",
      "SNR: -6, 5492.507%, test BER: 0.27462533116340637                \n",
      "\n",
      "SNR: -5, 4978.213%, test BER: 0.24891066551208496                \n",
      "\n",
      "SNR: -4, 4477.333%, test BER: 0.22386667132377625                \n",
      "\n",
      "SNR: -3, 3928.080%, test BER: 0.19640399515628815                \n",
      "\n",
      "SNR: -2, 3357.827%, test BER: 0.16789133846759796                \n",
      "\n",
      "SNR: -1, 2775.653%, test BER: 0.13878266513347626                \n",
      "\n",
      "SNR: 0, 2214.627%, test BER: 0.1107313334941864                \n",
      "\n",
      "SNR: 1, 1648.267%, test BER: 0.08241333067417145                \n",
      "\n",
      "SNR: 2, 1160.000%, test BER: 0.057999998331069946                \n",
      "\n",
      "SNR: 3, 743.307%, test BER: 0.037165332585573196                \n",
      "\n",
      "SNR: 4, 429.547%, test BER: 0.021477334201335907                \n",
      "\n",
      "TRAINING ITERATION #166/500\n"
     ]
    },
    {
     "name": "stderr",
     "output_type": "stream",
     "text": [
      " 33%|████████████████████████████████████████                                                                                | 1/3 [00:01<00:02,  1.29s/it]"
     ]
    },
    {
     "name": "stdout",
     "output_type": "stream",
     "text": [
      "[Epoch 1] train loss: 17.824; train acc: 14.53; test loss: 17.869; test acc: 14.54\n"
     ]
    },
    {
     "name": "stderr",
     "output_type": "stream",
     "text": [
      " 67%|████████████████████████████████████████████████████████████████████████████████                                        | 2/3 [00:02<00:01,  1.34s/it]"
     ]
    },
    {
     "name": "stdout",
     "output_type": "stream",
     "text": [
      "[Epoch 2] train loss: 17.824; train acc: 14.53; test loss: 17.869; test acc: 14.54\n"
     ]
    },
    {
     "name": "stderr",
     "output_type": "stream",
     "text": [
      "100%|████████████████████████████████████████████████████████████████████████████████████████████████████████████████████████| 3/3 [00:03<00:00,  1.32s/it]\n"
     ]
    },
    {
     "name": "stdout",
     "output_type": "stream",
     "text": [
      "[Epoch 3] train loss: 17.822; train acc: 14.53; test loss: 17.858; test acc: 14.54\n",
      "TRAINING ITERATION #167/500\n"
     ]
    },
    {
     "name": "stderr",
     "output_type": "stream",
     "text": [
      " 33%|████████████████████████████████████████                                                                                | 1/3 [00:01<00:02,  1.28s/it]"
     ]
    },
    {
     "name": "stdout",
     "output_type": "stream",
     "text": [
      "[Epoch 1] train loss: 17.900; train acc: 14.53; test loss: 17.877; test acc: 14.54\n"
     ]
    },
    {
     "name": "stderr",
     "output_type": "stream",
     "text": [
      " 67%|████████████████████████████████████████████████████████████████████████████████                                        | 2/3 [00:02<00:01,  1.33s/it]"
     ]
    },
    {
     "name": "stdout",
     "output_type": "stream",
     "text": [
      "[Epoch 2] train loss: 17.911; train acc: 14.53; test loss: 17.879; test acc: 14.54\n"
     ]
    },
    {
     "name": "stderr",
     "output_type": "stream",
     "text": [
      "100%|████████████████████████████████████████████████████████████████████████████████████████████████████████████████████████| 3/3 [00:03<00:00,  1.31s/it]\n"
     ]
    },
    {
     "name": "stdout",
     "output_type": "stream",
     "text": [
      "[Epoch 3] train loss: 17.894; train acc: 14.53; test loss: 17.880; test acc: 14.54\n",
      "TRAINING ITERATION #168/500\n"
     ]
    },
    {
     "name": "stderr",
     "output_type": "stream",
     "text": [
      " 33%|████████████████████████████████████████                                                                                | 1/3 [00:01<00:02,  1.29s/it]"
     ]
    },
    {
     "name": "stdout",
     "output_type": "stream",
     "text": [
      "[Epoch 1] train loss: 17.850; train acc: 14.53; test loss: 17.908; test acc: 14.53\n"
     ]
    },
    {
     "name": "stderr",
     "output_type": "stream",
     "text": [
      " 67%|████████████████████████████████████████████████████████████████████████████████                                        | 2/3 [00:02<00:01,  1.32s/it]"
     ]
    },
    {
     "name": "stdout",
     "output_type": "stream",
     "text": [
      "[Epoch 2] train loss: 17.853; train acc: 14.53; test loss: 17.908; test acc: 14.53\n"
     ]
    },
    {
     "name": "stderr",
     "output_type": "stream",
     "text": [
      "100%|████████████████████████████████████████████████████████████████████████████████████████████████████████████████████████| 3/3 [00:03<00:00,  1.32s/it]\n"
     ]
    },
    {
     "name": "stdout",
     "output_type": "stream",
     "text": [
      "[Epoch 3] train loss: 17.852; train acc: 14.53; test loss: 17.910; test acc: 14.53\n",
      "TRAINING ITERATION #169/500\n"
     ]
    },
    {
     "name": "stderr",
     "output_type": "stream",
     "text": [
      " 33%|████████████████████████████████████████                                                                                | 1/3 [00:01<00:02,  1.28s/it]"
     ]
    },
    {
     "name": "stdout",
     "output_type": "stream",
     "text": [
      "[Epoch 1] train loss: 17.779; train acc: 14.54; test loss: 17.891; test acc: 14.53\n"
     ]
    },
    {
     "name": "stderr",
     "output_type": "stream",
     "text": [
      " 67%|████████████████████████████████████████████████████████████████████████████████                                        | 2/3 [00:02<00:01,  1.33s/it]"
     ]
    },
    {
     "name": "stdout",
     "output_type": "stream",
     "text": [
      "[Epoch 2] train loss: 17.782; train acc: 14.54; test loss: 17.900; test acc: 14.53\n"
     ]
    },
    {
     "name": "stderr",
     "output_type": "stream",
     "text": [
      "100%|████████████████████████████████████████████████████████████████████████████████████████████████████████████████████████| 3/3 [00:03<00:00,  1.32s/it]\n"
     ]
    },
    {
     "name": "stdout",
     "output_type": "stream",
     "text": [
      "[Epoch 3] train loss: 17.798; train acc: 14.54; test loss: 17.887; test acc: 14.53\n",
      "TRAINING ITERATION #170/500\n"
     ]
    },
    {
     "name": "stderr",
     "output_type": "stream",
     "text": [
      " 33%|████████████████████████████████████████                                                                                | 1/3 [00:01<00:02,  1.28s/it]"
     ]
    },
    {
     "name": "stdout",
     "output_type": "stream",
     "text": [
      "[Epoch 1] train loss: 17.839; train acc: 14.54; test loss: 17.855; test acc: 14.53\n"
     ]
    },
    {
     "name": "stderr",
     "output_type": "stream",
     "text": [
      " 67%|████████████████████████████████████████████████████████████████████████████████                                        | 2/3 [00:02<00:01,  1.32s/it]"
     ]
    },
    {
     "name": "stdout",
     "output_type": "stream",
     "text": [
      "[Epoch 2] train loss: 17.847; train acc: 14.54; test loss: 17.856; test acc: 14.53\n"
     ]
    },
    {
     "name": "stderr",
     "output_type": "stream",
     "text": [
      "100%|████████████████████████████████████████████████████████████████████████████████████████████████████████████████████████| 3/3 [00:03<00:00,  1.32s/it]"
     ]
    },
    {
     "name": "stdout",
     "output_type": "stream",
     "text": [
      "[Epoch 3] train loss: 17.845; train acc: 14.54; test loss: 17.860; test acc: 14.53\n",
      "SNR: -10, 7052.013%, test BER: 0.35260066390037537                \n",
      "\n"
     ]
    },
    {
     "name": "stderr",
     "output_type": "stream",
     "text": [
      "\n"
     ]
    },
    {
     "name": "stdout",
     "output_type": "stream",
     "text": [
      "SNR: -9, 6713.160%, test BER: 0.3356580138206482                \n",
      "\n",
      "SNR: -8, 6326.013%, test BER: 0.3163006603717804                \n",
      "\n",
      "SNR: -7, 5912.387%, test BER: 0.29561933875083923                \n",
      "\n",
      "SNR: -6, 5482.934%, test BER: 0.2741466760635376                \n",
      "\n",
      "SNR: -5, 4987.974%, test BER: 0.24939866364002228                \n",
      "\n",
      "SNR: -4, 4464.640%, test BER: 0.22323200106620789                \n",
      "\n",
      "SNR: -3, 3943.387%, test BER: 0.19716933369636536                \n",
      "\n",
      "SNR: -2, 3356.920%, test BER: 0.16784599423408508                \n",
      "\n",
      "SNR: -1, 2778.227%, test BER: 0.13891133666038513                \n",
      "\n",
      "SNR: 0, 2212.147%, test BER: 0.1106073334813118                \n",
      "\n",
      "SNR: 1, 1656.147%, test BER: 0.08280733227729797                \n",
      "\n",
      "SNR: 2, 1162.320%, test BER: 0.05811600014567375                \n",
      "\n",
      "SNR: 3, 741.893%, test BER: 0.03709466755390167                \n",
      "\n",
      "SNR: 4, 430.947%, test BER: 0.021547332406044006                \n",
      "\n",
      "TRAINING ITERATION #171/500\n"
     ]
    },
    {
     "name": "stderr",
     "output_type": "stream",
     "text": [
      " 33%|████████████████████████████████████████                                                                                | 1/3 [00:01<00:02,  1.36s/it]"
     ]
    },
    {
     "name": "stdout",
     "output_type": "stream",
     "text": [
      "[Epoch 1] train loss: 17.867; train acc: 14.53; test loss: 17.888; test acc: 14.53\n"
     ]
    },
    {
     "name": "stderr",
     "output_type": "stream",
     "text": [
      " 67%|████████████████████████████████████████████████████████████████████████████████                                        | 2/3 [00:02<00:01,  1.32s/it]"
     ]
    },
    {
     "name": "stdout",
     "output_type": "stream",
     "text": [
      "[Epoch 2] train loss: 17.854; train acc: 14.53; test loss: 17.874; test acc: 14.53\n"
     ]
    },
    {
     "name": "stderr",
     "output_type": "stream",
     "text": [
      "100%|████████████████████████████████████████████████████████████████████████████████████████████████████████████████████████| 3/3 [00:03<00:00,  1.32s/it]\n"
     ]
    },
    {
     "name": "stdout",
     "output_type": "stream",
     "text": [
      "[Epoch 3] train loss: 17.845; train acc: 14.53; test loss: 17.896; test acc: 14.53\n",
      "TRAINING ITERATION #172/500\n"
     ]
    },
    {
     "name": "stderr",
     "output_type": "stream",
     "text": [
      " 33%|████████████████████████████████████████                                                                                | 1/3 [00:01<00:02,  1.35s/it]"
     ]
    },
    {
     "name": "stdout",
     "output_type": "stream",
     "text": [
      "[Epoch 1] train loss: 17.828; train acc: 14.53; test loss: 17.843; test acc: 14.54\n"
     ]
    },
    {
     "name": "stderr",
     "output_type": "stream",
     "text": [
      " 67%|████████████████████████████████████████████████████████████████████████████████                                        | 2/3 [00:02<00:01,  1.31s/it]"
     ]
    },
    {
     "name": "stdout",
     "output_type": "stream",
     "text": [
      "[Epoch 2] train loss: 17.835; train acc: 14.53; test loss: 17.830; test acc: 14.54\n"
     ]
    },
    {
     "name": "stderr",
     "output_type": "stream",
     "text": [
      "100%|████████████████████████████████████████████████████████████████████████████████████████████████████████████████████████| 3/3 [00:03<00:00,  1.32s/it]\n"
     ]
    },
    {
     "name": "stdout",
     "output_type": "stream",
     "text": [
      "[Epoch 3] train loss: 17.828; train acc: 14.53; test loss: 17.845; test acc: 14.54\n",
      "TRAINING ITERATION #173/500\n"
     ]
    },
    {
     "name": "stderr",
     "output_type": "stream",
     "text": [
      " 33%|████████████████████████████████████████                                                                                | 1/3 [00:01<00:02,  1.35s/it]"
     ]
    },
    {
     "name": "stdout",
     "output_type": "stream",
     "text": [
      "[Epoch 1] train loss: 17.842; train acc: 14.53; test loss: 17.875; test acc: 14.53\n"
     ]
    },
    {
     "name": "stderr",
     "output_type": "stream",
     "text": [
      " 67%|████████████████████████████████████████████████████████████████████████████████                                        | 2/3 [00:02<00:01,  1.32s/it]"
     ]
    },
    {
     "name": "stdout",
     "output_type": "stream",
     "text": [
      "[Epoch 2] train loss: 17.849; train acc: 14.53; test loss: 17.870; test acc: 14.53\n"
     ]
    },
    {
     "name": "stderr",
     "output_type": "stream",
     "text": [
      "100%|████████████████████████████████████████████████████████████████████████████████████████████████████████████████████████| 3/3 [00:03<00:00,  1.32s/it]\n"
     ]
    },
    {
     "name": "stdout",
     "output_type": "stream",
     "text": [
      "[Epoch 3] train loss: 17.831; train acc: 14.53; test loss: 17.866; test acc: 14.53\n",
      "TRAINING ITERATION #174/500\n"
     ]
    },
    {
     "name": "stderr",
     "output_type": "stream",
     "text": [
      " 33%|████████████████████████████████████████                                                                                | 1/3 [00:01<00:02,  1.30s/it]"
     ]
    },
    {
     "name": "stdout",
     "output_type": "stream",
     "text": [
      "[Epoch 1] train loss: 17.891; train acc: 14.53; test loss: 17.843; test acc: 14.54\n"
     ]
    },
    {
     "name": "stderr",
     "output_type": "stream",
     "text": [
      " 67%|████████████████████████████████████████████████████████████████████████████████                                        | 2/3 [00:02<00:01,  1.35s/it]"
     ]
    },
    {
     "name": "stdout",
     "output_type": "stream",
     "text": [
      "[Epoch 2] train loss: 17.887; train acc: 14.53; test loss: 17.864; test acc: 14.54\n"
     ]
    },
    {
     "name": "stderr",
     "output_type": "stream",
     "text": [
      "100%|████████████████████████████████████████████████████████████████████████████████████████████████████████████████████████| 3/3 [00:04<00:00,  1.34s/it]\n"
     ]
    },
    {
     "name": "stdout",
     "output_type": "stream",
     "text": [
      "[Epoch 3] train loss: 17.893; train acc: 14.53; test loss: 17.847; test acc: 14.54\n",
      "TRAINING ITERATION #175/500\n"
     ]
    },
    {
     "name": "stderr",
     "output_type": "stream",
     "text": [
      " 33%|████████████████████████████████████████                                                                                | 1/3 [00:01<00:02,  1.31s/it]"
     ]
    },
    {
     "name": "stdout",
     "output_type": "stream",
     "text": [
      "[Epoch 1] train loss: 17.893; train acc: 14.54; test loss: 17.876; test acc: 14.53\n"
     ]
    },
    {
     "name": "stderr",
     "output_type": "stream",
     "text": [
      " 67%|████████████████████████████████████████████████████████████████████████████████                                        | 2/3 [00:02<00:01,  1.34s/it]"
     ]
    },
    {
     "name": "stdout",
     "output_type": "stream",
     "text": [
      "[Epoch 2] train loss: 17.896; train acc: 14.54; test loss: 17.877; test acc: 14.53\n"
     ]
    },
    {
     "name": "stderr",
     "output_type": "stream",
     "text": [
      "100%|████████████████████████████████████████████████████████████████████████████████████████████████████████████████████████| 3/3 [00:03<00:00,  1.33s/it]"
     ]
    },
    {
     "name": "stdout",
     "output_type": "stream",
     "text": [
      "[Epoch 3] train loss: 17.887; train acc: 14.54; test loss: 17.854; test acc: 14.53\n",
      "SNR: -10, 7037.813%, test BER: 0.3518906533718109                \n",
      "\n"
     ]
    },
    {
     "name": "stderr",
     "output_type": "stream",
     "text": [
      "\n"
     ]
    },
    {
     "name": "stdout",
     "output_type": "stream",
     "text": [
      "SNR: -9, 6698.400%, test BER: 0.3349199891090393                \n",
      "\n",
      "SNR: -8, 6323.374%, test BER: 0.3161686658859253                \n",
      "\n",
      "SNR: -7, 5928.374%, test BER: 0.2964186668395996                \n",
      "\n",
      "SNR: -6, 5479.213%, test BER: 0.273960679769516                \n",
      "\n",
      "SNR: -5, 5005.160%, test BER: 0.2502579987049103                \n",
      "\n",
      "SNR: -4, 4474.560%, test BER: 0.2237280011177063                \n",
      "\n",
      "SNR: -3, 3939.720%, test BER: 0.19698600471019745                \n",
      "\n",
      "SNR: -2, 3361.253%, test BER: 0.16806267201900482                \n",
      "\n",
      "SNR: -1, 2772.960%, test BER: 0.13864800333976746                \n",
      "\n",
      "SNR: 0, 2214.307%, test BER: 0.11071532964706421                \n",
      "\n",
      "SNR: 1, 1652.867%, test BER: 0.08264333009719849                \n",
      "\n",
      "SNR: 2, 1155.893%, test BER: 0.05779466778039932                \n",
      "\n",
      "SNR: 3, 742.067%, test BER: 0.037103332579135895                \n",
      "\n",
      "SNR: 4, 428.720%, test BER: 0.021436000242829323                \n",
      "\n",
      "TRAINING ITERATION #176/500\n"
     ]
    },
    {
     "name": "stderr",
     "output_type": "stream",
     "text": [
      " 33%|████████████████████████████████████████                                                                                | 1/3 [00:01<00:02,  1.32s/it]"
     ]
    },
    {
     "name": "stdout",
     "output_type": "stream",
     "text": [
      "[Epoch 1] train loss: 17.859; train acc: 14.54; test loss: 17.862; test acc: 14.54\n"
     ]
    },
    {
     "name": "stderr",
     "output_type": "stream",
     "text": [
      " 67%|████████████████████████████████████████████████████████████████████████████████                                        | 2/3 [00:02<00:01,  1.34s/it]"
     ]
    },
    {
     "name": "stdout",
     "output_type": "stream",
     "text": [
      "[Epoch 2] train loss: 17.854; train acc: 14.54; test loss: 17.849; test acc: 14.54\n"
     ]
    },
    {
     "name": "stderr",
     "output_type": "stream",
     "text": [
      "100%|████████████████████████████████████████████████████████████████████████████████████████████████████████████████████████| 3/3 [00:03<00:00,  1.33s/it]\n"
     ]
    },
    {
     "name": "stdout",
     "output_type": "stream",
     "text": [
      "[Epoch 3] train loss: 17.858; train acc: 14.54; test loss: 17.867; test acc: 14.54\n",
      "TRAINING ITERATION #177/500\n"
     ]
    },
    {
     "name": "stderr",
     "output_type": "stream",
     "text": [
      " 33%|████████████████████████████████████████                                                                                | 1/3 [00:01<00:02,  1.31s/it]"
     ]
    },
    {
     "name": "stdout",
     "output_type": "stream",
     "text": [
      "[Epoch 1] train loss: 17.830; train acc: 14.53; test loss: 17.850; test acc: 14.53\n"
     ]
    },
    {
     "name": "stderr",
     "output_type": "stream",
     "text": [
      " 67%|████████████████████████████████████████████████████████████████████████████████                                        | 2/3 [00:02<00:01,  1.34s/it]"
     ]
    },
    {
     "name": "stdout",
     "output_type": "stream",
     "text": [
      "[Epoch 2] train loss: 17.843; train acc: 14.53; test loss: 17.856; test acc: 14.53\n"
     ]
    },
    {
     "name": "stderr",
     "output_type": "stream",
     "text": [
      "100%|████████████████████████████████████████████████████████████████████████████████████████████████████████████████████████| 3/3 [00:03<00:00,  1.33s/it]\n"
     ]
    },
    {
     "name": "stdout",
     "output_type": "stream",
     "text": [
      "[Epoch 3] train loss: 17.827; train acc: 14.53; test loss: 17.860; test acc: 14.53\n",
      "TRAINING ITERATION #178/500\n"
     ]
    },
    {
     "name": "stderr",
     "output_type": "stream",
     "text": [
      " 33%|████████████████████████████████████████                                                                                | 1/3 [00:01<00:02,  1.29s/it]"
     ]
    },
    {
     "name": "stdout",
     "output_type": "stream",
     "text": [
      "[Epoch 1] train loss: 17.871; train acc: 14.53; test loss: 17.887; test acc: 14.53\n"
     ]
    },
    {
     "name": "stderr",
     "output_type": "stream",
     "text": [
      " 67%|████████████████████████████████████████████████████████████████████████████████                                        | 2/3 [00:02<00:01,  1.33s/it]"
     ]
    },
    {
     "name": "stdout",
     "output_type": "stream",
     "text": [
      "[Epoch 2] train loss: 17.866; train acc: 14.53; test loss: 17.887; test acc: 14.53\n"
     ]
    },
    {
     "name": "stderr",
     "output_type": "stream",
     "text": [
      "100%|████████████████████████████████████████████████████████████████████████████████████████████████████████████████████████| 3/3 [00:03<00:00,  1.32s/it]\n"
     ]
    },
    {
     "name": "stdout",
     "output_type": "stream",
     "text": [
      "[Epoch 3] train loss: 17.871; train acc: 14.53; test loss: 17.874; test acc: 14.53\n",
      "TRAINING ITERATION #179/500\n"
     ]
    },
    {
     "name": "stderr",
     "output_type": "stream",
     "text": [
      " 33%|████████████████████████████████████████                                                                                | 1/3 [00:01<00:02,  1.27s/it]"
     ]
    },
    {
     "name": "stdout",
     "output_type": "stream",
     "text": [
      "[Epoch 1] train loss: 17.817; train acc: 14.54; test loss: 17.822; test acc: 14.53\n"
     ]
    },
    {
     "name": "stderr",
     "output_type": "stream",
     "text": [
      " 67%|████████████████████████████████████████████████████████████████████████████████                                        | 2/3 [00:02<00:01,  1.32s/it]"
     ]
    },
    {
     "name": "stdout",
     "output_type": "stream",
     "text": [
      "[Epoch 2] train loss: 17.826; train acc: 14.54; test loss: 17.806; test acc: 14.53\n"
     ]
    },
    {
     "name": "stderr",
     "output_type": "stream",
     "text": [
      "100%|████████████████████████████████████████████████████████████████████████████████████████████████████████████████████████| 3/3 [00:03<00:00,  1.32s/it]\n"
     ]
    },
    {
     "name": "stdout",
     "output_type": "stream",
     "text": [
      "[Epoch 3] train loss: 17.830; train acc: 14.54; test loss: 17.815; test acc: 14.53\n",
      "TRAINING ITERATION #180/500\n"
     ]
    },
    {
     "name": "stderr",
     "output_type": "stream",
     "text": [
      " 33%|████████████████████████████████████████                                                                                | 1/3 [00:01<00:02,  1.29s/it]"
     ]
    },
    {
     "name": "stdout",
     "output_type": "stream",
     "text": [
      "[Epoch 1] train loss: 17.873; train acc: 14.54; test loss: 17.870; test acc: 14.53\n"
     ]
    },
    {
     "name": "stderr",
     "output_type": "stream",
     "text": [
      " 67%|████████████████████████████████████████████████████████████████████████████████                                        | 2/3 [00:02<00:01,  1.34s/it]"
     ]
    },
    {
     "name": "stdout",
     "output_type": "stream",
     "text": [
      "[Epoch 2] train loss: 17.854; train acc: 14.54; test loss: 17.859; test acc: 14.53\n"
     ]
    },
    {
     "name": "stderr",
     "output_type": "stream",
     "text": [
      "100%|████████████████████████████████████████████████████████████████████████████████████████████████████████████████████████| 3/3 [00:03<00:00,  1.33s/it]"
     ]
    },
    {
     "name": "stdout",
     "output_type": "stream",
     "text": [
      "[Epoch 3] train loss: 17.861; train acc: 14.54; test loss: 17.863; test acc: 14.53\n",
      "SNR: -10, 7030.880%, test BER: 0.35154399275779724                \n",
      "\n"
     ]
    },
    {
     "name": "stderr",
     "output_type": "stream",
     "text": [
      "\n"
     ]
    },
    {
     "name": "stdout",
     "output_type": "stream",
     "text": [
      "SNR: -9, 6695.987%, test BER: 0.33479931950569153                \n",
      "\n",
      "SNR: -8, 6333.187%, test BER: 0.3166593313217163                \n",
      "\n",
      "SNR: -7, 5932.374%, test BER: 0.29661867022514343                \n",
      "\n",
      "SNR: -6, 5490.240%, test BER: 0.27451199293136597                \n",
      "\n",
      "SNR: -5, 5002.080%, test BER: 0.25010401010513306                \n",
      "\n",
      "SNR: -4, 4468.854%, test BER: 0.2234426736831665                \n",
      "\n",
      "SNR: -3, 3930.693%, test BER: 0.196534663438797                \n",
      "\n",
      "SNR: -2, 3376.960%, test BER: 0.16884799301624298                \n",
      "\n",
      "SNR: -1, 2784.827%, test BER: 0.13924133777618408                \n",
      "\n",
      "SNR: 0, 2195.147%, test BER: 0.10975733399391174                \n",
      "\n",
      "SNR: 1, 1651.907%, test BER: 0.0825953334569931                \n",
      "\n",
      "SNR: 2, 1156.987%, test BER: 0.05784933269023895                \n",
      "\n",
      "SNR: 3, 735.467%, test BER: 0.03677333518862724                \n",
      "\n",
      "SNR: 4, 429.653%, test BER: 0.021482666954398155                \n",
      "\n",
      "TRAINING ITERATION #181/500\n"
     ]
    },
    {
     "name": "stderr",
     "output_type": "stream",
     "text": [
      " 33%|████████████████████████████████████████                                                                                | 1/3 [00:01<00:02,  1.29s/it]"
     ]
    },
    {
     "name": "stdout",
     "output_type": "stream",
     "text": [
      "[Epoch 1] train loss: 17.846; train acc: 14.54; test loss: 17.835; test acc: 14.54\n"
     ]
    },
    {
     "name": "stderr",
     "output_type": "stream",
     "text": [
      " 67%|████████████████████████████████████████████████████████████████████████████████                                        | 2/3 [00:02<00:01,  1.33s/it]"
     ]
    },
    {
     "name": "stdout",
     "output_type": "stream",
     "text": [
      "[Epoch 2] train loss: 17.842; train acc: 14.54; test loss: 17.834; test acc: 14.54\n"
     ]
    },
    {
     "name": "stderr",
     "output_type": "stream",
     "text": [
      "100%|████████████████████████████████████████████████████████████████████████████████████████████████████████████████████████| 3/3 [00:03<00:00,  1.33s/it]\n"
     ]
    },
    {
     "name": "stdout",
     "output_type": "stream",
     "text": [
      "[Epoch 3] train loss: 17.872; train acc: 14.54; test loss: 17.845; test acc: 14.54\n",
      "TRAINING ITERATION #182/500\n"
     ]
    },
    {
     "name": "stderr",
     "output_type": "stream",
     "text": [
      " 33%|████████████████████████████████████████                                                                                | 1/3 [00:01<00:02,  1.36s/it]"
     ]
    },
    {
     "name": "stdout",
     "output_type": "stream",
     "text": [
      "[Epoch 1] train loss: 17.855; train acc: 14.54; test loss: 17.895; test acc: 14.54\n"
     ]
    },
    {
     "name": "stderr",
     "output_type": "stream",
     "text": [
      " 67%|████████████████████████████████████████████████████████████████████████████████                                        | 2/3 [00:02<00:01,  1.32s/it]"
     ]
    },
    {
     "name": "stdout",
     "output_type": "stream",
     "text": [
      "[Epoch 2] train loss: 17.869; train acc: 14.53; test loss: 17.888; test acc: 14.54\n"
     ]
    },
    {
     "name": "stderr",
     "output_type": "stream",
     "text": [
      "100%|████████████████████████████████████████████████████████████████████████████████████████████████████████████████████████| 3/3 [00:03<00:00,  1.33s/it]\n"
     ]
    },
    {
     "name": "stdout",
     "output_type": "stream",
     "text": [
      "[Epoch 3] train loss: 17.867; train acc: 14.53; test loss: 17.880; test acc: 14.54\n",
      "TRAINING ITERATION #183/500\n"
     ]
    },
    {
     "name": "stderr",
     "output_type": "stream",
     "text": [
      " 33%|████████████████████████████████████████                                                                                | 1/3 [00:01<00:02,  1.28s/it]"
     ]
    },
    {
     "name": "stdout",
     "output_type": "stream",
     "text": [
      "[Epoch 1] train loss: 17.865; train acc: 14.53; test loss: 17.838; test acc: 14.54\n"
     ]
    },
    {
     "name": "stderr",
     "output_type": "stream",
     "text": [
      " 67%|████████████████████████████████████████████████████████████████████████████████                                        | 2/3 [00:02<00:01,  1.33s/it]"
     ]
    },
    {
     "name": "stdout",
     "output_type": "stream",
     "text": [
      "[Epoch 2] train loss: 17.869; train acc: 14.53; test loss: 17.823; test acc: 14.54\n"
     ]
    },
    {
     "name": "stderr",
     "output_type": "stream",
     "text": [
      "100%|████████████████████████████████████████████████████████████████████████████████████████████████████████████████████████| 3/3 [00:03<00:00,  1.32s/it]\n"
     ]
    },
    {
     "name": "stdout",
     "output_type": "stream",
     "text": [
      "[Epoch 3] train loss: 17.841; train acc: 14.53; test loss: 17.821; test acc: 14.54\n",
      "TRAINING ITERATION #184/500\n"
     ]
    },
    {
     "name": "stderr",
     "output_type": "stream",
     "text": [
      " 33%|████████████████████████████████████████                                                                                | 1/3 [00:01<00:02,  1.29s/it]"
     ]
    },
    {
     "name": "stdout",
     "output_type": "stream",
     "text": [
      "[Epoch 1] train loss: 17.829; train acc: 14.54; test loss: 17.831; test acc: 14.54\n"
     ]
    },
    {
     "name": "stderr",
     "output_type": "stream",
     "text": [
      " 67%|████████████████████████████████████████████████████████████████████████████████                                        | 2/3 [00:02<00:01,  1.33s/it]"
     ]
    },
    {
     "name": "stdout",
     "output_type": "stream",
     "text": [
      "[Epoch 2] train loss: 17.811; train acc: 14.54; test loss: 17.839; test acc: 14.54\n"
     ]
    },
    {
     "name": "stderr",
     "output_type": "stream",
     "text": [
      "100%|████████████████████████████████████████████████████████████████████████████████████████████████████████████████████████| 3/3 [00:03<00:00,  1.32s/it]\n"
     ]
    },
    {
     "name": "stdout",
     "output_type": "stream",
     "text": [
      "[Epoch 3] train loss: 17.816; train acc: 14.54; test loss: 17.831; test acc: 14.54\n",
      "TRAINING ITERATION #185/500\n"
     ]
    },
    {
     "name": "stderr",
     "output_type": "stream",
     "text": [
      " 33%|████████████████████████████████████████                                                                                | 1/3 [00:01<00:02,  1.29s/it]"
     ]
    },
    {
     "name": "stdout",
     "output_type": "stream",
     "text": [
      "[Epoch 1] train loss: 17.895; train acc: 14.54; test loss: 17.822; test acc: 14.54\n"
     ]
    },
    {
     "name": "stderr",
     "output_type": "stream",
     "text": [
      " 67%|████████████████████████████████████████████████████████████████████████████████                                        | 2/3 [00:02<00:01,  1.33s/it]"
     ]
    },
    {
     "name": "stdout",
     "output_type": "stream",
     "text": [
      "[Epoch 2] train loss: 17.880; train acc: 14.54; test loss: 17.837; test acc: 14.54\n"
     ]
    },
    {
     "name": "stderr",
     "output_type": "stream",
     "text": [
      "100%|████████████████████████████████████████████████████████████████████████████████████████████████████████████████████████| 3/3 [00:03<00:00,  1.32s/it]"
     ]
    },
    {
     "name": "stdout",
     "output_type": "stream",
     "text": [
      "[Epoch 3] train loss: 17.878; train acc: 14.54; test loss: 17.846; test acc: 14.54\n",
      "SNR: -10, 7044.347%, test BER: 0.35221734642982483                \n",
      "\n"
     ]
    },
    {
     "name": "stderr",
     "output_type": "stream",
     "text": [
      "\n"
     ]
    },
    {
     "name": "stdout",
     "output_type": "stream",
     "text": [
      "SNR: -9, 6714.053%, test BER: 0.33570265769958496                \n",
      "\n",
      "SNR: -8, 6322.854%, test BER: 0.3161426782608032                \n",
      "\n",
      "SNR: -7, 5917.800%, test BER: 0.2958900034427643                \n",
      "\n",
      "SNR: -6, 5484.747%, test BER: 0.27423733472824097                \n",
      "\n",
      "SNR: -5, 4992.880%, test BER: 0.24964399635791779                \n",
      "\n",
      "SNR: -4, 4488.027%, test BER: 0.2244013398885727                \n",
      "\n",
      "SNR: -3, 3913.520%, test BER: 0.19567599892616272                \n",
      "\n",
      "SNR: -2, 3371.080%, test BER: 0.16855399310588837                \n",
      "\n",
      "SNR: -1, 2786.853%, test BER: 0.13934266567230225                \n",
      "\n",
      "SNR: 0, 2208.387%, test BER: 0.11041933298110962                \n",
      "\n",
      "SNR: 1, 1653.107%, test BER: 0.08265533298254013                \n",
      "\n",
      "SNR: 2, 1156.027%, test BER: 0.05780133232474327                \n",
      "\n",
      "SNR: 3, 743.200%, test BER: 0.0371600016951561                \n",
      "\n",
      "SNR: 4, 426.787%, test BER: 0.021339332684874535                \n",
      "\n",
      "TRAINING ITERATION #186/500\n"
     ]
    },
    {
     "name": "stderr",
     "output_type": "stream",
     "text": [
      " 33%|████████████████████████████████████████                                                                                | 1/3 [00:01<00:02,  1.30s/it]"
     ]
    },
    {
     "name": "stdout",
     "output_type": "stream",
     "text": [
      "[Epoch 1] train loss: 17.869; train acc: 14.53; test loss: 17.848; test acc: 14.53\n"
     ]
    },
    {
     "name": "stderr",
     "output_type": "stream",
     "text": [
      " 67%|████████████████████████████████████████████████████████████████████████████████                                        | 2/3 [00:02<00:01,  1.34s/it]"
     ]
    },
    {
     "name": "stdout",
     "output_type": "stream",
     "text": [
      "[Epoch 2] train loss: 17.891; train acc: 14.53; test loss: 17.844; test acc: 14.54\n"
     ]
    },
    {
     "name": "stderr",
     "output_type": "stream",
     "text": [
      "100%|████████████████████████████████████████████████████████████████████████████████████████████████████████████████████████| 3/3 [00:03<00:00,  1.33s/it]\n"
     ]
    },
    {
     "name": "stdout",
     "output_type": "stream",
     "text": [
      "[Epoch 3] train loss: 17.876; train acc: 14.53; test loss: 17.840; test acc: 14.54\n",
      "TRAINING ITERATION #187/500\n"
     ]
    },
    {
     "name": "stderr",
     "output_type": "stream",
     "text": [
      " 33%|████████████████████████████████████████                                                                                | 1/3 [00:01<00:02,  1.29s/it]"
     ]
    },
    {
     "name": "stdout",
     "output_type": "stream",
     "text": [
      "[Epoch 1] train loss: 17.825; train acc: 14.55; test loss: 17.870; test acc: 14.54\n"
     ]
    },
    {
     "name": "stderr",
     "output_type": "stream",
     "text": [
      " 67%|████████████████████████████████████████████████████████████████████████████████                                        | 2/3 [00:02<00:01,  1.32s/it]"
     ]
    },
    {
     "name": "stdout",
     "output_type": "stream",
     "text": [
      "[Epoch 2] train loss: 17.837; train acc: 14.55; test loss: 17.882; test acc: 14.54\n"
     ]
    },
    {
     "name": "stderr",
     "output_type": "stream",
     "text": [
      "100%|████████████████████████████████████████████████████████████████████████████████████████████████████████████████████████| 3/3 [00:03<00:00,  1.32s/it]\n"
     ]
    },
    {
     "name": "stdout",
     "output_type": "stream",
     "text": [
      "[Epoch 3] train loss: 17.826; train acc: 14.55; test loss: 17.877; test acc: 14.54\n",
      "TRAINING ITERATION #188/500\n"
     ]
    },
    {
     "name": "stderr",
     "output_type": "stream",
     "text": [
      " 33%|████████████████████████████████████████                                                                                | 1/3 [00:01<00:02,  1.27s/it]"
     ]
    },
    {
     "name": "stdout",
     "output_type": "stream",
     "text": [
      "[Epoch 1] train loss: 17.828; train acc: 14.53; test loss: 17.827; test acc: 14.54\n"
     ]
    },
    {
     "name": "stderr",
     "output_type": "stream",
     "text": [
      " 67%|████████████████████████████████████████████████████████████████████████████████                                        | 2/3 [00:02<00:01,  1.32s/it]"
     ]
    },
    {
     "name": "stdout",
     "output_type": "stream",
     "text": [
      "[Epoch 2] train loss: 17.850; train acc: 14.53; test loss: 17.814; test acc: 14.54\n"
     ]
    },
    {
     "name": "stderr",
     "output_type": "stream",
     "text": [
      "100%|████████████████████████████████████████████████████████████████████████████████████████████████████████████████████████| 3/3 [00:03<00:00,  1.32s/it]\n"
     ]
    },
    {
     "name": "stdout",
     "output_type": "stream",
     "text": [
      "[Epoch 3] train loss: 17.839; train acc: 14.53; test loss: 17.817; test acc: 14.54\n",
      "TRAINING ITERATION #189/500\n"
     ]
    },
    {
     "name": "stderr",
     "output_type": "stream",
     "text": [
      " 33%|████████████████████████████████████████                                                                                | 1/3 [00:01<00:02,  1.28s/it]"
     ]
    },
    {
     "name": "stdout",
     "output_type": "stream",
     "text": [
      "[Epoch 1] train loss: 17.844; train acc: 14.53; test loss: 17.854; test acc: 14.53\n"
     ]
    },
    {
     "name": "stderr",
     "output_type": "stream",
     "text": [
      " 67%|████████████████████████████████████████████████████████████████████████████████                                        | 2/3 [00:02<00:01,  1.32s/it]"
     ]
    },
    {
     "name": "stdout",
     "output_type": "stream",
     "text": [
      "[Epoch 2] train loss: 17.841; train acc: 14.53; test loss: 17.855; test acc: 14.53\n"
     ]
    },
    {
     "name": "stderr",
     "output_type": "stream",
     "text": [
      "100%|████████████████████████████████████████████████████████████████████████████████████████████████████████████████████████| 3/3 [00:03<00:00,  1.32s/it]\n"
     ]
    },
    {
     "name": "stdout",
     "output_type": "stream",
     "text": [
      "[Epoch 3] train loss: 17.838; train acc: 14.53; test loss: 17.852; test acc: 14.53\n",
      "TRAINING ITERATION #190/500\n"
     ]
    },
    {
     "name": "stderr",
     "output_type": "stream",
     "text": [
      " 33%|████████████████████████████████████████                                                                                | 1/3 [00:01<00:02,  1.29s/it]"
     ]
    },
    {
     "name": "stdout",
     "output_type": "stream",
     "text": [
      "[Epoch 1] train loss: 17.857; train acc: 14.54; test loss: 17.847; test acc: 14.54\n"
     ]
    },
    {
     "name": "stderr",
     "output_type": "stream",
     "text": [
      " 67%|████████████████████████████████████████████████████████████████████████████████                                        | 2/3 [00:02<00:01,  1.33s/it]"
     ]
    },
    {
     "name": "stdout",
     "output_type": "stream",
     "text": [
      "[Epoch 2] train loss: 17.852; train acc: 14.54; test loss: 17.842; test acc: 14.54\n"
     ]
    },
    {
     "name": "stderr",
     "output_type": "stream",
     "text": [
      "100%|████████████████████████████████████████████████████████████████████████████████████████████████████████████████████████| 3/3 [00:03<00:00,  1.33s/it]"
     ]
    },
    {
     "name": "stdout",
     "output_type": "stream",
     "text": [
      "[Epoch 3] train loss: 17.839; train acc: 14.54; test loss: 17.843; test acc: 14.54\n",
      "SNR: -10, 7045.720%, test BER: 0.3522860109806061                \n",
      "\n"
     ]
    },
    {
     "name": "stderr",
     "output_type": "stream",
     "text": [
      "\n"
     ]
    },
    {
     "name": "stdout",
     "output_type": "stream",
     "text": [
      "SNR: -9, 6718.493%, test BER: 0.3359246551990509                \n",
      "\n",
      "SNR: -8, 6333.813%, test BER: 0.3166906535625458                \n",
      "\n",
      "SNR: -7, 5908.293%, test BER: 0.29541465640068054                \n",
      "\n",
      "SNR: -6, 5470.440%, test BER: 0.2735219895839691                \n",
      "\n",
      "SNR: -5, 4993.320%, test BER: 0.2496660053730011                \n",
      "\n",
      "SNR: -4, 4475.707%, test BER: 0.22378532588481903                \n",
      "\n",
      "SNR: -3, 3936.893%, test BER: 0.1968446671962738                \n",
      "\n",
      "SNR: -2, 3368.387%, test BER: 0.16841933131217957                \n",
      "\n",
      "SNR: -1, 2777.480%, test BER: 0.13887399435043335                \n",
      "\n",
      "SNR: 0, 2200.040%, test BER: 0.11000200361013412                \n",
      "\n",
      "SNR: 1, 1648.040%, test BER: 0.08240199834108353                \n",
      "\n",
      "SNR: 2, 1148.627%, test BER: 0.057431332767009735                \n",
      "\n",
      "SNR: 3, 738.213%, test BER: 0.03691066801548004                \n",
      "\n",
      "SNR: 4, 427.413%, test BER: 0.021370666101574898                \n",
      "\n",
      "TRAINING ITERATION #191/500\n"
     ]
    },
    {
     "name": "stderr",
     "output_type": "stream",
     "text": [
      " 33%|████████████████████████████████████████                                                                                | 1/3 [00:01<00:02,  1.36s/it]"
     ]
    },
    {
     "name": "stdout",
     "output_type": "stream",
     "text": [
      "[Epoch 1] train loss: 17.845; train acc: 14.54; test loss: 17.884; test acc: 14.53\n"
     ]
    },
    {
     "name": "stderr",
     "output_type": "stream",
     "text": [
      " 67%|████████████████████████████████████████████████████████████████████████████████                                        | 2/3 [00:02<00:01,  1.33s/it]"
     ]
    },
    {
     "name": "stdout",
     "output_type": "stream",
     "text": [
      "[Epoch 2] train loss: 17.855; train acc: 14.54; test loss: 17.879; test acc: 14.53\n"
     ]
    },
    {
     "name": "stderr",
     "output_type": "stream",
     "text": [
      "100%|████████████████████████████████████████████████████████████████████████████████████████████████████████████████████████| 3/3 [00:03<00:00,  1.33s/it]\n"
     ]
    },
    {
     "name": "stdout",
     "output_type": "stream",
     "text": [
      "[Epoch 3] train loss: 17.856; train acc: 14.54; test loss: 17.885; test acc: 14.53\n",
      "TRAINING ITERATION #192/500\n"
     ]
    },
    {
     "name": "stderr",
     "output_type": "stream",
     "text": [
      " 33%|████████████████████████████████████████                                                                                | 1/3 [00:01<00:02,  1.33s/it]"
     ]
    },
    {
     "name": "stdout",
     "output_type": "stream",
     "text": [
      "[Epoch 1] train loss: 17.877; train acc: 14.54; test loss: 17.858; test acc: 14.53\n"
     ]
    },
    {
     "name": "stderr",
     "output_type": "stream",
     "text": [
      " 67%|████████████████████████████████████████████████████████████████████████████████                                        | 2/3 [00:02<00:01,  1.31s/it]"
     ]
    },
    {
     "name": "stdout",
     "output_type": "stream",
     "text": [
      "[Epoch 2] train loss: 17.865; train acc: 14.54; test loss: 17.855; test acc: 14.53\n"
     ]
    },
    {
     "name": "stderr",
     "output_type": "stream",
     "text": [
      "100%|████████████████████████████████████████████████████████████████████████████████████████████████████████████████████████| 3/3 [00:03<00:00,  1.32s/it]\n"
     ]
    },
    {
     "name": "stdout",
     "output_type": "stream",
     "text": [
      "[Epoch 3] train loss: 17.875; train acc: 14.54; test loss: 17.860; test acc: 14.53\n",
      "TRAINING ITERATION #193/500\n"
     ]
    },
    {
     "name": "stderr",
     "output_type": "stream",
     "text": [
      " 33%|████████████████████████████████████████                                                                                | 1/3 [00:01<00:02,  1.34s/it]"
     ]
    },
    {
     "name": "stdout",
     "output_type": "stream",
     "text": [
      "[Epoch 1] train loss: 17.811; train acc: 14.53; test loss: 17.843; test acc: 14.54\n"
     ]
    },
    {
     "name": "stderr",
     "output_type": "stream",
     "text": [
      " 67%|████████████████████████████████████████████████████████████████████████████████                                        | 2/3 [00:02<00:01,  1.32s/it]"
     ]
    },
    {
     "name": "stdout",
     "output_type": "stream",
     "text": [
      "[Epoch 2] train loss: 17.825; train acc: 14.53; test loss: 17.852; test acc: 14.54\n"
     ]
    },
    {
     "name": "stderr",
     "output_type": "stream",
     "text": [
      "100%|████████████████████████████████████████████████████████████████████████████████████████████████████████████████████████| 3/3 [00:03<00:00,  1.32s/it]\n"
     ]
    },
    {
     "name": "stdout",
     "output_type": "stream",
     "text": [
      "[Epoch 3] train loss: 17.812; train acc: 14.53; test loss: 17.847; test acc: 14.54\n",
      "TRAINING ITERATION #194/500\n"
     ]
    },
    {
     "name": "stderr",
     "output_type": "stream",
     "text": [
      " 33%|████████████████████████████████████████                                                                                | 1/3 [00:01<00:02,  1.28s/it]"
     ]
    },
    {
     "name": "stdout",
     "output_type": "stream",
     "text": [
      "[Epoch 1] train loss: 17.856; train acc: 14.54; test loss: 17.838; test acc: 14.54\n"
     ]
    },
    {
     "name": "stderr",
     "output_type": "stream",
     "text": [
      " 67%|████████████████████████████████████████████████████████████████████████████████                                        | 2/3 [00:02<00:01,  1.33s/it]"
     ]
    },
    {
     "name": "stdout",
     "output_type": "stream",
     "text": [
      "[Epoch 2] train loss: 17.856; train acc: 14.54; test loss: 17.839; test acc: 14.54\n"
     ]
    },
    {
     "name": "stderr",
     "output_type": "stream",
     "text": [
      "100%|████████████████████████████████████████████████████████████████████████████████████████████████████████████████████████| 3/3 [00:03<00:00,  1.32s/it]\n"
     ]
    },
    {
     "name": "stdout",
     "output_type": "stream",
     "text": [
      "[Epoch 3] train loss: 17.853; train acc: 14.54; test loss: 17.838; test acc: 14.54\n",
      "TRAINING ITERATION #195/500\n"
     ]
    },
    {
     "name": "stderr",
     "output_type": "stream",
     "text": [
      " 33%|████████████████████████████████████████                                                                                | 1/3 [00:01<00:02,  1.29s/it]"
     ]
    },
    {
     "name": "stdout",
     "output_type": "stream",
     "text": [
      "[Epoch 1] train loss: 17.852; train acc: 14.53; test loss: 17.861; test acc: 14.53\n"
     ]
    },
    {
     "name": "stderr",
     "output_type": "stream",
     "text": [
      " 67%|████████████████████████████████████████████████████████████████████████████████                                        | 2/3 [00:02<00:01,  1.33s/it]"
     ]
    },
    {
     "name": "stdout",
     "output_type": "stream",
     "text": [
      "[Epoch 2] train loss: 17.853; train acc: 14.53; test loss: 17.864; test acc: 14.53\n"
     ]
    },
    {
     "name": "stderr",
     "output_type": "stream",
     "text": [
      "100%|████████████████████████████████████████████████████████████████████████████████████████████████████████████████████████| 3/3 [00:03<00:00,  1.32s/it]"
     ]
    },
    {
     "name": "stdout",
     "output_type": "stream",
     "text": [
      "[Epoch 3] train loss: 17.855; train acc: 14.53; test loss: 17.879; test acc: 14.53\n",
      "SNR: -10, 7064.667%, test BER: 0.35323333740234375                \n",
      "\n"
     ]
    },
    {
     "name": "stderr",
     "output_type": "stream",
     "text": [
      "\n"
     ]
    },
    {
     "name": "stdout",
     "output_type": "stream",
     "text": [
      "SNR: -9, 6714.507%, test BER: 0.335725337266922                \n",
      "\n",
      "SNR: -8, 6335.587%, test BER: 0.31677934527397156                \n",
      "\n",
      "SNR: -7, 5938.280%, test BER: 0.2969140112400055                \n",
      "\n",
      "SNR: -6, 5477.213%, test BER: 0.2738606631755829                \n",
      "\n",
      "SNR: -5, 4997.640%, test BER: 0.24988199770450592                \n",
      "\n",
      "SNR: -4, 4475.320%, test BER: 0.2237659990787506                \n",
      "\n",
      "SNR: -3, 3929.267%, test BER: 0.19646333158016205                \n",
      "\n",
      "SNR: -2, 3358.080%, test BER: 0.16790400445461273                \n",
      "\n",
      "SNR: -1, 2786.573%, test BER: 0.13932867348194122                \n",
      "\n",
      "SNR: 0, 2192.427%, test BER: 0.1096213310956955                \n",
      "\n",
      "SNR: 1, 1655.693%, test BER: 0.08278466761112213                \n",
      "\n",
      "SNR: 2, 1156.067%, test BER: 0.057803332805633545                \n",
      "\n",
      "SNR: 3, 739.213%, test BER: 0.0369606651365757                \n",
      "\n",
      "SNR: 4, 423.653%, test BER: 0.021182667464017868                \n",
      "\n",
      "TRAINING ITERATION #196/500\n"
     ]
    },
    {
     "name": "stderr",
     "output_type": "stream",
     "text": [
      " 33%|████████████████████████████████████████                                                                                | 1/3 [00:01<00:02,  1.30s/it]"
     ]
    },
    {
     "name": "stdout",
     "output_type": "stream",
     "text": [
      "[Epoch 1] train loss: 17.882; train acc: 14.53; test loss: 17.861; test acc: 14.54\n"
     ]
    },
    {
     "name": "stderr",
     "output_type": "stream",
     "text": [
      " 67%|████████████████████████████████████████████████████████████████████████████████                                        | 2/3 [00:02<00:01,  1.33s/it]"
     ]
    },
    {
     "name": "stdout",
     "output_type": "stream",
     "text": [
      "[Epoch 2] train loss: 17.904; train acc: 14.53; test loss: 17.877; test acc: 14.54\n"
     ]
    },
    {
     "name": "stderr",
     "output_type": "stream",
     "text": [
      "100%|████████████████████████████████████████████████████████████████████████████████████████████████████████████████████████| 3/3 [00:03<00:00,  1.33s/it]\n"
     ]
    },
    {
     "name": "stdout",
     "output_type": "stream",
     "text": [
      "[Epoch 3] train loss: 17.896; train acc: 14.54; test loss: 17.872; test acc: 14.54\n",
      "TRAINING ITERATION #197/500\n"
     ]
    },
    {
     "name": "stderr",
     "output_type": "stream",
     "text": [
      " 33%|████████████████████████████████████████                                                                                | 1/3 [00:01<00:02,  1.28s/it]"
     ]
    },
    {
     "name": "stdout",
     "output_type": "stream",
     "text": [
      "[Epoch 1] train loss: 17.866; train acc: 14.53; test loss: 17.851; test acc: 14.53\n"
     ]
    },
    {
     "name": "stderr",
     "output_type": "stream",
     "text": [
      " 67%|████████████████████████████████████████████████████████████████████████████████                                        | 2/3 [00:02<00:01,  1.32s/it]"
     ]
    },
    {
     "name": "stdout",
     "output_type": "stream",
     "text": [
      "[Epoch 2] train loss: 17.845; train acc: 14.53; test loss: 17.838; test acc: 14.53\n"
     ]
    },
    {
     "name": "stderr",
     "output_type": "stream",
     "text": [
      "100%|████████████████████████████████████████████████████████████████████████████████████████████████████████████████████████| 3/3 [00:03<00:00,  1.32s/it]\n"
     ]
    },
    {
     "name": "stdout",
     "output_type": "stream",
     "text": [
      "[Epoch 3] train loss: 17.859; train acc: 14.53; test loss: 17.842; test acc: 14.53\n",
      "TRAINING ITERATION #198/500\n"
     ]
    },
    {
     "name": "stderr",
     "output_type": "stream",
     "text": [
      " 33%|████████████████████████████████████████                                                                                | 1/3 [00:01<00:02,  1.28s/it]"
     ]
    },
    {
     "name": "stdout",
     "output_type": "stream",
     "text": [
      "[Epoch 1] train loss: 17.855; train acc: 14.54; test loss: 17.845; test acc: 14.53\n"
     ]
    },
    {
     "name": "stderr",
     "output_type": "stream",
     "text": [
      " 67%|████████████████████████████████████████████████████████████████████████████████                                        | 2/3 [00:02<00:01,  1.33s/it]"
     ]
    },
    {
     "name": "stdout",
     "output_type": "stream",
     "text": [
      "[Epoch 2] train loss: 17.852; train acc: 14.54; test loss: 17.872; test acc: 14.53\n"
     ]
    },
    {
     "name": "stderr",
     "output_type": "stream",
     "text": [
      "100%|████████████████████████████████████████████████████████████████████████████████████████████████████████████████████████| 3/3 [00:03<00:00,  1.32s/it]\n"
     ]
    },
    {
     "name": "stdout",
     "output_type": "stream",
     "text": [
      "[Epoch 3] train loss: 17.859; train acc: 14.54; test loss: 17.867; test acc: 14.53\n",
      "TRAINING ITERATION #199/500\n"
     ]
    },
    {
     "name": "stderr",
     "output_type": "stream",
     "text": [
      " 33%|████████████████████████████████████████                                                                                | 1/3 [00:01<00:02,  1.28s/it]"
     ]
    },
    {
     "name": "stdout",
     "output_type": "stream",
     "text": [
      "[Epoch 1] train loss: 17.859; train acc: 14.54; test loss: 17.864; test acc: 14.53\n"
     ]
    },
    {
     "name": "stderr",
     "output_type": "stream",
     "text": [
      " 67%|████████████████████████████████████████████████████████████████████████████████                                        | 2/3 [00:02<00:01,  1.32s/it]"
     ]
    },
    {
     "name": "stdout",
     "output_type": "stream",
     "text": [
      "[Epoch 2] train loss: 17.850; train acc: 14.54; test loss: 17.871; test acc: 14.53\n"
     ]
    },
    {
     "name": "stderr",
     "output_type": "stream",
     "text": [
      "100%|████████████████████████████████████████████████████████████████████████████████████████████████████████████████████████| 3/3 [00:03<00:00,  1.32s/it]\n"
     ]
    },
    {
     "name": "stdout",
     "output_type": "stream",
     "text": [
      "[Epoch 3] train loss: 17.853; train acc: 14.54; test loss: 17.865; test acc: 14.53\n",
      "TRAINING ITERATION #200/500\n"
     ]
    },
    {
     "name": "stderr",
     "output_type": "stream",
     "text": [
      " 33%|████████████████████████████████████████                                                                                | 1/3 [00:01<00:02,  1.28s/it]"
     ]
    },
    {
     "name": "stdout",
     "output_type": "stream",
     "text": [
      "[Epoch 1] train loss: 17.864; train acc: 14.54; test loss: 17.883; test acc: 14.53\n"
     ]
    },
    {
     "name": "stderr",
     "output_type": "stream",
     "text": [
      " 67%|████████████████████████████████████████████████████████████████████████████████                                        | 2/3 [00:02<00:01,  1.32s/it]"
     ]
    },
    {
     "name": "stdout",
     "output_type": "stream",
     "text": [
      "[Epoch 2] train loss: 17.870; train acc: 14.54; test loss: 17.898; test acc: 14.53\n"
     ]
    },
    {
     "name": "stderr",
     "output_type": "stream",
     "text": [
      "100%|████████████████████████████████████████████████████████████████████████████████████████████████████████████████████████| 3/3 [00:03<00:00,  1.32s/it]"
     ]
    },
    {
     "name": "stdout",
     "output_type": "stream",
     "text": [
      "[Epoch 3] train loss: 17.878; train acc: 14.54; test loss: 17.894; test acc: 14.53\n",
      "SNR: -10, 7039.840%, test BER: 0.35199201107025146                \n",
      "\n"
     ]
    },
    {
     "name": "stderr",
     "output_type": "stream",
     "text": [
      "\n"
     ]
    },
    {
     "name": "stdout",
     "output_type": "stream",
     "text": [
      "SNR: -9, 6719.267%, test BER: 0.33596333861351013                \n",
      "\n",
      "SNR: -8, 6336.533%, test BER: 0.3168266713619232                \n",
      "\n",
      "SNR: -7, 5911.800%, test BER: 0.29559001326560974                \n",
      "\n",
      "SNR: -6, 5488.454%, test BER: 0.27442267537117004                \n",
      "\n",
      "SNR: -5, 4984.414%, test BER: 0.24922066926956177                \n",
      "\n",
      "SNR: -4, 4473.947%, test BER: 0.22369733452796936                \n",
      "\n",
      "SNR: -3, 3933.427%, test BER: 0.19667133688926697                \n",
      "\n",
      "SNR: -2, 3366.493%, test BER: 0.16832466423511505                \n",
      "\n",
      "SNR: -1, 2787.920%, test BER: 0.13939599692821503                \n",
      "\n",
      "SNR: 0, 2188.400%, test BER: 0.10942000150680542                \n",
      "\n",
      "SNR: 1, 1650.000%, test BER: 0.08250000327825546                \n",
      "\n",
      "SNR: 2, 1145.427%, test BER: 0.057271331548690796                \n",
      "\n",
      "SNR: 3, 735.707%, test BER: 0.03678533434867859                \n",
      "\n",
      "SNR: 4, 429.387%, test BER: 0.02146933414041996                \n",
      "\n",
      "TRAINING ITERATION #201/500\n"
     ]
    },
    {
     "name": "stderr",
     "output_type": "stream",
     "text": [
      " 33%|████████████████████████████████████████                                                                                | 1/3 [00:01<00:02,  1.30s/it]"
     ]
    },
    {
     "name": "stdout",
     "output_type": "stream",
     "text": [
      "[Epoch 1] train loss: 17.887; train acc: 14.54; test loss: 17.859; test acc: 14.53\n"
     ]
    },
    {
     "name": "stderr",
     "output_type": "stream",
     "text": [
      " 67%|████████████████████████████████████████████████████████████████████████████████                                        | 2/3 [00:02<00:01,  1.32s/it]"
     ]
    },
    {
     "name": "stdout",
     "output_type": "stream",
     "text": [
      "[Epoch 2] train loss: 17.903; train acc: 14.54; test loss: 17.847; test acc: 14.53\n"
     ]
    },
    {
     "name": "stderr",
     "output_type": "stream",
     "text": [
      "100%|████████████████████████████████████████████████████████████████████████████████████████████████████████████████████████| 3/3 [00:03<00:00,  1.33s/it]\n"
     ]
    },
    {
     "name": "stdout",
     "output_type": "stream",
     "text": [
      "[Epoch 3] train loss: 17.888; train acc: 14.54; test loss: 17.862; test acc: 14.53\n",
      "TRAINING ITERATION #202/500\n"
     ]
    },
    {
     "name": "stderr",
     "output_type": "stream",
     "text": [
      " 33%|████████████████████████████████████████                                                                                | 1/3 [00:01<00:02,  1.38s/it]"
     ]
    },
    {
     "name": "stdout",
     "output_type": "stream",
     "text": [
      "[Epoch 1] train loss: 17.834; train acc: 14.53; test loss: 17.833; test acc: 14.54\n"
     ]
    },
    {
     "name": "stderr",
     "output_type": "stream",
     "text": [
      " 67%|████████████████████████████████████████████████████████████████████████████████                                        | 2/3 [00:02<00:01,  1.33s/it]"
     ]
    },
    {
     "name": "stdout",
     "output_type": "stream",
     "text": [
      "[Epoch 2] train loss: 17.842; train acc: 14.53; test loss: 17.802; test acc: 14.54\n"
     ]
    },
    {
     "name": "stderr",
     "output_type": "stream",
     "text": [
      "100%|████████████████████████████████████████████████████████████████████████████████████████████████████████████████████████| 3/3 [00:04<00:00,  1.34s/it]\n"
     ]
    },
    {
     "name": "stdout",
     "output_type": "stream",
     "text": [
      "[Epoch 3] train loss: 17.844; train acc: 14.53; test loss: 17.824; test acc: 14.54\n",
      "TRAINING ITERATION #203/500\n"
     ]
    },
    {
     "name": "stderr",
     "output_type": "stream",
     "text": [
      " 33%|████████████████████████████████████████                                                                                | 1/3 [00:01<00:02,  1.29s/it]"
     ]
    },
    {
     "name": "stdout",
     "output_type": "stream",
     "text": [
      "[Epoch 1] train loss: 17.835; train acc: 14.53; test loss: 17.841; test acc: 14.54\n"
     ]
    },
    {
     "name": "stderr",
     "output_type": "stream",
     "text": [
      " 67%|████████████████████████████████████████████████████████████████████████████████                                        | 2/3 [00:02<00:01,  1.33s/it]"
     ]
    },
    {
     "name": "stdout",
     "output_type": "stream",
     "text": [
      "[Epoch 2] train loss: 17.846; train acc: 14.53; test loss: 17.841; test acc: 14.54\n"
     ]
    },
    {
     "name": "stderr",
     "output_type": "stream",
     "text": [
      "100%|████████████████████████████████████████████████████████████████████████████████████████████████████████████████████████| 3/3 [00:03<00:00,  1.32s/it]\n"
     ]
    },
    {
     "name": "stdout",
     "output_type": "stream",
     "text": [
      "[Epoch 3] train loss: 17.838; train acc: 14.53; test loss: 17.832; test acc: 14.54\n",
      "TRAINING ITERATION #204/500\n"
     ]
    },
    {
     "name": "stderr",
     "output_type": "stream",
     "text": [
      " 33%|████████████████████████████████████████                                                                                | 1/3 [00:01<00:02,  1.29s/it]"
     ]
    },
    {
     "name": "stdout",
     "output_type": "stream",
     "text": [
      "[Epoch 1] train loss: 17.909; train acc: 14.54; test loss: 17.879; test acc: 14.54\n"
     ]
    },
    {
     "name": "stderr",
     "output_type": "stream",
     "text": [
      " 67%|████████████████████████████████████████████████████████████████████████████████                                        | 2/3 [00:02<00:01,  1.32s/it]"
     ]
    },
    {
     "name": "stdout",
     "output_type": "stream",
     "text": [
      "[Epoch 2] train loss: 17.900; train acc: 14.54; test loss: 17.887; test acc: 14.54\n"
     ]
    },
    {
     "name": "stderr",
     "output_type": "stream",
     "text": [
      "100%|████████████████████████████████████████████████████████████████████████████████████████████████████████████████████████| 3/3 [00:03<00:00,  1.32s/it]\n"
     ]
    },
    {
     "name": "stdout",
     "output_type": "stream",
     "text": [
      "[Epoch 3] train loss: 17.922; train acc: 14.54; test loss: 17.884; test acc: 14.54\n",
      "TRAINING ITERATION #205/500\n"
     ]
    },
    {
     "name": "stderr",
     "output_type": "stream",
     "text": [
      " 33%|████████████████████████████████████████                                                                                | 1/3 [00:01<00:02,  1.29s/it]"
     ]
    },
    {
     "name": "stdout",
     "output_type": "stream",
     "text": [
      "[Epoch 1] train loss: 17.872; train acc: 14.53; test loss: 17.846; test acc: 14.53\n"
     ]
    },
    {
     "name": "stderr",
     "output_type": "stream",
     "text": [
      " 67%|████████████████████████████████████████████████████████████████████████████████                                        | 2/3 [00:02<00:01,  1.32s/it]"
     ]
    },
    {
     "name": "stdout",
     "output_type": "stream",
     "text": [
      "[Epoch 2] train loss: 17.878; train acc: 14.53; test loss: 17.850; test acc: 14.53\n"
     ]
    },
    {
     "name": "stderr",
     "output_type": "stream",
     "text": [
      "100%|████████████████████████████████████████████████████████████████████████████████████████████████████████████████████████| 3/3 [00:03<00:00,  1.31s/it]"
     ]
    },
    {
     "name": "stdout",
     "output_type": "stream",
     "text": [
      "[Epoch 3] train loss: 17.863; train acc: 14.54; test loss: 17.856; test acc: 14.53\n",
      "SNR: -10, 7050.253%, test BER: 0.3525126576423645                \n",
      "\n"
     ]
    },
    {
     "name": "stderr",
     "output_type": "stream",
     "text": [
      "\n"
     ]
    },
    {
     "name": "stdout",
     "output_type": "stream",
     "text": [
      "SNR: -9, 6706.613%, test BER: 0.33533066511154175                \n",
      "\n",
      "SNR: -8, 6344.333%, test BER: 0.3172166645526886                \n",
      "\n",
      "SNR: -7, 5924.507%, test BER: 0.29622533917427063                \n",
      "\n",
      "SNR: -6, 5472.347%, test BER: 0.27361732721328735                \n",
      "\n",
      "SNR: -5, 5005.773%, test BER: 0.2502886652946472                \n",
      "\n",
      "SNR: -4, 4494.440%, test BER: 0.2247219979763031                \n",
      "\n",
      "SNR: -3, 3934.867%, test BER: 0.19674333930015564                \n",
      "\n",
      "SNR: -2, 3356.147%, test BER: 0.16780734062194824                \n",
      "\n",
      "SNR: -1, 2786.560%, test BER: 0.1393280029296875                \n",
      "\n",
      "SNR: 0, 2210.293%, test BER: 0.11051466315984726                \n",
      "\n",
      "SNR: 1, 1641.093%, test BER: 0.08205466717481613                \n",
      "\n",
      "SNR: 2, 1151.347%, test BER: 0.057567331939935684                \n",
      "\n",
      "SNR: 3, 730.200%, test BER: 0.03650999814271927                \n",
      "\n",
      "SNR: 4, 419.733%, test BER: 0.020986666902899742                \n",
      "\n",
      "TRAINING ITERATION #206/500\n"
     ]
    },
    {
     "name": "stderr",
     "output_type": "stream",
     "text": [
      " 33%|████████████████████████████████████████                                                                                | 1/3 [00:01<00:02,  1.31s/it]"
     ]
    },
    {
     "name": "stdout",
     "output_type": "stream",
     "text": [
      "[Epoch 1] train loss: 17.854; train acc: 14.54; test loss: 17.869; test acc: 14.54\n"
     ]
    },
    {
     "name": "stderr",
     "output_type": "stream",
     "text": [
      " 67%|████████████████████████████████████████████████████████████████████████████████                                        | 2/3 [00:02<00:01,  1.35s/it]"
     ]
    },
    {
     "name": "stdout",
     "output_type": "stream",
     "text": [
      "[Epoch 2] train loss: 17.843; train acc: 14.54; test loss: 17.863; test acc: 14.54\n"
     ]
    },
    {
     "name": "stderr",
     "output_type": "stream",
     "text": [
      "100%|████████████████████████████████████████████████████████████████████████████████████████████████████████████████████████| 3/3 [00:03<00:00,  1.33s/it]\n"
     ]
    },
    {
     "name": "stdout",
     "output_type": "stream",
     "text": [
      "[Epoch 3] train loss: 17.857; train acc: 14.54; test loss: 17.855; test acc: 14.54\n",
      "TRAINING ITERATION #207/500\n"
     ]
    },
    {
     "name": "stderr",
     "output_type": "stream",
     "text": [
      " 33%|████████████████████████████████████████                                                                                | 1/3 [00:01<00:02,  1.30s/it]"
     ]
    },
    {
     "name": "stdout",
     "output_type": "stream",
     "text": [
      "[Epoch 1] train loss: 17.879; train acc: 14.55; test loss: 17.849; test acc: 14.53\n"
     ]
    },
    {
     "name": "stderr",
     "output_type": "stream",
     "text": [
      " 67%|████████████████████████████████████████████████████████████████████████████████                                        | 2/3 [00:02<00:01,  1.33s/it]"
     ]
    },
    {
     "name": "stdout",
     "output_type": "stream",
     "text": [
      "[Epoch 2] train loss: 17.850; train acc: 14.55; test loss: 17.864; test acc: 14.53\n"
     ]
    },
    {
     "name": "stderr",
     "output_type": "stream",
     "text": [
      "100%|████████████████████████████████████████████████████████████████████████████████████████████████████████████████████████| 3/3 [00:03<00:00,  1.32s/it]\n"
     ]
    },
    {
     "name": "stdout",
     "output_type": "stream",
     "text": [
      "[Epoch 3] train loss: 17.857; train acc: 14.55; test loss: 17.841; test acc: 14.53\n",
      "TRAINING ITERATION #208/500\n"
     ]
    },
    {
     "name": "stderr",
     "output_type": "stream",
     "text": [
      " 33%|████████████████████████████████████████                                                                                | 1/3 [00:01<00:02,  1.30s/it]"
     ]
    },
    {
     "name": "stdout",
     "output_type": "stream",
     "text": [
      "[Epoch 1] train loss: 17.850; train acc: 14.54; test loss: 17.859; test acc: 14.53\n"
     ]
    },
    {
     "name": "stderr",
     "output_type": "stream",
     "text": [
      " 67%|████████████████████████████████████████████████████████████████████████████████                                        | 2/3 [00:02<00:01,  1.33s/it]"
     ]
    },
    {
     "name": "stdout",
     "output_type": "stream",
     "text": [
      "[Epoch 2] train loss: 17.857; train acc: 14.54; test loss: 17.850; test acc: 14.53\n"
     ]
    },
    {
     "name": "stderr",
     "output_type": "stream",
     "text": [
      "100%|████████████████████████████████████████████████████████████████████████████████████████████████████████████████████████| 3/3 [00:03<00:00,  1.33s/it]\n"
     ]
    },
    {
     "name": "stdout",
     "output_type": "stream",
     "text": [
      "[Epoch 3] train loss: 17.862; train acc: 14.54; test loss: 17.854; test acc: 14.53\n",
      "TRAINING ITERATION #209/500\n"
     ]
    },
    {
     "name": "stderr",
     "output_type": "stream",
     "text": [
      " 33%|████████████████████████████████████████                                                                                | 1/3 [00:01<00:02,  1.29s/it]"
     ]
    },
    {
     "name": "stdout",
     "output_type": "stream",
     "text": [
      "[Epoch 1] train loss: 17.802; train acc: 14.54; test loss: 17.862; test acc: 14.54\n"
     ]
    },
    {
     "name": "stderr",
     "output_type": "stream",
     "text": [
      " 67%|████████████████████████████████████████████████████████████████████████████████                                        | 2/3 [00:02<00:01,  1.34s/it]"
     ]
    },
    {
     "name": "stdout",
     "output_type": "stream",
     "text": [
      "[Epoch 2] train loss: 17.820; train acc: 14.54; test loss: 17.863; test acc: 14.54\n"
     ]
    },
    {
     "name": "stderr",
     "output_type": "stream",
     "text": [
      "100%|████████████████████████████████████████████████████████████████████████████████████████████████████████████████████████| 3/3 [00:03<00:00,  1.33s/it]\n"
     ]
    },
    {
     "name": "stdout",
     "output_type": "stream",
     "text": [
      "[Epoch 3] train loss: 17.805; train acc: 14.54; test loss: 17.875; test acc: 14.54\n",
      "TRAINING ITERATION #210/500\n"
     ]
    },
    {
     "name": "stderr",
     "output_type": "stream",
     "text": [
      " 33%|████████████████████████████████████████                                                                                | 1/3 [00:01<00:02,  1.30s/it]"
     ]
    },
    {
     "name": "stdout",
     "output_type": "stream",
     "text": [
      "[Epoch 1] train loss: 17.863; train acc: 14.53; test loss: 17.863; test acc: 14.54\n"
     ]
    },
    {
     "name": "stderr",
     "output_type": "stream",
     "text": [
      " 67%|████████████████████████████████████████████████████████████████████████████████                                        | 2/3 [00:02<00:01,  1.34s/it]"
     ]
    },
    {
     "name": "stdout",
     "output_type": "stream",
     "text": [
      "[Epoch 2] train loss: 17.875; train acc: 14.53; test loss: 17.856; test acc: 14.54\n"
     ]
    },
    {
     "name": "stderr",
     "output_type": "stream",
     "text": [
      "100%|████████████████████████████████████████████████████████████████████████████████████████████████████████████████████████| 3/3 [00:04<00:00,  1.33s/it]"
     ]
    },
    {
     "name": "stdout",
     "output_type": "stream",
     "text": [
      "[Epoch 3] train loss: 17.861; train acc: 14.53; test loss: 17.860; test acc: 14.54\n",
      "SNR: -10, 7042.120%, test BER: 0.3521060049533844                \n",
      "\n"
     ]
    },
    {
     "name": "stderr",
     "output_type": "stream",
     "text": [
      "\n"
     ]
    },
    {
     "name": "stdout",
     "output_type": "stream",
     "text": [
      "SNR: -9, 6722.333%, test BER: 0.3361166715621948                \n",
      "\n",
      "SNR: -8, 6328.547%, test BER: 0.3164273202419281                \n",
      "\n",
      "SNR: -7, 5932.920%, test BER: 0.29664599895477295                \n",
      "\n",
      "SNR: -6, 5483.093%, test BER: 0.2741546630859375                \n",
      "\n",
      "SNR: -5, 4991.560%, test BER: 0.24957799911499023                \n",
      "\n",
      "SNR: -4, 4479.640%, test BER: 0.22398200631141663                \n",
      "\n",
      "SNR: -3, 3929.213%, test BER: 0.19646066427230835                \n",
      "\n",
      "SNR: -2, 3366.520%, test BER: 0.1683260053396225                \n",
      "\n",
      "SNR: -1, 2780.867%, test BER: 0.13904333114624023                \n",
      "\n",
      "SNR: 0, 2197.453%, test BER: 0.10987266898155212                \n",
      "\n",
      "SNR: 1, 1645.573%, test BER: 0.08227866888046265                \n",
      "\n",
      "SNR: 2, 1146.787%, test BER: 0.05733933299779892                \n",
      "\n",
      "SNR: 3, 733.133%, test BER: 0.03665666654706001                \n",
      "\n",
      "SNR: 4, 422.947%, test BER: 0.021147333085536957                \n",
      "\n",
      "TRAINING ITERATION #211/500\n"
     ]
    },
    {
     "name": "stderr",
     "output_type": "stream",
     "text": [
      " 33%|████████████████████████████████████████                                                                                | 1/3 [00:01<00:02,  1.36s/it]"
     ]
    },
    {
     "name": "stdout",
     "output_type": "stream",
     "text": [
      "[Epoch 1] train loss: 17.864; train acc: 14.54; test loss: 17.891; test acc: 14.54\n"
     ]
    },
    {
     "name": "stderr",
     "output_type": "stream",
     "text": [
      " 67%|████████████████████████████████████████████████████████████████████████████████                                        | 2/3 [00:02<00:01,  1.32s/it]"
     ]
    },
    {
     "name": "stdout",
     "output_type": "stream",
     "text": [
      "[Epoch 2] train loss: 17.857; train acc: 14.54; test loss: 17.895; test acc: 14.54\n"
     ]
    },
    {
     "name": "stderr",
     "output_type": "stream",
     "text": [
      "100%|████████████████████████████████████████████████████████████████████████████████████████████████████████████████████████| 3/3 [00:03<00:00,  1.33s/it]\n"
     ]
    },
    {
     "name": "stdout",
     "output_type": "stream",
     "text": [
      "[Epoch 3] train loss: 17.867; train acc: 14.54; test loss: 17.893; test acc: 14.54\n",
      "TRAINING ITERATION #212/500\n"
     ]
    },
    {
     "name": "stderr",
     "output_type": "stream",
     "text": [
      " 33%|████████████████████████████████████████                                                                                | 1/3 [00:01<00:02,  1.36s/it]"
     ]
    },
    {
     "name": "stdout",
     "output_type": "stream",
     "text": [
      "[Epoch 1] train loss: 17.897; train acc: 14.54; test loss: 17.861; test acc: 14.55\n"
     ]
    },
    {
     "name": "stderr",
     "output_type": "stream",
     "text": [
      " 67%|████████████████████████████████████████████████████████████████████████████████                                        | 2/3 [00:02<00:01,  1.33s/it]"
     ]
    },
    {
     "name": "stdout",
     "output_type": "stream",
     "text": [
      "[Epoch 2] train loss: 17.889; train acc: 14.54; test loss: 17.880; test acc: 14.55\n"
     ]
    },
    {
     "name": "stderr",
     "output_type": "stream",
     "text": [
      "100%|████████████████████████████████████████████████████████████████████████████████████████████████████████████████████████| 3/3 [00:04<00:00,  1.33s/it]\n"
     ]
    },
    {
     "name": "stdout",
     "output_type": "stream",
     "text": [
      "[Epoch 3] train loss: 17.899; train acc: 14.54; test loss: 17.866; test acc: 14.55\n",
      "TRAINING ITERATION #213/500\n"
     ]
    },
    {
     "name": "stderr",
     "output_type": "stream",
     "text": [
      " 33%|████████████████████████████████████████                                                                                | 1/3 [00:01<00:02,  1.36s/it]"
     ]
    },
    {
     "name": "stdout",
     "output_type": "stream",
     "text": [
      "[Epoch 1] train loss: 17.851; train acc: 14.54; test loss: 17.783; test acc: 14.54\n"
     ]
    },
    {
     "name": "stderr",
     "output_type": "stream",
     "text": [
      " 67%|████████████████████████████████████████████████████████████████████████████████                                        | 2/3 [00:02<00:01,  1.34s/it]"
     ]
    },
    {
     "name": "stdout",
     "output_type": "stream",
     "text": [
      "[Epoch 2] train loss: 17.851; train acc: 14.54; test loss: 17.793; test acc: 14.54\n"
     ]
    },
    {
     "name": "stderr",
     "output_type": "stream",
     "text": [
      "100%|████████████████████████████████████████████████████████████████████████████████████████████████████████████████████████| 3/3 [00:04<00:00,  1.34s/it]\n"
     ]
    },
    {
     "name": "stdout",
     "output_type": "stream",
     "text": [
      "[Epoch 3] train loss: 17.853; train acc: 14.54; test loss: 17.803; test acc: 14.54\n",
      "TRAINING ITERATION #214/500\n"
     ]
    },
    {
     "name": "stderr",
     "output_type": "stream",
     "text": [
      " 33%|████████████████████████████████████████                                                                                | 1/3 [00:01<00:02,  1.34s/it]"
     ]
    },
    {
     "name": "stdout",
     "output_type": "stream",
     "text": [
      "[Epoch 1] train loss: 17.857; train acc: 14.54; test loss: 17.847; test acc: 14.54\n"
     ]
    },
    {
     "name": "stderr",
     "output_type": "stream",
     "text": [
      " 67%|████████████████████████████████████████████████████████████████████████████████                                        | 2/3 [00:02<00:01,  1.36s/it]"
     ]
    },
    {
     "name": "stdout",
     "output_type": "stream",
     "text": [
      "[Epoch 2] train loss: 17.875; train acc: 14.54; test loss: 17.849; test acc: 14.54\n"
     ]
    },
    {
     "name": "stderr",
     "output_type": "stream",
     "text": [
      "100%|████████████████████████████████████████████████████████████████████████████████████████████████████████████████████████| 3/3 [00:04<00:00,  1.35s/it]\n"
     ]
    },
    {
     "name": "stdout",
     "output_type": "stream",
     "text": [
      "[Epoch 3] train loss: 17.868; train acc: 14.54; test loss: 17.842; test acc: 14.54\n",
      "TRAINING ITERATION #215/500\n"
     ]
    },
    {
     "name": "stderr",
     "output_type": "stream",
     "text": [
      " 33%|████████████████████████████████████████                                                                                | 1/3 [00:01<00:02,  1.31s/it]"
     ]
    },
    {
     "name": "stdout",
     "output_type": "stream",
     "text": [
      "[Epoch 1] train loss: 17.842; train acc: 14.54; test loss: 17.876; test acc: 14.54\n"
     ]
    },
    {
     "name": "stderr",
     "output_type": "stream",
     "text": [
      " 67%|████████████████████████████████████████████████████████████████████████████████                                        | 2/3 [00:02<00:01,  1.34s/it]"
     ]
    },
    {
     "name": "stdout",
     "output_type": "stream",
     "text": [
      "[Epoch 2] train loss: 17.837; train acc: 14.54; test loss: 17.860; test acc: 14.54\n"
     ]
    },
    {
     "name": "stderr",
     "output_type": "stream",
     "text": [
      "100%|████████████████████████████████████████████████████████████████████████████████████████████████████████████████████████| 3/3 [00:03<00:00,  1.33s/it]"
     ]
    },
    {
     "name": "stdout",
     "output_type": "stream",
     "text": [
      "[Epoch 3] train loss: 17.829; train acc: 14.54; test loss: 17.892; test acc: 14.54\n",
      "SNR: -10, 7045.627%, test BER: 0.3522813320159912                \n",
      "\n"
     ]
    },
    {
     "name": "stderr",
     "output_type": "stream",
     "text": [
      "\n"
     ]
    },
    {
     "name": "stdout",
     "output_type": "stream",
     "text": [
      "SNR: -9, 6707.053%, test BER: 0.33535265922546387                \n",
      "\n",
      "SNR: -8, 6329.000%, test BER: 0.31644999980926514                \n",
      "\n",
      "SNR: -7, 5939.293%, test BER: 0.2969646751880646                \n",
      "\n",
      "SNR: -6, 5469.347%, test BER: 0.2734673321247101                \n",
      "\n",
      "SNR: -5, 4990.773%, test BER: 0.24953866004943848                \n",
      "\n",
      "SNR: -4, 4491.146%, test BER: 0.22455734014511108                \n",
      "\n",
      "SNR: -3, 3928.920%, test BER: 0.1964460015296936                \n",
      "\n",
      "SNR: -2, 3362.400%, test BER: 0.16811999678611755                \n",
      "\n",
      "SNR: -1, 2770.427%, test BER: 0.13852132856845856                \n",
      "\n",
      "SNR: 0, 2202.653%, test BER: 0.11013266444206238                \n",
      "\n",
      "SNR: 1, 1648.093%, test BER: 0.08240466564893723                \n",
      "\n",
      "SNR: 2, 1144.200%, test BER: 0.05720999836921692                \n",
      "\n",
      "SNR: 3, 734.147%, test BER: 0.03670733422040939                \n",
      "\n",
      "SNR: 4, 418.493%, test BER: 0.02092466689646244                \n",
      "\n",
      "TRAINING ITERATION #216/500\n"
     ]
    },
    {
     "name": "stderr",
     "output_type": "stream",
     "text": [
      " 33%|████████████████████████████████████████                                                                                | 1/3 [00:01<00:02,  1.31s/it]"
     ]
    },
    {
     "name": "stdout",
     "output_type": "stream",
     "text": [
      "[Epoch 1] train loss: 17.830; train acc: 14.54; test loss: 17.865; test acc: 14.54\n"
     ]
    },
    {
     "name": "stderr",
     "output_type": "stream",
     "text": [
      " 67%|████████████████████████████████████████████████████████████████████████████████                                        | 2/3 [00:02<00:01,  1.35s/it]"
     ]
    },
    {
     "name": "stdout",
     "output_type": "stream",
     "text": [
      "[Epoch 2] train loss: 17.824; train acc: 14.54; test loss: 17.859; test acc: 14.54\n"
     ]
    },
    {
     "name": "stderr",
     "output_type": "stream",
     "text": [
      "100%|████████████████████████████████████████████████████████████████████████████████████████████████████████████████████████| 3/3 [00:04<00:00,  1.34s/it]\n"
     ]
    },
    {
     "name": "stdout",
     "output_type": "stream",
     "text": [
      "[Epoch 3] train loss: 17.822; train acc: 14.54; test loss: 17.872; test acc: 14.54\n",
      "TRAINING ITERATION #217/500\n"
     ]
    },
    {
     "name": "stderr",
     "output_type": "stream",
     "text": [
      " 33%|████████████████████████████████████████                                                                                | 1/3 [00:01<00:02,  1.32s/it]"
     ]
    },
    {
     "name": "stdout",
     "output_type": "stream",
     "text": [
      "[Epoch 1] train loss: 17.828; train acc: 14.54; test loss: 17.836; test acc: 14.54\n"
     ]
    },
    {
     "name": "stderr",
     "output_type": "stream",
     "text": [
      " 67%|████████████████████████████████████████████████████████████████████████████████                                        | 2/3 [00:02<00:01,  1.37s/it]"
     ]
    },
    {
     "name": "stdout",
     "output_type": "stream",
     "text": [
      "[Epoch 2] train loss: 17.822; train acc: 14.54; test loss: 17.838; test acc: 14.54\n"
     ]
    },
    {
     "name": "stderr",
     "output_type": "stream",
     "text": [
      "100%|████████████████████████████████████████████████████████████████████████████████████████████████████████████████████████| 3/3 [00:04<00:00,  1.34s/it]\n"
     ]
    },
    {
     "name": "stdout",
     "output_type": "stream",
     "text": [
      "[Epoch 3] train loss: 17.832; train acc: 14.54; test loss: 17.844; test acc: 14.54\n",
      "TRAINING ITERATION #218/500\n"
     ]
    },
    {
     "name": "stderr",
     "output_type": "stream",
     "text": [
      " 33%|████████████████████████████████████████                                                                                | 1/3 [00:01<00:02,  1.29s/it]"
     ]
    },
    {
     "name": "stdout",
     "output_type": "stream",
     "text": [
      "[Epoch 1] train loss: 17.847; train acc: 14.54; test loss: 17.871; test acc: 14.53\n"
     ]
    },
    {
     "name": "stderr",
     "output_type": "stream",
     "text": [
      " 67%|████████████████████████████████████████████████████████████████████████████████                                        | 2/3 [00:02<00:01,  1.34s/it]"
     ]
    },
    {
     "name": "stdout",
     "output_type": "stream",
     "text": [
      "[Epoch 2] train loss: 17.847; train acc: 14.54; test loss: 17.883; test acc: 14.53\n"
     ]
    },
    {
     "name": "stderr",
     "output_type": "stream",
     "text": [
      "100%|████████████████████████████████████████████████████████████████████████████████████████████████████████████████████████| 3/3 [00:03<00:00,  1.33s/it]\n"
     ]
    },
    {
     "name": "stdout",
     "output_type": "stream",
     "text": [
      "[Epoch 3] train loss: 17.852; train acc: 14.54; test loss: 17.881; test acc: 14.53\n",
      "TRAINING ITERATION #219/500\n"
     ]
    },
    {
     "name": "stderr",
     "output_type": "stream",
     "text": [
      " 33%|████████████████████████████████████████                                                                                | 1/3 [00:01<00:02,  1.29s/it]"
     ]
    },
    {
     "name": "stdout",
     "output_type": "stream",
     "text": [
      "[Epoch 1] train loss: 17.875; train acc: 14.55; test loss: 17.819; test acc: 14.53\n"
     ]
    },
    {
     "name": "stderr",
     "output_type": "stream",
     "text": [
      " 67%|████████████████████████████████████████████████████████████████████████████████                                        | 2/3 [00:02<00:01,  1.33s/it]"
     ]
    },
    {
     "name": "stdout",
     "output_type": "stream",
     "text": [
      "[Epoch 2] train loss: 17.876; train acc: 14.55; test loss: 17.813; test acc: 14.53\n"
     ]
    },
    {
     "name": "stderr",
     "output_type": "stream",
     "text": [
      "100%|████████████████████████████████████████████████████████████████████████████████████████████████████████████████████████| 3/3 [00:03<00:00,  1.32s/it]\n"
     ]
    },
    {
     "name": "stdout",
     "output_type": "stream",
     "text": [
      "[Epoch 3] train loss: 17.884; train acc: 14.55; test loss: 17.818; test acc: 14.53\n",
      "TRAINING ITERATION #220/500\n"
     ]
    },
    {
     "name": "stderr",
     "output_type": "stream",
     "text": [
      " 33%|████████████████████████████████████████                                                                                | 1/3 [00:01<00:02,  1.27s/it]"
     ]
    },
    {
     "name": "stdout",
     "output_type": "stream",
     "text": [
      "[Epoch 1] train loss: 17.796; train acc: 14.54; test loss: 17.842; test acc: 14.54\n"
     ]
    },
    {
     "name": "stderr",
     "output_type": "stream",
     "text": [
      " 67%|████████████████████████████████████████████████████████████████████████████████                                        | 2/3 [00:02<00:01,  1.32s/it]"
     ]
    },
    {
     "name": "stdout",
     "output_type": "stream",
     "text": [
      "[Epoch 2] train loss: 17.803; train acc: 14.54; test loss: 17.847; test acc: 14.54\n"
     ]
    },
    {
     "name": "stderr",
     "output_type": "stream",
     "text": [
      "100%|████████████████████████████████████████████████████████████████████████████████████████████████████████████████████████| 3/3 [00:03<00:00,  1.32s/it]"
     ]
    },
    {
     "name": "stdout",
     "output_type": "stream",
     "text": [
      "[Epoch 3] train loss: 17.781; train acc: 14.54; test loss: 17.852; test acc: 14.54\n",
      "SNR: -10, 7043.040%, test BER: 0.3521519899368286                \n",
      "\n"
     ]
    },
    {
     "name": "stderr",
     "output_type": "stream",
     "text": [
      "\n"
     ]
    },
    {
     "name": "stdout",
     "output_type": "stream",
     "text": [
      "SNR: -9, 6711.213%, test BER: 0.33556067943573                \n",
      "\n",
      "SNR: -8, 6352.000%, test BER: 0.3176000118255615                \n",
      "\n",
      "SNR: -7, 5935.533%, test BER: 0.2967766523361206                \n",
      "\n",
      "SNR: -6, 5466.560%, test BER: 0.2733280062675476                \n",
      "\n",
      "SNR: -5, 4994.067%, test BER: 0.2497033327817917                \n",
      "\n",
      "SNR: -4, 4476.320%, test BER: 0.22381600737571716                \n",
      "\n",
      "SNR: -3, 3938.707%, test BER: 0.19693534076213837                \n",
      "\n",
      "SNR: -2, 3362.347%, test BER: 0.16811732947826385                \n",
      "\n",
      "SNR: -1, 2773.227%, test BER: 0.13866133987903595                \n",
      "\n",
      "SNR: 0, 2197.200%, test BER: 0.10986000299453735                \n",
      "\n",
      "SNR: 1, 1640.400%, test BER: 0.08201999962329865                \n",
      "\n",
      "SNR: 2, 1148.440%, test BER: 0.05742200091481209                \n",
      "\n",
      "SNR: 3, 733.480%, test BER: 0.036674000322818756                \n",
      "\n",
      "SNR: 4, 424.280%, test BER: 0.02121400088071823                \n",
      "\n",
      "TRAINING ITERATION #221/500\n"
     ]
    },
    {
     "name": "stderr",
     "output_type": "stream",
     "text": [
      " 33%|████████████████████████████████████████                                                                                | 1/3 [00:01<00:02,  1.29s/it]"
     ]
    },
    {
     "name": "stdout",
     "output_type": "stream",
     "text": [
      "[Epoch 1] train loss: 17.840; train acc: 14.54; test loss: 17.891; test acc: 14.53\n"
     ]
    },
    {
     "name": "stderr",
     "output_type": "stream",
     "text": [
      " 67%|████████████████████████████████████████████████████████████████████████████████                                        | 2/3 [00:02<00:01,  1.32s/it]"
     ]
    },
    {
     "name": "stdout",
     "output_type": "stream",
     "text": [
      "[Epoch 2] train loss: 17.847; train acc: 14.54; test loss: 17.888; test acc: 14.53\n"
     ]
    },
    {
     "name": "stderr",
     "output_type": "stream",
     "text": [
      "100%|████████████████████████████████████████████████████████████████████████████████████████████████████████████████████████| 3/3 [00:03<00:00,  1.32s/it]\n"
     ]
    },
    {
     "name": "stdout",
     "output_type": "stream",
     "text": [
      "[Epoch 3] train loss: 17.857; train acc: 14.54; test loss: 17.880; test acc: 14.53\n",
      "TRAINING ITERATION #222/500\n"
     ]
    },
    {
     "name": "stderr",
     "output_type": "stream",
     "text": [
      " 33%|████████████████████████████████████████                                                                                | 1/3 [00:01<00:02,  1.35s/it]"
     ]
    },
    {
     "name": "stdout",
     "output_type": "stream",
     "text": [
      "[Epoch 1] train loss: 17.824; train acc: 14.54; test loss: 17.907; test acc: 14.53\n"
     ]
    },
    {
     "name": "stderr",
     "output_type": "stream",
     "text": [
      " 67%|████████████████████████████████████████████████████████████████████████████████                                        | 2/3 [00:02<00:01,  1.32s/it]"
     ]
    },
    {
     "name": "stdout",
     "output_type": "stream",
     "text": [
      "[Epoch 2] train loss: 17.821; train acc: 14.54; test loss: 17.881; test acc: 14.53\n"
     ]
    },
    {
     "name": "stderr",
     "output_type": "stream",
     "text": [
      "100%|████████████████████████████████████████████████████████████████████████████████████████████████████████████████████████| 3/3 [00:03<00:00,  1.33s/it]\n"
     ]
    },
    {
     "name": "stdout",
     "output_type": "stream",
     "text": [
      "[Epoch 3] train loss: 17.824; train acc: 14.54; test loss: 17.891; test acc: 14.53\n",
      "TRAINING ITERATION #223/500\n"
     ]
    },
    {
     "name": "stderr",
     "output_type": "stream",
     "text": [
      " 33%|████████████████████████████████████████                                                                                | 1/3 [00:01<00:02,  1.29s/it]"
     ]
    },
    {
     "name": "stdout",
     "output_type": "stream",
     "text": [
      "[Epoch 1] train loss: 17.904; train acc: 14.54; test loss: 17.871; test acc: 14.53\n"
     ]
    },
    {
     "name": "stderr",
     "output_type": "stream",
     "text": [
      " 67%|████████████████████████████████████████████████████████████████████████████████                                        | 2/3 [00:02<00:01,  1.33s/it]"
     ]
    },
    {
     "name": "stdout",
     "output_type": "stream",
     "text": [
      "[Epoch 2] train loss: 17.892; train acc: 14.54; test loss: 17.874; test acc: 14.53\n"
     ]
    },
    {
     "name": "stderr",
     "output_type": "stream",
     "text": [
      "100%|████████████████████████████████████████████████████████████████████████████████████████████████████████████████████████| 3/3 [00:03<00:00,  1.32s/it]\n"
     ]
    },
    {
     "name": "stdout",
     "output_type": "stream",
     "text": [
      "[Epoch 3] train loss: 17.872; train acc: 14.54; test loss: 17.859; test acc: 14.53\n",
      "TRAINING ITERATION #224/500\n"
     ]
    },
    {
     "name": "stderr",
     "output_type": "stream",
     "text": [
      " 33%|████████████████████████████████████████                                                                                | 1/3 [00:01<00:02,  1.30s/it]"
     ]
    },
    {
     "name": "stdout",
     "output_type": "stream",
     "text": [
      "[Epoch 1] train loss: 17.822; train acc: 14.53; test loss: 17.917; test acc: 14.53\n"
     ]
    },
    {
     "name": "stderr",
     "output_type": "stream",
     "text": [
      " 67%|████████████████████████████████████████████████████████████████████████████████                                        | 2/3 [00:02<00:01,  1.33s/it]"
     ]
    },
    {
     "name": "stdout",
     "output_type": "stream",
     "text": [
      "[Epoch 2] train loss: 17.833; train acc: 14.53; test loss: 17.931; test acc: 14.53\n"
     ]
    },
    {
     "name": "stderr",
     "output_type": "stream",
     "text": [
      "100%|████████████████████████████████████████████████████████████████████████████████████████████████████████████████████████| 3/3 [00:03<00:00,  1.32s/it]\n"
     ]
    },
    {
     "name": "stdout",
     "output_type": "stream",
     "text": [
      "[Epoch 3] train loss: 17.837; train acc: 14.53; test loss: 17.917; test acc: 14.53\n",
      "TRAINING ITERATION #225/500\n"
     ]
    },
    {
     "name": "stderr",
     "output_type": "stream",
     "text": [
      " 33%|████████████████████████████████████████                                                                                | 1/3 [00:01<00:02,  1.29s/it]"
     ]
    },
    {
     "name": "stdout",
     "output_type": "stream",
     "text": [
      "[Epoch 1] train loss: 17.834; train acc: 14.54; test loss: 17.843; test acc: 14.54\n"
     ]
    },
    {
     "name": "stderr",
     "output_type": "stream",
     "text": [
      " 67%|████████████████████████████████████████████████████████████████████████████████                                        | 2/3 [00:02<00:01,  1.32s/it]"
     ]
    },
    {
     "name": "stdout",
     "output_type": "stream",
     "text": [
      "[Epoch 2] train loss: 17.847; train acc: 14.54; test loss: 17.833; test acc: 14.54\n"
     ]
    },
    {
     "name": "stderr",
     "output_type": "stream",
     "text": [
      "100%|████████████████████████████████████████████████████████████████████████████████████████████████████████████████████████| 3/3 [00:03<00:00,  1.31s/it]"
     ]
    },
    {
     "name": "stdout",
     "output_type": "stream",
     "text": [
      "[Epoch 3] train loss: 17.834; train acc: 14.54; test loss: 17.831; test acc: 14.54\n",
      "SNR: -10, 7048.987%, test BER: 0.35244932770729065                \n",
      "\n"
     ]
    },
    {
     "name": "stderr",
     "output_type": "stream",
     "text": [
      "\n"
     ]
    },
    {
     "name": "stdout",
     "output_type": "stream",
     "text": [
      "SNR: -9, 6702.293%, test BER: 0.33511465787887573                \n",
      "\n",
      "SNR: -8, 6328.907%, test BER: 0.31644532084465027                \n",
      "\n",
      "SNR: -7, 5926.907%, test BER: 0.2963453233242035                \n",
      "\n",
      "SNR: -6, 5472.013%, test BER: 0.27360066771507263                \n",
      "\n",
      "SNR: -5, 4985.560%, test BER: 0.2492779940366745                \n",
      "\n",
      "SNR: -4, 4484.187%, test BER: 0.22420933842658997                \n",
      "\n",
      "SNR: -3, 3937.227%, test BER: 0.19686132669448853                \n",
      "\n",
      "SNR: -2, 3367.560%, test BER: 0.16837799549102783                \n",
      "\n",
      "SNR: -1, 2782.920%, test BER: 0.13914600014686584                \n",
      "\n",
      "SNR: 0, 2195.480%, test BER: 0.10977400094270706                \n",
      "\n",
      "SNR: 1, 1650.453%, test BER: 0.0825226679444313                \n",
      "\n",
      "SNR: 2, 1153.080%, test BER: 0.0576540008187294                \n",
      "\n",
      "SNR: 3, 729.133%, test BER: 0.03645666688680649                \n",
      "\n",
      "SNR: 4, 422.333%, test BER: 0.02111666649580002                \n",
      "\n",
      "TRAINING ITERATION #226/500\n"
     ]
    },
    {
     "name": "stderr",
     "output_type": "stream",
     "text": [
      " 33%|████████████████████████████████████████                                                                                | 1/3 [00:01<00:02,  1.28s/it]"
     ]
    },
    {
     "name": "stdout",
     "output_type": "stream",
     "text": [
      "[Epoch 1] train loss: 17.845; train acc: 14.54; test loss: 17.847; test acc: 14.54\n"
     ]
    },
    {
     "name": "stderr",
     "output_type": "stream",
     "text": [
      " 67%|████████████████████████████████████████████████████████████████████████████████                                        | 2/3 [00:02<00:01,  1.33s/it]"
     ]
    },
    {
     "name": "stdout",
     "output_type": "stream",
     "text": [
      "[Epoch 2] train loss: 17.853; train acc: 14.54; test loss: 17.858; test acc: 14.54\n"
     ]
    },
    {
     "name": "stderr",
     "output_type": "stream",
     "text": [
      "100%|████████████████████████████████████████████████████████████████████████████████████████████████████████████████████████| 3/3 [00:03<00:00,  1.32s/it]\n"
     ]
    },
    {
     "name": "stdout",
     "output_type": "stream",
     "text": [
      "[Epoch 3] train loss: 17.851; train acc: 14.54; test loss: 17.864; test acc: 14.54\n",
      "TRAINING ITERATION #227/500\n"
     ]
    },
    {
     "name": "stderr",
     "output_type": "stream",
     "text": [
      " 33%|████████████████████████████████████████                                                                                | 1/3 [00:01<00:02,  1.28s/it]"
     ]
    },
    {
     "name": "stdout",
     "output_type": "stream",
     "text": [
      "[Epoch 1] train loss: 17.900; train acc: 14.55; test loss: 17.871; test acc: 14.54\n"
     ]
    },
    {
     "name": "stderr",
     "output_type": "stream",
     "text": [
      " 67%|████████████████████████████████████████████████████████████████████████████████                                        | 2/3 [00:02<00:01,  1.33s/it]"
     ]
    },
    {
     "name": "stdout",
     "output_type": "stream",
     "text": [
      "[Epoch 2] train loss: 17.887; train acc: 14.55; test loss: 17.873; test acc: 14.54\n"
     ]
    },
    {
     "name": "stderr",
     "output_type": "stream",
     "text": [
      "100%|████████████████████████████████████████████████████████████████████████████████████████████████████████████████████████| 3/3 [00:03<00:00,  1.31s/it]\n"
     ]
    },
    {
     "name": "stdout",
     "output_type": "stream",
     "text": [
      "[Epoch 3] train loss: 17.890; train acc: 14.55; test loss: 17.881; test acc: 14.54\n",
      "TRAINING ITERATION #228/500\n"
     ]
    },
    {
     "name": "stderr",
     "output_type": "stream",
     "text": [
      " 33%|████████████████████████████████████████                                                                                | 1/3 [00:01<00:02,  1.28s/it]"
     ]
    },
    {
     "name": "stdout",
     "output_type": "stream",
     "text": [
      "[Epoch 1] train loss: 17.862; train acc: 14.54; test loss: 17.835; test acc: 14.54\n"
     ]
    },
    {
     "name": "stderr",
     "output_type": "stream",
     "text": [
      " 67%|████████████████████████████████████████████████████████████████████████████████                                        | 2/3 [00:02<00:01,  1.33s/it]"
     ]
    },
    {
     "name": "stdout",
     "output_type": "stream",
     "text": [
      "[Epoch 2] train loss: 17.859; train acc: 14.54; test loss: 17.818; test acc: 14.54\n"
     ]
    },
    {
     "name": "stderr",
     "output_type": "stream",
     "text": [
      "100%|████████████████████████████████████████████████████████████████████████████████████████████████████████████████████████| 3/3 [00:03<00:00,  1.33s/it]\n"
     ]
    },
    {
     "name": "stdout",
     "output_type": "stream",
     "text": [
      "[Epoch 3] train loss: 17.858; train acc: 14.54; test loss: 17.833; test acc: 14.54\n",
      "TRAINING ITERATION #229/500\n"
     ]
    },
    {
     "name": "stderr",
     "output_type": "stream",
     "text": [
      " 33%|████████████████████████████████████████                                                                                | 1/3 [00:01<00:02,  1.30s/it]"
     ]
    },
    {
     "name": "stdout",
     "output_type": "stream",
     "text": [
      "[Epoch 1] train loss: 17.867; train acc: 14.53; test loss: 17.864; test acc: 14.54\n"
     ]
    },
    {
     "name": "stderr",
     "output_type": "stream",
     "text": [
      " 67%|████████████████████████████████████████████████████████████████████████████████                                        | 2/3 [00:02<00:01,  1.33s/it]"
     ]
    },
    {
     "name": "stdout",
     "output_type": "stream",
     "text": [
      "[Epoch 2] train loss: 17.905; train acc: 14.53; test loss: 17.850; test acc: 14.54\n"
     ]
    },
    {
     "name": "stderr",
     "output_type": "stream",
     "text": [
      "100%|████████████████████████████████████████████████████████████████████████████████████████████████████████████████████████| 3/3 [00:03<00:00,  1.32s/it]\n"
     ]
    },
    {
     "name": "stdout",
     "output_type": "stream",
     "text": [
      "[Epoch 3] train loss: 17.877; train acc: 14.53; test loss: 17.845; test acc: 14.54\n",
      "TRAINING ITERATION #230/500\n"
     ]
    },
    {
     "name": "stderr",
     "output_type": "stream",
     "text": [
      " 33%|████████████████████████████████████████                                                                                | 1/3 [00:01<00:02,  1.31s/it]"
     ]
    },
    {
     "name": "stdout",
     "output_type": "stream",
     "text": [
      "[Epoch 1] train loss: 17.862; train acc: 14.54; test loss: 17.902; test acc: 14.54\n"
     ]
    },
    {
     "name": "stderr",
     "output_type": "stream",
     "text": [
      " 67%|████████████████████████████████████████████████████████████████████████████████                                        | 2/3 [00:02<00:01,  1.33s/it]"
     ]
    },
    {
     "name": "stdout",
     "output_type": "stream",
     "text": [
      "[Epoch 2] train loss: 17.846; train acc: 14.54; test loss: 17.889; test acc: 14.54\n"
     ]
    },
    {
     "name": "stderr",
     "output_type": "stream",
     "text": [
      "100%|████████████████████████████████████████████████████████████████████████████████████████████████████████████████████████| 3/3 [00:03<00:00,  1.33s/it]"
     ]
    },
    {
     "name": "stdout",
     "output_type": "stream",
     "text": [
      "[Epoch 3] train loss: 17.864; train acc: 14.54; test loss: 17.874; test acc: 14.54\n",
      "SNR: -10, 7060.053%, test BER: 0.353002667427063                \n",
      "\n"
     ]
    },
    {
     "name": "stderr",
     "output_type": "stream",
     "text": [
      "\n"
     ]
    },
    {
     "name": "stdout",
     "output_type": "stream",
     "text": [
      "SNR: -9, 6710.173%, test BER: 0.33550867438316345                \n",
      "\n",
      "SNR: -8, 6334.040%, test BER: 0.3167020082473755                \n",
      "\n",
      "SNR: -7, 5931.627%, test BER: 0.29658132791519165                \n",
      "\n",
      "SNR: -6, 5471.747%, test BER: 0.27358734607696533                \n",
      "\n",
      "SNR: -5, 4990.520%, test BER: 0.2495259940624237                \n",
      "\n",
      "SNR: -4, 4475.854%, test BER: 0.2237926721572876                \n",
      "\n",
      "SNR: -3, 3932.387%, test BER: 0.19661933183670044                \n",
      "\n",
      "SNR: -2, 3360.560%, test BER: 0.16802799701690674                \n",
      "\n",
      "SNR: -1, 2782.187%, test BER: 0.13910932838916779                \n",
      "\n",
      "SNR: 0, 2202.187%, test BER: 0.11010933667421341                \n",
      "\n",
      "SNR: 1, 1639.480%, test BER: 0.08197399973869324                \n",
      "\n",
      "SNR: 2, 1146.987%, test BER: 0.05734933167695999                \n",
      "\n",
      "SNR: 3, 729.427%, test BER: 0.03647133335471153                \n",
      "\n",
      "SNR: 4, 424.507%, test BER: 0.021225333213806152                \n",
      "\n",
      "TRAINING ITERATION #231/500\n"
     ]
    },
    {
     "name": "stderr",
     "output_type": "stream",
     "text": [
      " 33%|████████████████████████████████████████                                                                                | 1/3 [00:01<00:02,  1.33s/it]"
     ]
    },
    {
     "name": "stdout",
     "output_type": "stream",
     "text": [
      "[Epoch 1] train loss: 17.844; train acc: 14.54; test loss: 17.850; test acc: 14.54\n"
     ]
    },
    {
     "name": "stderr",
     "output_type": "stream",
     "text": [
      " 67%|████████████████████████████████████████████████████████████████████████████████                                        | 2/3 [00:02<00:01,  1.31s/it]"
     ]
    },
    {
     "name": "stdout",
     "output_type": "stream",
     "text": [
      "[Epoch 2] train loss: 17.850; train acc: 14.54; test loss: 17.851; test acc: 14.54\n"
     ]
    },
    {
     "name": "stderr",
     "output_type": "stream",
     "text": [
      "100%|████████████████████████████████████████████████████████████████████████████████████████████████████████████████████████| 3/3 [00:03<00:00,  1.32s/it]\n"
     ]
    },
    {
     "name": "stdout",
     "output_type": "stream",
     "text": [
      "[Epoch 3] train loss: 17.835; train acc: 14.54; test loss: 17.826; test acc: 14.54\n",
      "TRAINING ITERATION #232/500\n"
     ]
    },
    {
     "name": "stderr",
     "output_type": "stream",
     "text": [
      " 33%|████████████████████████████████████████                                                                                | 1/3 [00:01<00:02,  1.35s/it]"
     ]
    },
    {
     "name": "stdout",
     "output_type": "stream",
     "text": [
      "[Epoch 1] train loss: 17.849; train acc: 14.54; test loss: 17.904; test acc: 14.54\n"
     ]
    },
    {
     "name": "stderr",
     "output_type": "stream",
     "text": [
      " 67%|████████████████████████████████████████████████████████████████████████████████                                        | 2/3 [00:02<00:01,  1.31s/it]"
     ]
    },
    {
     "name": "stdout",
     "output_type": "stream",
     "text": [
      "[Epoch 2] train loss: 17.847; train acc: 14.54; test loss: 17.910; test acc: 14.54\n"
     ]
    },
    {
     "name": "stderr",
     "output_type": "stream",
     "text": [
      "100%|████████████████████████████████████████████████████████████████████████████████████████████████████████████████████████| 3/3 [00:03<00:00,  1.31s/it]\n"
     ]
    },
    {
     "name": "stdout",
     "output_type": "stream",
     "text": [
      "[Epoch 3] train loss: 17.847; train acc: 14.54; test loss: 17.913; test acc: 14.54\n",
      "TRAINING ITERATION #233/500\n"
     ]
    },
    {
     "name": "stderr",
     "output_type": "stream",
     "text": [
      " 33%|████████████████████████████████████████                                                                                | 1/3 [00:01<00:02,  1.37s/it]"
     ]
    },
    {
     "name": "stdout",
     "output_type": "stream",
     "text": [
      "[Epoch 1] train loss: 17.863; train acc: 14.54; test loss: 17.801; test acc: 14.54\n"
     ]
    },
    {
     "name": "stderr",
     "output_type": "stream",
     "text": [
      " 67%|████████████████████████████████████████████████████████████████████████████████                                        | 2/3 [00:02<00:01,  1.32s/it]"
     ]
    },
    {
     "name": "stdout",
     "output_type": "stream",
     "text": [
      "[Epoch 2] train loss: 17.854; train acc: 14.54; test loss: 17.812; test acc: 14.54\n"
     ]
    },
    {
     "name": "stderr",
     "output_type": "stream",
     "text": [
      "100%|████████████████████████████████████████████████████████████████████████████████████████████████████████████████████████| 3/3 [00:03<00:00,  1.33s/it]\n"
     ]
    },
    {
     "name": "stdout",
     "output_type": "stream",
     "text": [
      "[Epoch 3] train loss: 17.879; train acc: 14.54; test loss: 17.807; test acc: 14.54\n",
      "TRAINING ITERATION #234/500\n"
     ]
    },
    {
     "name": "stderr",
     "output_type": "stream",
     "text": [
      " 33%|████████████████████████████████████████                                                                                | 1/3 [00:01<00:02,  1.27s/it]"
     ]
    },
    {
     "name": "stdout",
     "output_type": "stream",
     "text": [
      "[Epoch 1] train loss: 17.870; train acc: 14.54; test loss: 17.857; test acc: 14.53\n"
     ]
    },
    {
     "name": "stderr",
     "output_type": "stream",
     "text": [
      " 67%|████████████████████████████████████████████████████████████████████████████████                                        | 2/3 [00:02<00:01,  1.32s/it]"
     ]
    },
    {
     "name": "stdout",
     "output_type": "stream",
     "text": [
      "[Epoch 2] train loss: 17.866; train acc: 14.54; test loss: 17.867; test acc: 14.53\n"
     ]
    },
    {
     "name": "stderr",
     "output_type": "stream",
     "text": [
      "100%|████████████████████████████████████████████████████████████████████████████████████████████████████████████████████████| 3/3 [00:03<00:00,  1.31s/it]\n"
     ]
    },
    {
     "name": "stdout",
     "output_type": "stream",
     "text": [
      "[Epoch 3] train loss: 17.865; train acc: 14.54; test loss: 17.858; test acc: 14.53\n",
      "TRAINING ITERATION #235/500\n"
     ]
    },
    {
     "name": "stderr",
     "output_type": "stream",
     "text": [
      " 33%|████████████████████████████████████████                                                                                | 1/3 [00:01<00:02,  1.28s/it]"
     ]
    },
    {
     "name": "stdout",
     "output_type": "stream",
     "text": [
      "[Epoch 1] train loss: 17.853; train acc: 14.54; test loss: 17.861; test acc: 14.54\n"
     ]
    },
    {
     "name": "stderr",
     "output_type": "stream",
     "text": [
      " 67%|████████████████████████████████████████████████████████████████████████████████                                        | 2/3 [00:02<00:01,  1.32s/it]"
     ]
    },
    {
     "name": "stdout",
     "output_type": "stream",
     "text": [
      "[Epoch 2] train loss: 17.850; train acc: 14.54; test loss: 17.866; test acc: 14.54\n"
     ]
    },
    {
     "name": "stderr",
     "output_type": "stream",
     "text": [
      "100%|████████████████████████████████████████████████████████████████████████████████████████████████████████████████████████| 3/3 [00:03<00:00,  1.31s/it]"
     ]
    },
    {
     "name": "stdout",
     "output_type": "stream",
     "text": [
      "[Epoch 3] train loss: 17.861; train acc: 14.54; test loss: 17.854; test acc: 14.54\n",
      "SNR: -10, 7056.187%, test BER: 0.352809339761734                \n",
      "\n"
     ]
    },
    {
     "name": "stderr",
     "output_type": "stream",
     "text": [
      "\n"
     ]
    },
    {
     "name": "stdout",
     "output_type": "stream",
     "text": [
      "SNR: -9, 6698.040%, test BER: 0.33490198850631714                \n",
      "\n",
      "SNR: -8, 6334.667%, test BER: 0.31673333048820496                \n",
      "\n",
      "SNR: -7, 5918.147%, test BER: 0.29590731859207153                \n",
      "\n",
      "SNR: -6, 5493.627%, test BER: 0.27468132972717285                \n",
      "\n",
      "SNR: -5, 4998.053%, test BER: 0.2499026656150818                \n",
      "\n",
      "SNR: -4, 4477.560%, test BER: 0.22387799620628357                \n",
      "\n",
      "SNR: -3, 3921.080%, test BER: 0.19605399668216705                \n",
      "\n",
      "SNR: -2, 3365.747%, test BER: 0.16828733682632446                \n",
      "\n",
      "SNR: -1, 2773.653%, test BER: 0.13868266344070435                \n",
      "\n",
      "SNR: 0, 2195.147%, test BER: 0.10975733399391174                \n",
      "\n",
      "SNR: 1, 1648.693%, test BER: 0.08243466913700104                \n",
      "\n",
      "SNR: 2, 1139.333%, test BER: 0.056966666132211685                \n",
      "\n",
      "SNR: 3, 738.160%, test BER: 0.03690800070762634                \n",
      "\n",
      "SNR: 4, 419.160%, test BER: 0.020958000794053078                \n",
      "\n",
      "TRAINING ITERATION #236/500\n"
     ]
    },
    {
     "name": "stderr",
     "output_type": "stream",
     "text": [
      " 33%|████████████████████████████████████████                                                                                | 1/3 [00:01<00:02,  1.28s/it]"
     ]
    },
    {
     "name": "stdout",
     "output_type": "stream",
     "text": [
      "[Epoch 1] train loss: 17.886; train acc: 14.54; test loss: 17.882; test acc: 14.54\n"
     ]
    },
    {
     "name": "stderr",
     "output_type": "stream",
     "text": [
      " 67%|████████████████████████████████████████████████████████████████████████████████                                        | 2/3 [00:02<00:01,  1.31s/it]"
     ]
    },
    {
     "name": "stdout",
     "output_type": "stream",
     "text": [
      "[Epoch 2] train loss: 17.886; train acc: 14.54; test loss: 17.890; test acc: 14.54\n"
     ]
    },
    {
     "name": "stderr",
     "output_type": "stream",
     "text": [
      "100%|████████████████████████████████████████████████████████████████████████████████████████████████████████████████████████| 3/3 [00:03<00:00,  1.31s/it]\n"
     ]
    },
    {
     "name": "stdout",
     "output_type": "stream",
     "text": [
      "[Epoch 3] train loss: 17.868; train acc: 14.54; test loss: 17.889; test acc: 14.54\n",
      "TRAINING ITERATION #237/500\n"
     ]
    },
    {
     "name": "stderr",
     "output_type": "stream",
     "text": [
      " 33%|████████████████████████████████████████                                                                                | 1/3 [00:01<00:02,  1.28s/it]"
     ]
    },
    {
     "name": "stdout",
     "output_type": "stream",
     "text": [
      "[Epoch 1] train loss: 17.841; train acc: 14.54; test loss: 17.882; test acc: 14.54\n"
     ]
    },
    {
     "name": "stderr",
     "output_type": "stream",
     "text": [
      " 67%|████████████████████████████████████████████████████████████████████████████████                                        | 2/3 [00:02<00:01,  1.33s/it]"
     ]
    },
    {
     "name": "stdout",
     "output_type": "stream",
     "text": [
      "[Epoch 2] train loss: 17.844; train acc: 14.54; test loss: 17.872; test acc: 14.54\n"
     ]
    },
    {
     "name": "stderr",
     "output_type": "stream",
     "text": [
      "100%|████████████████████████████████████████████████████████████████████████████████████████████████████████████████████████| 3/3 [00:03<00:00,  1.31s/it]\n"
     ]
    },
    {
     "name": "stdout",
     "output_type": "stream",
     "text": [
      "[Epoch 3] train loss: 17.842; train acc: 14.54; test loss: 17.873; test acc: 14.54\n",
      "TRAINING ITERATION #238/500\n"
     ]
    },
    {
     "name": "stderr",
     "output_type": "stream",
     "text": [
      " 33%|████████████████████████████████████████                                                                                | 1/3 [00:01<00:02,  1.29s/it]"
     ]
    },
    {
     "name": "stdout",
     "output_type": "stream",
     "text": [
      "[Epoch 1] train loss: 17.914; train acc: 14.54; test loss: 17.868; test acc: 14.54\n"
     ]
    },
    {
     "name": "stderr",
     "output_type": "stream",
     "text": [
      " 67%|████████████████████████████████████████████████████████████████████████████████                                        | 2/3 [00:02<00:01,  1.33s/it]"
     ]
    },
    {
     "name": "stdout",
     "output_type": "stream",
     "text": [
      "[Epoch 2] train loss: 17.895; train acc: 14.54; test loss: 17.850; test acc: 14.54\n"
     ]
    },
    {
     "name": "stderr",
     "output_type": "stream",
     "text": [
      "100%|████████████████████████████████████████████████████████████████████████████████████████████████████████████████████████| 3/3 [00:03<00:00,  1.31s/it]\n"
     ]
    },
    {
     "name": "stdout",
     "output_type": "stream",
     "text": [
      "[Epoch 3] train loss: 17.896; train acc: 14.54; test loss: 17.857; test acc: 14.54\n",
      "TRAINING ITERATION #239/500\n"
     ]
    },
    {
     "name": "stderr",
     "output_type": "stream",
     "text": [
      " 33%|████████████████████████████████████████                                                                                | 1/3 [00:01<00:02,  1.29s/it]"
     ]
    },
    {
     "name": "stdout",
     "output_type": "stream",
     "text": [
      "[Epoch 1] train loss: 17.851; train acc: 14.55; test loss: 17.884; test acc: 14.54\n"
     ]
    },
    {
     "name": "stderr",
     "output_type": "stream",
     "text": [
      " 67%|████████████████████████████████████████████████████████████████████████████████                                        | 2/3 [00:02<00:01,  1.32s/it]"
     ]
    },
    {
     "name": "stdout",
     "output_type": "stream",
     "text": [
      "[Epoch 2] train loss: 17.846; train acc: 14.55; test loss: 17.881; test acc: 14.54\n"
     ]
    },
    {
     "name": "stderr",
     "output_type": "stream",
     "text": [
      "100%|████████████████████████████████████████████████████████████████████████████████████████████████████████████████████████| 3/3 [00:03<00:00,  1.32s/it]\n"
     ]
    },
    {
     "name": "stdout",
     "output_type": "stream",
     "text": [
      "[Epoch 3] train loss: 17.851; train acc: 14.55; test loss: 17.893; test acc: 14.54\n",
      "TRAINING ITERATION #240/500\n"
     ]
    },
    {
     "name": "stderr",
     "output_type": "stream",
     "text": [
      " 33%|████████████████████████████████████████                                                                                | 1/3 [00:01<00:02,  1.28s/it]"
     ]
    },
    {
     "name": "stdout",
     "output_type": "stream",
     "text": [
      "[Epoch 1] train loss: 17.853; train acc: 14.54; test loss: 17.813; test acc: 14.55\n"
     ]
    }
   ],
   "source": [
    "train_size = 50000\n",
    "n_upd = 500\n",
    "bit_errors_nn = torch.zeros((n_upd, len(SNRs))).to(device)\n",
    "nb_bits_nn = torch.zeros((n_upd, len(SNRs))).to(device)\n",
    "ber_list = []\n",
    "\n",
    "for upd in range(n_upd):\n",
    "    print(f'TRAINING ITERATION #{upd+1}/{n_upd}')\n",
    "    training_loader, test_loader = update_loaders()\n",
    "    train(training_loader, test_loader, decoder, criterion, opt, n_epochs=3)\n",
    "\n",
    "    if (np.mod(upd+1,5)==0):\n",
    "        decoder.eval()\n",
    "        for i, snr in enumerate(SNRs):\n",
    "            while bit_errors_nn[upd][i] < req_err:\n",
    "                messages = torch.randint(0, 2, (test_size, k))\n",
    "                codewords = messages @ G % 2\n",
    "                codewords = codewords.to(device)\n",
    "                BPSK_codewords = (0.5 - codewords) * 2\n",
    "                sigma = torch.sqrt(torch.tensor(1) / (2 * (np.float(k)/np.float(n)) * 10**(snr/10)))\n",
    "                noise = sigma * torch.randn(test_size, n).to(device)\n",
    "                soft_input = BPSK_codewords + noise\n",
    "                bit_errors_nn[upd][i] += torch.count_nonzero(torch.heaviside(decoder(soft_input) - 0.5, torch.tensor([0.]).to(device)) != codewords)\n",
    "                nb_bits_nn[upd][i] += test_size * n\n",
    "                print(f'SNR: {snr}, {100*bit_errors_nn[upd][i]/req_err :.3f}%, test BER: {bit_errors_nn[upd][i] / nb_bits_nn[upd][i]}                ', end='\\r')\n",
    "            print('\\n')\n",
    "        ber_list.append((bit_errors_nn[upd,-1].cpu() / nb_bits_nn[upd,-1].cpu()).numpy())    \n",
    "        np.savetxt('ber.txt', ber_list)"
   ]
  },
  {
   "cell_type": "code",
   "execution_count": 26,
   "metadata": {},
   "outputs": [
    {
     "data": {
      "image/png": "[encoded data removed]",
      "text/plain": [
       "<Figure size 1152x720 with 1 Axes>"
      ]
     },
     "metadata": {
      "needs_background": "light"
     },
     "output_type": "display_data"
    }
   ],
   "source": [
    "plt.figure(figsize=(16,10))\n",
    "plt.semilogy(SNRs, bit_errors_min_sum.cpu() / nb_bits_min_sum.cpu(), label='Classical Min-sum')\n",
    "plt.semilogy(SNRs, bit_errors_hard.cpu() / nb_bits_hard.cpu(), label='hard decision')\n",
    "# for i in range(10):\n",
    "plt.semilogy(SNRs, bit_errors_nn[-1].cpu() / nb_bits_nn[-1].cpu(), label=f'NN')\n",
    "plt.legend()\n",
    "plt.show()"
   ]
  },
  {
   "cell_type": "code",
   "execution_count": null,
   "metadata": {},
   "outputs": [],
   "source": [
    "decoder(soft_input)[0] - 0.5"
   ]
  },
  {
   "cell_type": "code",
   "execution_count": null,
   "metadata": {},
   "outputs": [],
   "source": [
    "codewords[0]"
   ]
  },
  {
   "cell_type": "code",
   "execution_count": 27,
   "metadata": {},
   "outputs": [
    {
     "data": {
      "text/plain": [
       "Parameter containing:\n",
       "tensor([[0.2038, 0.9779, 0.3517, 1.2465, 0.9717, 0.6680, 1.1489, 1.0787, 0.3931,\n",
       "         1.2662, 0.4653, 0.5294, 0.8220, 0.4791, 1.0745, 0.4185, 1.4206, 0.2584,\n",
       "         0.5221, 0.4761, 0.1689, 0.4158, 1.5419, 0.6820, 0.4613, 0.9555, 0.5984,\n",
       "         1.2517, 0.5022, 0.2860, 0.2079, 0.3327],\n",
       "        [0.5957, 1.3633, 2.4112, 0.7175, 0.8736, 0.4473, 1.1076, 0.2477, 1.9485,\n",
       "         1.3505, 0.9901, 0.1801, 1.9469, 0.1277, 1.0652, 0.2618, 0.4278, 0.5668,\n",
       "         2.5399, 0.4197, 0.5171, 0.4156, 0.3437, 0.5380, 1.2933, 0.7777, 0.4102,\n",
       "         0.1844, 0.1379, 2.4788, 0.1754, 0.1718],\n",
       "        [0.7877, 0.1807, 1.1970, 0.5416, 1.2898, 1.5970, 0.1783, 1.1209, 0.6569,\n",
       "         0.0106, 0.9526, 0.3103, 0.9193, 1.8266, 1.7590, 0.4051, 0.7603, 0.2082,\n",
       "         0.5151, 0.5557, 0.4932, 1.5203, 0.2121, 0.5756, 0.3115, 0.1618, 0.5589,\n",
       "         1.6786, 1.0974, 0.8508, 0.0258, 0.5636],\n",
       "        [0.2573, 0.3973, 0.3431, 0.5708, 0.9939, 0.4531, 0.3641, 0.3119, 0.4835,\n",
       "         0.2493, 0.4230, 0.2595, 0.5260, 1.0529, 1.4520, 0.2852, 0.8791, 0.3834,\n",
       "         2.0082, 1.3310, 0.9985, 0.8298, 1.3537, 0.9015, 2.4221, 0.6373, 1.5828,\n",
       "         0.2402, 2.3810, 0.3331, 1.4984, 0.5656],\n",
       "        [0.2741, 0.6443, 2.0520, 1.5432, 1.6633, 1.1687, 0.9866, 0.8495, 1.0579,\n",
       "         0.4088, 0.1139, 0.9778, 1.1537, 0.6385, 0.3134, 0.1266, 0.3394, 0.3299,\n",
       "         0.2072, 1.8959, 1.1146, 0.5289, 1.3812, 1.4699, 0.4154, 0.7377, 0.3136,\n",
       "         0.1296, 0.2277, 1.0116, 0.3796, 1.6491]], device='cuda:1',\n",
       "       requires_grad=True)"
      ]
     },
     "execution_count": 27,
     "metadata": {},
     "output_type": "execute_result"
    }
   ],
   "source": [
    "decoder.W_vc"
   ]
  },
  {
   "cell_type": "code",
   "execution_count": 30,
   "metadata": {},
   "outputs": [
    {
     "data": {
      "text/plain": [
       "Parameter containing:\n",
       "tensor([[9.7788e-02, 3.0606e-01, 8.1836e-01, 1.5221e+00, 1.2232e-01, 1.0805e+00,\n",
       "         3.0746e-01, 1.3477e-01, 5.6197e-01, 2.7157e-01, 1.2746e+00, 9.4963e-02,\n",
       "         4.0784e-02, 2.0885e-01, 1.6685e-01, 9.3342e-01, 2.6560e-01, 5.8321e-01,\n",
       "         9.0237e-01, 8.0817e-01, 9.8762e-01, 4.8169e-01, 1.5190e+00, 1.0007e+00,\n",
       "         6.0151e-01, 8.2788e-01, 1.8923e+00, 7.7931e-01, 7.2318e-01, 7.4211e-02,\n",
       "         2.9535e-01, 3.7448e-01],\n",
       "        [1.6626e+00, 8.1514e-02, 6.2852e-01, 5.4060e-01, 1.1040e-02, 1.2836e+00,\n",
       "         1.1020e+00, 3.5296e-02, 1.6013e+00, 1.4390e+00, 6.7058e-01, 7.5651e-01,\n",
       "         3.1549e+00, 1.2850e+00, 4.6024e-02, 1.1690e-01, 5.1540e-01, 9.2904e-01,\n",
       "         1.2237e+00, 2.1575e+00, 3.6974e-01, 1.7269e+00, 5.1770e-01, 8.9102e-01,\n",
       "         2.1727e+00, 3.5381e-01, 1.4353e+00, 2.9419e+00, 7.2109e-01, 1.7871e+00,\n",
       "         5.4785e-01, 5.1022e-01],\n",
       "        [1.6232e-01, 2.5117e-01, 8.0508e-01, 1.2322e+00, 5.2574e-02, 5.8200e-01,\n",
       "         4.6076e-01, 1.6719e+00, 1.2411e+00, 2.9900e-01, 1.5206e+00, 1.3486e+00,\n",
       "         1.1666e+00, 4.0785e-01, 1.5850e+00, 6.0809e-01, 3.4036e-01, 1.7476e-02,\n",
       "         2.1735e+00, 2.2974e+00, 3.1650e+00, 1.2082e-01, 1.7225e+00, 1.5288e+00,\n",
       "         1.5902e-01, 1.8632e+00, 7.8186e-01, 8.3395e-01, 1.8409e+00, 4.9503e-01,\n",
       "         8.7751e-01, 6.6042e-01],\n",
       "        [2.5837e-01, 4.1914e-02, 7.0532e-01, 5.5972e-01, 2.0289e-01, 1.8082e-03,\n",
       "         9.2243e-02, 1.0513e+00, 2.7728e-01, 1.0919e+00, 2.2954e+00, 2.0831e-01,\n",
       "         6.5677e-01, 1.0665e+00, 1.2763e+00, 3.5363e-01, 2.4942e-01, 8.9797e-01,\n",
       "         2.8994e-01, 2.6689e-01, 2.9559e+00, 1.8645e+00, 4.9906e-01, 7.5404e-02,\n",
       "         4.7287e-01, 1.7319e+00, 7.7439e-02, 2.2606e-01, 3.5248e-01, 4.4980e-01,\n",
       "         1.7887e-01, 1.2808e+00],\n",
       "        [7.0422e-01, 2.1774e+00, 7.2909e-01, 8.8781e-01, 7.8158e-01, 6.8867e-01,\n",
       "         2.8301e-01, 1.3984e+00, 1.2884e+00, 1.3193e+00, 5.5482e-01, 1.2627e+00,\n",
       "         1.0840e+00, 7.8383e-01, 2.6248e-01, 1.0931e+00, 8.8566e-01, 1.2652e+00,\n",
       "         1.9711e+00, 2.4222e-01, 1.8865e+00, 1.0105e+00, 3.0333e+00, 7.5192e-02,\n",
       "         6.7426e-01, 1.4340e+00, 2.4644e-01, 1.1557e+00, 1.9329e-01, 5.3897e-01,\n",
       "         1.2018e+00, 1.5852e-02]], device='cuda:1', requires_grad=True)"
      ]
     },
     "execution_count": 30,
     "metadata": {},
     "output_type": "execute_result"
    }
   ],
   "source": [
    "decoder.B_cv"
   ]
  },
  {
   "cell_type": "code",
   "execution_count": null,
   "metadata": {},
   "outputs": [],
   "source": []
  }
 ],
 "metadata": {
  "interpreter": {
   "hash": "40d3a090f54c6569ab1632332b64b2c03c39dcf918b08424e98f38b5ae0af88f"
  },
  "kernelspec": {
   "display_name": "Python 3 (ipykernel)",
   "language": "python",
   "name": "python3"
  },
  "language_info": {
   "codemirror_mode": {
    "name": "ipython",
    "version": 3
   },
   "file_extension": ".py",
   "mimetype": "text/x-python",
   "name": "python",
   "nbconvert_exporter": "python",
   "pygments_lexer": "ipython3",
   "version": "3.9.10"
  }
 },
 "nbformat": 4,
 "nbformat_minor": 4
}
