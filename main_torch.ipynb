{
 "cells": [
  {
   "cell_type": "code",
   "execution_count": 1,
   "metadata": {},
   "outputs": [],
   "source": [
    "import numpy as np\n",
    "import pyldpc as ldpc\n",
    "from tqdm import tqdm, trange\n",
    "import matplotlib.pyplot as plt\n",
    "import sys\n",
    "from utils_f import load_code\n",
    "import os\n",
    "import torch\n",
    "device = torch.device('cuda' if torch.cuda.is_available() else 'cpu')"
   ]
  },
  {
   "cell_type": "code",
   "execution_count": 2,
   "metadata": {},
   "outputs": [],
   "source": [
    "device='cuda:1'"
   ]
  },
  {
   "cell_type": "code",
   "execution_count": 3,
   "metadata": {},
   "outputs": [],
   "source": [
    "H_filename = './source/BCH_15_11.alist'\n",
    "code = load_code(H_filename)\n",
    "H = code.H\n",
    "G = code.G\n",
    "var_degrees = code.var_degrees\n",
    "chk_degrees = code.chk_degrees\n",
    "num_edges = code.num_edges\n",
    "u = code.u\n",
    "d = code.d\n",
    "n = code.n\n",
    "m = code.m\n",
    "k = code.k"
   ]
  },
  {
   "cell_type": "code",
   "execution_count": 4,
   "metadata": {
    "jupyter": {
     "source_hidden": true
    },
    "tags": []
   },
   "outputs": [],
   "source": [
    "class min_sum(torch.nn.Module):\n",
    "    def __init__(self, num_iterations = 5):\n",
    "        super(min_sum, self).__init__()\n",
    "        self.W_cv = torch.ones((num_iterations, num_edges))\n",
    "        # self.W_cv = torch.nn.Parameter(torch.abs(torch.ones((num_iterations, num_edges))))\n",
    "        # self.W_cv.requires_grad = True\n",
    "        self.B_cv = torch.zeros((num_iterations, num_edges))\n",
    "        # self.B_cv = torch.nn.Parameter(torch.abs(torch.zeros((num_iterations, num_edges))))\n",
    "        # self.B_cv.requires_grad = True\n",
    "        self.W_vc = torch.ones((num_iterations, num_edges))\n",
    "        # self.W_vc = torch.nn.Parameter(torch.abs(torch.ones((num_iterations, num_edges))))\n",
    "        # self.W_vc.requires_grad = True\n",
    "        \n",
    "        self.num_iterations = num_iterations\n",
    "        \n",
    "    def forward(self, soft_input):\n",
    "        soft_input = soft_input.T           # TODO! Fix matrix dimensions inside functions\n",
    "        # print(soft_input.shape)\n",
    "        cv = torch.zeros((num_edges, soft_input.shape[1]))\n",
    "        for iteration in range(0, self.num_iterations):\n",
    "            vc = self.compute_vc(cv, soft_input, iteration)\n",
    "            cv = self.compute_cv(vc, iteration)\n",
    "            soft_input = self.marginalize(soft_input, cv)\n",
    "        output = torch.sigmoid(-soft_input)\n",
    "        output = output.T\n",
    "        \n",
    "        # self.W_cv = torch.nn.Parameter(torch.abs(self.W_cv))\n",
    "        # self.B_cv =torch.nn.Parameter(torch.abs(self.B_cv))\n",
    "        # self.W_vc = torch.nn.Parameter(torch.abs(self.W_vc))\n",
    "        # output = soft_input\n",
    "        return output\n",
    "\n",
    "        \n",
    "    def compute_vc(self, cv, soft_input, iteration):\n",
    "        edges = []\n",
    "        for i in range(0, n):\n",
    "            for j in range(0, var_degrees[i]):\n",
    "                edges.append(i)\n",
    "        # print(soft_input.shape, len(edges), edges)\n",
    "        reordered_soft_input = torch.index_select(soft_input, 0, torch.tensor(edges).to(device))\n",
    "\n",
    "        vc = torch.zeros((num_edges, cv.shape[1])).to(device)\n",
    "        counter = 0\n",
    "        edge_order = []\n",
    "\n",
    "        for i in range(0, n): # for each variable node v\n",
    "            for j in range(0, var_degrees[i]):\n",
    "                edge_order.append(d[i][j])\n",
    "                extrinsic_edges = []\n",
    "                for jj in range(0, var_degrees[i]):\n",
    "                    if jj != j: # extrinsic information only\n",
    "                        extrinsic_edges.append(d[i][jj])\n",
    "                # if the list of edges is not empty, add them up\n",
    "                if extrinsic_edges:\n",
    "                    # print(cv.shape, len(extrinsic_edges), extrinsic_edges)\n",
    "                    temp = torch.index_select(cv.to(device), 0, torch.tensor(extrinsic_edges).to(device))\n",
    "                    temp = torch.sum(temp, 0)\n",
    "                else:\n",
    "                    temp = torch.zeros(cv.shape[1])\n",
    "\n",
    "                temp = temp.to(device)\n",
    "                vc[counter] = temp\n",
    "        \n",
    "        new_order = np.zeros(num_edges).astype(int)\n",
    "        new_order[edge_order] = np.arange(0, num_edges)\n",
    "        vc = torch.index_select(vc, 0, torch.tensor(new_order).to(device))\n",
    "        vc += reordered_soft_input * torch.tile(torch.reshape(self.W_vc[iteration], (-1,1)), (1, cv.shape[1])).to(device)       # add soft inputs of the previous iterations!\n",
    "        return vc \n",
    "\n",
    "    def compute_cv(self, vc, iteration):\n",
    "        cv_list = []\n",
    "        prod_list = []\n",
    "        min_list = []\n",
    "        edge_order = []\n",
    "        for i in range(0, m): # for each check node c\n",
    "            for j in range(0, chk_degrees[i]):\n",
    "                edge_order.append(u[i][j])\n",
    "                extrinsic_edges = []\n",
    "                for jj in range(0, chk_degrees[i]):\n",
    "                    if jj != j:\n",
    "                        extrinsic_edges.append(u[i][jj])\n",
    "                temp = torch.index_select(vc.to(device),0,torch.tensor(extrinsic_edges).to(device))\n",
    "                temp1 = torch.prod(torch.sign(temp),0)\n",
    "                temp2 = torch.min(torch.abs(temp),0)[0]\n",
    "                prod_list.append(temp1)\n",
    "                min_list.append(temp2)\n",
    "        prods = torch.stack(prod_list)\n",
    "        mins = torch.stack(min_list)\n",
    "        mins = torch.relu(mins - torch.tile(torch.reshape(self.B_cv[iteration], (-1,1)), (1, vc.shape[1])).to(device))\n",
    "        cv = prods * mins\n",
    "        new_order = np.zeros(num_edges).astype(int)\n",
    "        new_order[edge_order] = np.array(range(0,num_edges)).astype(int)\n",
    "        cv = torch.index_select(cv, 0, torch.tensor(new_order).to(device))\n",
    "        cv = cv * torch.tile(torch.reshape(self.W_cv[iteration], (-1,1)), (1, vc.shape[1])).to(device)\n",
    "        return cv\n",
    "\n",
    "    # combine messages to get posterior LLRs\n",
    "    def marginalize(self, soft_input, cv):\n",
    "        weighted_soft_input = soft_input\n",
    "        soft_output = []\n",
    "        for i in range(0,n):\n",
    "            edges = []\n",
    "            for e in range(0,var_degrees[i]):\n",
    "                edges.append(d[i][e])\n",
    "            temp = torch.index_select(cv,0,torch.tensor(edges).to(device))\n",
    "            temp = torch.sum(temp, 0)\n",
    "            soft_output.append(temp)\n",
    "        soft_output = torch.stack(soft_output)\n",
    "        soft_output = weighted_soft_input + soft_output\n",
    "        return soft_output"
   ]
  },
  {
   "cell_type": "code",
   "execution_count": 5,
   "metadata": {},
   "outputs": [],
   "source": [
    "class Decoder(torch.nn.Module):\n",
    "    def __init__(self, num_iterations = 5):\n",
    "        super(Decoder, self).__init__()\n",
    "        # self.W_cv = torch.ones((num_iterations, num_edges))\n",
    "        self.W_cv = torch.nn.Parameter(torch.abs(torch.randn((num_iterations, num_edges))))\n",
    "        self.W_cv.requires_grad = True\n",
    "        # self.B_cv = torch.zeros((num_iterations, num_edges))\n",
    "        self.B_cv = torch.nn.Parameter(torch.abs(torch.randn((num_iterations, num_edges))))\n",
    "        self.B_cv.requires_grad = True\n",
    "        # self.W_vc = torch.ones((num_iterations, num_edges))\n",
    "        self.W_vc = torch.nn.Parameter(torch.abs(torch.randn((num_iterations, num_edges))))\n",
    "        self.W_vc.requires_grad = True\n",
    "        \n",
    "        self.num_iterations = num_iterations\n",
    "        \n",
    "    def forward(self, soft_input):\n",
    "        soft_input = soft_input.T           # TODO! Fix matrix dimensions inside functions\n",
    "        # print(soft_input.shape)\n",
    "        cv = torch.zeros((num_edges, soft_input.shape[1]))\n",
    "        for iteration in range(0, self.num_iterations):\n",
    "            vc = self.compute_vc(cv, soft_input, iteration)\n",
    "            cv = self.compute_cv(vc, iteration)\n",
    "            soft_input = self.marginalize(soft_input, cv)\n",
    "        output = torch.sigmoid(-soft_input)\n",
    "        output = output.T\n",
    "        \n",
    "        # self.W_cv = torch.nn.Parameter(torch.abs(self.W_cv))\n",
    "        # self.B_cv =torch.nn.Parameter(torch.abs(self.B_cv))\n",
    "        # self.W_vc = torch.nn.Parameter(torch.abs(self.W_vc))\n",
    "        \n",
    "        # output = soft_input\n",
    "        return output\n",
    "\n",
    "        \n",
    "    def compute_vc(self, cv, soft_input, iteration):\n",
    "        edges = []\n",
    "        for i in range(0, n):\n",
    "            for j in range(0, var_degrees[i]):\n",
    "                edges.append(i)\n",
    "        # print(soft_input.shape, len(edges), edges)\n",
    "        reordered_soft_input = torch.index_select(soft_input, 0, torch.tensor(edges).to(device))\n",
    "\n",
    "        vc = torch.zeros((num_edges, cv.shape[1])).to(device)\n",
    "        counter = 0\n",
    "        edge_order = []\n",
    "\n",
    "        for i in range(0, n): # for each variable node v\n",
    "            for j in range(0, var_degrees[i]):\n",
    "                edge_order.append(d[i][j])\n",
    "                extrinsic_edges = []\n",
    "                for jj in range(0, var_degrees[i]):\n",
    "                    if jj != j: # extrinsic information only\n",
    "                        extrinsic_edges.append(d[i][jj])\n",
    "                # if the list of edges is not empty, add them up\n",
    "                if extrinsic_edges:\n",
    "                    # print(cv.shape, len(extrinsic_edges), extrinsic_edges)\n",
    "                    temp = torch.index_select(cv.to(device), 0, torch.tensor(extrinsic_edges).to(device))\n",
    "                    temp = torch.sum(temp, 0)\n",
    "                else:\n",
    "                    temp = torch.zeros(cv.shape[1])\n",
    "\n",
    "                temp = temp.to(device)\n",
    "                vc[counter] = temp\n",
    "        \n",
    "        new_order = np.zeros(num_edges).astype(int)\n",
    "        new_order[edge_order] = np.arange(0, num_edges)\n",
    "        vc = torch.index_select(vc, 0, torch.tensor(new_order).to(device))\n",
    "        vc += reordered_soft_input * torch.tile(torch.reshape(self.W_vc[iteration], (-1,1)), (1, cv.shape[1]))       # add soft inputs of the previous iterations!\n",
    "        return vc \n",
    "\n",
    "    def compute_cv(self, vc, iteration):\n",
    "        cv_list = []\n",
    "        prod_list = []\n",
    "        min_list = []\n",
    "        edge_order = []\n",
    "        for i in range(0, m): # for each check node c\n",
    "            for j in range(0, chk_degrees[i]):\n",
    "                edge_order.append(u[i][j])\n",
    "                extrinsic_edges = []\n",
    "                for jj in range(0, chk_degrees[i]):\n",
    "                    if jj != j:\n",
    "                        extrinsic_edges.append(u[i][jj])\n",
    "                temp = torch.index_select(vc.to(device),0,torch.tensor(extrinsic_edges).to(device))\n",
    "                temp1 = torch.prod(torch.sign(temp),0)\n",
    "                temp2 = torch.min(torch.abs(temp),0)[0]\n",
    "                prod_list.append(temp1)\n",
    "                min_list.append(temp2)\n",
    "        prods = torch.stack(prod_list)\n",
    "        mins = torch.stack(min_list)\n",
    "        mins = torch.relu(mins - torch.tile(torch.reshape(self.B_cv[iteration], (-1,1)), (1, vc.shape[1])))\n",
    "        cv = prods * mins\n",
    "        new_order = np.zeros(num_edges).astype(int)\n",
    "        new_order[edge_order] = np.array(range(0,num_edges)).astype(int)\n",
    "        cv = torch.index_select(cv, 0, torch.tensor(new_order).to(device))\n",
    "        cv = cv * torch.tile(torch.reshape(self.W_cv[iteration], (-1,1)), (1, vc.shape[1]))\n",
    "        return cv\n",
    "\n",
    "    # combine messages to get posterior LLRs\n",
    "    def marginalize(self, soft_input, cv):\n",
    "        weighted_soft_input = soft_input\n",
    "        soft_output = []\n",
    "        for i in range(0,n):\n",
    "            edges = []\n",
    "            for e in range(0,var_degrees[i]):\n",
    "                edges.append(d[i][e])\n",
    "            temp = torch.index_select(cv,0,torch.tensor(edges).to(device))\n",
    "            temp = torch.sum(temp, 0)\n",
    "            soft_output.append(temp)\n",
    "        soft_output = torch.stack(soft_output)\n",
    "        soft_output = weighted_soft_input + soft_output\n",
    "        return soft_output"
   ]
  },
  {
   "cell_type": "code",
   "execution_count": 6,
   "metadata": {},
   "outputs": [],
   "source": [
    "def epoch_train(loader, clf, criterion, opt):\n",
    "    clf.train(True)\n",
    "    avg_loss = 0\n",
    "    avg_acc = 0\n",
    "    correct = 0\n",
    "    # load batch\n",
    "    for model_input, target in loader:\n",
    "        # move data to device\n",
    "        model_input = model_input.to(device)\n",
    "        target = target.to(device)\n",
    "        # calculate outputs, loss and accuracy\n",
    "        model_output = clf(model_input)\n",
    "        loss = criterion(model_output, target)\n",
    "        # print(model_input[0], model_output[0])\n",
    "        avg_loss += loss\n",
    "        correct += torch.count_nonzero(torch.heaviside(model_output-0.5, torch.tensor([0.]).to(device)).to(device) == target)\n",
    "        # calculate grad, upd weights\n",
    "        opt.zero_grad()\n",
    "        loss.backward()\n",
    "        opt.step()\n",
    "    avg_loss = avg_loss / len(loader)\n",
    "    avg_acc = correct / len(loader.dataset)\n",
    "    return avg_loss, avg_acc\n",
    "\n",
    "            \n",
    "            \n",
    "                        \n",
    "def epoch_test(loader, clf, criterion):\n",
    "    clf.eval()\n",
    "    avg_loss = 0\n",
    "    avg_acc = 0\n",
    "    correct = 0\n",
    "    # load batch\n",
    "    for model_input, target in loader:\n",
    "        # move data to device\n",
    "        model_input = model_input.to(device)\n",
    "        target = target.to(device)\n",
    "        # calculate outputs, loss and accuracy\n",
    "        model_output = clf(model_input)\n",
    "        loss = criterion(model_output, target)\n",
    "        avg_loss += loss\n",
    "        correct += torch.count_nonzero(torch.heaviside(model_output-0.5, torch.tensor([0.]).to(device)).to(device) == target)\n",
    "    avg_loss = avg_loss / len(loader)\n",
    "    avg_acc = correct / len(loader.dataset)\n",
    "\n",
    "    return avg_loss, avg_acc\n",
    "\n",
    "def train(train_loader, test_loader, clf, criterion, opt, n_epochs=50):\n",
    "    for epoch in trange(n_epochs):\n",
    "        train_loss, train_acc = epoch_train(train_loader, clf, criterion, opt)\n",
    "        test_loss, test_acc = epoch_test(test_loader, clf, criterion)\n",
    "        # clf.apply(constraints)\n",
    "\n",
    "        # clf.W_cv = torch.nn.Parameter(torch.relu(clf.W_cv))\n",
    "        # clf.B_cv = torch.nn.Parameter(torch.relu(clf.B_cv))\n",
    "        # clf.W_vc = torch.nn.Parameter(torch.relu(clf.W_vc))\n",
    "        # print(clf.W_cv[0])\n",
    "\n",
    "\n",
    "        if (np.mod(epoch+1,1)==0):\n",
    "            print(f'[Epoch {epoch + 1}] train loss: {train_loss:.3f}; train acc: {train_acc:.2f}; ' + \n",
    "                  f'test loss: {test_loss:.3f}; test acc: {test_acc:.2f}')"
   ]
  },
  {
   "cell_type": "markdown",
   "metadata": {
    "tags": []
   },
   "source": [
    "## Create dataloader"
   ]
  },
  {
   "cell_type": "code",
   "execution_count": 7,
   "metadata": {},
   "outputs": [],
   "source": [
    "def gen():\n",
    "    messages = np.random.randint(0,2,[train_size,k])\n",
    "    codewords = messages @ G % 2\n",
    "    BPSK_codewords = (0.5 - codewords.astype(np.float32)) * 2.0\n",
    "    soft_input = np.zeros_like(BPSK_codewords)\n",
    "    SNRs = np.arange(1,6)\n",
    "    for i in range(0,len(SNRs)):\n",
    "        sigma = np.sqrt(1. / (2 * (np.float(k)/np.float(n)) * 10**(SNRs[i]/10)))\n",
    "        noise = sigma * np.random.randn(train_size//len(SNRs),n)\n",
    "        start_idx = train_size*i//len(SNRs)\n",
    "        end_idx = train_size*(i+1)//len(SNRs)\n",
    "        soft_input[start_idx:end_idx,:] = BPSK_codewords[start_idx:end_idx,:] + noise\n",
    "        soft_input = 2 * soft_input / (sigma**2)\n",
    "    return soft_input, codewords\n",
    "    \n",
    "def update_loaders():\n",
    "\n",
    "\n",
    "    soft_input_train, codewords_train = gen()\n",
    "    train_X = torch.Tensor(soft_input_train) # transform to torch tensor\n",
    "    train_y = torch.Tensor(codewords_train)\n",
    "    training_dataset = torch.utils.data.TensorDataset(train_X, train_y) # create your datset\n",
    "    training_loader = torch.utils.data.DataLoader(training_dataset, batch_size=10000, shuffle=True) # create your dataloader\n",
    "\n",
    "\n",
    "    soft_input_test, codewords_test = gen()\n",
    "    test_X = torch.Tensor(soft_input_test) # transform to torch tensor\n",
    "    test_y = torch.Tensor(codewords_test)\n",
    "    test_dataset = torch.utils.data.TensorDataset(test_X, test_y) # create your datset\n",
    "    test_loader = torch.utils.data.DataLoader(test_dataset, batch_size=10000, shuffle=True) # create your dataloader\n",
    "    return training_loader, test_loader"
   ]
  },
  {
   "cell_type": "code",
   "execution_count": 8,
   "metadata": {},
   "outputs": [],
   "source": [
    "decoder = Decoder(num_iterations=5).to(device)\n",
    "opt = torch.optim.Adam(decoder.parameters(), lr=0.0025)\n",
    "# opt = torch.optim.SGD(decoder.parameters(), lr=0.01)\n",
    "criterion = torch.nn.CrossEntropyLoss()\n",
    "# criterion = torch.nn.MSELoss()"
   ]
  },
  {
   "cell_type": "code",
   "execution_count": 9,
   "metadata": {
    "scrolled": true,
    "tags": []
   },
   "outputs": [],
   "source": [
    "test_size = 100000\n",
    "req_err = 500*n\n",
    "SNRs = np.arange(-10,9)"
   ]
  },
  {
   "cell_type": "code",
   "execution_count": 10,
   "metadata": {
    "tags": []
   },
   "outputs": [
    {
     "name": "stdout",
     "output_type": "stream",
     "text": [
      "SNR: -10, 7277.227%, test BER: 0.3638613224029541                \n",
      "\n",
      "SNR: -9, 6974.760%, test BER: 0.34873801469802856                \n",
      "\n",
      "SNR: -8, 6631.707%, test BER: 0.3315853476524353                \n",
      "\n",
      "SNR: -7, 6266.720%, test BER: 0.31333601474761963                \n",
      "\n",
      "SNR: -6, 5842.854%, test BER: 0.2921426594257355                \n",
      "\n",
      "SNR: -5, 5384.440%, test BER: 0.2692219913005829                \n",
      "\n",
      "SNR: -4, 4903.947%, test BER: 0.2451973259449005                \n",
      "\n",
      "SNR: -3, 4336.493%, test BER: 0.21682466566562653                \n",
      "\n",
      "SNR: -2, 3724.373%, test BER: 0.18621866405010223                \n",
      "\n",
      "SNR: -1, 3030.613%, test BER: 0.1515306681394577                \n",
      "\n",
      "SNR: 0, 2311.733%, test BER: 0.11558666825294495                \n",
      "\n",
      "SNR: 1, 1604.720%, test BER: 0.08023600280284882                \n",
      "\n",
      "SNR: 2, 970.587%, test BER: 0.048529334366321564                \n",
      "\n",
      "SNR: 3, 496.573%, test BER: 0.02482866682112217                \n",
      "\n",
      "SNR: 4, 213.867%, test BER: 0.010693333111703396                \n",
      "\n",
      "SNR: 5, 146.133%, test BER: 0.0036533332895487547                \n",
      "\n",
      "SNR: 6, 119.587%, test BER: 0.000996555550955236                \n",
      "\n",
      "SNR: 7, 103.480%, test BER: 0.00019162963144481182                \n",
      "\n",
      "SNR: 8, 100.867%, test BER: 2.8493408535723574e-05                \n",
      "\n"
     ]
    }
   ],
   "source": [
    "# hard decisions, classic min-sum\n",
    "ms = min_sum(num_iterations=5).to(device)\n",
    "\n",
    "bit_errors_hard = torch.zeros(len(SNRs)).to(device)\n",
    "nb_bits_hard = torch.zeros(len(SNRs)).to(device)\n",
    "bit_errors_min_sum = torch.zeros(len(SNRs)).to(device)\n",
    "nb_bits_min_sum = torch.zeros(len(SNRs)).to(device)\n",
    "for i, snr in enumerate(SNRs):\n",
    "            while bit_errors_min_sum[i] < req_err:\n",
    "                messages = torch.randint(0, 2, (test_size, k))\n",
    "                codewords = messages @ G % 2\n",
    "                codewords = codewords.to(device)\n",
    "                BPSK_codewords = (0.5 - codewords) * 2\n",
    "                sigma = torch.sqrt(torch.tensor(1) / (2 * (k/n) * 10**(snr/10)))\n",
    "                noise = sigma * torch.randn(test_size, n).to(device)\n",
    "                soft_input = BPSK_codewords + noise\n",
    "                bit_errors_hard[i] += torch.count_nonzero((-(torch.sign(soft_input) - 1)/2) != codewords)\n",
    "                bit_errors_min_sum[i] += torch.count_nonzero(torch.heaviside(ms(soft_input) - 0.5, torch.tensor([0.]).to(device)) != codewords)\n",
    "                nb_bits_hard[i] += test_size * n\n",
    "                nb_bits_min_sum[i] += test_size * n\n",
    "                print(f'SNR: {snr}, {100*bit_errors_min_sum[i]/req_err :.3f}%, test BER: {bit_errors_min_sum[i] / nb_bits_min_sum[i]}                ', end='\\r')\n",
    "            print('\\n')"
   ]
  },
  {
   "cell_type": "code",
   "execution_count": 11,
   "metadata": {},
   "outputs": [],
   "source": [
    "class weightConstraint(object):\n",
    "    def __init__(self):\n",
    "        pass\n",
    "    \n",
    "    def __call__(self,module):\n",
    "        if hasattr(module,'weight'):\n",
    "            print(\"Entered\")\n",
    "            W_cv=module.W_cv\n",
    "            W_cv = torch.clamp(W_cv, min=0)\n",
    "            module.W_cv=W_cv\n",
    "            B_cv=module.B_cv\n",
    "            B_cv = torch.clamp(W_cv, min=0)\n",
    "            module.B_cv=B_cv\n",
    "            W_vc=module.W_vc\n",
    "            W_vc = torch.clamp(W_vc, min=0)\n",
    "            module.W_vc=W_vc"
   ]
  },
  {
   "cell_type": "code",
   "execution_count": 12,
   "metadata": {},
   "outputs": [],
   "source": [
    "constraints=weightConstraint()"
   ]
  },
  {
   "cell_type": "code",
   "execution_count": null,
   "metadata": {
    "scrolled": true,
    "tags": []
   },
   "outputs": [
    {
     "name": "stdout",
     "output_type": "stream",
     "text": [
      "TRAINING ITERATION #1/100\n"
     ]
    },
    {
     "name": "stderr",
     "output_type": "stream",
     "text": [
      " 20%|████████████████████████                                                                                                | 1/5 [00:00<00:02,  1.47it/s]"
     ]
    },
    {
     "name": "stdout",
     "output_type": "stream",
     "text": [
      "[Epoch 1] train loss: 17.822; train acc: 14.50; test loss: 17.837; test acc: 14.50\n"
     ]
    },
    {
     "name": "stderr",
     "output_type": "stream",
     "text": [
      " 40%|████████████████████████████████████████████████                                                                        | 2/5 [00:01<00:01,  1.55it/s]"
     ]
    },
    {
     "name": "stdout",
     "output_type": "stream",
     "text": [
      "[Epoch 2] train loss: 17.822; train acc: 14.50; test loss: 17.836; test acc: 14.50\n"
     ]
    },
    {
     "name": "stderr",
     "output_type": "stream",
     "text": [
      " 60%|████████████████████████████████████████████████████████████████████████                                                | 3/5 [00:01<00:01,  1.52it/s]"
     ]
    },
    {
     "name": "stdout",
     "output_type": "stream",
     "text": [
      "[Epoch 3] train loss: 17.821; train acc: 14.50; test loss: 17.835; test acc: 14.51\n"
     ]
    },
    {
     "name": "stderr",
     "output_type": "stream",
     "text": [
      " 80%|████████████████████████████████████████████████████████████████████████████████████████████████                        | 4/5 [00:02<00:00,  1.52it/s]"
     ]
    },
    {
     "name": "stdout",
     "output_type": "stream",
     "text": [
      "[Epoch 4] train loss: 17.820; train acc: 14.51; test loss: 17.834; test acc: 14.51\n"
     ]
    },
    {
     "name": "stderr",
     "output_type": "stream",
     "text": [
      "100%|████████████████████████████████████████████████████████████████████████████████████████████████████████████████████████| 5/5 [00:03<00:00,  1.51it/s]\n"
     ]
    },
    {
     "name": "stdout",
     "output_type": "stream",
     "text": [
      "[Epoch 5] train loss: 17.819; train acc: 14.51; test loss: 17.833; test acc: 14.51\n",
      "TRAINING ITERATION #2/100\n"
     ]
    },
    {
     "name": "stderr",
     "output_type": "stream",
     "text": [
      " 20%|████████████████████████                                                                                                | 1/5 [00:00<00:02,  1.68it/s]"
     ]
    },
    {
     "name": "stdout",
     "output_type": "stream",
     "text": [
      "[Epoch 1] train loss: 17.961; train acc: 14.51; test loss: 17.867; test acc: 14.51\n"
     ]
    },
    {
     "name": "stderr",
     "output_type": "stream",
     "text": [
      " 40%|████████████████████████████████████████████████                                                                        | 2/5 [00:01<00:01,  1.56it/s]"
     ]
    },
    {
     "name": "stdout",
     "output_type": "stream",
     "text": [
      "[Epoch 2] train loss: 17.960; train acc: 14.51; test loss: 17.866; test acc: 14.51\n"
     ]
    },
    {
     "name": "stderr",
     "output_type": "stream",
     "text": [
      " 60%|████████████████████████████████████████████████████████████████████████                                                | 3/5 [00:01<00:01,  1.53it/s]"
     ]
    },
    {
     "name": "stdout",
     "output_type": "stream",
     "text": [
      "[Epoch 3] train loss: 17.959; train acc: 14.51; test loss: 17.865; test acc: 14.52\n"
     ]
    },
    {
     "name": "stderr",
     "output_type": "stream",
     "text": [
      " 80%|████████████████████████████████████████████████████████████████████████████████████████████████                        | 4/5 [00:02<00:00,  1.51it/s]"
     ]
    },
    {
     "name": "stdout",
     "output_type": "stream",
     "text": [
      "[Epoch 4] train loss: 17.958; train acc: 14.51; test loss: 17.864; test acc: 14.52\n"
     ]
    },
    {
     "name": "stderr",
     "output_type": "stream",
     "text": [
      "100%|████████████████████████████████████████████████████████████████████████████████████████████████████████████████████████| 5/5 [00:03<00:00,  1.55it/s]"
     ]
    },
    {
     "name": "stdout",
     "output_type": "stream",
     "text": [
      "[Epoch 5] train loss: 17.957; train acc: 14.52; test loss: 17.863; test acc: 14.52\n",
      "SNR: -10, 7041.507%, test BER: 0.35207533836364746                \n",
      "\n"
     ]
    },
    {
     "name": "stderr",
     "output_type": "stream",
     "text": [
      "\n"
     ]
    },
    {
     "name": "stdout",
     "output_type": "stream",
     "text": [
      "SNR: -9, 6677.240%, test BER: 0.3338620066642761                \n",
      "\n",
      "SNR: -8, 6319.760%, test BER: 0.3159880042076111                \n",
      "\n",
      "SNR: -7, 5892.360%, test BER: 0.29461801052093506                \n",
      "\n",
      "SNR: -6, 5443.293%, test BER: 0.2721646726131439                \n",
      "\n",
      "SNR: -5, 4967.867%, test BER: 0.24839332699775696                \n",
      "\n",
      "SNR: -4, 4460.240%, test BER: 0.22301200032234192                \n",
      "\n",
      "SNR: -3, 3916.693%, test BER: 0.1958346664905548                \n",
      "\n",
      "SNR: -2, 3356.640%, test BER: 0.16783200204372406                \n",
      "\n",
      "SNR: -1, 2789.320%, test BER: 0.13946600258350372                \n",
      "\n",
      "SNR: 0, 2224.547%, test BER: 0.11122733354568481                \n",
      "\n",
      "SNR: 1, 1693.893%, test BER: 0.08469466865062714                \n",
      "\n",
      "SNR: 2, 1209.213%, test BER: 0.06046066805720329                \n",
      "\n",
      "SNR: 3, 812.320%, test BER: 0.0406159982085228                \n",
      "\n",
      "SNR: 4, 484.373%, test BER: 0.024218667298555374                \n",
      "\n",
      "SNR: 5, 260.360%, test BER: 0.013017999939620495                \n",
      "\n",
      "SNR: 6, 122.173%, test BER: 0.006108666770160198                \n",
      "\n",
      "SNR: 7, 146.787%, test BER: 0.002446444472298026                \n",
      "\n",
      "SNR: 8, 115.480%, test BER: 0.00082485715392977                 \n",
      "\n",
      "TRAINING ITERATION #3/100\n"
     ]
    },
    {
     "name": "stderr",
     "output_type": "stream",
     "text": [
      " 20%|████████████████████████                                                                                                | 1/5 [00:00<00:02,  1.51it/s]"
     ]
    },
    {
     "name": "stdout",
     "output_type": "stream",
     "text": [
      "[Epoch 1] train loss: 17.850; train acc: 14.52; test loss: 17.841; test acc: 14.52\n"
     ]
    },
    {
     "name": "stderr",
     "output_type": "stream",
     "text": [
      " 40%|████████████████████████████████████████████████                                                                        | 2/5 [00:01<00:01,  1.51it/s]"
     ]
    },
    {
     "name": "stdout",
     "output_type": "stream",
     "text": [
      "[Epoch 2] train loss: 17.848; train acc: 14.53; test loss: 17.840; test acc: 14.52\n"
     ]
    },
    {
     "name": "stderr",
     "output_type": "stream",
     "text": [
      " 60%|████████████████████████████████████████████████████████████████████████                                                | 3/5 [00:01<00:01,  1.51it/s]"
     ]
    },
    {
     "name": "stdout",
     "output_type": "stream",
     "text": [
      "[Epoch 3] train loss: 17.847; train acc: 14.53; test loss: 17.839; test acc: 14.52\n"
     ]
    },
    {
     "name": "stderr",
     "output_type": "stream",
     "text": [
      " 80%|████████████████████████████████████████████████████████████████████████████████████████████████                        | 4/5 [00:02<00:00,  1.56it/s]"
     ]
    },
    {
     "name": "stdout",
     "output_type": "stream",
     "text": [
      "[Epoch 4] train loss: 17.846; train acc: 14.53; test loss: 17.838; test acc: 14.52\n"
     ]
    },
    {
     "name": "stderr",
     "output_type": "stream",
     "text": [
      "100%|████████████████████████████████████████████████████████████████████████████████████████████████████████████████████████| 5/5 [00:03<00:00,  1.53it/s]\n"
     ]
    },
    {
     "name": "stdout",
     "output_type": "stream",
     "text": [
      "[Epoch 5] train loss: 17.846; train acc: 14.53; test loss: 17.837; test acc: 14.53\n",
      "TRAINING ITERATION #4/100\n"
     ]
    },
    {
     "name": "stderr",
     "output_type": "stream",
     "text": [
      " 20%|████████████████████████                                                                                                | 1/5 [00:00<00:02,  1.50it/s]"
     ]
    },
    {
     "name": "stdout",
     "output_type": "stream",
     "text": [
      "[Epoch 1] train loss: 17.891; train acc: 14.53; test loss: 17.912; test acc: 14.53\n"
     ]
    },
    {
     "name": "stderr",
     "output_type": "stream",
     "text": [
      " 40%|████████████████████████████████████████████████                                                                        | 2/5 [00:01<00:02,  1.49it/s]"
     ]
    },
    {
     "name": "stdout",
     "output_type": "stream",
     "text": [
      "[Epoch 2] train loss: 17.891; train acc: 14.53; test loss: 17.912; test acc: 14.53\n"
     ]
    },
    {
     "name": "stderr",
     "output_type": "stream",
     "text": [
      " 60%|████████████████████████████████████████████████████████████████████████                                                | 3/5 [00:01<00:01,  1.58it/s]"
     ]
    },
    {
     "name": "stdout",
     "output_type": "stream",
     "text": [
      "[Epoch 3] train loss: 17.890; train acc: 14.53; test loss: 17.911; test acc: 14.53\n"
     ]
    },
    {
     "name": "stderr",
     "output_type": "stream",
     "text": [
      " 80%|████████████████████████████████████████████████████████████████████████████████████████████████                        | 4/5 [00:02<00:00,  1.54it/s]"
     ]
    },
    {
     "name": "stdout",
     "output_type": "stream",
     "text": [
      "[Epoch 4] train loss: 17.890; train acc: 14.53; test loss: 17.911; test acc: 14.53\n"
     ]
    },
    {
     "name": "stderr",
     "output_type": "stream",
     "text": [
      "100%|████████████████████████████████████████████████████████████████████████████████████████████████████████████████████████| 5/5 [00:03<00:00,  1.52it/s]"
     ]
    },
    {
     "name": "stdout",
     "output_type": "stream",
     "text": [
      "[Epoch 5] train loss: 17.889; train acc: 14.53; test loss: 17.910; test acc: 14.53\n",
      "SNR: -10, 7027.693%, test BER: 0.3513846695423126                \n",
      "\n"
     ]
    },
    {
     "name": "stderr",
     "output_type": "stream",
     "text": [
      "\n"
     ]
    },
    {
     "name": "stdout",
     "output_type": "stream",
     "text": [
      "SNR: -9, 6683.493%, test BER: 0.33417466282844543                \n",
      "\n",
      "SNR: -8, 6311.387%, test BER: 0.31556934118270874                \n",
      "\n",
      "SNR: -7, 5896.493%, test BER: 0.29482465982437134                \n",
      "\n",
      "SNR: -6, 5454.520%, test BER: 0.27272599935531616                \n",
      "\n",
      "SNR: -5, 4968.000%, test BER: 0.2484000027179718                \n",
      "\n",
      "SNR: -4, 4454.307%, test BER: 0.2227153331041336                \n",
      "\n",
      "SNR: -3, 3913.693%, test BER: 0.19568467140197754                \n",
      "\n",
      "SNR: -2, 3356.040%, test BER: 0.16780200600624084                \n",
      "\n",
      "SNR: -1, 2774.773%, test BER: 0.13873866200447083                \n",
      "\n",
      "SNR: 0, 2219.360%, test BER: 0.11096800118684769                \n",
      "\n",
      "SNR: 1, 1677.293%, test BER: 0.08386466652154922                \n",
      "\n",
      "SNR: 2, 1196.733%, test BER: 0.05983666703104973                \n",
      "\n",
      "SNR: 3, 778.347%, test BER: 0.038917332887649536                \n",
      "\n",
      "SNR: 4, 461.107%, test BER: 0.023055333644151688                \n",
      "\n",
      "SNR: 5, 240.560%, test BER: 0.012028000317513943                \n",
      "\n",
      "SNR: 6, 109.453%, test BER: 0.005472666583955288                \n",
      "\n",
      "SNR: 7, 128.440%, test BER: 0.002140666591003537                \n",
      "\n",
      "SNR: 8, 108.267%, test BER: 0.0006766666774637997                \n",
      "\n",
      "TRAINING ITERATION #5/100\n"
     ]
    },
    {
     "name": "stderr",
     "output_type": "stream",
     "text": [
      " 20%|████████████████████████                                                                                                | 1/5 [00:00<00:02,  1.50it/s]"
     ]
    },
    {
     "name": "stdout",
     "output_type": "stream",
     "text": [
      "[Epoch 1] train loss: 17.801; train acc: 14.54; test loss: 17.798; test acc: 14.54\n"
     ]
    },
    {
     "name": "stderr",
     "output_type": "stream",
     "text": [
      " 40%|████████████████████████████████████████████████                                                                        | 2/5 [00:01<00:01,  1.51it/s]"
     ]
    },
    {
     "name": "stdout",
     "output_type": "stream",
     "text": [
      "[Epoch 2] train loss: 17.800; train acc: 14.54; test loss: 17.798; test acc: 14.54\n"
     ]
    },
    {
     "name": "stderr",
     "output_type": "stream",
     "text": [
      " 60%|████████████████████████████████████████████████████████████████████████                                                | 3/5 [00:01<00:01,  1.58it/s]"
     ]
    },
    {
     "name": "stdout",
     "output_type": "stream",
     "text": [
      "[Epoch 3] train loss: 17.799; train acc: 14.54; test loss: 17.797; test acc: 14.54\n"
     ]
    },
    {
     "name": "stderr",
     "output_type": "stream",
     "text": [
      " 80%|████████████████████████████████████████████████████████████████████████████████████████████████                        | 4/5 [00:02<00:00,  1.55it/s]"
     ]
    },
    {
     "name": "stdout",
     "output_type": "stream",
     "text": [
      "[Epoch 4] train loss: 17.798; train acc: 14.54; test loss: 17.797; test acc: 14.54\n"
     ]
    },
    {
     "name": "stderr",
     "output_type": "stream",
     "text": [
      "100%|████████████████████████████████████████████████████████████████████████████████████████████████████████████████████████| 5/5 [00:03<00:00,  1.53it/s]\n"
     ]
    },
    {
     "name": "stdout",
     "output_type": "stream",
     "text": [
      "[Epoch 5] train loss: 17.798; train acc: 14.54; test loss: 17.796; test acc: 14.54\n",
      "TRAINING ITERATION #6/100\n"
     ]
    },
    {
     "name": "stderr",
     "output_type": "stream",
     "text": [
      " 20%|████████████████████████                                                                                                | 1/5 [00:00<00:02,  1.51it/s]"
     ]
    },
    {
     "name": "stdout",
     "output_type": "stream",
     "text": [
      "[Epoch 1] train loss: 17.913; train acc: 14.54; test loss: 17.853; test acc: 14.54\n"
     ]
    },
    {
     "name": "stderr",
     "output_type": "stream",
     "text": [
      " 40%|████████████████████████████████████████████████                                                                        | 2/5 [00:01<00:01,  1.61it/s]"
     ]
    },
    {
     "name": "stdout",
     "output_type": "stream",
     "text": [
      "[Epoch 2] train loss: 17.913; train acc: 14.54; test loss: 17.853; test acc: 14.54\n"
     ]
    },
    {
     "name": "stderr",
     "output_type": "stream",
     "text": [
      " 60%|████████████████████████████████████████████████████████████████████████                                                | 3/5 [00:01<00:01,  1.55it/s]"
     ]
    },
    {
     "name": "stdout",
     "output_type": "stream",
     "text": [
      "[Epoch 3] train loss: 17.912; train acc: 14.54; test loss: 17.852; test acc: 14.54\n"
     ]
    },
    {
     "name": "stderr",
     "output_type": "stream",
     "text": [
      " 80%|████████████████████████████████████████████████████████████████████████████████████████████████                        | 4/5 [00:02<00:00,  1.52it/s]"
     ]
    },
    {
     "name": "stdout",
     "output_type": "stream",
     "text": [
      "[Epoch 4] train loss: 17.912; train acc: 14.54; test loss: 17.852; test acc: 14.54\n"
     ]
    },
    {
     "name": "stderr",
     "output_type": "stream",
     "text": [
      "100%|████████████████████████████████████████████████████████████████████████████████████████████████████████████████████████| 5/5 [00:03<00:00,  1.52it/s]"
     ]
    },
    {
     "name": "stdout",
     "output_type": "stream",
     "text": [
      "[Epoch 5] train loss: 17.911; train acc: 14.55; test loss: 17.852; test acc: 14.54\n",
      "SNR: -10, 7045.013%, test BER: 0.3522506654262543                \n",
      "\n"
     ]
    },
    {
     "name": "stderr",
     "output_type": "stream",
     "text": [
      "\n"
     ]
    },
    {
     "name": "stdout",
     "output_type": "stream",
     "text": [
      "SNR: -9, 6679.440%, test BER: 0.3339720070362091                \n",
      "\n",
      "SNR: -8, 6320.787%, test BER: 0.3160393238067627                \n",
      "\n",
      "SNR: -7, 5885.347%, test BER: 0.29426732659339905                \n",
      "\n",
      "SNR: -6, 5458.587%, test BER: 0.2729293406009674                \n",
      "\n",
      "SNR: -5, 4972.707%, test BER: 0.24863533675670624                \n",
      "\n",
      "SNR: -4, 4470.533%, test BER: 0.22352667152881622                \n",
      "\n",
      "SNR: -3, 3926.333%, test BER: 0.196316659450531                \n",
      "\n",
      "SNR: -2, 3345.413%, test BER: 0.16727066040039062                \n",
      "\n",
      "SNR: -1, 2787.960%, test BER: 0.139397993683815                \n",
      "\n",
      "SNR: 0, 2200.427%, test BER: 0.11002133041620255                \n",
      "\n",
      "SNR: 1, 1664.747%, test BER: 0.08323733508586884                \n",
      "\n",
      "SNR: 2, 1168.267%, test BER: 0.05841333419084549                \n",
      "\n",
      "SNR: 3, 754.360%, test BER: 0.03771800175309181                \n",
      "\n",
      "SNR: 4, 441.627%, test BER: 0.02208133414387703                \n",
      "\n",
      "SNR: 5, 227.120%, test BER: 0.011355999857187271                \n",
      "\n",
      "SNR: 6, 199.400%, test BER: 0.004985000006854534                \n",
      "\n",
      "SNR: 7, 113.080%, test BER: 0.0018846666207537055                \n",
      "\n",
      "SNR: 8, 104.720%, test BER: 0.0005817777710035443                \n",
      "\n",
      "TRAINING ITERATION #7/100\n"
     ]
    },
    {
     "name": "stderr",
     "output_type": "stream",
     "text": [
      " 20%|████████████████████████                                                                                                | 1/5 [00:00<00:02,  1.71it/s]"
     ]
    },
    {
     "name": "stdout",
     "output_type": "stream",
     "text": [
      "[Epoch 1] train loss: 17.887; train acc: 14.55; test loss: 17.875; test acc: 14.53\n"
     ]
    },
    {
     "name": "stderr",
     "output_type": "stream",
     "text": [
      " 40%|████████████████████████████████████████████████                                                                        | 2/5 [00:01<00:01,  1.58it/s]"
     ]
    },
    {
     "name": "stdout",
     "output_type": "stream",
     "text": [
      "[Epoch 2] train loss: 17.887; train acc: 14.55; test loss: 17.875; test acc: 14.53\n"
     ]
    },
    {
     "name": "stderr",
     "output_type": "stream",
     "text": [
      " 60%|████████████████████████████████████████████████████████████████████████                                                | 3/5 [00:01<00:01,  1.53it/s]"
     ]
    },
    {
     "name": "stdout",
     "output_type": "stream",
     "text": [
      "[Epoch 3] train loss: 17.886; train acc: 14.55; test loss: 17.875; test acc: 14.53\n"
     ]
    },
    {
     "name": "stderr",
     "output_type": "stream",
     "text": [
      " 80%|████████████████████████████████████████████████████████████████████████████████████████████████                        | 4/5 [00:02<00:00,  1.51it/s]"
     ]
    },
    {
     "name": "stdout",
     "output_type": "stream",
     "text": [
      "[Epoch 4] train loss: 17.886; train acc: 14.56; test loss: 17.875; test acc: 14.53\n"
     ]
    },
    {
     "name": "stderr",
     "output_type": "stream",
     "text": [
      "100%|████████████████████████████████████████████████████████████████████████████████████████████████████████████████████████| 5/5 [00:03<00:00,  1.53it/s]\n"
     ]
    },
    {
     "name": "stdout",
     "output_type": "stream",
     "text": [
      "[Epoch 5] train loss: 17.886; train acc: 14.56; test loss: 17.875; test acc: 14.53\n",
      "TRAINING ITERATION #8/100\n"
     ]
    },
    {
     "name": "stderr",
     "output_type": "stream",
     "text": [
      " 20%|████████████████████████                                                                                                | 1/5 [00:00<00:02,  1.69it/s]"
     ]
    },
    {
     "name": "stdout",
     "output_type": "stream",
     "text": [
      "[Epoch 1] train loss: 17.844; train acc: 14.54; test loss: 17.934; test acc: 14.54\n"
     ]
    },
    {
     "name": "stderr",
     "output_type": "stream",
     "text": [
      " 40%|████████████████████████████████████████████████                                                                        | 2/5 [00:01<00:01,  1.57it/s]"
     ]
    },
    {
     "name": "stdout",
     "output_type": "stream",
     "text": [
      "[Epoch 2] train loss: 17.844; train acc: 14.54; test loss: 17.934; test acc: 14.54\n"
     ]
    },
    {
     "name": "stderr",
     "output_type": "stream",
     "text": [
      " 60%|████████████████████████████████████████████████████████████████████████                                                | 3/5 [00:01<00:01,  1.54it/s]"
     ]
    },
    {
     "name": "stdout",
     "output_type": "stream",
     "text": [
      "[Epoch 3] train loss: 17.843; train acc: 14.54; test loss: 17.933; test acc: 14.55\n"
     ]
    },
    {
     "name": "stderr",
     "output_type": "stream",
     "text": [
      " 80%|████████████████████████████████████████████████████████████████████████████████████████████████                        | 4/5 [00:02<00:00,  1.52it/s]"
     ]
    },
    {
     "name": "stdout",
     "output_type": "stream",
     "text": [
      "[Epoch 4] train loss: 17.843; train acc: 14.54; test loss: 17.933; test acc: 14.55\n"
     ]
    },
    {
     "name": "stderr",
     "output_type": "stream",
     "text": [
      "100%|████████████████████████████████████████████████████████████████████████████████████████████████████████████████████████| 5/5 [00:03<00:00,  1.56it/s]"
     ]
    },
    {
     "name": "stdout",
     "output_type": "stream",
     "text": [
      "[Epoch 5] train loss: 17.842; train acc: 14.54; test loss: 17.933; test acc: 14.55\n",
      "SNR: -10, 7030.733%, test BER: 0.35153666138648987                \n",
      "\n"
     ]
    },
    {
     "name": "stderr",
     "output_type": "stream",
     "text": [
      "\n"
     ]
    },
    {
     "name": "stdout",
     "output_type": "stream",
     "text": [
      "SNR: -9, 6702.480%, test BER: 0.3351239860057831                \n",
      "\n",
      "SNR: -8, 6321.854%, test BER: 0.31609266996383667                \n",
      "\n",
      "SNR: -7, 5920.293%, test BER: 0.296014666557312                \n",
      "\n",
      "SNR: -6, 5448.333%, test BER: 0.2724166810512543                \n",
      "\n",
      "SNR: -5, 4986.920%, test BER: 0.24934600293636322                \n",
      "\n",
      "SNR: -4, 4458.973%, test BER: 0.22294867038726807                \n",
      "\n",
      "SNR: -3, 3922.387%, test BER: 0.19611933827400208                \n",
      "\n",
      "SNR: -2, 3357.373%, test BER: 0.16786867380142212                \n",
      "\n",
      "SNR: -1, 2772.680%, test BER: 0.13863399624824524                \n",
      "\n",
      "SNR: 0, 2191.187%, test BER: 0.10955933481454849                \n",
      "\n",
      "SNR: 1, 1643.560%, test BER: 0.08217799663543701                \n",
      "\n",
      "SNR: 2, 1148.013%, test BER: 0.0574006661772728                \n",
      "\n",
      "SNR: 3, 724.333%, test BER: 0.03621666505932808                \n",
      "\n",
      "SNR: 4, 412.160%, test BER: 0.020608000457286835                \n",
      "\n",
      "SNR: 5, 204.987%, test BER: 0.010249333456158638                \n",
      "\n",
      "SNR: 6, 180.067%, test BER: 0.004501666873693466                \n",
      "\n",
      "SNR: 7, 128.293%, test BER: 0.0016036666929721832                \n",
      "\n",
      "SNR: 8, 103.360%, test BER: 0.00046981818741187453                \n",
      "\n",
      "TRAINING ITERATION #9/100\n"
     ]
    },
    {
     "name": "stderr",
     "output_type": "stream",
     "text": [
      " 20%|████████████████████████                                                                                                | 1/5 [00:00<00:02,  1.51it/s]"
     ]
    },
    {
     "name": "stdout",
     "output_type": "stream",
     "text": [
      "[Epoch 1] train loss: 17.900; train acc: 14.55; test loss: 17.826; test acc: 14.54\n"
     ]
    },
    {
     "name": "stderr",
     "output_type": "stream",
     "text": [
      " 40%|████████████████████████████████████████████████                                                                        | 2/5 [00:01<00:02,  1.50it/s]"
     ]
    },
    {
     "name": "stdout",
     "output_type": "stream",
     "text": [
      "[Epoch 2] train loss: 17.899; train acc: 14.55; test loss: 17.826; test acc: 14.54\n"
     ]
    },
    {
     "name": "stderr",
     "output_type": "stream",
     "text": [
      " 60%|████████████████████████████████████████████████████████████████████████                                                | 3/5 [00:02<00:01,  1.49it/s]"
     ]
    },
    {
     "name": "stdout",
     "output_type": "stream",
     "text": [
      "[Epoch 3] train loss: 17.899; train acc: 14.55; test loss: 17.826; test acc: 14.54\n"
     ]
    },
    {
     "name": "stderr",
     "output_type": "stream",
     "text": [
      " 80%|████████████████████████████████████████████████████████████████████████████████████████████████                        | 4/5 [00:02<00:00,  1.56it/s]"
     ]
    },
    {
     "name": "stdout",
     "output_type": "stream",
     "text": [
      "[Epoch 4] train loss: 17.899; train acc: 14.56; test loss: 17.825; test acc: 14.54\n"
     ]
    },
    {
     "name": "stderr",
     "output_type": "stream",
     "text": [
      "100%|████████████████████████████████████████████████████████████████████████████████████████████████████████████████████████| 5/5 [00:03<00:00,  1.52it/s]\n"
     ]
    },
    {
     "name": "stdout",
     "output_type": "stream",
     "text": [
      "[Epoch 5] train loss: 17.898; train acc: 14.56; test loss: 17.825; test acc: 14.54\n",
      "TRAINING ITERATION #10/100\n"
     ]
    },
    {
     "name": "stderr",
     "output_type": "stream",
     "text": [
      " 20%|████████████████████████                                                                                                | 1/5 [00:00<00:02,  1.51it/s]"
     ]
    },
    {
     "name": "stdout",
     "output_type": "stream",
     "text": [
      "[Epoch 1] train loss: 17.881; train acc: 14.55; test loss: 17.896; test acc: 14.54\n"
     ]
    },
    {
     "name": "stderr",
     "output_type": "stream",
     "text": [
      " 40%|████████████████████████████████████████████████                                                                        | 2/5 [00:01<00:01,  1.50it/s]"
     ]
    },
    {
     "name": "stdout",
     "output_type": "stream",
     "text": [
      "[Epoch 2] train loss: 17.881; train acc: 14.55; test loss: 17.896; test acc: 14.54\n"
     ]
    },
    {
     "name": "stderr",
     "output_type": "stream",
     "text": [
      " 60%|████████████████████████████████████████████████████████████████████████                                                | 3/5 [00:01<00:01,  1.58it/s]"
     ]
    },
    {
     "name": "stdout",
     "output_type": "stream",
     "text": [
      "[Epoch 3] train loss: 17.880; train acc: 14.55; test loss: 17.895; test acc: 14.54\n"
     ]
    },
    {
     "name": "stderr",
     "output_type": "stream",
     "text": [
      " 80%|████████████████████████████████████████████████████████████████████████████████████████████████                        | 4/5 [00:02<00:00,  1.55it/s]"
     ]
    },
    {
     "name": "stdout",
     "output_type": "stream",
     "text": [
      "[Epoch 4] train loss: 17.880; train acc: 14.55; test loss: 17.895; test acc: 14.54\n"
     ]
    },
    {
     "name": "stderr",
     "output_type": "stream",
     "text": [
      "100%|████████████████████████████████████████████████████████████████████████████████████████████████████████████████████████| 5/5 [00:03<00:00,  1.53it/s]"
     ]
    },
    {
     "name": "stdout",
     "output_type": "stream",
     "text": [
      "[Epoch 5] train loss: 17.880; train acc: 14.55; test loss: 17.895; test acc: 14.54\n",
      "SNR: -10, 7046.293%, test BER: 0.35231468081474304                \n",
      "\n"
     ]
    },
    {
     "name": "stderr",
     "output_type": "stream",
     "text": [
      "\n"
     ]
    },
    {
     "name": "stdout",
     "output_type": "stream",
     "text": [
      "SNR: -9, 6699.974%, test BER: 0.3349986672401428                \n",
      "\n",
      "SNR: -8, 6313.107%, test BER: 0.31565532088279724                \n",
      "\n",
      "SNR: -7, 5916.253%, test BER: 0.2958126664161682                \n",
      "\n",
      "SNR: -6, 5465.693%, test BER: 0.2732846736907959                \n",
      "\n",
      "SNR: -5, 4996.080%, test BER: 0.24980400502681732                \n",
      "\n",
      "SNR: -4, 4481.787%, test BER: 0.2240893393754959                \n",
      "\n",
      "SNR: -3, 3935.053%, test BER: 0.196752667427063                \n",
      "\n",
      "SNR: -2, 3364.987%, test BER: 0.16824933886528015                \n",
      "\n",
      "SNR: -1, 2780.027%, test BER: 0.13900133967399597                \n",
      "\n",
      "SNR: 0, 2192.253%, test BER: 0.10961266607046127                \n",
      "\n",
      "SNR: 1, 1635.933%, test BER: 0.08179666846990585                \n",
      "\n",
      "SNR: 2, 1132.827%, test BER: 0.05664133280515671                \n",
      "\n",
      "SNR: 3, 710.200%, test BER: 0.035509999841451645                \n",
      "\n",
      "SNR: 4, 398.147%, test BER: 0.019907332956790924                \n",
      "\n",
      "SNR: 5, 193.280%, test BER: 0.009664000011980534                \n",
      "\n",
      "SNR: 6, 159.613%, test BER: 0.003990333527326584                \n",
      "\n",
      "SNR: 7, 109.467%, test BER: 0.0013683333527296782                \n",
      "\n",
      "SNR: 8, 103.480%, test BER: 0.0003980000037699938                \n",
      "\n",
      "TRAINING ITERATION #11/100\n"
     ]
    },
    {
     "name": "stderr",
     "output_type": "stream",
     "text": [
      " 20%|████████████████████████                                                                                                | 1/5 [00:00<00:02,  1.50it/s]"
     ]
    },
    {
     "name": "stdout",
     "output_type": "stream",
     "text": [
      "[Epoch 1] train loss: 17.836; train acc: 14.55; test loss: 17.892; test acc: 14.54\n"
     ]
    },
    {
     "name": "stderr",
     "output_type": "stream",
     "text": [
      " 40%|████████████████████████████████████████████████                                                                        | 2/5 [00:01<00:01,  1.50it/s]"
     ]
    },
    {
     "name": "stdout",
     "output_type": "stream",
     "text": [
      "[Epoch 2] train loss: 17.835; train acc: 14.55; test loss: 17.892; test acc: 14.54\n"
     ]
    },
    {
     "name": "stderr",
     "output_type": "stream",
     "text": [
      " 60%|████████████████████████████████████████████████████████████████████████                                                | 3/5 [00:01<00:01,  1.59it/s]"
     ]
    },
    {
     "name": "stdout",
     "output_type": "stream",
     "text": [
      "[Epoch 3] train loss: 17.835; train acc: 14.55; test loss: 17.892; test acc: 14.54\n"
     ]
    },
    {
     "name": "stderr",
     "output_type": "stream",
     "text": [
      " 80%|████████████████████████████████████████████████████████████████████████████████████████████████                        | 4/5 [00:02<00:00,  1.55it/s]"
     ]
    },
    {
     "name": "stdout",
     "output_type": "stream",
     "text": [
      "[Epoch 4] train loss: 17.835; train acc: 14.55; test loss: 17.892; test acc: 14.54\n"
     ]
    },
    {
     "name": "stderr",
     "output_type": "stream",
     "text": [
      "100%|████████████████████████████████████████████████████████████████████████████████████████████████████████████████████████| 5/5 [00:03<00:00,  1.53it/s]\n"
     ]
    },
    {
     "name": "stdout",
     "output_type": "stream",
     "text": [
      "[Epoch 5] train loss: 17.835; train acc: 14.55; test loss: 17.892; test acc: 14.54\n",
      "TRAINING ITERATION #12/100\n"
     ]
    },
    {
     "name": "stderr",
     "output_type": "stream",
     "text": [
      " 20%|████████████████████████                                                                                                | 1/5 [00:00<00:02,  1.55it/s]"
     ]
    },
    {
     "name": "stdout",
     "output_type": "stream",
     "text": [
      "[Epoch 1] train loss: 17.925; train acc: 14.54; test loss: 17.880; test acc: 14.53\n"
     ]
    },
    {
     "name": "stderr",
     "output_type": "stream",
     "text": [
      " 40%|████████████████████████████████████████████████                                                                        | 2/5 [00:01<00:01,  1.63it/s]"
     ]
    },
    {
     "name": "stdout",
     "output_type": "stream",
     "text": [
      "[Epoch 2] train loss: 17.924; train acc: 14.54; test loss: 17.880; test acc: 14.53\n"
     ]
    },
    {
     "name": "stderr",
     "output_type": "stream",
     "text": [
      " 60%|████████████████████████████████████████████████████████████████████████                                                | 3/5 [00:01<00:01,  1.56it/s]"
     ]
    },
    {
     "name": "stdout",
     "output_type": "stream",
     "text": [
      "[Epoch 3] train loss: 17.924; train acc: 14.54; test loss: 17.880; test acc: 14.53\n"
     ]
    },
    {
     "name": "stderr",
     "output_type": "stream",
     "text": [
      " 80%|████████████████████████████████████████████████████████████████████████████████████████████████                        | 4/5 [00:02<00:00,  1.54it/s]"
     ]
    },
    {
     "name": "stdout",
     "output_type": "stream",
     "text": [
      "[Epoch 4] train loss: 17.924; train acc: 14.54; test loss: 17.880; test acc: 14.53\n"
     ]
    },
    {
     "name": "stderr",
     "output_type": "stream",
     "text": [
      "100%|████████████████████████████████████████████████████████████████████████████████████████████████████████████████████████| 5/5 [00:03<00:00,  1.54it/s]"
     ]
    },
    {
     "name": "stdout",
     "output_type": "stream",
     "text": [
      "[Epoch 5] train loss: 17.924; train acc: 14.55; test loss: 17.879; test acc: 14.53\n",
      "SNR: -10, 7039.414%, test BER: 0.3519706726074219                \n",
      "\n"
     ]
    },
    {
     "name": "stderr",
     "output_type": "stream",
     "text": [
      "\n"
     ]
    },
    {
     "name": "stdout",
     "output_type": "stream",
     "text": [
      "SNR: -9, 6699.173%, test BER: 0.33495867252349854                \n",
      "\n",
      "SNR: -8, 6325.120%, test BER: 0.31625598669052124                \n",
      "\n",
      "SNR: -7, 5909.374%, test BER: 0.29546865820884705                \n",
      "\n",
      "SNR: -6, 5476.653%, test BER: 0.27383267879486084                \n",
      "\n",
      "SNR: -5, 4997.707%, test BER: 0.24988533556461334                \n",
      "\n",
      "SNR: -4, 4498.000%, test BER: 0.2249000072479248                \n",
      "\n",
      "SNR: -3, 3952.920%, test BER: 0.19764600694179535                \n",
      "\n",
      "SNR: -2, 3367.533%, test BER: 0.16837666928768158                \n",
      "\n",
      "SNR: -1, 2783.493%, test BER: 0.1391746699810028                \n",
      "\n",
      "SNR: 0, 2192.253%, test BER: 0.10961266607046127                \n",
      "\n",
      "SNR: 1, 1641.400%, test BER: 0.0820700004696846                \n",
      "\n",
      "SNR: 2, 1116.867%, test BER: 0.05584333464503288                \n",
      "\n",
      "SNR: 3, 700.840%, test BER: 0.03504199907183647                \n",
      "\n",
      "SNR: 4, 383.787%, test BER: 0.01918933354318142                \n",
      "\n",
      "SNR: 5, 180.200%, test BER: 0.00901000015437603                \n",
      "\n",
      "SNR: 6, 147.627%, test BER: 0.003690666751936078                \n",
      "\n",
      "SNR: 7, 122.453%, test BER: 0.001224533305503428                \n",
      "\n",
      "SNR: 8, 106.773%, test BER: 0.00033366665593348444                \n",
      "\n",
      "TRAINING ITERATION #13/100\n"
     ]
    },
    {
     "name": "stderr",
     "output_type": "stream",
     "text": [
      " 20%|████████████████████████                                                                                                | 1/5 [00:00<00:02,  1.50it/s]"
     ]
    },
    {
     "name": "stdout",
     "output_type": "stream",
     "text": [
      "[Epoch 1] train loss: 17.809; train acc: 14.54; test loss: 17.830; test acc: 14.55\n"
     ]
    },
    {
     "name": "stderr",
     "output_type": "stream",
     "text": [
      " 40%|████████████████████████████████████████████████                                                                        | 2/5 [00:01<00:01,  1.61it/s]"
     ]
    },
    {
     "name": "stdout",
     "output_type": "stream",
     "text": [
      "[Epoch 2] train loss: 17.809; train acc: 14.54; test loss: 17.830; test acc: 14.55\n"
     ]
    },
    {
     "name": "stderr",
     "output_type": "stream",
     "text": [
      " 60%|████████████████████████████████████████████████████████████████████████                                                | 3/5 [00:01<00:01,  1.56it/s]"
     ]
    },
    {
     "name": "stdout",
     "output_type": "stream",
     "text": [
      "[Epoch 3] train loss: 17.809; train acc: 14.54; test loss: 17.830; test acc: 14.55\n"
     ]
    },
    {
     "name": "stderr",
     "output_type": "stream",
     "text": [
      " 80%|████████████████████████████████████████████████████████████████████████████████████████████████                        | 4/5 [00:02<00:00,  1.54it/s]"
     ]
    },
    {
     "name": "stdout",
     "output_type": "stream",
     "text": [
      "[Epoch 4] train loss: 17.809; train acc: 14.54; test loss: 17.830; test acc: 14.55\n"
     ]
    },
    {
     "name": "stderr",
     "output_type": "stream",
     "text": [
      "100%|████████████████████████████████████████████████████████████████████████████████████████████████████████████████████████| 5/5 [00:03<00:00,  1.54it/s]\n"
     ]
    },
    {
     "name": "stdout",
     "output_type": "stream",
     "text": [
      "[Epoch 5] train loss: 17.809; train acc: 14.54; test loss: 17.829; test acc: 14.55\n",
      "TRAINING ITERATION #14/100\n"
     ]
    },
    {
     "name": "stderr",
     "output_type": "stream",
     "text": [
      " 20%|████████████████████████                                                                                                | 1/5 [00:00<00:02,  1.70it/s]"
     ]
    },
    {
     "name": "stdout",
     "output_type": "stream",
     "text": [
      "[Epoch 1] train loss: 17.841; train acc: 14.55; test loss: 17.864; test acc: 14.55\n"
     ]
    },
    {
     "name": "stderr",
     "output_type": "stream",
     "text": [
      " 40%|████████████████████████████████████████████████                                                                        | 2/5 [00:01<00:01,  1.58it/s]"
     ]
    },
    {
     "name": "stdout",
     "output_type": "stream",
     "text": [
      "[Epoch 2] train loss: 17.841; train acc: 14.55; test loss: 17.863; test acc: 14.55\n"
     ]
    },
    {
     "name": "stderr",
     "output_type": "stream",
     "text": [
      " 60%|████████████████████████████████████████████████████████████████████████                                                | 3/5 [00:01<00:01,  1.54it/s]"
     ]
    },
    {
     "name": "stdout",
     "output_type": "stream",
     "text": [
      "[Epoch 3] train loss: 17.840; train acc: 14.55; test loss: 17.863; test acc: 14.55\n"
     ]
    },
    {
     "name": "stderr",
     "output_type": "stream",
     "text": [
      " 80%|████████████████████████████████████████████████████████████████████████████████████████████████                        | 4/5 [00:02<00:00,  1.53it/s]"
     ]
    },
    {
     "name": "stdout",
     "output_type": "stream",
     "text": [
      "[Epoch 4] train loss: 17.840; train acc: 14.55; test loss: 17.863; test acc: 14.55\n"
     ]
    },
    {
     "name": "stderr",
     "output_type": "stream",
     "text": [
      "100%|████████████████████████████████████████████████████████████████████████████████████████████████████████████████████████| 5/5 [00:03<00:00,  1.58it/s]"
     ]
    },
    {
     "name": "stdout",
     "output_type": "stream",
     "text": [
      "[Epoch 5] train loss: 17.840; train acc: 14.55; test loss: 17.863; test acc: 14.55\n",
      "SNR: -10, 7056.067%, test BER: 0.3528033196926117                \n",
      "\n"
     ]
    },
    {
     "name": "stderr",
     "output_type": "stream",
     "text": [
      "\n"
     ]
    },
    {
     "name": "stdout",
     "output_type": "stream",
     "text": [
      "SNR: -9, 6713.560%, test BER: 0.33567801117897034                \n",
      "\n",
      "SNR: -8, 6341.414%, test BER: 0.3170706629753113                \n",
      "\n",
      "SNR: -7, 5924.160%, test BER: 0.296207994222641                \n",
      "\n",
      "SNR: -6, 5476.867%, test BER: 0.27384334802627563                \n",
      "\n",
      "SNR: -5, 5001.173%, test BER: 0.25005868077278137                \n",
      "\n",
      "SNR: -4, 4501.307%, test BER: 0.22506533563137054                \n",
      "\n",
      "SNR: -3, 3948.947%, test BER: 0.19744732975959778                \n",
      "\n",
      "SNR: -2, 3371.440%, test BER: 0.16857199370861053                \n",
      "\n",
      "SNR: -1, 2794.640%, test BER: 0.1397320032119751                \n",
      "\n",
      "SNR: 0, 2194.493%, test BER: 0.10972466319799423                \n",
      "\n",
      "SNR: 1, 1624.827%, test BER: 0.08124133199453354                \n",
      "\n",
      "SNR: 2, 1104.653%, test BER: 0.05523266643285751                \n",
      "\n",
      "SNR: 3, 677.533%, test BER: 0.03387666493654251                \n",
      "\n",
      "SNR: 4, 365.000%, test BER: 0.0182499997317791                \n",
      "\n",
      "SNR: 5, 172.493%, test BER: 0.00862466637045145                \n",
      "\n",
      "SNR: 6, 131.853%, test BER: 0.0032963333651423454                \n",
      "\n",
      "SNR: 7, 108.000%, test BER: 0.00107999995816499                 \n",
      "\n",
      "SNR: 8, 32.627%, test BER: 0.0002718888863455504                 \r"
     ]
    }
   ],
   "source": [
    "train_size = 20000\n",
    "n_upd = 100\n",
    "bit_errors_nn = torch.zeros((n_upd, len(SNRs))).to(device)\n",
    "nb_bits_nn = torch.zeros((n_upd, len(SNRs))).to(device)\n",
    "\n",
    "\n",
    "for upd in range(n_upd):\n",
    "    print(f'TRAINING ITERATION #{upd+1}/{n_upd}')\n",
    "    training_loader, test_loader = update_loaders()\n",
    "    train(training_loader, test_loader, decoder, criterion, opt, n_epochs=5)\n",
    "\n",
    "    if (np.mod(upd+1,2)==0):\n",
    "        decoder.eval()\n",
    "        for i, snr in enumerate(SNRs):\n",
    "            while bit_errors_nn[upd][i] < req_err:\n",
    "                messages = torch.randint(0, 2, (test_size, k))\n",
    "                codewords = messages @ G % 2\n",
    "                codewords = codewords.to(device)\n",
    "                BPSK_codewords = (0.5 - codewords) * 2\n",
    "                sigma = torch.sqrt(torch.tensor(1) / (2 * (np.float(k)/np.float(n)) * 10**(snr/10)))\n",
    "                noise = sigma * torch.randn(test_size, n).to(device)\n",
    "                soft_input = BPSK_codewords + noise\n",
    "                bit_errors_nn[upd][i] += torch.count_nonzero(torch.heaviside(decoder(soft_input) - 0.5, torch.tensor([0.]).to(device)) != codewords)\n",
    "                nb_bits_nn[upd][i] += test_size * n\n",
    "                print(f'SNR: {snr}, {100*bit_errors_nn[upd][i]/req_err :.3f}%, test BER: {bit_errors_nn[upd][i] / nb_bits_nn[upd][i]}                ', end='\\r')\n",
    "            print('\\n')\n",
    "            np.savetxt('ber.txt', bit_errors_nn[:,-1].cpu() / nb_bits_nn[:,-1].cpu())"
   ]
  },
  {
   "cell_type": "code",
   "execution_count": null,
   "metadata": {},
   "outputs": [],
   "source": [
    "plt.figure(figsize=(16,10))\n",
    "plt.semilogy(SNRs, bit_errors_min_sum.cpu() / nb_bits_min_sum.cpu(), label='Classical Min-sum')\n",
    "plt.semilogy(SNRs, bit_errors_hard.cpu() / nb_bits_hard.cpu(), label='hard decision')\n",
    "# for i in range(10):\n",
    "plt.semilogy(SNRs, bit_errors_nn[77].cpu() / nb_bits_nn[77].cpu(), label=f'NN')\n",
    "plt.legend()\n",
    "plt.show()"
   ]
  },
  {
   "cell_type": "code",
   "execution_count": null,
   "metadata": {},
   "outputs": [],
   "source": [
    "decoder(soft_input)[0] - 0.5"
   ]
  },
  {
   "cell_type": "code",
   "execution_count": null,
   "metadata": {},
   "outputs": [],
   "source": [
    "codewords[0]"
   ]
  },
  {
   "cell_type": "code",
   "execution_count": null,
   "metadata": {},
   "outputs": [],
   "source": [
    "decoder.W_cv"
   ]
  },
  {
   "cell_type": "code",
   "execution_count": null,
   "metadata": {},
   "outputs": [],
   "source": [
    "decoder.B_cv"
   ]
  },
  {
   "cell_type": "code",
   "execution_count": null,
   "metadata": {},
   "outputs": [],
   "source": []
  }
 ],
 "metadata": {
  "interpreter": {
   "hash": "40d3a090f54c6569ab1632332b64b2c03c39dcf918b08424e98f38b5ae0af88f"
  },
  "kernelspec": {
   "display_name": "Python 3 (ipykernel)",
   "language": "python",
   "name": "python3"
  },
  "language_info": {
   "codemirror_mode": {
    "name": "ipython",
    "version": 3
   },
   "file_extension": ".py",
   "mimetype": "text/x-python",
   "name": "python",
   "nbconvert_exporter": "python",
   "pygments_lexer": "ipython3",
   "version": "3.9.10"
  }
 },
 "nbformat": 4,
 "nbformat_minor": 4
}
