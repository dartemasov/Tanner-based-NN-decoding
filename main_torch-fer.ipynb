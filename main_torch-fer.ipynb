{
 "cells": [
  {
   "cell_type": "code",
   "execution_count": 1,
   "metadata": {},
   "outputs": [],
   "source": [
    "import numpy as np\n",
    "import pyldpc as ldpc\n",
    "from tqdm import tqdm, trange\n",
    "import matplotlib.pyplot as plt\n",
    "import sys\n",
    "from utils_f import load_code\n",
    "import os\n",
    "import torch\n",
    "device = torch.device('cuda' if torch.cuda.is_available() else 'cpu')"
   ]
  },
  {
   "cell_type": "code",
   "execution_count": 2,
   "metadata": {},
   "outputs": [],
   "source": [
    "device='cuda:1'"
   ]
  },
  {
   "cell_type": "code",
   "execution_count": 3,
   "metadata": {},
   "outputs": [],
   "source": [
    "H_filename = './source/BCH_15_11.alist'\n",
    "code = load_code(H_filename)\n",
    "H = code.H\n",
    "G = code.G\n",
    "var_degrees = code.var_degrees\n",
    "chk_degrees = code.chk_degrees\n",
    "num_edges = code.num_edges\n",
    "u = code.u\n",
    "d = code.d\n",
    "n = code.n\n",
    "m = code.m\n",
    "k = code.k"
   ]
  },
  {
   "cell_type": "code",
   "execution_count": 4,
   "metadata": {
    "jupyter": {
     "source_hidden": true
    },
    "tags": []
   },
   "outputs": [],
   "source": [
    "class min_sum(torch.nn.Module):\n",
    "    def __init__(self, num_iterations = 5):\n",
    "        super(min_sum, self).__init__()\n",
    "        self.W_cv = torch.ones((num_iterations, num_edges))\n",
    "        # self.W_cv = torch.nn.Parameter(torch.abs(torch.ones((num_iterations, num_edges))))\n",
    "        # self.W_cv.requires_grad = True\n",
    "        self.B_cv = torch.zeros((num_iterations, num_edges))\n",
    "        # self.B_cv = torch.nn.Parameter(torch.abs(torch.zeros((num_iterations, num_edges))))\n",
    "        # self.B_cv.requires_grad = True\n",
    "        self.W_vc = torch.ones((num_iterations, num_edges))\n",
    "        # self.W_vc = torch.nn.Parameter(torch.abs(torch.ones((num_iterations, num_edges))))\n",
    "        # self.W_vc.requires_grad = True\n",
    "        \n",
    "        self.num_iterations = num_iterations\n",
    "        \n",
    "    def forward(self, soft_input):\n",
    "        soft_input = soft_input.T           # TODO! Fix matrix dimensions inside functions\n",
    "        # print(soft_input.shape)\n",
    "        cv = torch.zeros((num_edges, soft_input.shape[1]))\n",
    "        for iteration in range(0, self.num_iterations):\n",
    "            vc = self.compute_vc(cv, soft_input, iteration)\n",
    "            cv = self.compute_cv(vc, iteration)\n",
    "            soft_input = self.marginalize(soft_input, cv)\n",
    "        output = torch.sigmoid(-soft_input)\n",
    "        output = output.T\n",
    "        \n",
    "        # self.W_cv = torch.nn.Parameter(torch.abs(self.W_cv))\n",
    "        # self.B_cv =torch.nn.Parameter(torch.abs(self.B_cv))\n",
    "        # self.W_vc = torch.nn.Parameter(torch.abs(self.W_vc))\n",
    "        # output = soft_input\n",
    "        return output\n",
    "\n",
    "        \n",
    "    def compute_vc(self, cv, soft_input, iteration):\n",
    "        edges = []\n",
    "        for i in range(0, n):\n",
    "            for j in range(0, var_degrees[i]):\n",
    "                edges.append(i)\n",
    "        # print(soft_input.shape, len(edges), edges)\n",
    "        reordered_soft_input = torch.index_select(soft_input, 0, torch.tensor(edges).to(device))\n",
    "\n",
    "        vc = torch.zeros((num_edges, cv.shape[1])).to(device)\n",
    "        counter = 0\n",
    "        edge_order = []\n",
    "\n",
    "        for i in range(0, n): # for each variable node v\n",
    "            for j in range(0, var_degrees[i]):\n",
    "                edge_order.append(d[i][j])\n",
    "                extrinsic_edges = []\n",
    "                for jj in range(0, var_degrees[i]):\n",
    "                    if jj != j: # extrinsic information only\n",
    "                        extrinsic_edges.append(d[i][jj])\n",
    "                # if the list of edges is not empty, add them up\n",
    "                if extrinsic_edges:\n",
    "                    # print(cv.shape, len(extrinsic_edges), extrinsic_edges)\n",
    "                    temp = torch.index_select(cv.to(device), 0, torch.tensor(extrinsic_edges).to(device))\n",
    "                    temp = torch.sum(temp, 0)\n",
    "                else:\n",
    "                    temp = torch.zeros(cv.shape[1])\n",
    "\n",
    "                temp = temp.to(device)\n",
    "                vc[counter] = temp\n",
    "        \n",
    "        new_order = np.zeros(num_edges).astype(int)\n",
    "        new_order[edge_order] = np.arange(0, num_edges)\n",
    "        vc = torch.index_select(vc, 0, torch.tensor(new_order).to(device))\n",
    "        vc += reordered_soft_input * torch.tile(torch.reshape(self.W_vc[iteration], (-1,1)), (1, cv.shape[1])).to(device)       # add soft inputs of the previous iterations!\n",
    "        return vc \n",
    "\n",
    "    def compute_cv(self, vc, iteration):\n",
    "        cv_list = []\n",
    "        prod_list = []\n",
    "        min_list = []\n",
    "        edge_order = []\n",
    "        for i in range(0, m): # for each check node c\n",
    "            for j in range(0, chk_degrees[i]):\n",
    "                edge_order.append(u[i][j])\n",
    "                extrinsic_edges = []\n",
    "                for jj in range(0, chk_degrees[i]):\n",
    "                    if jj != j:\n",
    "                        extrinsic_edges.append(u[i][jj])\n",
    "                temp = torch.index_select(vc.to(device),0,torch.tensor(extrinsic_edges).to(device))\n",
    "                temp1 = torch.prod(torch.sign(temp),0)\n",
    "                temp2 = torch.min(torch.abs(temp),0)[0]\n",
    "                prod_list.append(temp1)\n",
    "                min_list.append(temp2)\n",
    "        prods = torch.stack(prod_list)\n",
    "        mins = torch.stack(min_list)\n",
    "        mins = torch.relu(mins - torch.tile(torch.reshape(self.B_cv[iteration], (-1,1)), (1, vc.shape[1])).to(device))\n",
    "        cv = prods * mins\n",
    "        new_order = np.zeros(num_edges).astype(int)\n",
    "        new_order[edge_order] = np.array(range(0,num_edges)).astype(int)\n",
    "        cv = torch.index_select(cv, 0, torch.tensor(new_order).to(device))\n",
    "        cv = cv * torch.tile(torch.reshape(self.W_cv[iteration], (-1,1)), (1, vc.shape[1])).to(device)\n",
    "        return cv\n",
    "\n",
    "    # combine messages to get posterior LLRs\n",
    "    def marginalize(self, soft_input, cv):\n",
    "        weighted_soft_input = soft_input\n",
    "        soft_output = []\n",
    "        for i in range(0,n):\n",
    "            edges = []\n",
    "            for e in range(0,var_degrees[i]):\n",
    "                edges.append(d[i][e])\n",
    "            temp = torch.index_select(cv,0,torch.tensor(edges).to(device))\n",
    "            temp = torch.sum(temp, 0)\n",
    "            soft_output.append(temp)\n",
    "        soft_output = torch.stack(soft_output)\n",
    "        soft_output = weighted_soft_input + soft_output\n",
    "        return soft_output"
   ]
  },
  {
   "cell_type": "code",
   "execution_count": 5,
   "metadata": {},
   "outputs": [],
   "source": [
    "class Decoder(torch.nn.Module):\n",
    "    def __init__(self, num_iterations = 5):\n",
    "        super(Decoder, self).__init__()\n",
    "        # self.W_cv = torch.ones((num_iterations, num_edges))\n",
    "        self.W_cv = torch.nn.Parameter(torch.abs(torch.randn((num_iterations, num_edges))))\n",
    "        self.W_cv.requires_grad = True\n",
    "        # self.B_cv = torch.zeros((num_iterations, num_edges))\n",
    "        self.B_cv = torch.nn.Parameter(torch.abs(torch.randn((num_iterations, num_edges))))\n",
    "        self.B_cv.requires_grad = True\n",
    "        # self.W_vc = torch.ones((num_iterations, num_edges))\n",
    "        self.W_vc = torch.nn.Parameter(torch.abs(torch.randn((num_iterations, num_edges))))\n",
    "        self.W_vc.requires_grad = True\n",
    "        \n",
    "        self.num_iterations = num_iterations\n",
    "        \n",
    "    def forward(self, soft_input):\n",
    "        soft_input = soft_input.T           # TODO! Fix matrix dimensions inside functions\n",
    "        # print(soft_input.shape)\n",
    "        cv = torch.zeros((num_edges, soft_input.shape[1]))\n",
    "        for iteration in range(0, self.num_iterations):\n",
    "            vc = self.compute_vc(cv, soft_input, iteration)\n",
    "            cv = self.compute_cv(vc, iteration)\n",
    "            soft_input = self.marginalize(soft_input, cv)\n",
    "        output = torch.sigmoid(-soft_input)\n",
    "        output = output.T\n",
    "        \n",
    "        # self.W_cv = torch.nn.Parameter(torch.abs(self.W_cv))\n",
    "        # self.B_cv =torch.nn.Parameter(torch.abs(self.B_cv))\n",
    "        # self.W_vc = torch.nn.Parameter(torch.abs(self.W_vc))\n",
    "        \n",
    "        # output = soft_input\n",
    "        return output\n",
    "\n",
    "        \n",
    "    def compute_vc(self, cv, soft_input, iteration):\n",
    "        edges = []\n",
    "        for i in range(0, n):\n",
    "            for j in range(0, var_degrees[i]):\n",
    "                edges.append(i)\n",
    "        # print(soft_input.shape, len(edges), edges)\n",
    "        reordered_soft_input = torch.index_select(soft_input, 0, torch.tensor(edges).to(device))\n",
    "\n",
    "        vc = torch.zeros((num_edges, cv.shape[1])).to(device)\n",
    "        counter = 0\n",
    "        edge_order = []\n",
    "\n",
    "        for i in range(0, n): # for each variable node v\n",
    "            for j in range(0, var_degrees[i]):\n",
    "                edge_order.append(d[i][j])\n",
    "                extrinsic_edges = []\n",
    "                for jj in range(0, var_degrees[i]):\n",
    "                    if jj != j: # extrinsic information only\n",
    "                        extrinsic_edges.append(d[i][jj])\n",
    "                # if the list of edges is not empty, add them up\n",
    "                if extrinsic_edges:\n",
    "                    # print(cv.shape, len(extrinsic_edges), extrinsic_edges)\n",
    "                    temp = torch.index_select(cv.to(device), 0, torch.tensor(extrinsic_edges).to(device))\n",
    "                    temp = torch.sum(temp, 0)\n",
    "                else:\n",
    "                    temp = torch.zeros(cv.shape[1])\n",
    "\n",
    "                temp = temp.to(device)\n",
    "                vc[counter] = temp\n",
    "        \n",
    "        new_order = np.zeros(num_edges).astype(int)\n",
    "        new_order[edge_order] = np.arange(0, num_edges)\n",
    "        vc = torch.index_select(vc, 0, torch.tensor(new_order).to(device))\n",
    "        vc += reordered_soft_input * torch.tile(torch.reshape(self.W_vc[iteration], (-1,1)), (1, cv.shape[1]))       # add soft inputs of the previous iterations!\n",
    "        return vc \n",
    "\n",
    "    def compute_cv(self, vc, iteration):\n",
    "        cv_list = []\n",
    "        prod_list = []\n",
    "        min_list = []\n",
    "        edge_order = []\n",
    "        for i in range(0, m): # for each check node c\n",
    "            for j in range(0, chk_degrees[i]):\n",
    "                edge_order.append(u[i][j])\n",
    "                extrinsic_edges = []\n",
    "                for jj in range(0, chk_degrees[i]):\n",
    "                    if jj != j:\n",
    "                        extrinsic_edges.append(u[i][jj])\n",
    "                temp = torch.index_select(vc.to(device),0,torch.tensor(extrinsic_edges).to(device))\n",
    "                temp1 = torch.prod(torch.sign(temp),0)\n",
    "                temp2 = torch.min(torch.abs(temp),0)[0]\n",
    "                prod_list.append(temp1)\n",
    "                min_list.append(temp2)\n",
    "        prods = torch.stack(prod_list)\n",
    "        mins = torch.stack(min_list)\n",
    "        mins = torch.relu(mins - torch.tile(torch.reshape(self.B_cv[iteration], (-1,1)), (1, vc.shape[1])))\n",
    "        cv = prods * mins\n",
    "        new_order = np.zeros(num_edges).astype(int)\n",
    "        new_order[edge_order] = np.array(range(0,num_edges)).astype(int)\n",
    "        cv = torch.index_select(cv, 0, torch.tensor(new_order).to(device))\n",
    "        cv = cv * torch.tile(torch.reshape(self.W_cv[iteration], (-1,1)), (1, vc.shape[1]))\n",
    "        return cv\n",
    "\n",
    "    # combine messages to get posterior LLRs\n",
    "    def marginalize(self, soft_input, cv):\n",
    "        weighted_soft_input = soft_input\n",
    "        soft_output = []\n",
    "        for i in range(0,n):\n",
    "            edges = []\n",
    "            for e in range(0,var_degrees[i]):\n",
    "                edges.append(d[i][e])\n",
    "            temp = torch.index_select(cv,0,torch.tensor(edges).to(device))\n",
    "            temp = torch.sum(temp, 0)\n",
    "            soft_output.append(temp)\n",
    "        soft_output = torch.stack(soft_output)\n",
    "        soft_output = weighted_soft_input + soft_output\n",
    "        return soft_output"
   ]
  },
  {
   "cell_type": "code",
   "execution_count": 6,
   "metadata": {},
   "outputs": [],
   "source": [
    "def epoch_train(loader, clf, criterion, opt):\n",
    "    clf.train(True)\n",
    "    avg_loss = 0\n",
    "    avg_acc = 0\n",
    "    correct = 0\n",
    "    # load batch\n",
    "    for model_input, target in loader:\n",
    "        # move data to device\n",
    "        model_input = model_input.to(device)\n",
    "        target = target.to(device)\n",
    "        # calculate outputs, loss and accuracy\n",
    "        model_output = clf(model_input)\n",
    "        loss = criterion(model_output, target)\n",
    "        # print(model_input[0], model_output[0])\n",
    "        avg_loss += loss\n",
    "        correct += torch.count_nonzero(torch.heaviside(model_output-0.5, torch.tensor([0.]).to(device)).to(device) == target)\n",
    "        # calculate grad, upd weights\n",
    "        opt.zero_grad()\n",
    "        loss.backward()\n",
    "        opt.step()\n",
    "    avg_loss = avg_loss / len(loader)\n",
    "    avg_acc = correct / len(loader.dataset)\n",
    "    return avg_loss, avg_acc\n",
    "\n",
    "            \n",
    "            \n",
    "                        \n",
    "def epoch_test(loader, clf, criterion):\n",
    "    clf.eval()\n",
    "    avg_loss = 0\n",
    "    avg_acc = 0\n",
    "    correct = 0\n",
    "    # load batch\n",
    "    for model_input, target in loader:\n",
    "        # move data to device\n",
    "        model_input = model_input.to(device)\n",
    "        target = target.to(device)\n",
    "        # calculate outputs, loss and accuracy\n",
    "        model_output = clf(model_input)\n",
    "        loss = criterion(model_output, target)\n",
    "        avg_loss += loss\n",
    "        correct += torch.count_nonzero(torch.heaviside(model_output-0.5, torch.tensor([0.]).to(device)).to(device) == target)\n",
    "    avg_loss = avg_loss / len(loader)\n",
    "    avg_acc = correct / len(loader.dataset)\n",
    "\n",
    "    return avg_loss, avg_acc\n",
    "\n",
    "def train(train_loader, test_loader, clf, criterion, opt, n_epochs=50):\n",
    "    for epoch in trange(n_epochs):\n",
    "        train_loss, train_acc = epoch_train(train_loader, clf, criterion, opt)\n",
    "        test_loss, test_acc = epoch_test(test_loader, clf, criterion)\n",
    "        # clf.apply(constraints)\n",
    "\n",
    "        # clf.W_cv = torch.nn.Parameter(torch.relu(clf.W_cv))\n",
    "        # clf.B_cv = torch.nn.Parameter(torch.relu(clf.B_cv))\n",
    "        # clf.W_vc = torch.nn.Parameter(torch.relu(clf.W_vc))\n",
    "        # print(clf.W_cv[0])\n",
    "\n",
    "\n",
    "        if (np.mod(epoch+1,1)==0):\n",
    "            print(f'[Epoch {epoch + 1}] train loss: {train_loss:.3f}; train acc: {train_acc:.2f}; ' + \n",
    "                  f'test loss: {test_loss:.3f}; test acc: {test_acc:.2f}')"
   ]
  },
  {
   "cell_type": "markdown",
   "metadata": {
    "tags": []
   },
   "source": [
    "## Create dataloader"
   ]
  },
  {
   "cell_type": "code",
   "execution_count": 7,
   "metadata": {},
   "outputs": [],
   "source": [
    "def gen():\n",
    "    messages = np.random.randint(0,2,[train_size,k])\n",
    "    codewords = messages @ G % 2\n",
    "    BPSK_codewords = (0.5 - codewords.astype(np.float32)) * 2.0\n",
    "    soft_input = np.zeros_like(BPSK_codewords)\n",
    "    SNRs = np.arange(1,6)\n",
    "    for i in range(0,len(SNRs)):\n",
    "        sigma = np.sqrt(1. / (2 * (np.float(k)/np.float(n)) * 10**(SNRs[i]/10)))\n",
    "        noise = sigma * np.random.randn(train_size//len(SNRs),n)\n",
    "        start_idx = train_size*i//len(SNRs)\n",
    "        end_idx = train_size*(i+1)//len(SNRs)\n",
    "        soft_input[start_idx:end_idx,:] = BPSK_codewords[start_idx:end_idx,:] + noise\n",
    "        soft_input = 2 * soft_input / (sigma**2)\n",
    "    return soft_input, codewords\n",
    "    \n",
    "def update_loaders():\n",
    "\n",
    "\n",
    "    soft_input_train, codewords_train = gen()\n",
    "    train_X = torch.Tensor(soft_input_train) # transform to torch tensor\n",
    "    train_y = torch.Tensor(codewords_train)\n",
    "    training_dataset = torch.utils.data.TensorDataset(train_X, train_y) # create your datset\n",
    "    training_loader = torch.utils.data.DataLoader(training_dataset, batch_size=20000, shuffle=True) # create your dataloader\n",
    "\n",
    "\n",
    "    soft_input_test, codewords_test = gen()\n",
    "    test_X = torch.Tensor(soft_input_test) # transform to torch tensor\n",
    "    test_y = torch.Tensor(codewords_test)\n",
    "    test_dataset = torch.utils.data.TensorDataset(test_X, test_y) # create your datset\n",
    "    test_loader = torch.utils.data.DataLoader(test_dataset, batch_size=20000, shuffle=True) # create your dataloader\n",
    "    return training_loader, test_loader"
   ]
  },
  {
   "cell_type": "code",
   "execution_count": 8,
   "metadata": {},
   "outputs": [],
   "source": [
    "decoder = Decoder(num_iterations=5).to(device)\n",
    "# opt = torch.optim.Adam(decoder.parameters(), lr=0.0025)\n",
    "opt = torch.optim.SGD(decoder.parameters(), lr=0.01)\n",
    "criterion = torch.nn.CrossEntropyLoss()\n",
    "# criterion = torch.nn.MSELoss()"
   ]
  },
  {
   "cell_type": "code",
   "execution_count": 9,
   "metadata": {
    "scrolled": true,
    "tags": []
   },
   "outputs": [],
   "source": [
    "test_size = 100000\n",
    "req_err = 500*n\n",
    "SNRs = np.arange(-10,5)"
   ]
  },
  {
   "cell_type": "code",
   "execution_count": 10,
   "metadata": {
    "tags": []
   },
   "outputs": [
    {
     "name": "stdout",
     "output_type": "stream",
     "text": [
      "SNR: -10, 7288.573%, test BER: 0.36442866921424866, test FER: 0.9857100248336792                \n",
      "\n",
      "SNR: -9, 6972.053%, test BER: 0.34860265254974365, test FER: 0.9797999858856201                \n",
      "\n",
      "SNR: -8, 6624.640%, test BER: 0.3312320113182068, test FER: 0.9714099764823914                \n",
      "\n",
      "SNR: -7, 6254.547%, test BER: 0.31272733211517334, test FER: 0.9591500163078308                \n",
      "\n",
      "SNR: -6, 5848.293%, test BER: 0.29241466522216797, test FER: 0.9405400156974792                \n",
      "\n",
      "SNR: -5, 5399.693%, test BER: 0.2699846625328064, test FER: 0.9138200283050537                \n",
      "\n",
      "SNR: -4, 4885.093%, test BER: 0.24425466358661652, test FER: 0.8700799942016602                \n",
      "\n",
      "SNR: -3, 4333.240%, test BER: 0.21666200459003448, test FER: 0.8113999962806702                \n",
      "\n",
      "SNR: -2, 3716.347%, test BER: 0.18581733107566833, test FER: 0.7289699912071228                \n",
      "\n",
      "SNR: -1, 3032.067%, test BER: 0.1516033262014389, test FER: 0.6205400228500366                \n",
      "\n",
      "SNR: 0, 2289.067%, test BER: 0.11445333063602448, test FER: 0.48555999994277954                \n",
      "\n",
      "SNR: 1, 1591.920%, test BER: 0.07959599792957306, test FER: 0.3485400080680847                \n",
      "\n",
      "SNR: 2, 968.440%, test BER: 0.04842200130224228, test FER: 0.21717999875545502                \n",
      "\n",
      "SNR: 3, 494.587%, test BER: 0.024729333817958832, test FER: 0.1127299964427948                \n",
      "\n",
      "SNR: 4, 213.640%, test BER: 0.0106819998472929, test FER: 0.04901999980211258                \n",
      "\n"
     ]
    }
   ],
   "source": [
    "# hard decisions, classic min-sum\n",
    "ms = min_sum(num_iterations=5).to(device)\n",
    "\n",
    "frame_errors_hard = torch.zeros(len(SNRs)).to(device)\n",
    "nb_frames_hard = torch.zeros(len(SNRs)).to(device)\n",
    "frame_errors_min_sum = torch.zeros(len(SNRs)).to(device)\n",
    "nb_frames_min_sum = torch.zeros(len(SNRs)).to(device)\n",
    "bit_errors_hard = torch.zeros(len(SNRs)).to(device)\n",
    "nb_bits_hard = torch.zeros(len(SNRs)).to(device)\n",
    "bit_errors_min_sum = torch.zeros(len(SNRs)).to(device)\n",
    "nb_bits_min_sum = torch.zeros(len(SNRs)).to(device)\n",
    "for i, snr in enumerate(SNRs):\n",
    "            while bit_errors_min_sum[i] < req_err:\n",
    "                messages = torch.randint(0, 2, (test_size, k))\n",
    "                codewords = messages @ G % 2\n",
    "                codewords = codewords.to(device)\n",
    "                BPSK_codewords = (0.5 - codewords) * 2\n",
    "                sigma = torch.sqrt(torch.tensor(1) / (2 * (k/n) * 10**(snr/10)))\n",
    "                noise = sigma * torch.randn(test_size, n).to(device)\n",
    "                soft_input = BPSK_codewords + noise\n",
    "\n",
    "                frame_errors_hard[i] += torch.sum(torch.any((-(torch.sign(soft_input[:,n-k:]) - 1)/2) != codewords[:,n-k:], axis=1))\n",
    "                frame_errors_min_sum[i] += torch.sum(torch.any(torch.heaviside(ms(soft_input)[:,n-k:] - 0.5, torch.tensor([0.]).to(device)) != codewords[:,n-k:], axis=1))\n",
    "                bit_errors_hard[i] += torch.count_nonzero((-(torch.sign(soft_input) - 1)/2) != codewords)\n",
    "                bit_errors_min_sum[i] += torch.count_nonzero(torch.heaviside(ms(soft_input) - 0.5, torch.tensor([0.]).to(device)) != codewords)\n",
    "                nb_bits_hard[i] += test_size * n\n",
    "                nb_bits_min_sum[i] += test_size * n\n",
    "                nb_frames_hard[i] += test_size\n",
    "                nb_frames_min_sum[i] += test_size\n",
    "                print(f'SNR: {snr}, {100*bit_errors_min_sum[i]/req_err :.3f}%, test BER: {bit_errors_min_sum[i] / nb_bits_min_sum[i]}, test FER: {frame_errors_min_sum[i] / nb_frames_min_sum[i]}                ', end='\\r')\n",
    "            print('\\n')"
   ]
  },
  {
   "cell_type": "code",
   "execution_count": 11,
   "metadata": {},
   "outputs": [],
   "source": [
    "class weightConstraint(object):\n",
    "    def __init__(self):\n",
    "        pass\n",
    "    \n",
    "    def __call__(self,module):\n",
    "        if hasattr(module,'weight'):\n",
    "            print(\"Entered\")\n",
    "            W_cv=module.W_cv\n",
    "            W_cv = torch.clamp(W_cv, min=0)\n",
    "            module.W_cv=W_cv\n",
    "            B_cv=module.B_cv\n",
    "            B_cv = torch.clamp(W_cv, min=0)\n",
    "            module.B_cv=B_cv\n",
    "            W_vc=module.W_vc\n",
    "            W_vc = torch.clamp(W_vc, min=0)\n",
    "            module.W_vc=W_vc"
   ]
  },
  {
   "cell_type": "code",
   "execution_count": 12,
   "metadata": {},
   "outputs": [],
   "source": [
    "constraints=weightConstraint()"
   ]
  },
  {
   "cell_type": "code",
   "execution_count": null,
   "metadata": {
    "scrolled": true,
    "tags": []
   },
   "outputs": [],
   "source": [
    "train_size = 50000\n",
    "n_upd = 500\n",
    "frame_errors_nn = torch.zeros((n_upd, len(SNRs))).to(device)\n",
    "nb_frames_nn = torch.zeros((n_upd, len(SNRs))).to(device)\n",
    "bit_errors_nn = torch.zeros((n_upd, len(SNRs))).to(device)\n",
    "nb_bits_nn = torch.zeros((n_upd, len(SNRs))).to(device)\n",
    "\n",
    "# ber_list = []\n",
    "fer_list = []\n",
    "\n",
    "for upd in range(n_upd):\n",
    "    print(f'TRAINING ITERATION #{upd+1}/{n_upd}')\n",
    "    training_loader, test_loader = update_loaders()\n",
    "    train(training_loader, test_loader, decoder, criterion, opt, n_epochs=3)\n",
    "\n",
    "    if (np.mod(upd+1,5)==0):\n",
    "        decoder.eval()\n",
    "        for i, snr in enumerate(SNRs):\n",
    "            while bit_errors_nn[upd][i] < req_err:\n",
    "                messages = torch.randint(0, 2, (test_size, k))\n",
    "                codewords = messages @ G % 2\n",
    "                codewords = codewords.to(device)\n",
    "                BPSK_codewords = (0.5 - codewords) * 2\n",
    "                sigma = torch.sqrt(torch.tensor(1) / (2 * (np.float(k)/np.float(n)) * 10**(snr/10)))\n",
    "                noise = sigma * torch.randn(test_size, n).to(device)\n",
    "                soft_input = BPSK_codewords + noise\n",
    "\n",
    "                frame_errors_nn[upd][i] += torch.sum(torch.any(torch.heaviside(decoder(soft_input)[:,n-k:] - 0.5, torch.tensor([0.]).to(device)) != codewords[:,n-k:], axis=1))\n",
    "                bit_errors_nn[upd][i] += torch.count_nonzero(torch.heaviside(decoder(soft_input) - 0.5, torch.tensor([0.]).to(device)) != codewords)\n",
    "                nb_frames_nn[upd][i] += test_size\n",
    "                nb_bits_nn[upd][i] += test_size * n\n",
    "                print(f'SNR: {snr}, {100*bit_errors_nn[upd][i]/req_err }%, test BER: {bit_errors_nn[upd][i] / nb_bits_nn[upd][i]:.5f}, test FER: {frame_errors_nn[upd][i] / nb_frames_nn[upd][i]:.5f}                ', end='\\r')\n",
    "            print('\\n')\n",
    "            \n",
    "        fer_list.append((frame_errors_nn[upd,-1].cpu() / nb_frames_nn[upd,-1].cpu()).numpy())    \n",
    "        np.savetxt('fer.txt', fer_list)"
   ]
  },
  {
   "cell_type": "code",
   "execution_count": 20,
   "metadata": {},
   "outputs": [
    {
     "data": {
      "image/png": "[encoded data removed]",
      "text/plain": [
       "<Figure size 1152x720 with 1 Axes>"
      ]
     },
     "metadata": {
      "needs_background": "light"
     },
     "output_type": "display_data"
    }
   ],
   "source": [
    "plt.figure(figsize=(16,10))\n",
    "plt.semilogy(SNRs, bit_errors_min_sum.cpu() / nb_bits_min_sum.cpu(), label='Classical Min-sum')\n",
    "plt.semilogy(SNRs, bit_errors_hard.cpu() / nb_bits_hard.cpu(), label='hard decision')\n",
    "# for i in range(10):\n",
    "plt.semilogy(SNRs, bit_errors_nn[-1].cpu() / nb_bits_nn[-1].cpu(), label=f'NN')\n",
    "plt.legend()\n",
    "plt.show()"
   ]
  },
  {
   "cell_type": "code",
   "execution_count": 21,
   "metadata": {},
   "outputs": [
    {
     "data": {
      "image/png": "[encoded data removed]",
      "text/plain": [
       "<Figure size 1152x720 with 1 Axes>"
      ]
     },
     "metadata": {
      "needs_background": "light"
     },
     "output_type": "display_data"
    }
   ],
   "source": [
    "plt.figure(figsize=(16,10))\n",
    "plt.semilogy(SNRs, frame_errors_min_sum.cpu() / nb_frames_min_sum.cpu(), label='Classical Min-sum')\n",
    "plt.semilogy(SNRs, frame_errors_hard.cpu() / nb_frames_hard.cpu(), label='hard decision')\n",
    "# for i in range(10):\n",
    "plt.semilogy(SNRs, frame_errors_nn[-1].cpu() / nb_frames_nn[-1].cpu(), label=f'NN')\n",
    "plt.legend()\n",
    "plt.show()"
   ]
  },
  {
   "cell_type": "code",
   "execution_count": 22,
   "metadata": {},
   "outputs": [
    {
     "data": {
      "text/plain": [
       "tensor([ 0.1687,  0.0670, -0.2744, -0.1337,  0.2672,  0.2986,  0.3985,  0.2603,\n",
       "        -0.3639,  0.2559, -0.1473, -0.2106,  0.3271,  0.1532,  0.3012],\n",
       "       device='cuda:1', grad_fn=<SubBackward0>)"
      ]
     },
     "execution_count": 22,
     "metadata": {},
     "output_type": "execute_result"
    }
   ],
   "source": [
    "decoder(soft_input)[0] - 0.5"
   ]
  },
  {
   "cell_type": "code",
   "execution_count": 17,
   "metadata": {},
   "outputs": [
    {
     "data": {
      "text/plain": [
       "tensor([1, 1, 0, 0, 1, 1, 1, 1, 0, 1, 0, 0, 1, 1, 1], device='cuda:1')"
      ]
     },
     "execution_count": 17,
     "metadata": {},
     "output_type": "execute_result"
    }
   ],
   "source": [
    "codewords[0]"
   ]
  },
  {
   "cell_type": "code",
   "execution_count": 18,
   "metadata": {},
   "outputs": [
    {
     "data": {
      "text/plain": [
       "Parameter containing:\n",
       "tensor([[1.4234e-05, 1.1756e+00, 5.9546e-01, 1.0038e+00, 1.5947e+00, 1.1011e-06,\n",
       "         4.0040e-01, 1.2722e+00, 1.8151e+00, 1.7389e-01, 4.4487e-01, 7.8096e-02,\n",
       "         5.4148e-01, 1.0465e+00, 8.9780e-01, 1.1935e+00, 2.0636e-01, 1.6138e+00,\n",
       "         1.2011e+00, 1.7642e+00, 2.2990e+00, 6.7812e-01, 7.5391e-01, 1.5526e-01,\n",
       "         5.4060e-01, 9.4674e-01, 1.6475e+00, 1.2184e-01, 5.3433e-01, 8.1130e-01,\n",
       "         1.7138e+00, 1.2715e+00],\n",
       "        [7.3622e-01, 6.6666e-01, 4.1471e-01, 4.8693e-01, 5.0636e-01, 3.5290e-01,\n",
       "         9.1804e-01, 4.9492e-01, 1.0990e+00, 5.2720e-01, 1.4519e+00, 4.4339e-01,\n",
       "         8.2945e-01, 4.5176e-01, 3.5736e-01, 1.1271e+00, 4.4045e-01, 3.7998e-01,\n",
       "         5.3097e-01, 7.0437e-01, 2.0556e+00, 5.4822e-01, 4.2564e-01, 1.7236e+00,\n",
       "         8.6979e-01, 1.0478e+00, 1.5578e+00, 1.1677e+00, 6.4219e-01, 6.6561e-01,\n",
       "         5.2256e-01, 4.0501e-01],\n",
       "        [2.1011e-01, 1.2836e-01, 1.8296e-01, 2.3499e-01, 1.4856e+00, 1.4617e+00,\n",
       "         5.8581e-01, 7.9998e-03, 1.5493e+00, 1.7909e+00, 1.1536e+00, 9.5043e-01,\n",
       "         1.5783e+00, 1.4540e+00, 9.7311e-01, 2.8759e+00, 5.1334e-01, 5.9508e-01,\n",
       "         1.4220e-01, 2.4530e-01, 1.4300e+00, 7.5912e-01, 8.5936e-01, 1.6756e+00,\n",
       "         2.0761e-01, 3.2356e-01, 1.5347e+00, 1.0170e+00, 2.5225e+00, 2.3282e-01,\n",
       "         7.3691e-01, 1.0452e-01],\n",
       "        [1.4636e-01, 6.9205e-01, 2.1053e-01, 8.9202e-01, 1.0827e+00, 8.6567e-01,\n",
       "         1.2220e+00, 4.4312e-01, 2.8356e-01, 1.0886e+00, 1.3865e+00, 5.3044e-01,\n",
       "         3.7020e-01, 3.0543e-01, 4.2708e-01, 1.6464e+00, 1.3938e-01, 1.1677e+00,\n",
       "         8.9043e-01, 1.8252e-01, 1.1034e+00, 1.0779e+00, 1.1983e+00, 8.7050e-01,\n",
       "         1.4444e+00, 4.6696e-01, 6.0673e-01, 1.2644e+00, 5.9219e-01, 4.1986e-01,\n",
       "         6.2830e-01, 8.8137e-01],\n",
       "        [9.4590e-01, 1.2705e+00, 7.2747e-01, 5.6358e-01, 9.1872e-02, 2.7700e-01,\n",
       "         7.1765e-02, 1.8065e+00, 9.0261e-01, 2.2105e-01, 1.3055e+00, 1.3887e-01,\n",
       "         4.0255e-01, 1.6994e+00, 8.6886e-01, 2.6064e-01, 1.3582e+00, 5.5521e-01,\n",
       "         2.4408e-01, 7.1315e-01, 8.8991e-01, 6.8308e-01, 5.0508e-01, 2.8814e-01,\n",
       "         2.2014e+00, 9.7285e-01, 9.9234e-01, 1.2280e+00, 1.0449e+00, 1.1821e-01,\n",
       "         2.6817e-01, 1.4319e+00]], device='cuda:1', requires_grad=True)"
      ]
     },
     "execution_count": 18,
     "metadata": {},
     "output_type": "execute_result"
    }
   ],
   "source": [
    "decoder.W_vc"
   ]
  },
  {
   "cell_type": "code",
   "execution_count": 19,
   "metadata": {},
   "outputs": [
    {
     "data": {
      "text/plain": [
       "Parameter containing:\n",
       "tensor([[0.7695, 0.0292, 0.6148, 0.4295, 1.9167, 1.1184, 1.2790, 0.5783, 0.0822,\n",
       "         0.3759, 0.1054, 2.0407, 0.4687, 1.0309, 0.0247, 0.5924, 1.6069, 0.7487,\n",
       "         0.3442, 0.0862, 1.6394, 0.0263, 1.3829, 0.3566, 1.1157, 0.3647, 1.2820,\n",
       "         0.0901, 0.8547, 1.1350, 0.5673, 0.0381],\n",
       "        [1.1469, 0.1957, 0.0715, 0.4677, 0.1407, 0.4222, 0.8109, 0.7770, 1.1982,\n",
       "         0.4392, 1.4960, 0.2807, 0.4314, 0.1515, 0.3019, 1.6587, 1.5424, 0.3088,\n",
       "         0.2030, 1.7567, 1.2404, 2.1583, 1.0773, 0.5413, 0.0730, 0.7536, 0.8519,\n",
       "         0.4292, 0.9579, 0.2738, 0.1292, 0.4906],\n",
       "        [0.8637, 0.3036, 1.1030, 0.5077, 1.1506, 0.5193, 0.1799, 0.3363, 1.4930,\n",
       "         0.1597, 1.0060, 0.2414, 0.8114, 0.9973, 0.8874, 0.4875, 0.4463, 0.3082,\n",
       "         0.7520, 0.7720, 0.5902, 1.3876, 2.3986, 0.5131, 0.1662, 0.7433, 2.3712,\n",
       "         1.0596, 0.4249, 0.7075, 0.0126, 0.2077],\n",
       "        [0.3095, 1.5589, 0.4324, 0.5584, 0.0566, 1.2143, 0.7122, 0.0672, 2.0786,\n",
       "         1.2681, 0.0058, 0.5454, 0.1699, 1.0889, 1.2066, 0.1216, 0.1517, 1.3291,\n",
       "         0.7480, 0.6586, 0.8444, 0.5798, 0.1134, 0.6063, 0.5648, 0.9486, 1.3020,\n",
       "         1.0073, 0.6803, 0.3699, 0.8221, 1.3682],\n",
       "        [2.3575, 0.3825, 1.7711, 1.2393, 0.0333, 0.1914, 0.8909, 0.1620, 0.3646,\n",
       "         0.6000, 1.7861, 1.6156, 0.0999, 0.8826, 1.1784, 0.6353, 0.5396, 1.5195,\n",
       "         0.2397, 0.9520, 0.1006, 0.6262, 0.1761, 0.1022, 1.2839, 0.3735, 1.6762,\n",
       "         0.5973, 1.1269, 1.6599, 0.5649, 0.6302]], device='cuda:1',\n",
       "       requires_grad=True)"
      ]
     },
     "execution_count": 19,
     "metadata": {},
     "output_type": "execute_result"
    }
   ],
   "source": [
    "decoder.B_cv"
   ]
  },
  {
   "cell_type": "code",
   "execution_count": null,
   "metadata": {},
   "outputs": [],
   "source": []
  }
 ],
 "metadata": {
  "interpreter": {
   "hash": "40d3a090f54c6569ab1632332b64b2c03c39dcf918b08424e98f38b5ae0af88f"
  },
  "kernelspec": {
   "display_name": "Python 3 (ipykernel)",
   "language": "python",
   "name": "python3"
  },
  "language_info": {
   "codemirror_mode": {
    "name": "ipython",
    "version": 3
   },
   "file_extension": ".py",
   "mimetype": "text/x-python",
   "name": "python",
   "nbconvert_exporter": "python",
   "pygments_lexer": "ipython3",
   "version": "3.9.10"
  }
 },
 "nbformat": 4,
 "nbformat_minor": 4
}
