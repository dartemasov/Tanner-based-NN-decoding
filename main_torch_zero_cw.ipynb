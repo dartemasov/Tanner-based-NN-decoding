{
 "cells": [
  {
   "cell_type": "code",
   "execution_count": 1,
   "metadata": {},
   "outputs": [],
   "source": [
    "import numpy as np\n",
    "import pyldpc as ldpc\n",
    "from tqdm import tqdm, trange\n",
    "import matplotlib.pyplot as plt\n",
    "import sys\n",
    "from utils_f import load_code\n",
    "import os\n",
    "import torch\n",
    "device = torch.device('cuda' if torch.cuda.is_available() else 'cpu')"
   ]
  },
  {
   "cell_type": "code",
   "execution_count": 2,
   "metadata": {},
   "outputs": [],
   "source": [
    "device='cuda:0'"
   ]
  },
  {
   "cell_type": "code",
   "execution_count": 3,
   "metadata": {},
   "outputs": [],
   "source": [
    "H_filename = './source/BCH_15_11.alist'\n",
    "code = load_code(H_filename)\n",
    "H = code.H\n",
    "G = code.G\n",
    "var_degrees = code.var_degrees\n",
    "chk_degrees = code.chk_degrees\n",
    "num_edges = code.num_edges\n",
    "u = code.u\n",
    "d = code.d\n",
    "n = code.n\n",
    "m = code.m\n",
    "k = code.k"
   ]
  },
  {
   "cell_type": "code",
   "execution_count": 4,
   "metadata": {
    "jupyter": {
     "source_hidden": true
    },
    "tags": []
   },
   "outputs": [],
   "source": [
    "class min_sum(torch.nn.Module):\n",
    "    def __init__(self, num_iterations = 5):\n",
    "        super(min_sum, self).__init__()\n",
    "        self.W_cv = torch.ones((num_iterations, num_edges))\n",
    "        # self.W_cv = torch.nn.Parameter(torch.abs(torch.ones((num_iterations, num_edges))))\n",
    "        # self.W_cv.requires_grad = True\n",
    "        self.B_cv = torch.zeros((num_iterations, num_edges))\n",
    "        # self.B_cv = torch.nn.Parameter(torch.abs(torch.zeros((num_iterations, num_edges))))\n",
    "        # self.B_cv.requires_grad = True\n",
    "        self.W_vc = torch.ones((num_iterations, num_edges))\n",
    "        # self.W_vc = torch.nn.Parameter(torch.abs(torch.ones((num_iterations, num_edges))))\n",
    "        # self.W_vc.requires_grad = True\n",
    "        \n",
    "        self.num_iterations = num_iterations\n",
    "        \n",
    "    def forward(self, soft_input):\n",
    "        soft_input = soft_input.T           # TODO! Fix matrix dimensions inside functions\n",
    "        # print(soft_input.shape)\n",
    "        cv = torch.zeros((num_edges, soft_input.shape[1]))\n",
    "        for iteration in range(0, self.num_iterations):\n",
    "            vc = self.compute_vc(cv, soft_input, iteration)\n",
    "            cv = self.compute_cv(vc, iteration)\n",
    "            soft_input = self.marginalize(soft_input, cv)\n",
    "        output = torch.sigmoid(-soft_input)\n",
    "        output = output.T\n",
    "        \n",
    "        # self.W_cv = torch.nn.Parameter(torch.abs(self.W_cv))\n",
    "        # self.B_cv =torch.nn.Parameter(torch.abs(self.B_cv))\n",
    "        # self.W_vc = torch.nn.Parameter(torch.abs(self.W_vc))\n",
    "        # output = soft_input\n",
    "        return output\n",
    "\n",
    "        \n",
    "    def compute_vc(self, cv, soft_input, iteration):\n",
    "        edges = []\n",
    "        for i in range(0, n):\n",
    "            for j in range(0, var_degrees[i]):\n",
    "                edges.append(i)\n",
    "        # print(soft_input.shape, len(edges), edges)\n",
    "        reordered_soft_input = torch.index_select(soft_input, 0, torch.tensor(edges).to(device))\n",
    "\n",
    "        vc = torch.zeros((num_edges, cv.shape[1])).to(device)\n",
    "        counter = 0\n",
    "        edge_order = []\n",
    "\n",
    "        for i in range(0, n): # for each variable node v\n",
    "            for j in range(0, var_degrees[i]):\n",
    "                edge_order.append(d[i][j])\n",
    "                extrinsic_edges = []\n",
    "                for jj in range(0, var_degrees[i]):\n",
    "                    if jj != j: # extrinsic information only\n",
    "                        extrinsic_edges.append(d[i][jj])\n",
    "                # if the list of edges is not empty, add them up\n",
    "                if extrinsic_edges:\n",
    "                    # print(cv.shape, len(extrinsic_edges), extrinsic_edges)\n",
    "                    temp = torch.index_select(cv.to(device), 0, torch.tensor(extrinsic_edges).to(device))\n",
    "                    temp = torch.sum(temp, 0)\n",
    "                else:\n",
    "                    temp = torch.zeros(cv.shape[1])\n",
    "\n",
    "                temp = temp.to(device)\n",
    "                vc[counter] = temp\n",
    "        \n",
    "        new_order = np.zeros(num_edges).astype(int)\n",
    "        new_order[edge_order] = np.arange(0, num_edges)\n",
    "        vc = torch.index_select(vc, 0, torch.tensor(new_order).to(device))\n",
    "        vc += reordered_soft_input * torch.tile(torch.reshape(self.W_vc[iteration], (-1,1)), (1, cv.shape[1])).to(device)       # add soft inputs of the previous iterations!\n",
    "        return vc \n",
    "\n",
    "    def compute_cv(self, vc, iteration):\n",
    "        cv_list = []\n",
    "        prod_list = []\n",
    "        min_list = []\n",
    "        edge_order = []\n",
    "        for i in range(0, m): # for each check node c\n",
    "            for j in range(0, chk_degrees[i]):\n",
    "                edge_order.append(u[i][j])\n",
    "                extrinsic_edges = []\n",
    "                for jj in range(0, chk_degrees[i]):\n",
    "                    if jj != j:\n",
    "                        extrinsic_edges.append(u[i][jj])\n",
    "                temp = torch.index_select(vc.to(device),0,torch.tensor(extrinsic_edges).to(device))\n",
    "                temp1 = torch.prod(torch.sign(temp),0)\n",
    "                temp2 = torch.min(torch.abs(temp),0)[0]\n",
    "                prod_list.append(temp1)\n",
    "                min_list.append(temp2)\n",
    "        prods = torch.stack(prod_list)\n",
    "        mins = torch.stack(min_list)\n",
    "        mins = torch.relu(mins - torch.tile(torch.reshape(self.B_cv[iteration], (-1,1)), (1, vc.shape[1])).to(device))\n",
    "        cv = prods * mins\n",
    "        new_order = np.zeros(num_edges).astype(int)\n",
    "        new_order[edge_order] = np.array(range(0,num_edges)).astype(int)\n",
    "        cv = torch.index_select(cv, 0, torch.tensor(new_order).to(device))\n",
    "        cv = cv * torch.tile(torch.reshape(self.W_cv[iteration], (-1,1)), (1, vc.shape[1])).to(device)\n",
    "        return cv\n",
    "\n",
    "    # combine messages to get posterior LLRs\n",
    "    def marginalize(self, soft_input, cv):\n",
    "        weighted_soft_input = soft_input\n",
    "        soft_output = []\n",
    "        for i in range(0,n):\n",
    "            edges = []\n",
    "            for e in range(0,var_degrees[i]):\n",
    "                edges.append(d[i][e])\n",
    "            temp = torch.index_select(cv,0,torch.tensor(edges).to(device))\n",
    "            temp = torch.sum(temp, 0)\n",
    "            soft_output.append(temp)\n",
    "        soft_output = torch.stack(soft_output)\n",
    "        soft_output = weighted_soft_input + soft_output\n",
    "        return soft_output"
   ]
  },
  {
   "cell_type": "code",
   "execution_count": 5,
   "metadata": {},
   "outputs": [],
   "source": [
    "class Decoder(torch.nn.Module):\n",
    "    def __init__(self, num_iterations = 5):\n",
    "        super(Decoder, self).__init__()\n",
    "        # self.W_cv = torch.ones((num_iterations, num_edges))\n",
    "        self.W_cv = torch.nn.Parameter(torch.abs(torch.randn((num_iterations, num_edges))))\n",
    "        self.W_cv.requires_grad = True\n",
    "        # self.B_cv = torch.zeros((num_iterations, num_edges))\n",
    "        self.B_cv = torch.nn.Parameter(torch.abs(torch.randn((num_iterations, num_edges))))\n",
    "        self.B_cv.requires_grad = True\n",
    "        # self.W_vc = torch.ones((num_iterations, num_edges))\n",
    "        self.W_vc = torch.nn.Parameter(torch.abs(torch.randn((num_iterations, num_edges))))\n",
    "        self.W_vc.requires_grad = True\n",
    "        \n",
    "        self.num_iterations = num_iterations\n",
    "        \n",
    "    def forward(self, soft_input):\n",
    "        soft_input = soft_input.T           # TODO! Fix matrix dimensions inside functions\n",
    "        # print(soft_input.shape)\n",
    "        cv = torch.zeros((num_edges, soft_input.shape[1]))\n",
    "        for iteration in range(0, self.num_iterations):\n",
    "            vc = self.compute_vc(cv, soft_input, iteration)\n",
    "            cv = self.compute_cv(vc, iteration)\n",
    "            soft_input = self.marginalize(soft_input, cv)\n",
    "        output = torch.sigmoid(-soft_input)\n",
    "        output = output.T\n",
    "        \n",
    "        # self.W_cv = torch.nn.Parameter(torch.abs(self.W_cv))\n",
    "        # self.B_cv =torch.nn.Parameter(torch.abs(self.B_cv))\n",
    "        # self.W_vc = torch.nn.Parameter(torch.abs(self.W_vc))\n",
    "        \n",
    "        # output = soft_input\n",
    "        return output\n",
    "\n",
    "        \n",
    "    def compute_vc(self, cv, soft_input, iteration):\n",
    "        edges = []\n",
    "        for i in range(0, n):\n",
    "            for j in range(0, var_degrees[i]):\n",
    "                edges.append(i)\n",
    "        # print(soft_input.shape, len(edges), edges)\n",
    "        reordered_soft_input = torch.index_select(soft_input, 0, torch.tensor(edges).to(device))\n",
    "\n",
    "        vc = torch.zeros((num_edges, cv.shape[1])).to(device)\n",
    "        counter = 0\n",
    "        edge_order = []\n",
    "\n",
    "        for i in range(0, n): # for each variable node v\n",
    "            for j in range(0, var_degrees[i]):\n",
    "                edge_order.append(d[i][j])\n",
    "                extrinsic_edges = []\n",
    "                for jj in range(0, var_degrees[i]):\n",
    "                    if jj != j: # extrinsic information only\n",
    "                        extrinsic_edges.append(d[i][jj])\n",
    "                # if the list of edges is not empty, add them up\n",
    "                if extrinsic_edges:\n",
    "                    # print(cv.shape, len(extrinsic_edges), extrinsic_edges)\n",
    "                    temp = torch.index_select(cv.to(device), 0, torch.tensor(extrinsic_edges).to(device))\n",
    "                    temp = torch.sum(temp, 0)\n",
    "                else:\n",
    "                    temp = torch.zeros(cv.shape[1])\n",
    "\n",
    "                temp = temp.to(device)\n",
    "                vc[counter] = temp\n",
    "        \n",
    "        new_order = np.zeros(num_edges).astype(int)\n",
    "        new_order[edge_order] = np.arange(0, num_edges)\n",
    "        vc = torch.index_select(vc, 0, torch.tensor(new_order).to(device))\n",
    "        vc += reordered_soft_input * torch.tile(torch.reshape(self.W_vc[iteration], (-1,1)), (1, cv.shape[1]))       # add soft inputs of the previous iterations!\n",
    "        return vc \n",
    "\n",
    "    def compute_cv(self, vc, iteration):\n",
    "        cv_list = []\n",
    "        prod_list = []\n",
    "        min_list = []\n",
    "        edge_order = []\n",
    "        for i in range(0, m): # for each check node c\n",
    "            for j in range(0, chk_degrees[i]):\n",
    "                edge_order.append(u[i][j])\n",
    "                extrinsic_edges = []\n",
    "                for jj in range(0, chk_degrees[i]):\n",
    "                    if jj != j:\n",
    "                        extrinsic_edges.append(u[i][jj])\n",
    "                temp = torch.index_select(vc.to(device),0,torch.tensor(extrinsic_edges).to(device))\n",
    "                temp1 = torch.prod(torch.sign(temp),0)\n",
    "                temp2 = torch.min(torch.abs(temp),0)[0]\n",
    "                prod_list.append(temp1)\n",
    "                min_list.append(temp2)\n",
    "        prods = torch.stack(prod_list)\n",
    "        mins = torch.stack(min_list)\n",
    "        mins = torch.relu(mins - torch.tile(torch.reshape(self.B_cv[iteration], (-1,1)), (1, vc.shape[1])))\n",
    "        cv = prods * mins\n",
    "        new_order = np.zeros(num_edges).astype(int)\n",
    "        new_order[edge_order] = np.array(range(0,num_edges)).astype(int)\n",
    "        cv = torch.index_select(cv, 0, torch.tensor(new_order).to(device))\n",
    "        cv = cv * torch.tile(torch.reshape(self.W_cv[iteration], (-1,1)), (1, vc.shape[1]))\n",
    "        return cv\n",
    "\n",
    "    # combine messages to get posterior LLRs\n",
    "    def marginalize(self, soft_input, cv):\n",
    "        weighted_soft_input = soft_input\n",
    "        soft_output = []\n",
    "        for i in range(0,n):\n",
    "            edges = []\n",
    "            for e in range(0,var_degrees[i]):\n",
    "                edges.append(d[i][e])\n",
    "            temp = torch.index_select(cv,0,torch.tensor(edges).to(device))\n",
    "            temp = torch.sum(temp, 0)\n",
    "            soft_output.append(temp)\n",
    "        soft_output = torch.stack(soft_output)\n",
    "        soft_output = weighted_soft_input + soft_output\n",
    "        return soft_output"
   ]
  },
  {
   "cell_type": "code",
   "execution_count": 6,
   "metadata": {},
   "outputs": [],
   "source": [
    "def epoch_train(loader, clf, criterion, opt):\n",
    "    clf.train(True)\n",
    "    avg_loss = 0\n",
    "    avg_acc = 0\n",
    "    correct = 0\n",
    "    # load batch\n",
    "    for model_input, target in loader:\n",
    "        # move data to device\n",
    "        model_input = model_input.to(device)\n",
    "        target = target.to(device)\n",
    "        # calculate outputs, loss and accuracy\n",
    "        model_output = clf(model_input)\n",
    "        loss = criterion(model_output, target)\n",
    "        # print(model_input[0], model_output[0])\n",
    "        avg_loss += loss\n",
    "        correct += torch.count_nonzero(torch.heaviside(model_output-0.5, torch.tensor([0.]).to(device)).to(device) == target)\n",
    "        # calculate grad, upd weights\n",
    "        opt.zero_grad()\n",
    "        loss.backward()\n",
    "        opt.step()\n",
    "    avg_loss = avg_loss / len(loader)\n",
    "    avg_acc = correct / len(loader.dataset)\n",
    "    return avg_loss, avg_acc\n",
    "\n",
    "            \n",
    "            \n",
    "                        \n",
    "def epoch_test(loader, clf, criterion):\n",
    "    clf.eval()\n",
    "    avg_loss = 0\n",
    "    avg_acc = 0\n",
    "    correct = 0\n",
    "    # load batch\n",
    "    for model_input, target in loader:\n",
    "        # move data to device\n",
    "        model_input = model_input.to(device)\n",
    "        target = target.to(device)\n",
    "        # calculate outputs, loss and accuracy\n",
    "        model_output = clf(model_input)\n",
    "        loss = criterion(model_output, target)\n",
    "        avg_loss += loss\n",
    "        correct += torch.count_nonzero(torch.heaviside(model_output-0.5, torch.tensor([0.]).to(device)).to(device) == target)\n",
    "    avg_loss = avg_loss / len(loader)\n",
    "    avg_acc = correct / len(loader.dataset)\n",
    "\n",
    "    return avg_loss, avg_acc\n",
    "\n",
    "def train(train_loader, test_loader, clf, criterion, opt, n_epochs=50):\n",
    "    for epoch in trange(n_epochs):\n",
    "        train_loss, train_acc = epoch_train(train_loader, clf, criterion, opt)\n",
    "        test_loss, test_acc = epoch_test(test_loader, clf, criterion)\n",
    "        # clf.apply(constraints)\n",
    "\n",
    "        # clf.W_cv = torch.nn.Parameter(torch.relu(clf.W_cv))\n",
    "        # clf.B_cv = torch.nn.Parameter(torch.relu(clf.B_cv))\n",
    "        # clf.W_vc = torch.nn.Parameter(torch.relu(clf.W_vc))\n",
    "        # print(clf.W_cv[0])\n",
    "\n",
    "\n",
    "        if (np.mod(epoch+1,1)==0):\n",
    "            print(f'[Epoch {epoch + 1}] train loss: {train_loss:.3f}; train acc: {train_acc:.2f}; ' + \n",
    "                  f'test loss: {test_loss:.3f}; test acc: {test_acc:.2f}')"
   ]
  },
  {
   "cell_type": "markdown",
   "metadata": {
    "tags": []
   },
   "source": [
    "## Create dataloader"
   ]
  },
  {
   "cell_type": "code",
   "execution_count": 7,
   "metadata": {},
   "outputs": [],
   "source": [
    "def gen():\n",
    "    # messages = np.random.randint(0,2,[train_size,k])\n",
    "    # codewords = messages @ G % 2\n",
    "    # BPSK_codewords = (0.5 - codewords.astype(np.float32)) * 2.0\n",
    "    codewords = torch.ones((train_size, n)).to(device)\n",
    "    BPSK_codewords = -1*torch.ones_like(codewords).to(device)\n",
    "    soft_input = torch.zeros_like(BPSK_codewords).to(device)\n",
    "    SNRs = np.arange(1,6)\n",
    "    for i in range(0,len(SNRs)):\n",
    "        sigma = torch.sqrt(torch.tensor(1) / (2 * (k/n) * 10**(SNRs[i]/10))).to(device)\n",
    "        noise = sigma * torch.randn((train_size//len(SNRs),n)).to(device)\n",
    "        start_idx = train_size*i//len(SNRs)\n",
    "        end_idx = train_size*(i+1)//len(SNRs)\n",
    "        soft_input[start_idx:end_idx,:] = BPSK_codewords[start_idx:end_idx,:] + noise\n",
    "        soft_input = 2 * soft_input / (sigma**2)\n",
    "    return soft_input, codewords\n",
    "    \n",
    "def update_loaders():\n",
    "\n",
    "    soft_input_train, codewords_train = gen()\n",
    "    train_X = soft_input_train # transform to torch tensor\n",
    "    train_y = codewords_train\n",
    "    training_dataset = torch.utils.data.TensorDataset(train_X, train_y) # create your datset\n",
    "    training_loader = torch.utils.data.DataLoader(training_dataset, batch_size=20000, shuffle=True) # create your dataloader\n",
    "\n",
    "\n",
    "    soft_input_test, codewords_test = gen()\n",
    "    test_X = soft_input_test # transform to torch tensor\n",
    "    test_y = codewords_test\n",
    "    test_dataset = torch.utils.data.TensorDataset(test_X, test_y) # create your datset\n",
    "    test_loader = torch.utils.data.DataLoader(test_dataset, batch_size=20000, shuffle=True) # create your dataloader\n",
    "    return training_loader, test_loader"
   ]
  },
  {
   "cell_type": "code",
   "execution_count": 8,
   "metadata": {},
   "outputs": [],
   "source": [
    "decoder = Decoder(num_iterations=5).to(device)\n",
    "# opt = torch.optim.Adam(decoder.parameters(), lr=0.0025)\n",
    "opt = torch.optim.SGD(decoder.parameters(), lr=0.01)\n",
    "criterion = torch.nn.CrossEntropyLoss()\n",
    "# criterion = torch.nn.MSELoss()"
   ]
  },
  {
   "cell_type": "code",
   "execution_count": 9,
   "metadata": {
    "scrolled": true,
    "tags": []
   },
   "outputs": [],
   "source": [
    "test_size = 100000\n",
    "req_err = 500*n\n",
    "SNRs = np.arange(-10,5)"
   ]
  },
  {
   "cell_type": "code",
   "execution_count": 10,
   "metadata": {
    "tags": []
   },
   "outputs": [
    {
     "name": "stdout",
     "output_type": "stream",
     "text": [
      "SNR: -10, 7287.427%, test BER: 0.36437132954597473                \n",
      "\n",
      "SNR: -9, 6980.547%, test BER: 0.3490273356437683                \n",
      "\n",
      "SNR: -8, 6650.640%, test BER: 0.33253198862075806                \n",
      "\n",
      "SNR: -7, 6252.813%, test BER: 0.3126406669616699                \n",
      "\n",
      "SNR: -6, 5830.640%, test BER: 0.2915320098400116                \n",
      "\n",
      "SNR: -5, 5415.040%, test BER: 0.2707520127296448                \n",
      "\n",
      "SNR: -4, 4891.747%, test BER: 0.24458733201026917                \n",
      "\n",
      "SNR: -3, 4349.747%, test BER: 0.21748733520507812                \n",
      "\n",
      "SNR: -2, 3724.093%, test BER: 0.1862046718597412                \n",
      "\n",
      "SNR: -1, 3033.853%, test BER: 0.15169267356395721                \n",
      "\n",
      "SNR: 0, 2315.853%, test BER: 0.1157926693558693                \n",
      "\n",
      "SNR: 1, 1592.427%, test BER: 0.0796213299036026                \n",
      "\n",
      "SNR: 2, 971.853%, test BER: 0.048592668026685715                \n",
      "\n",
      "SNR: 3, 509.800%, test BER: 0.02549000084400177                \n",
      "\n",
      "SNR: 4, 216.320%, test BER: 0.010816000401973724                \n",
      "\n"
     ]
    }
   ],
   "source": [
    "# hard decisions, classic min-sum\n",
    "ms = min_sum(num_iterations=5).to(device)\n",
    "\n",
    "bit_errors_hard = torch.zeros(len(SNRs)).to(device)\n",
    "nb_bits_hard = torch.zeros(len(SNRs)).to(device)\n",
    "bit_errors_min_sum = torch.zeros(len(SNRs)).to(device)\n",
    "nb_bits_min_sum = torch.zeros(len(SNRs)).to(device)\n",
    "for i, snr in enumerate(SNRs):\n",
    "            while bit_errors_min_sum[i] < req_err:\n",
    "                # messages = torch.randint(0, 2, (test_size, k))\n",
    "                codewords = torch.ones((test_size, n)).to(device)\n",
    "                BPSK_codewords = -1*torch.ones_like(codewords).to(device)\n",
    "                # codewords = messages @ G % 2\n",
    "                # codewords = codewords.to(device)\n",
    "                # BPSK_codewords = (0.5 - codewords) * 2\n",
    "                sigma = torch.sqrt(torch.tensor(1) / (2 * (k/n) * 10**(snr/10)))\n",
    "                noise = sigma * torch.randn(test_size, n).to(device)\n",
    "                soft_input = BPSK_codewords + noise\n",
    "                bit_errors_hard[i] += torch.count_nonzero((-(torch.sign(soft_input) - 1)/2) != codewords)\n",
    "                bit_errors_min_sum[i] += torch.count_nonzero(torch.heaviside(ms(soft_input) - 0.5, torch.tensor([0.]).to(device)) != codewords)\n",
    "                nb_bits_hard[i] += test_size * n\n",
    "                nb_bits_min_sum[i] += test_size * n\n",
    "                print(f'SNR: {snr}, {100*bit_errors_min_sum[i]/req_err :.3f}%, test BER: {bit_errors_min_sum[i] / nb_bits_min_sum[i]}                ', end='\\r')\n",
    "            print('\\n')"
   ]
  },
  {
   "cell_type": "code",
   "execution_count": 11,
   "metadata": {},
   "outputs": [],
   "source": [
    "class weightConstraint(object):\n",
    "    def __init__(self):\n",
    "        pass\n",
    "    \n",
    "    def __call__(self,module):\n",
    "        if hasattr(module,'weight'):\n",
    "            print(\"Entered\")\n",
    "            W_cv=module.W_cv\n",
    "            W_cv = torch.clamp(W_cv, min=0)\n",
    "            module.W_cv=W_cv\n",
    "            B_cv=module.B_cv\n",
    "            B_cv = torch.clamp(W_cv, min=0)\n",
    "            module.B_cv=B_cv\n",
    "            W_vc=module.W_vc\n",
    "            W_vc = torch.clamp(W_vc, min=0)\n",
    "            module.W_vc=W_vc"
   ]
  },
  {
   "cell_type": "code",
   "execution_count": 12,
   "metadata": {},
   "outputs": [],
   "source": [
    "constraints=weightConstraint()"
   ]
  },
  {
   "cell_type": "code",
   "execution_count": 13,
   "metadata": {
    "scrolled": true,
    "tags": []
   },
   "outputs": [
    {
     "name": "stdout",
     "output_type": "stream",
     "text": [
      "[Epoch 2] train loss: 40.763; train acc: 14.56; test loss: 40.765; test acc: 14.56\n"
     ]
    },
    {
     "name": "stderr",
     "output_type": "stream",
     "text": [
      "100%|████████████████████████████████████████████████████████████████████████████████████████████████████████████████████████| 3/3 [00:04<00:00,  1.45s/it]"
     ]
    },
    {
     "name": "stdout",
     "output_type": "stream",
     "text": [
      "[Epoch 3] train loss: 40.763; train acc: 14.56; test loss: 40.765; test acc: 14.56\n",
      "SNR: -10, 7027.000%, test BER: 0.35135000944137573                \n",
      "\n"
     ]
    },
    {
     "name": "stderr",
     "output_type": "stream",
     "text": [
      "\n"
     ]
    },
    {
     "name": "stdout",
     "output_type": "stream",
     "text": [
      "SNR: -9, 6692.000%, test BER: 0.3346000015735626                \n",
      "\n",
      "SNR: -8, 6313.053%, test BER: 0.31565266847610474                \n",
      "\n",
      "SNR: -7, 5910.200%, test BER: 0.2955099940299988                \n",
      "\n",
      "SNR: -6, 5453.414%, test BER: 0.2726706564426422                \n",
      "\n",
      "SNR: -5, 4970.427%, test BER: 0.2485213279724121                \n",
      "\n",
      "SNR: -4, 4441.400%, test BER: 0.22206999361515045                \n",
      "\n",
      "SNR: -3, 3899.800%, test BER: 0.19498999416828156                \n",
      "\n",
      "SNR: -2, 3341.480%, test BER: 0.16707399487495422                \n",
      "\n",
      "SNR: -1, 2765.173%, test BER: 0.1382586658000946                \n",
      "\n",
      "SNR: 0, 2214.027%, test BER: 0.11070133000612259                \n",
      "\n",
      "SNR: 1, 1674.227%, test BER: 0.08371133357286453                \n",
      "\n",
      "SNR: 2, 1186.787%, test BER: 0.059339333325624466                \n",
      "\n",
      "SNR: 3, 783.413%, test BER: 0.03917066752910614                \n",
      "\n",
      "SNR: 4, 471.400%, test BER: 0.023569999262690544                \n",
      "\n",
      "TRAINING ITERATION #396/500\n"
     ]
    },
    {
     "name": "stderr",
     "output_type": "stream",
     "text": [
      " 33%|████████████████████████████████████████                                                                                | 1/3 [00:01<00:02,  1.44s/it]"
     ]
    },
    {
     "name": "stdout",
     "output_type": "stream",
     "text": [
      "[Epoch 1] train loss: 40.764; train acc: 14.56; test loss: 40.767; test acc: 14.55\n"
     ]
    },
    {
     "name": "stderr",
     "output_type": "stream",
     "text": [
      " 67%|████████████████████████████████████████████████████████████████████████████████                                        | 2/3 [00:02<00:01,  1.50s/it]"
     ]
    },
    {
     "name": "stdout",
     "output_type": "stream",
     "text": [
      "[Epoch 2] train loss: 40.764; train acc: 14.56; test loss: 40.767; test acc: 14.55\n"
     ]
    },
    {
     "name": "stderr",
     "output_type": "stream",
     "text": [
      "100%|████████████████████████████████████████████████████████████████████████████████████████████████████████████████████████| 3/3 [00:04<00:00,  1.46s/it]\n"
     ]
    },
    {
     "name": "stdout",
     "output_type": "stream",
     "text": [
      "[Epoch 3] train loss: 40.764; train acc: 14.56; test loss: 40.767; test acc: 14.55\n",
      "TRAINING ITERATION #397/500\n"
     ]
    },
    {
     "name": "stderr",
     "output_type": "stream",
     "text": [
      " 33%|████████████████████████████████████████                                                                                | 1/3 [00:01<00:02,  1.41s/it]"
     ]
    },
    {
     "name": "stdout",
     "output_type": "stream",
     "text": [
      "[Epoch 1] train loss: 40.765; train acc: 14.56; test loss: 40.764; test acc: 14.56\n"
     ]
    },
    {
     "name": "stderr",
     "output_type": "stream",
     "text": [
      " 67%|████████████████████████████████████████████████████████████████████████████████                                        | 2/3 [00:02<00:01,  1.47s/it]"
     ]
    },
    {
     "name": "stdout",
     "output_type": "stream",
     "text": [
      "[Epoch 2] train loss: 40.764; train acc: 14.56; test loss: 40.763; test acc: 14.56\n"
     ]
    },
    {
     "name": "stderr",
     "output_type": "stream",
     "text": [
      "100%|████████████████████████████████████████████████████████████████████████████████████████████████████████████████████████| 3/3 [00:04<00:00,  1.46s/it]\n"
     ]
    },
    {
     "name": "stdout",
     "output_type": "stream",
     "text": [
      "[Epoch 3] train loss: 40.765; train acc: 14.56; test loss: 40.764; test acc: 14.56\n",
      "TRAINING ITERATION #398/500\n"
     ]
    },
    {
     "name": "stderr",
     "output_type": "stream",
     "text": [
      " 33%|████████████████████████████████████████                                                                                | 1/3 [00:01<00:03,  1.51s/it]"
     ]
    },
    {
     "name": "stdout",
     "output_type": "stream",
     "text": [
      "[Epoch 1] train loss: 40.765; train acc: 14.56; test loss: 40.766; test acc: 14.55\n"
     ]
    },
    {
     "name": "stderr",
     "output_type": "stream",
     "text": [
      " 67%|████████████████████████████████████████████████████████████████████████████████                                        | 2/3 [00:03<00:01,  1.52s/it]"
     ]
    },
    {
     "name": "stdout",
     "output_type": "stream",
     "text": [
      "[Epoch 2] train loss: 40.764; train acc: 14.56; test loss: 40.766; test acc: 14.55\n"
     ]
    },
    {
     "name": "stderr",
     "output_type": "stream",
     "text": [
      "100%|████████████████████████████████████████████████████████████████████████████████████████████████████████████████████████| 3/3 [00:04<00:00,  1.52s/it]\n"
     ]
    },
    {
     "name": "stdout",
     "output_type": "stream",
     "text": [
      "[Epoch 3] train loss: 40.765; train acc: 14.56; test loss: 40.765; test acc: 14.55\n",
      "TRAINING ITERATION #399/500\n"
     ]
    },
    {
     "name": "stderr",
     "output_type": "stream",
     "text": [
      " 33%|████████████████████████████████████████                                                                                | 1/3 [00:01<00:02,  1.47s/it]"
     ]
    },
    {
     "name": "stdout",
     "output_type": "stream",
     "text": [
      "[Epoch 1] train loss: 40.765; train acc: 14.56; test loss: 40.766; test acc: 14.55\n"
     ]
    },
    {
     "name": "stderr",
     "output_type": "stream",
     "text": [
      " 67%|████████████████████████████████████████████████████████████████████████████████                                        | 2/3 [00:02<00:01,  1.49s/it]"
     ]
    },
    {
     "name": "stdout",
     "output_type": "stream",
     "text": [
      "[Epoch 2] train loss: 40.764; train acc: 14.56; test loss: 40.766; test acc: 14.55\n"
     ]
    },
    {
     "name": "stderr",
     "output_type": "stream",
     "text": [
      "100%|████████████████████████████████████████████████████████████████████████████████████████████████████████████████████████| 3/3 [00:04<00:00,  1.49s/it]\n"
     ]
    },
    {
     "name": "stdout",
     "output_type": "stream",
     "text": [
      "[Epoch 3] train loss: 40.764; train acc: 14.56; test loss: 40.766; test acc: 14.55\n",
      "TRAINING ITERATION #400/500\n"
     ]
    },
    {
     "name": "stderr",
     "output_type": "stream",
     "text": [
      " 33%|████████████████████████████████████████                                                                                | 1/3 [00:01<00:02,  1.38s/it]"
     ]
    },
    {
     "name": "stdout",
     "output_type": "stream",
     "text": [
      "[Epoch 1] train loss: 40.765; train acc: 14.55; test loss: 40.764; test acc: 14.56\n"
     ]
    },
    {
     "name": "stderr",
     "output_type": "stream",
     "text": [
      " 67%|████████████████████████████████████████████████████████████████████████████████                                        | 2/3 [00:02<00:01,  1.42s/it]"
     ]
    },
    {
     "name": "stdout",
     "output_type": "stream",
     "text": [
      "[Epoch 2] train loss: 40.765; train acc: 14.55; test loss: 40.765; test acc: 14.56\n"
     ]
    },
    {
     "name": "stderr",
     "output_type": "stream",
     "text": [
      "100%|████████████████████████████████████████████████████████████████████████████████████████████████████████████████████████| 3/3 [00:04<00:00,  1.44s/it]"
     ]
    },
    {
     "name": "stdout",
     "output_type": "stream",
     "text": [
      "[Epoch 3] train loss: 40.765; train acc: 14.55; test loss: 40.765; test acc: 14.56\n",
      "SNR: -10, 7014.027%, test BER: 0.35070133209228516                \n",
      "\n"
     ]
    },
    {
     "name": "stderr",
     "output_type": "stream",
     "text": [
      "\n"
     ]
    },
    {
     "name": "stdout",
     "output_type": "stream",
     "text": [
      "SNR: -9, 6688.360%, test BER: 0.33441799879074097                \n",
      "\n",
      "SNR: -8, 6324.907%, test BER: 0.31624534726142883                \n",
      "\n",
      "SNR: -7, 5915.533%, test BER: 0.2957766652107239                \n",
      "\n",
      "SNR: -6, 5441.894%, test BER: 0.2720946669578552                \n",
      "\n",
      "SNR: -5, 4969.880%, test BER: 0.2484939992427826                \n",
      "\n",
      "SNR: -4, 4450.467%, test BER: 0.22252333164215088                \n",
      "\n",
      "SNR: -3, 3913.120%, test BER: 0.19565600156784058                \n",
      "\n",
      "SNR: -2, 3339.587%, test BER: 0.1669793277978897                \n",
      "\n",
      "SNR: -1, 2763.667%, test BER: 0.1381833404302597                \n",
      "\n",
      "SNR: 0, 2211.507%, test BER: 0.11057533323764801                \n",
      "\n",
      "SNR: 1, 1664.987%, test BER: 0.08324933052062988                \n",
      "\n",
      "SNR: 2, 1188.787%, test BER: 0.05943933501839638                \n",
      "\n",
      "SNR: 3, 774.573%, test BER: 0.03872866556048393                \n",
      "\n",
      "SNR: 4, 467.947%, test BER: 0.023397333920001984                \n",
      "\n",
      "TRAINING ITERATION #401/500\n"
     ]
    },
    {
     "name": "stderr",
     "output_type": "stream",
     "text": [
      " 33%|████████████████████████████████████████                                                                                | 1/3 [00:01<00:02,  1.40s/it]"
     ]
    },
    {
     "name": "stdout",
     "output_type": "stream",
     "text": [
      "[Epoch 1] train loss: 40.764; train acc: 14.56; test loss: 40.766; test acc: 14.55\n"
     ]
    },
    {
     "name": "stderr",
     "output_type": "stream",
     "text": [
      " 67%|████████████████████████████████████████████████████████████████████████████████                                        | 2/3 [00:02<00:01,  1.44s/it]"
     ]
    },
    {
     "name": "stdout",
     "output_type": "stream",
     "text": [
      "[Epoch 2] train loss: 40.764; train acc: 14.56; test loss: 40.766; test acc: 14.55\n"
     ]
    },
    {
     "name": "stderr",
     "output_type": "stream",
     "text": [
      "100%|████████████████████████████████████████████████████████████████████████████████████████████████████████████████████████| 3/3 [00:04<00:00,  1.45s/it]\n"
     ]
    },
    {
     "name": "stdout",
     "output_type": "stream",
     "text": [
      "[Epoch 3] train loss: 40.764; train acc: 14.56; test loss: 40.766; test acc: 14.55\n",
      "TRAINING ITERATION #402/500\n"
     ]
    },
    {
     "name": "stderr",
     "output_type": "stream",
     "text": [
      " 33%|████████████████████████████████████████                                                                                | 1/3 [00:01<00:02,  1.48s/it]"
     ]
    },
    {
     "name": "stdout",
     "output_type": "stream",
     "text": [
      "[Epoch 1] train loss: 40.766; train acc: 14.55; test loss: 40.764; test acc: 14.56\n"
     ]
    },
    {
     "name": "stderr",
     "output_type": "stream",
     "text": [
      " 67%|████████████████████████████████████████████████████████████████████████████████                                        | 2/3 [00:02<00:01,  1.45s/it]"
     ]
    },
    {
     "name": "stdout",
     "output_type": "stream",
     "text": [
      "[Epoch 2] train loss: 40.766; train acc: 14.55; test loss: 40.765; test acc: 14.56\n"
     ]
    },
    {
     "name": "stderr",
     "output_type": "stream",
     "text": [
      "100%|████████████████████████████████████████████████████████████████████████████████████████████████████████████████████████| 3/3 [00:04<00:00,  1.44s/it]\n"
     ]
    },
    {
     "name": "stdout",
     "output_type": "stream",
     "text": [
      "[Epoch 3] train loss: 40.766; train acc: 14.55; test loss: 40.765; test acc: 14.56\n",
      "TRAINING ITERATION #403/500\n"
     ]
    },
    {
     "name": "stderr",
     "output_type": "stream",
     "text": [
      " 33%|████████████████████████████████████████                                                                                | 1/3 [00:01<00:02,  1.42s/it]"
     ]
    },
    {
     "name": "stdout",
     "output_type": "stream",
     "text": [
      "[Epoch 1] train loss: 40.763; train acc: 14.56; test loss: 40.764; test acc: 14.56\n"
     ]
    },
    {
     "name": "stderr",
     "output_type": "stream",
     "text": [
      " 67%|████████████████████████████████████████████████████████████████████████████████                                        | 2/3 [00:02<00:01,  1.46s/it]"
     ]
    },
    {
     "name": "stdout",
     "output_type": "stream",
     "text": [
      "[Epoch 2] train loss: 40.763; train acc: 14.56; test loss: 40.764; test acc: 14.56\n"
     ]
    },
    {
     "name": "stderr",
     "output_type": "stream",
     "text": [
      "100%|████████████████████████████████████████████████████████████████████████████████████████████████████████████████████████| 3/3 [00:04<00:00,  1.47s/it]\n"
     ]
    },
    {
     "name": "stdout",
     "output_type": "stream",
     "text": [
      "[Epoch 3] train loss: 40.763; train acc: 14.56; test loss: 40.764; test acc: 14.56\n",
      "TRAINING ITERATION #404/500\n"
     ]
    },
    {
     "name": "stderr",
     "output_type": "stream",
     "text": [
      " 33%|████████████████████████████████████████                                                                                | 1/3 [00:01<00:02,  1.50s/it]"
     ]
    },
    {
     "name": "stdout",
     "output_type": "stream",
     "text": [
      "[Epoch 1] train loss: 40.765; train acc: 14.56; test loss: 40.764; test acc: 14.56\n"
     ]
    },
    {
     "name": "stderr",
     "output_type": "stream",
     "text": [
      " 67%|████████████████████████████████████████████████████████████████████████████████                                        | 2/3 [00:03<00:01,  1.51s/it]"
     ]
    },
    {
     "name": "stdout",
     "output_type": "stream",
     "text": [
      "[Epoch 2] train loss: 40.765; train acc: 14.56; test loss: 40.765; test acc: 14.56\n"
     ]
    },
    {
     "name": "stderr",
     "output_type": "stream",
     "text": [
      "100%|████████████████████████████████████████████████████████████████████████████████████████████████████████████████████████| 3/3 [00:04<00:00,  1.51s/it]\n"
     ]
    },
    {
     "name": "stdout",
     "output_type": "stream",
     "text": [
      "[Epoch 3] train loss: 40.764; train acc: 14.56; test loss: 40.764; test acc: 14.56\n",
      "TRAINING ITERATION #405/500\n"
     ]
    },
    {
     "name": "stderr",
     "output_type": "stream",
     "text": [
      " 33%|████████████████████████████████████████                                                                                | 1/3 [00:01<00:02,  1.43s/it]"
     ]
    },
    {
     "name": "stdout",
     "output_type": "stream",
     "text": [
      "[Epoch 1] train loss: 40.766; train acc: 14.55; test loss: 40.763; test acc: 14.56\n"
     ]
    },
    {
     "name": "stderr",
     "output_type": "stream",
     "text": [
      " 67%|████████████████████████████████████████████████████████████████████████████████                                        | 2/3 [00:02<00:01,  1.46s/it]"
     ]
    },
    {
     "name": "stdout",
     "output_type": "stream",
     "text": [
      "[Epoch 2] train loss: 40.766; train acc: 14.55; test loss: 40.763; test acc: 14.56\n"
     ]
    },
    {
     "name": "stderr",
     "output_type": "stream",
     "text": [
      "100%|████████████████████████████████████████████████████████████████████████████████████████████████████████████████████████| 3/3 [00:04<00:00,  1.45s/it]"
     ]
    },
    {
     "name": "stdout",
     "output_type": "stream",
     "text": [
      "[Epoch 3] train loss: 40.766; train acc: 14.55; test loss: 40.764; test acc: 14.56\n",
      "SNR: -10, 7047.093%, test BER: 0.35235467553138733                \n",
      "\n"
     ]
    },
    {
     "name": "stderr",
     "output_type": "stream",
     "text": [
      "\n"
     ]
    },
    {
     "name": "stdout",
     "output_type": "stream",
     "text": [
      "SNR: -9, 6705.693%, test BER: 0.33528468012809753                \n",
      "\n",
      "SNR: -8, 6324.187%, test BER: 0.3162093460559845                \n",
      "\n",
      "SNR: -7, 5893.747%, test BER: 0.29468733072280884                \n",
      "\n",
      "SNR: -6, 5449.040%, test BER: 0.2724519968032837                \n",
      "\n",
      "SNR: -5, 4962.187%, test BER: 0.2481093406677246                \n",
      "\n",
      "SNR: -4, 4451.560%, test BER: 0.2225780040025711                \n",
      "\n",
      "SNR: -3, 3905.240%, test BER: 0.19526199996471405                \n",
      "\n",
      "SNR: -2, 3345.627%, test BER: 0.16728132963180542                \n",
      "\n",
      "SNR: -1, 2773.933%, test BER: 0.13869667053222656                \n",
      "\n",
      "SNR: 0, 2203.760%, test BER: 0.11018799990415573                \n",
      "\n",
      "SNR: 1, 1680.587%, test BER: 0.08402933180332184                \n",
      "\n",
      "SNR: 2, 1192.387%, test BER: 0.05961933359503746                \n",
      "\n",
      "SNR: 3, 784.693%, test BER: 0.039234668016433716                \n",
      "\n",
      "SNR: 4, 469.320%, test BER: 0.023466000333428383                \n",
      "\n",
      "TRAINING ITERATION #406/500\n"
     ]
    },
    {
     "name": "stderr",
     "output_type": "stream",
     "text": [
      " 33%|████████████████████████████████████████                                                                                | 1/3 [00:01<00:02,  1.38s/it]"
     ]
    },
    {
     "name": "stdout",
     "output_type": "stream",
     "text": [
      "[Epoch 1] train loss: 40.764; train acc: 14.56; test loss: 40.765; test acc: 14.56\n"
     ]
    },
    {
     "name": "stderr",
     "output_type": "stream",
     "text": [
      " 67%|████████████████████████████████████████████████████████████████████████████████                                        | 2/3 [00:02<00:01,  1.44s/it]"
     ]
    },
    {
     "name": "stdout",
     "output_type": "stream",
     "text": [
      "[Epoch 2] train loss: 40.763; train acc: 14.56; test loss: 40.764; test acc: 14.56\n"
     ]
    },
    {
     "name": "stderr",
     "output_type": "stream",
     "text": [
      "100%|████████████████████████████████████████████████████████████████████████████████████████████████████████████████████████| 3/3 [00:04<00:00,  1.45s/it]\n"
     ]
    },
    {
     "name": "stdout",
     "output_type": "stream",
     "text": [
      "[Epoch 3] train loss: 40.765; train acc: 14.56; test loss: 40.765; test acc: 14.56\n",
      "TRAINING ITERATION #407/500\n"
     ]
    },
    {
     "name": "stderr",
     "output_type": "stream",
     "text": [
      " 33%|████████████████████████████████████████                                                                                | 1/3 [00:01<00:02,  1.39s/it]"
     ]
    },
    {
     "name": "stdout",
     "output_type": "stream",
     "text": [
      "[Epoch 1] train loss: 40.765; train acc: 14.56; test loss: 40.765; test acc: 14.56\n"
     ]
    },
    {
     "name": "stderr",
     "output_type": "stream",
     "text": [
      " 67%|████████████████████████████████████████████████████████████████████████████████                                        | 2/3 [00:02<00:01,  1.46s/it]"
     ]
    },
    {
     "name": "stdout",
     "output_type": "stream",
     "text": [
      "[Epoch 2] train loss: 40.764; train acc: 14.56; test loss: 40.764; test acc: 14.56\n"
     ]
    },
    {
     "name": "stderr",
     "output_type": "stream",
     "text": [
      "100%|████████████████████████████████████████████████████████████████████████████████████████████████████████████████████████| 3/3 [00:04<00:00,  1.44s/it]\n"
     ]
    },
    {
     "name": "stdout",
     "output_type": "stream",
     "text": [
      "[Epoch 3] train loss: 40.763; train acc: 14.56; test loss: 40.765; test acc: 14.56\n",
      "TRAINING ITERATION #408/500\n"
     ]
    },
    {
     "name": "stderr",
     "output_type": "stream",
     "text": [
      " 33%|████████████████████████████████████████                                                                                | 1/3 [00:01<00:02,  1.44s/it]"
     ]
    },
    {
     "name": "stdout",
     "output_type": "stream",
     "text": [
      "[Epoch 1] train loss: 40.764; train acc: 14.56; test loss: 40.767; test acc: 14.55\n"
     ]
    },
    {
     "name": "stderr",
     "output_type": "stream",
     "text": [
      " 67%|████████████████████████████████████████████████████████████████████████████████                                        | 2/3 [00:02<00:01,  1.49s/it]"
     ]
    },
    {
     "name": "stdout",
     "output_type": "stream",
     "text": [
      "[Epoch 2] train loss: 40.765; train acc: 14.56; test loss: 40.768; test acc: 14.55\n"
     ]
    },
    {
     "name": "stderr",
     "output_type": "stream",
     "text": [
      "100%|████████████████████████████████████████████████████████████████████████████████████████████████████████████████████████| 3/3 [00:04<00:00,  1.47s/it]\n"
     ]
    },
    {
     "name": "stdout",
     "output_type": "stream",
     "text": [
      "[Epoch 3] train loss: 40.764; train acc: 14.56; test loss: 40.768; test acc: 14.55\n",
      "TRAINING ITERATION #409/500\n"
     ]
    },
    {
     "name": "stderr",
     "output_type": "stream",
     "text": [
      " 33%|████████████████████████████████████████                                                                                | 1/3 [00:01<00:02,  1.42s/it]"
     ]
    },
    {
     "name": "stdout",
     "output_type": "stream",
     "text": [
      "[Epoch 1] train loss: 40.764; train acc: 14.56; test loss: 40.764; test acc: 14.56\n"
     ]
    },
    {
     "name": "stderr",
     "output_type": "stream",
     "text": [
      " 67%|████████████████████████████████████████████████████████████████████████████████                                        | 2/3 [00:02<00:01,  1.45s/it]"
     ]
    },
    {
     "name": "stdout",
     "output_type": "stream",
     "text": [
      "[Epoch 2] train loss: 40.765; train acc: 14.56; test loss: 40.765; test acc: 14.56\n"
     ]
    },
    {
     "name": "stderr",
     "output_type": "stream",
     "text": [
      "100%|████████████████████████████████████████████████████████████████████████████████████████████████████████████████████████| 3/3 [00:04<00:00,  1.49s/it]\n"
     ]
    },
    {
     "name": "stdout",
     "output_type": "stream",
     "text": [
      "[Epoch 3] train loss: 40.764; train acc: 14.56; test loss: 40.764; test acc: 14.56\n",
      "TRAINING ITERATION #410/500\n"
     ]
    },
    {
     "name": "stderr",
     "output_type": "stream",
     "text": [
      " 33%|████████████████████████████████████████                                                                                | 1/3 [00:01<00:03,  1.54s/it]"
     ]
    },
    {
     "name": "stdout",
     "output_type": "stream",
     "text": [
      "[Epoch 1] train loss: 40.764; train acc: 14.56; test loss: 40.765; test acc: 14.55\n"
     ]
    },
    {
     "name": "stderr",
     "output_type": "stream",
     "text": [
      " 67%|████████████████████████████████████████████████████████████████████████████████                                        | 2/3 [00:03<00:01,  1.54s/it]"
     ]
    },
    {
     "name": "stdout",
     "output_type": "stream",
     "text": [
      "[Epoch 2] train loss: 40.764; train acc: 14.56; test loss: 40.765; test acc: 14.55\n"
     ]
    },
    {
     "name": "stderr",
     "output_type": "stream",
     "text": [
      "100%|████████████████████████████████████████████████████████████████████████████████████████████████████████████████████████| 3/3 [00:04<00:00,  1.53s/it]"
     ]
    },
    {
     "name": "stdout",
     "output_type": "stream",
     "text": [
      "[Epoch 3] train loss: 40.764; train acc: 14.56; test loss: 40.765; test acc: 14.55\n",
      "SNR: -10, 7038.227%, test BER: 0.351911336183548                \n",
      "\n"
     ]
    },
    {
     "name": "stderr",
     "output_type": "stream",
     "text": [
      "\n"
     ]
    },
    {
     "name": "stdout",
     "output_type": "stream",
     "text": [
      "SNR: -9, 6689.854%, test BER: 0.33449265360832214                \n",
      "\n",
      "SNR: -8, 6308.333%, test BER: 0.3154166638851166                \n",
      "\n",
      "SNR: -7, 5897.640%, test BER: 0.29488199949264526                \n",
      "\n",
      "SNR: -6, 5451.934%, test BER: 0.27259665727615356                \n",
      "\n",
      "SNR: -5, 4974.347%, test BER: 0.24871733784675598                \n",
      "\n",
      "SNR: -4, 4451.027%, test BER: 0.22255133092403412                \n",
      "\n",
      "SNR: -3, 3902.480%, test BER: 0.19512400031089783                \n",
      "\n",
      "SNR: -2, 3353.227%, test BER: 0.16766133904457092                \n",
      "\n",
      "SNR: -1, 2769.253%, test BER: 0.13846266269683838                \n",
      "\n",
      "SNR: 0, 2202.680%, test BER: 0.11013399809598923                \n",
      "\n",
      "SNR: 1, 1665.453%, test BER: 0.08327266573905945                \n",
      "\n",
      "SNR: 2, 1187.867%, test BER: 0.05939333513379097                \n",
      "\n",
      "SNR: 3, 776.400%, test BER: 0.03881999850273132                \n",
      "\n",
      "SNR: 4, 467.027%, test BER: 0.023351334035396576                \n",
      "\n",
      "TRAINING ITERATION #411/500\n"
     ]
    },
    {
     "name": "stderr",
     "output_type": "stream",
     "text": [
      " 33%|████████████████████████████████████████                                                                                | 1/3 [00:01<00:02,  1.44s/it]"
     ]
    },
    {
     "name": "stdout",
     "output_type": "stream",
     "text": [
      "[Epoch 1] train loss: 40.766; train acc: 14.56; test loss: 40.764; test acc: 14.56\n"
     ]
    },
    {
     "name": "stderr",
     "output_type": "stream",
     "text": [
      " 67%|████████████████████████████████████████████████████████████████████████████████                                        | 2/3 [00:02<00:01,  1.44s/it]"
     ]
    },
    {
     "name": "stdout",
     "output_type": "stream",
     "text": [
      "[Epoch 2] train loss: 40.765; train acc: 14.56; test loss: 40.764; test acc: 14.56\n"
     ]
    },
    {
     "name": "stderr",
     "output_type": "stream",
     "text": [
      "100%|████████████████████████████████████████████████████████████████████████████████████████████████████████████████████████| 3/3 [00:04<00:00,  1.44s/it]\n"
     ]
    },
    {
     "name": "stdout",
     "output_type": "stream",
     "text": [
      "[Epoch 3] train loss: 40.765; train acc: 14.56; test loss: 40.764; test acc: 14.56\n",
      "TRAINING ITERATION #412/500\n"
     ]
    },
    {
     "name": "stderr",
     "output_type": "stream",
     "text": [
      " 33%|████████████████████████████████████████                                                                                | 1/3 [00:01<00:02,  1.44s/it]"
     ]
    },
    {
     "name": "stdout",
     "output_type": "stream",
     "text": [
      "[Epoch 1] train loss: 40.764; train acc: 14.56; test loss: 40.765; test acc: 14.56\n"
     ]
    },
    {
     "name": "stderr",
     "output_type": "stream",
     "text": [
      " 67%|████████████████████████████████████████████████████████████████████████████████                                        | 2/3 [00:02<00:01,  1.44s/it]"
     ]
    },
    {
     "name": "stdout",
     "output_type": "stream",
     "text": [
      "[Epoch 2] train loss: 40.764; train acc: 14.56; test loss: 40.764; test acc: 14.56\n"
     ]
    },
    {
     "name": "stderr",
     "output_type": "stream",
     "text": [
      "100%|████████████████████████████████████████████████████████████████████████████████████████████████████████████████████████| 3/3 [00:04<00:00,  1.44s/it]\n"
     ]
    },
    {
     "name": "stdout",
     "output_type": "stream",
     "text": [
      "[Epoch 3] train loss: 40.764; train acc: 14.56; test loss: 40.764; test acc: 14.56\n",
      "TRAINING ITERATION #413/500\n"
     ]
    },
    {
     "name": "stderr",
     "output_type": "stream",
     "text": [
      " 33%|████████████████████████████████████████                                                                                | 1/3 [00:01<00:03,  1.52s/it]"
     ]
    },
    {
     "name": "stdout",
     "output_type": "stream",
     "text": [
      "[Epoch 1] train loss: 40.764; train acc: 14.56; test loss: 40.765; test acc: 14.55\n"
     ]
    },
    {
     "name": "stderr",
     "output_type": "stream",
     "text": [
      " 67%|████████████████████████████████████████████████████████████████████████████████                                        | 2/3 [00:02<00:01,  1.49s/it]"
     ]
    },
    {
     "name": "stdout",
     "output_type": "stream",
     "text": [
      "[Epoch 2] train loss: 40.765; train acc: 14.56; test loss: 40.765; test acc: 14.55\n"
     ]
    },
    {
     "name": "stderr",
     "output_type": "stream",
     "text": [
      "100%|████████████████████████████████████████████████████████████████████████████████████████████████████████████████████████| 3/3 [00:04<00:00,  1.48s/it]\n"
     ]
    },
    {
     "name": "stdout",
     "output_type": "stream",
     "text": [
      "[Epoch 3] train loss: 40.764; train acc: 14.56; test loss: 40.765; test acc: 14.56\n",
      "TRAINING ITERATION #414/500\n"
     ]
    },
    {
     "name": "stderr",
     "output_type": "stream",
     "text": [
      " 33%|████████████████████████████████████████                                                                                | 1/3 [00:01<00:02,  1.43s/it]"
     ]
    },
    {
     "name": "stdout",
     "output_type": "stream",
     "text": [
      "[Epoch 1] train loss: 40.763; train acc: 14.56; test loss: 40.763; test acc: 14.56\n"
     ]
    },
    {
     "name": "stderr",
     "output_type": "stream",
     "text": [
      " 67%|████████████████████████████████████████████████████████████████████████████████                                        | 2/3 [00:02<00:01,  1.46s/it]"
     ]
    },
    {
     "name": "stdout",
     "output_type": "stream",
     "text": [
      "[Epoch 2] train loss: 40.764; train acc: 14.56; test loss: 40.763; test acc: 14.56\n"
     ]
    },
    {
     "name": "stderr",
     "output_type": "stream",
     "text": [
      "100%|████████████████████████████████████████████████████████████████████████████████████████████████████████████████████████| 3/3 [00:04<00:00,  1.44s/it]\n"
     ]
    },
    {
     "name": "stdout",
     "output_type": "stream",
     "text": [
      "[Epoch 3] train loss: 40.765; train acc: 14.56; test loss: 40.763; test acc: 14.56\n",
      "TRAINING ITERATION #415/500\n"
     ]
    },
    {
     "name": "stderr",
     "output_type": "stream",
     "text": [
      " 33%|████████████████████████████████████████                                                                                | 1/3 [00:01<00:02,  1.42s/it]"
     ]
    },
    {
     "name": "stdout",
     "output_type": "stream",
     "text": [
      "[Epoch 1] train loss: 40.765; train acc: 14.55; test loss: 40.765; test acc: 14.56\n"
     ]
    },
    {
     "name": "stderr",
     "output_type": "stream",
     "text": [
      " 67%|████████████████████████████████████████████████████████████████████████████████                                        | 2/3 [00:02<00:01,  1.46s/it]"
     ]
    },
    {
     "name": "stdout",
     "output_type": "stream",
     "text": [
      "[Epoch 2] train loss: 40.765; train acc: 14.55; test loss: 40.765; test acc: 14.56\n"
     ]
    },
    {
     "name": "stderr",
     "output_type": "stream",
     "text": [
      "100%|████████████████████████████████████████████████████████████████████████████████████████████████████████████████████████| 3/3 [00:04<00:00,  1.47s/it]"
     ]
    },
    {
     "name": "stdout",
     "output_type": "stream",
     "text": [
      "[Epoch 3] train loss: 40.766; train acc: 14.55; test loss: 40.765; test acc: 14.56\n",
      "SNR: -10, 7028.720%, test BER: 0.35143598914146423                \n",
      "\n"
     ]
    },
    {
     "name": "stderr",
     "output_type": "stream",
     "text": [
      "\n"
     ]
    },
    {
     "name": "stdout",
     "output_type": "stream",
     "text": [
      "SNR: -9, 6698.053%, test BER: 0.33490267395973206                \n",
      "\n",
      "SNR: -8, 6313.187%, test BER: 0.3156593441963196                \n",
      "\n",
      "SNR: -7, 5896.120%, test BER: 0.29480600357055664                \n",
      "\n",
      "SNR: -6, 5448.827%, test BER: 0.2724413275718689                \n",
      "\n",
      "SNR: -5, 4960.920%, test BER: 0.24804599583148956                \n",
      "\n",
      "SNR: -4, 4447.133%, test BER: 0.2223566621541977                \n",
      "\n",
      "SNR: -3, 3914.453%, test BER: 0.19572266936302185                \n",
      "\n",
      "SNR: -2, 3341.760%, test BER: 0.16708800196647644                \n",
      "\n",
      "SNR: -1, 2786.173%, test BER: 0.13930866122245789                \n",
      "\n",
      "SNR: 0, 2212.107%, test BER: 0.11060533672571182                \n",
      "\n",
      "SNR: 1, 1672.267%, test BER: 0.0836133360862732                \n",
      "\n",
      "SNR: 2, 1179.813%, test BER: 0.05899066850543022                \n",
      "\n",
      "SNR: 3, 777.787%, test BER: 0.038889333605766296                \n",
      "\n",
      "SNR: 4, 470.440%, test BER: 0.02352200075984001                \n",
      "\n",
      "TRAINING ITERATION #416/500\n"
     ]
    },
    {
     "name": "stderr",
     "output_type": "stream",
     "text": [
      " 33%|████████████████████████████████████████                                                                                | 1/3 [00:01<00:02,  1.44s/it]"
     ]
    },
    {
     "name": "stdout",
     "output_type": "stream",
     "text": [
      "[Epoch 1] train loss: 40.764; train acc: 14.56; test loss: 40.764; test acc: 14.56\n"
     ]
    },
    {
     "name": "stderr",
     "output_type": "stream",
     "text": [
      " 67%|████████████████████████████████████████████████████████████████████████████████                                        | 2/3 [00:02<00:01,  1.48s/it]"
     ]
    },
    {
     "name": "stdout",
     "output_type": "stream",
     "text": [
      "[Epoch 2] train loss: 40.764; train acc: 14.56; test loss: 40.764; test acc: 14.56\n"
     ]
    },
    {
     "name": "stderr",
     "output_type": "stream",
     "text": [
      "100%|████████████████████████████████████████████████████████████████████████████████████████████████████████████████████████| 3/3 [00:04<00:00,  1.49s/it]\n"
     ]
    },
    {
     "name": "stdout",
     "output_type": "stream",
     "text": [
      "[Epoch 3] train loss: 40.763; train acc: 14.56; test loss: 40.765; test acc: 14.56\n",
      "TRAINING ITERATION #417/500\n"
     ]
    },
    {
     "name": "stderr",
     "output_type": "stream",
     "text": [
      " 33%|████████████████████████████████████████                                                                                | 1/3 [00:01<00:02,  1.45s/it]"
     ]
    },
    {
     "name": "stdout",
     "output_type": "stream",
     "text": [
      "[Epoch 1] train loss: 40.764; train acc: 14.56; test loss: 40.766; test acc: 14.55\n"
     ]
    },
    {
     "name": "stderr",
     "output_type": "stream",
     "text": [
      " 67%|████████████████████████████████████████████████████████████████████████████████                                        | 2/3 [00:02<00:01,  1.48s/it]"
     ]
    },
    {
     "name": "stdout",
     "output_type": "stream",
     "text": [
      "[Epoch 2] train loss: 40.764; train acc: 14.56; test loss: 40.766; test acc: 14.55\n"
     ]
    },
    {
     "name": "stderr",
     "output_type": "stream",
     "text": [
      "100%|████████████████████████████████████████████████████████████████████████████████████████████████████████████████████████| 3/3 [00:04<00:00,  1.46s/it]\n"
     ]
    },
    {
     "name": "stdout",
     "output_type": "stream",
     "text": [
      "[Epoch 3] train loss: 40.764; train acc: 14.56; test loss: 40.766; test acc: 14.55\n",
      "TRAINING ITERATION #418/500\n"
     ]
    },
    {
     "name": "stderr",
     "output_type": "stream",
     "text": [
      " 33%|████████████████████████████████████████                                                                                | 1/3 [00:01<00:02,  1.38s/it]"
     ]
    },
    {
     "name": "stdout",
     "output_type": "stream",
     "text": [
      "[Epoch 1] train loss: 40.765; train acc: 14.56; test loss: 40.766; test acc: 14.55\n"
     ]
    },
    {
     "name": "stderr",
     "output_type": "stream",
     "text": [
      " 67%|████████████████████████████████████████████████████████████████████████████████                                        | 2/3 [00:02<00:01,  1.42s/it]"
     ]
    },
    {
     "name": "stdout",
     "output_type": "stream",
     "text": [
      "[Epoch 2] train loss: 40.765; train acc: 14.56; test loss: 40.766; test acc: 14.55\n"
     ]
    },
    {
     "name": "stderr",
     "output_type": "stream",
     "text": [
      "100%|████████████████████████████████████████████████████████████████████████████████████████████████████████████████████████| 3/3 [00:04<00:00,  1.42s/it]\n"
     ]
    },
    {
     "name": "stdout",
     "output_type": "stream",
     "text": [
      "[Epoch 3] train loss: 40.764; train acc: 14.56; test loss: 40.765; test acc: 14.55\n",
      "TRAINING ITERATION #419/500\n"
     ]
    },
    {
     "name": "stderr",
     "output_type": "stream",
     "text": [
      " 33%|████████████████████████████████████████                                                                                | 1/3 [00:01<00:02,  1.39s/it]"
     ]
    },
    {
     "name": "stdout",
     "output_type": "stream",
     "text": [
      "[Epoch 1] train loss: 40.767; train acc: 14.55; test loss: 40.765; test acc: 14.56\n"
     ]
    },
    {
     "name": "stderr",
     "output_type": "stream",
     "text": [
      " 67%|████████████████████████████████████████████████████████████████████████████████                                        | 2/3 [00:02<00:01,  1.46s/it]"
     ]
    },
    {
     "name": "stdout",
     "output_type": "stream",
     "text": [
      "[Epoch 2] train loss: 40.765; train acc: 14.55; test loss: 40.765; test acc: 14.56\n"
     ]
    },
    {
     "name": "stderr",
     "output_type": "stream",
     "text": [
      "100%|████████████████████████████████████████████████████████████████████████████████████████████████████████████████████████| 3/3 [00:04<00:00,  1.46s/it]\n"
     ]
    },
    {
     "name": "stdout",
     "output_type": "stream",
     "text": [
      "[Epoch 3] train loss: 40.765; train acc: 14.55; test loss: 40.765; test acc: 14.56\n",
      "TRAINING ITERATION #420/500\n"
     ]
    },
    {
     "name": "stderr",
     "output_type": "stream",
     "text": [
      " 33%|████████████████████████████████████████                                                                                | 1/3 [00:01<00:02,  1.41s/it]"
     ]
    },
    {
     "name": "stdout",
     "output_type": "stream",
     "text": [
      "[Epoch 1] train loss: 40.764; train acc: 14.55; test loss: 40.767; test acc: 14.55\n"
     ]
    },
    {
     "name": "stderr",
     "output_type": "stream",
     "text": [
      " 67%|████████████████████████████████████████████████████████████████████████████████                                        | 2/3 [00:02<00:01,  1.46s/it]"
     ]
    },
    {
     "name": "stdout",
     "output_type": "stream",
     "text": [
      "[Epoch 2] train loss: 40.765; train acc: 14.55; test loss: 40.766; test acc: 14.55\n"
     ]
    },
    {
     "name": "stderr",
     "output_type": "stream",
     "text": [
      "100%|████████████████████████████████████████████████████████████████████████████████████████████████████████████████████████| 3/3 [00:04<00:00,  1.44s/it]"
     ]
    },
    {
     "name": "stdout",
     "output_type": "stream",
     "text": [
      "[Epoch 3] train loss: 40.765; train acc: 14.55; test loss: 40.768; test acc: 14.55\n",
      "SNR: -10, 7038.813%, test BER: 0.35194066166877747                \n",
      "\n"
     ]
    },
    {
     "name": "stderr",
     "output_type": "stream",
     "text": [
      "\n"
     ]
    },
    {
     "name": "stdout",
     "output_type": "stream",
     "text": [
      "SNR: -9, 6695.854%, test BER: 0.3347926735877991                \n",
      "\n",
      "SNR: -8, 6306.240%, test BER: 0.315311998128891                \n",
      "\n",
      "SNR: -7, 5900.813%, test BER: 0.29504066705703735                \n",
      "\n",
      "SNR: -6, 5446.747%, test BER: 0.2723373472690582                \n",
      "\n",
      "SNR: -5, 4948.653%, test BER: 0.2474326640367508                \n",
      "\n",
      "SNR: -4, 4448.080%, test BER: 0.22240400314331055                \n",
      "\n",
      "SNR: -3, 3906.053%, test BER: 0.19530266523361206                \n",
      "\n",
      "SNR: -2, 3348.147%, test BER: 0.1674073338508606                \n",
      "\n",
      "SNR: -1, 2779.907%, test BER: 0.13899533450603485                \n",
      "\n",
      "SNR: 0, 2208.960%, test BER: 0.11044800281524658                \n",
      "\n",
      "SNR: 1, 1668.560%, test BER: 0.08342800289392471                \n",
      "\n",
      "SNR: 2, 1184.440%, test BER: 0.05922200158238411                \n",
      "\n",
      "SNR: 3, 782.173%, test BER: 0.03910866752266884                \n",
      "\n",
      "SNR: 4, 466.253%, test BER: 0.02331266738474369                \n",
      "\n",
      "TRAINING ITERATION #421/500\n"
     ]
    },
    {
     "name": "stderr",
     "output_type": "stream",
     "text": [
      " 33%|████████████████████████████████████████                                                                                | 1/3 [00:01<00:03,  1.52s/it]"
     ]
    },
    {
     "name": "stdout",
     "output_type": "stream",
     "text": [
      "[Epoch 1] train loss: 40.765; train acc: 14.55; test loss: 40.766; test acc: 14.55\n"
     ]
    },
    {
     "name": "stderr",
     "output_type": "stream",
     "text": [
      " 67%|████████████████████████████████████████████████████████████████████████████████                                        | 2/3 [00:03<00:01,  1.57s/it]"
     ]
    },
    {
     "name": "stdout",
     "output_type": "stream",
     "text": [
      "[Epoch 2] train loss: 40.764; train acc: 14.55; test loss: 40.766; test acc: 14.55\n"
     ]
    },
    {
     "name": "stderr",
     "output_type": "stream",
     "text": [
      "100%|████████████████████████████████████████████████████████████████████████████████████████████████████████████████████████| 3/3 [00:04<00:00,  1.54s/it]\n"
     ]
    },
    {
     "name": "stdout",
     "output_type": "stream",
     "text": [
      "[Epoch 3] train loss: 40.766; train acc: 14.56; test loss: 40.765; test acc: 14.55\n",
      "TRAINING ITERATION #422/500\n"
     ]
    },
    {
     "name": "stderr",
     "output_type": "stream",
     "text": [
      " 33%|████████████████████████████████████████                                                                                | 1/3 [00:01<00:02,  1.49s/it]"
     ]
    },
    {
     "name": "stdout",
     "output_type": "stream",
     "text": [
      "[Epoch 1] train loss: 40.765; train acc: 14.56; test loss: 40.767; test acc: 14.55\n"
     ]
    },
    {
     "name": "stderr",
     "output_type": "stream",
     "text": [
      " 67%|████████████████████████████████████████████████████████████████████████████████                                        | 2/3 [00:02<00:01,  1.45s/it]"
     ]
    },
    {
     "name": "stdout",
     "output_type": "stream",
     "text": [
      "[Epoch 2] train loss: 40.764; train acc: 14.56; test loss: 40.767; test acc: 14.55\n"
     ]
    },
    {
     "name": "stderr",
     "output_type": "stream",
     "text": [
      "100%|████████████████████████████████████████████████████████████████████████████████████████████████████████████████████████| 3/3 [00:04<00:00,  1.46s/it]\n"
     ]
    },
    {
     "name": "stdout",
     "output_type": "stream",
     "text": [
      "[Epoch 3] train loss: 40.765; train acc: 14.56; test loss: 40.766; test acc: 14.55\n",
      "TRAINING ITERATION #423/500\n"
     ]
    },
    {
     "name": "stderr",
     "output_type": "stream",
     "text": [
      " 33%|████████████████████████████████████████                                                                                | 1/3 [00:01<00:02,  1.44s/it]"
     ]
    },
    {
     "name": "stdout",
     "output_type": "stream",
     "text": [
      "[Epoch 1] train loss: 40.764; train acc: 14.56; test loss: 40.764; test acc: 14.56\n"
     ]
    },
    {
     "name": "stderr",
     "output_type": "stream",
     "text": [
      " 67%|████████████████████████████████████████████████████████████████████████████████                                        | 2/3 [00:02<00:01,  1.45s/it]"
     ]
    },
    {
     "name": "stdout",
     "output_type": "stream",
     "text": [
      "[Epoch 2] train loss: 40.765; train acc: 14.56; test loss: 40.764; test acc: 14.56\n"
     ]
    },
    {
     "name": "stderr",
     "output_type": "stream",
     "text": [
      "100%|████████████████████████████████████████████████████████████████████████████████████████████████████████████████████████| 3/3 [00:04<00:00,  1.44s/it]\n"
     ]
    },
    {
     "name": "stdout",
     "output_type": "stream",
     "text": [
      "[Epoch 3] train loss: 40.764; train acc: 14.56; test loss: 40.764; test acc: 14.56\n",
      "TRAINING ITERATION #424/500\n"
     ]
    },
    {
     "name": "stderr",
     "output_type": "stream",
     "text": [
      " 33%|████████████████████████████████████████                                                                                | 1/3 [00:01<00:02,  1.50s/it]"
     ]
    },
    {
     "name": "stdout",
     "output_type": "stream",
     "text": [
      "[Epoch 1] train loss: 40.766; train acc: 14.55; test loss: 40.767; test acc: 14.55\n"
     ]
    },
    {
     "name": "stderr",
     "output_type": "stream",
     "text": [
      " 67%|████████████████████████████████████████████████████████████████████████████████                                        | 2/3 [00:02<00:01,  1.49s/it]"
     ]
    },
    {
     "name": "stdout",
     "output_type": "stream",
     "text": [
      "[Epoch 2] train loss: 40.765; train acc: 14.55; test loss: 40.766; test acc: 14.55\n"
     ]
    },
    {
     "name": "stderr",
     "output_type": "stream",
     "text": [
      "100%|████████████████████████████████████████████████████████████████████████████████████████████████████████████████████████| 3/3 [00:04<00:00,  1.48s/it]\n"
     ]
    },
    {
     "name": "stdout",
     "output_type": "stream",
     "text": [
      "[Epoch 3] train loss: 40.765; train acc: 14.55; test loss: 40.767; test acc: 14.55\n",
      "TRAINING ITERATION #425/500\n"
     ]
    },
    {
     "name": "stderr",
     "output_type": "stream",
     "text": [
      " 33%|████████████████████████████████████████                                                                                | 1/3 [00:01<00:02,  1.43s/it]"
     ]
    },
    {
     "name": "stdout",
     "output_type": "stream",
     "text": [
      "[Epoch 1] train loss: 40.767; train acc: 14.55; test loss: 40.766; test acc: 14.55\n"
     ]
    },
    {
     "name": "stderr",
     "output_type": "stream",
     "text": [
      " 67%|████████████████████████████████████████████████████████████████████████████████                                        | 2/3 [00:02<00:01,  1.43s/it]"
     ]
    },
    {
     "name": "stdout",
     "output_type": "stream",
     "text": [
      "[Epoch 2] train loss: 40.766; train acc: 14.55; test loss: 40.765; test acc: 14.55\n"
     ]
    },
    {
     "name": "stderr",
     "output_type": "stream",
     "text": [
      "100%|████████████████████████████████████████████████████████████████████████████████████████████████████████████████████████| 3/3 [00:04<00:00,  1.44s/it]"
     ]
    },
    {
     "name": "stdout",
     "output_type": "stream",
     "text": [
      "[Epoch 3] train loss: 40.765; train acc: 14.55; test loss: 40.766; test acc: 14.55\n",
      "SNR: -10, 7030.947%, test BER: 0.35154733061790466                \n",
      "\n"
     ]
    },
    {
     "name": "stderr",
     "output_type": "stream",
     "text": [
      "\n"
     ]
    },
    {
     "name": "stdout",
     "output_type": "stream",
     "text": [
      "SNR: -9, 6690.253%, test BER: 0.3345126807689667                \n",
      "\n",
      "SNR: -8, 6308.987%, test BER: 0.3154493272304535                \n",
      "\n",
      "SNR: -7, 5906.347%, test BER: 0.29531732201576233                \n",
      "\n",
      "SNR: -6, 5457.040%, test BER: 0.27285200357437134                \n",
      "\n",
      "SNR: -5, 4977.053%, test BER: 0.2488526701927185                \n",
      "\n",
      "SNR: -4, 4451.640%, test BER: 0.22258199751377106                \n",
      "\n",
      "SNR: -3, 3904.160%, test BER: 0.19520799815654755                \n",
      "\n",
      "SNR: -2, 3345.973%, test BER: 0.16729865968227386                \n",
      "\n",
      "SNR: -1, 2768.120%, test BER: 0.13840599358081818                \n",
      "\n",
      "SNR: 0, 2208.373%, test BER: 0.11041866987943649                \n",
      "\n",
      "SNR: 1, 1671.360%, test BER: 0.08356799930334091                \n",
      "\n",
      "SNR: 2, 1183.947%, test BER: 0.059197332710027695                \n",
      "\n",
      "SNR: 3, 782.280%, test BER: 0.03911399841308594                \n",
      "\n",
      "SNR: 4, 470.053%, test BER: 0.023502666503190994                \n",
      "\n",
      "TRAINING ITERATION #426/500\n"
     ]
    },
    {
     "name": "stderr",
     "output_type": "stream",
     "text": [
      " 33%|████████████████████████████████████████                                                                                | 1/3 [00:01<00:02,  1.44s/it]"
     ]
    },
    {
     "name": "stdout",
     "output_type": "stream",
     "text": [
      "[Epoch 1] train loss: 40.765; train acc: 14.55; test loss: 40.763; test acc: 14.56\n"
     ]
    },
    {
     "name": "stderr",
     "output_type": "stream",
     "text": [
      " 67%|████████████████████████████████████████████████████████████████████████████████                                        | 2/3 [00:03<00:01,  1.51s/it]"
     ]
    },
    {
     "name": "stdout",
     "output_type": "stream",
     "text": [
      "[Epoch 2] train loss: 40.765; train acc: 14.55; test loss: 40.763; test acc: 14.56\n"
     ]
    },
    {
     "name": "stderr",
     "output_type": "stream",
     "text": [
      "100%|████████████████████████████████████████████████████████████████████████████████████████████████████████████████████████| 3/3 [00:04<00:00,  1.51s/it]\n"
     ]
    },
    {
     "name": "stdout",
     "output_type": "stream",
     "text": [
      "[Epoch 3] train loss: 40.766; train acc: 14.56; test loss: 40.764; test acc: 14.56\n",
      "TRAINING ITERATION #427/500\n"
     ]
    },
    {
     "name": "stderr",
     "output_type": "stream",
     "text": [
      " 33%|████████████████████████████████████████                                                                                | 1/3 [00:01<00:02,  1.49s/it]"
     ]
    },
    {
     "name": "stdout",
     "output_type": "stream",
     "text": [
      "[Epoch 1] train loss: 40.766; train acc: 14.55; test loss: 40.763; test acc: 14.56\n"
     ]
    },
    {
     "name": "stderr",
     "output_type": "stream",
     "text": [
      " 67%|████████████████████████████████████████████████████████████████████████████████                                        | 2/3 [00:02<00:01,  1.48s/it]"
     ]
    },
    {
     "name": "stdout",
     "output_type": "stream",
     "text": [
      "[Epoch 2] train loss: 40.766; train acc: 14.55; test loss: 40.764; test acc: 14.56\n"
     ]
    },
    {
     "name": "stderr",
     "output_type": "stream",
     "text": [
      "100%|████████████████████████████████████████████████████████████████████████████████████████████████████████████████████████| 3/3 [00:04<00:00,  1.46s/it]\n"
     ]
    },
    {
     "name": "stdout",
     "output_type": "stream",
     "text": [
      "[Epoch 3] train loss: 40.765; train acc: 14.55; test loss: 40.764; test acc: 14.56\n",
      "TRAINING ITERATION #428/500\n"
     ]
    },
    {
     "name": "stderr",
     "output_type": "stream",
     "text": [
      " 33%|████████████████████████████████████████                                                                                | 1/3 [00:01<00:02,  1.44s/it]"
     ]
    },
    {
     "name": "stdout",
     "output_type": "stream",
     "text": [
      "[Epoch 1] train loss: 40.762; train acc: 14.56; test loss: 40.764; test acc: 14.56\n"
     ]
    },
    {
     "name": "stderr",
     "output_type": "stream",
     "text": [
      " 67%|████████████████████████████████████████████████████████████████████████████████                                        | 2/3 [00:02<00:01,  1.48s/it]"
     ]
    },
    {
     "name": "stdout",
     "output_type": "stream",
     "text": [
      "[Epoch 2] train loss: 40.763; train acc: 14.56; test loss: 40.764; test acc: 14.56\n"
     ]
    },
    {
     "name": "stderr",
     "output_type": "stream",
     "text": [
      "100%|████████████████████████████████████████████████████████████████████████████████████████████████████████████████████████| 3/3 [00:04<00:00,  1.46s/it]\n"
     ]
    },
    {
     "name": "stdout",
     "output_type": "stream",
     "text": [
      "[Epoch 3] train loss: 40.763; train acc: 14.56; test loss: 40.764; test acc: 14.56\n",
      "TRAINING ITERATION #429/500\n"
     ]
    },
    {
     "name": "stderr",
     "output_type": "stream",
     "text": [
      " 33%|████████████████████████████████████████                                                                                | 1/3 [00:01<00:02,  1.42s/it]"
     ]
    },
    {
     "name": "stdout",
     "output_type": "stream",
     "text": [
      "[Epoch 1] train loss: 40.766; train acc: 14.55; test loss: 40.767; test acc: 14.55\n"
     ]
    },
    {
     "name": "stderr",
     "output_type": "stream",
     "text": [
      " 67%|████████████████████████████████████████████████████████████████████████████████                                        | 2/3 [00:02<00:01,  1.45s/it]"
     ]
    },
    {
     "name": "stdout",
     "output_type": "stream",
     "text": [
      "[Epoch 2] train loss: 40.765; train acc: 14.55; test loss: 40.766; test acc: 14.55\n"
     ]
    },
    {
     "name": "stderr",
     "output_type": "stream",
     "text": [
      "100%|████████████████████████████████████████████████████████████████████████████████████████████████████████████████████████| 3/3 [00:04<00:00,  1.45s/it]\n"
     ]
    },
    {
     "name": "stdout",
     "output_type": "stream",
     "text": [
      "[Epoch 3] train loss: 40.766; train acc: 14.55; test loss: 40.766; test acc: 14.55\n",
      "TRAINING ITERATION #430/500\n"
     ]
    },
    {
     "name": "stderr",
     "output_type": "stream",
     "text": [
      " 33%|████████████████████████████████████████                                                                                | 1/3 [00:01<00:02,  1.42s/it]"
     ]
    },
    {
     "name": "stdout",
     "output_type": "stream",
     "text": [
      "[Epoch 1] train loss: 40.765; train acc: 14.55; test loss: 40.764; test acc: 14.56\n"
     ]
    },
    {
     "name": "stderr",
     "output_type": "stream",
     "text": [
      " 67%|████████████████████████████████████████████████████████████████████████████████                                        | 2/3 [00:02<00:01,  1.48s/it]"
     ]
    },
    {
     "name": "stdout",
     "output_type": "stream",
     "text": [
      "[Epoch 2] train loss: 40.765; train acc: 14.55; test loss: 40.764; test acc: 14.56\n"
     ]
    },
    {
     "name": "stderr",
     "output_type": "stream",
     "text": [
      "100%|████████████████████████████████████████████████████████████████████████████████████████████████████████████████████████| 3/3 [00:04<00:00,  1.47s/it]"
     ]
    },
    {
     "name": "stdout",
     "output_type": "stream",
     "text": [
      "[Epoch 3] train loss: 40.766; train acc: 14.55; test loss: 40.763; test acc: 14.56\n",
      "SNR: -10, 7040.240%, test BER: 0.3520120084285736                \n",
      "\n"
     ]
    },
    {
     "name": "stderr",
     "output_type": "stream",
     "text": [
      "\n"
     ]
    },
    {
     "name": "stdout",
     "output_type": "stream",
     "text": [
      "SNR: -9, 6691.227%, test BER: 0.3345613479614258                \n",
      "\n",
      "SNR: -8, 6323.907%, test BER: 0.3161953389644623                \n",
      "\n",
      "SNR: -7, 5912.320%, test BER: 0.2956160008907318                \n",
      "\n",
      "SNR: -6, 5456.533%, test BER: 0.2728266716003418                \n",
      "\n",
      "SNR: -5, 4961.520%, test BER: 0.24807600677013397                \n",
      "\n",
      "SNR: -4, 4453.547%, test BER: 0.2226773351430893                \n",
      "\n",
      "SNR: -3, 3911.787%, test BER: 0.1955893337726593                \n",
      "\n",
      "SNR: -2, 3348.987%, test BER: 0.16744934022426605                \n",
      "\n",
      "SNR: -1, 2776.680%, test BER: 0.13883399963378906                \n",
      "\n",
      "SNR: 0, 2197.280%, test BER: 0.1098639965057373                \n",
      "\n",
      "SNR: 1, 1667.720%, test BER: 0.08338599652051926                \n",
      "\n",
      "SNR: 2, 1186.227%, test BER: 0.059311334043741226                \n",
      "\n",
      "SNR: 3, 780.027%, test BER: 0.039001334458589554                \n",
      "\n",
      "SNR: 4, 464.587%, test BER: 0.023229332640767097                \n",
      "\n",
      "TRAINING ITERATION #431/500\n"
     ]
    },
    {
     "name": "stderr",
     "output_type": "stream",
     "text": [
      " 33%|████████████████████████████████████████                                                                                | 1/3 [00:01<00:02,  1.45s/it]"
     ]
    },
    {
     "name": "stdout",
     "output_type": "stream",
     "text": [
      "[Epoch 1] train loss: 40.768; train acc: 14.55; test loss: 40.767; test acc: 14.55\n"
     ]
    },
    {
     "name": "stderr",
     "output_type": "stream",
     "text": [
      " 67%|████████████████████████████████████████████████████████████████████████████████                                        | 2/3 [00:02<00:01,  1.40s/it]"
     ]
    },
    {
     "name": "stdout",
     "output_type": "stream",
     "text": [
      "[Epoch 2] train loss: 40.767; train acc: 14.55; test loss: 40.766; test acc: 14.55\n"
     ]
    },
    {
     "name": "stderr",
     "output_type": "stream",
     "text": [
      "100%|████████████████████████████████████████████████████████████████████████████████████████████████████████████████████████| 3/3 [00:04<00:00,  1.43s/it]\n"
     ]
    },
    {
     "name": "stdout",
     "output_type": "stream",
     "text": [
      "[Epoch 3] train loss: 40.767; train acc: 14.55; test loss: 40.767; test acc: 14.55\n",
      "TRAINING ITERATION #432/500\n"
     ]
    },
    {
     "name": "stderr",
     "output_type": "stream",
     "text": [
      " 33%|████████████████████████████████████████                                                                                | 1/3 [00:01<00:03,  1.62s/it]"
     ]
    },
    {
     "name": "stdout",
     "output_type": "stream",
     "text": [
      "[Epoch 1] train loss: 40.765; train acc: 14.56; test loss: 40.763; test acc: 14.56\n"
     ]
    },
    {
     "name": "stderr",
     "output_type": "stream",
     "text": [
      " 67%|████████████████████████████████████████████████████████████████████████████████                                        | 2/3 [00:03<00:01,  1.59s/it]"
     ]
    },
    {
     "name": "stdout",
     "output_type": "stream",
     "text": [
      "[Epoch 2] train loss: 40.764; train acc: 14.56; test loss: 40.764; test acc: 14.56\n"
     ]
    },
    {
     "name": "stderr",
     "output_type": "stream",
     "text": [
      "100%|████████████████████████████████████████████████████████████████████████████████████████████████████████████████████████| 3/3 [00:04<00:00,  1.56s/it]\n"
     ]
    },
    {
     "name": "stdout",
     "output_type": "stream",
     "text": [
      "[Epoch 3] train loss: 40.765; train acc: 14.56; test loss: 40.764; test acc: 14.56\n",
      "TRAINING ITERATION #433/500\n"
     ]
    },
    {
     "name": "stderr",
     "output_type": "stream",
     "text": [
      " 33%|████████████████████████████████████████                                                                                | 1/3 [00:01<00:03,  1.51s/it]"
     ]
    },
    {
     "name": "stdout",
     "output_type": "stream",
     "text": [
      "[Epoch 1] train loss: 40.765; train acc: 14.56; test loss: 40.766; test acc: 14.55\n"
     ]
    },
    {
     "name": "stderr",
     "output_type": "stream",
     "text": [
      " 67%|████████████████████████████████████████████████████████████████████████████████                                        | 2/3 [00:02<00:01,  1.46s/it]"
     ]
    },
    {
     "name": "stdout",
     "output_type": "stream",
     "text": [
      "[Epoch 2] train loss: 40.765; train acc: 14.56; test loss: 40.766; test acc: 14.55\n"
     ]
    },
    {
     "name": "stderr",
     "output_type": "stream",
     "text": [
      "100%|████████████████████████████████████████████████████████████████████████████████████████████████████████████████████████| 3/3 [00:04<00:00,  1.46s/it]\n"
     ]
    },
    {
     "name": "stdout",
     "output_type": "stream",
     "text": [
      "[Epoch 3] train loss: 40.766; train acc: 14.56; test loss: 40.767; test acc: 14.55\n",
      "TRAINING ITERATION #434/500\n"
     ]
    },
    {
     "name": "stderr",
     "output_type": "stream",
     "text": [
      " 33%|████████████████████████████████████████                                                                                | 1/3 [00:01<00:02,  1.40s/it]"
     ]
    },
    {
     "name": "stdout",
     "output_type": "stream",
     "text": [
      "[Epoch 1] train loss: 40.764; train acc: 14.56; test loss: 40.766; test acc: 14.55\n"
     ]
    },
    {
     "name": "stderr",
     "output_type": "stream",
     "text": [
      " 67%|████████████████████████████████████████████████████████████████████████████████                                        | 2/3 [00:02<00:01,  1.45s/it]"
     ]
    },
    {
     "name": "stdout",
     "output_type": "stream",
     "text": [
      "[Epoch 2] train loss: 40.764; train acc: 14.56; test loss: 40.766; test acc: 14.55\n"
     ]
    },
    {
     "name": "stderr",
     "output_type": "stream",
     "text": [
      "100%|████████████████████████████████████████████████████████████████████████████████████████████████████████████████████████| 3/3 [00:04<00:00,  1.44s/it]\n"
     ]
    },
    {
     "name": "stdout",
     "output_type": "stream",
     "text": [
      "[Epoch 3] train loss: 40.764; train acc: 14.56; test loss: 40.765; test acc: 14.55\n",
      "TRAINING ITERATION #435/500\n"
     ]
    },
    {
     "name": "stderr",
     "output_type": "stream",
     "text": [
      " 33%|████████████████████████████████████████                                                                                | 1/3 [00:01<00:02,  1.43s/it]"
     ]
    },
    {
     "name": "stdout",
     "output_type": "stream",
     "text": [
      "[Epoch 1] train loss: 40.763; train acc: 14.56; test loss: 40.763; test acc: 14.56\n"
     ]
    },
    {
     "name": "stderr",
     "output_type": "stream",
     "text": [
      " 67%|████████████████████████████████████████████████████████████████████████████████                                        | 2/3 [00:02<00:01,  1.45s/it]"
     ]
    },
    {
     "name": "stdout",
     "output_type": "stream",
     "text": [
      "[Epoch 2] train loss: 40.762; train acc: 14.56; test loss: 40.763; test acc: 14.56\n"
     ]
    },
    {
     "name": "stderr",
     "output_type": "stream",
     "text": [
      "100%|████████████████████████████████████████████████████████████████████████████████████████████████████████████████████████| 3/3 [00:04<00:00,  1.46s/it]"
     ]
    },
    {
     "name": "stdout",
     "output_type": "stream",
     "text": [
      "[Epoch 3] train loss: 40.763; train acc: 14.56; test loss: 40.762; test acc: 14.56\n",
      "SNR: -10, 7030.627%, test BER: 0.35153132677078247                \n",
      "\n"
     ]
    },
    {
     "name": "stderr",
     "output_type": "stream",
     "text": [
      "\n"
     ]
    },
    {
     "name": "stdout",
     "output_type": "stream",
     "text": [
      "SNR: -9, 6685.667%, test BER: 0.33428332209587097                \n",
      "\n",
      "SNR: -8, 6319.414%, test BER: 0.31597065925598145                \n",
      "\n",
      "SNR: -7, 5905.720%, test BER: 0.29528599977493286                \n",
      "\n",
      "SNR: -6, 5434.107%, test BER: 0.2717053294181824                \n",
      "\n",
      "SNR: -5, 4947.987%, test BER: 0.24739933013916016                \n",
      "\n",
      "SNR: -4, 4452.747%, test BER: 0.222637340426445                \n",
      "\n",
      "SNR: -3, 3899.200%, test BER: 0.19495999813079834                \n",
      "\n",
      "SNR: -2, 3346.920%, test BER: 0.16734600067138672                \n",
      "\n",
      "SNR: -1, 2777.040%, test BER: 0.13885200023651123                \n",
      "\n",
      "SNR: 0, 2207.053%, test BER: 0.11035266518592834                \n",
      "\n",
      "SNR: 1, 1669.160%, test BER: 0.08345799893140793                \n",
      "\n",
      "SNR: 2, 1184.440%, test BER: 0.05922200158238411                \n",
      "\n",
      "SNR: 3, 781.400%, test BER: 0.039069999009370804                \n",
      "\n",
      "SNR: 4, 470.227%, test BER: 0.023511333391070366                \n",
      "\n",
      "TRAINING ITERATION #436/500\n"
     ]
    },
    {
     "name": "stderr",
     "output_type": "stream",
     "text": [
      " 33%|████████████████████████████████████████                                                                                | 1/3 [00:01<00:02,  1.38s/it]"
     ]
    },
    {
     "name": "stdout",
     "output_type": "stream",
     "text": [
      "[Epoch 1] train loss: 40.766; train acc: 14.55; test loss: 40.766; test acc: 14.55\n"
     ]
    },
    {
     "name": "stderr",
     "output_type": "stream",
     "text": [
      " 67%|████████████████████████████████████████████████████████████████████████████████                                        | 2/3 [00:02<00:01,  1.44s/it]"
     ]
    },
    {
     "name": "stdout",
     "output_type": "stream",
     "text": [
      "[Epoch 2] train loss: 40.765; train acc: 14.56; test loss: 40.766; test acc: 14.55\n"
     ]
    },
    {
     "name": "stderr",
     "output_type": "stream",
     "text": [
      "100%|████████████████████████████████████████████████████████████████████████████████████████████████████████████████████████| 3/3 [00:04<00:00,  1.45s/it]\n"
     ]
    },
    {
     "name": "stdout",
     "output_type": "stream",
     "text": [
      "[Epoch 3] train loss: 40.765; train acc: 14.56; test loss: 40.766; test acc: 14.55\n",
      "TRAINING ITERATION #437/500\n"
     ]
    },
    {
     "name": "stderr",
     "output_type": "stream",
     "text": [
      " 33%|████████████████████████████████████████                                                                                | 1/3 [00:01<00:02,  1.46s/it]"
     ]
    },
    {
     "name": "stdout",
     "output_type": "stream",
     "text": [
      "[Epoch 1] train loss: 40.765; train acc: 14.56; test loss: 40.765; test acc: 14.56\n"
     ]
    },
    {
     "name": "stderr",
     "output_type": "stream",
     "text": [
      " 67%|████████████████████████████████████████████████████████████████████████████████                                        | 2/3 [00:02<00:01,  1.48s/it]"
     ]
    },
    {
     "name": "stdout",
     "output_type": "stream",
     "text": [
      "[Epoch 2] train loss: 40.765; train acc: 14.56; test loss: 40.765; test acc: 14.55\n"
     ]
    },
    {
     "name": "stderr",
     "output_type": "stream",
     "text": [
      "100%|████████████████████████████████████████████████████████████████████████████████████████████████████████████████████████| 3/3 [00:04<00:00,  1.48s/it]\n"
     ]
    },
    {
     "name": "stdout",
     "output_type": "stream",
     "text": [
      "[Epoch 3] train loss: 40.765; train acc: 14.56; test loss: 40.765; test acc: 14.55\n",
      "TRAINING ITERATION #438/500\n"
     ]
    },
    {
     "name": "stderr",
     "output_type": "stream",
     "text": [
      " 33%|████████████████████████████████████████                                                                                | 1/3 [00:01<00:02,  1.45s/it]"
     ]
    },
    {
     "name": "stdout",
     "output_type": "stream",
     "text": [
      "[Epoch 1] train loss: 40.764; train acc: 14.56; test loss: 40.765; test acc: 14.56\n"
     ]
    },
    {
     "name": "stderr",
     "output_type": "stream",
     "text": [
      " 67%|████████████████████████████████████████████████████████████████████████████████                                        | 2/3 [00:02<00:01,  1.48s/it]"
     ]
    },
    {
     "name": "stdout",
     "output_type": "stream",
     "text": [
      "[Epoch 2] train loss: 40.763; train acc: 14.56; test loss: 40.765; test acc: 14.56\n"
     ]
    },
    {
     "name": "stderr",
     "output_type": "stream",
     "text": [
      "100%|████████████████████████████████████████████████████████████████████████████████████████████████████████████████████████| 3/3 [00:04<00:00,  1.46s/it]\n"
     ]
    },
    {
     "name": "stdout",
     "output_type": "stream",
     "text": [
      "[Epoch 3] train loss: 40.763; train acc: 14.56; test loss: 40.765; test acc: 14.56\n",
      "TRAINING ITERATION #439/500\n"
     ]
    },
    {
     "name": "stderr",
     "output_type": "stream",
     "text": [
      " 33%|████████████████████████████████████████                                                                                | 1/3 [00:01<00:02,  1.40s/it]"
     ]
    },
    {
     "name": "stdout",
     "output_type": "stream",
     "text": [
      "[Epoch 1] train loss: 40.764; train acc: 14.56; test loss: 40.764; test acc: 14.56\n"
     ]
    },
    {
     "name": "stderr",
     "output_type": "stream",
     "text": [
      " 67%|████████████████████████████████████████████████████████████████████████████████                                        | 2/3 [00:02<00:01,  1.42s/it]"
     ]
    },
    {
     "name": "stdout",
     "output_type": "stream",
     "text": [
      "[Epoch 2] train loss: 40.763; train acc: 14.56; test loss: 40.764; test acc: 14.56\n"
     ]
    },
    {
     "name": "stderr",
     "output_type": "stream",
     "text": [
      "100%|████████████████████████████████████████████████████████████████████████████████████████████████████████████████████████| 3/3 [00:04<00:00,  1.43s/it]\n"
     ]
    },
    {
     "name": "stdout",
     "output_type": "stream",
     "text": [
      "[Epoch 3] train loss: 40.764; train acc: 14.56; test loss: 40.763; test acc: 14.56\n",
      "TRAINING ITERATION #440/500\n"
     ]
    },
    {
     "name": "stderr",
     "output_type": "stream",
     "text": [
      " 33%|████████████████████████████████████████                                                                                | 1/3 [00:01<00:02,  1.38s/it]"
     ]
    },
    {
     "name": "stdout",
     "output_type": "stream",
     "text": [
      "[Epoch 1] train loss: 40.764; train acc: 14.56; test loss: 40.767; test acc: 14.55\n"
     ]
    },
    {
     "name": "stderr",
     "output_type": "stream",
     "text": [
      " 67%|████████████████████████████████████████████████████████████████████████████████                                        | 2/3 [00:02<00:01,  1.46s/it]"
     ]
    },
    {
     "name": "stdout",
     "output_type": "stream",
     "text": [
      "[Epoch 2] train loss: 40.764; train acc: 14.56; test loss: 40.765; test acc: 14.55\n"
     ]
    },
    {
     "name": "stderr",
     "output_type": "stream",
     "text": [
      "100%|████████████████████████████████████████████████████████████████████████████████████████████████████████████████████████| 3/3 [00:04<00:00,  1.46s/it]"
     ]
    },
    {
     "name": "stdout",
     "output_type": "stream",
     "text": [
      "[Epoch 3] train loss: 40.764; train acc: 14.56; test loss: 40.765; test acc: 14.55\n",
      "SNR: -10, 7035.480%, test BER: 0.3517740070819855                \n",
      "\n"
     ]
    },
    {
     "name": "stderr",
     "output_type": "stream",
     "text": [
      "\n"
     ]
    },
    {
     "name": "stdout",
     "output_type": "stream",
     "text": [
      "SNR: -9, 6684.400%, test BER: 0.3342199921607971                \n",
      "\n",
      "SNR: -8, 6307.107%, test BER: 0.3153553307056427                \n",
      "\n",
      "SNR: -7, 5889.080%, test BER: 0.29445400834083557                \n",
      "\n",
      "SNR: -6, 5445.827%, test BER: 0.2722913324832916                \n",
      "\n",
      "SNR: -5, 4966.107%, test BER: 0.2483053356409073                \n",
      "\n",
      "SNR: -4, 4455.640%, test BER: 0.22278200089931488                \n",
      "\n",
      "SNR: -3, 3908.280%, test BER: 0.1954140067100525                \n",
      "\n",
      "SNR: -2, 3341.493%, test BER: 0.16707466542720795                \n",
      "\n",
      "SNR: -1, 2768.880%, test BER: 0.13844400644302368                \n",
      "\n",
      "SNR: 0, 2199.680%, test BER: 0.10998400300741196                \n",
      "\n",
      "SNR: 1, 1663.360%, test BER: 0.08316799998283386                \n",
      "\n",
      "SNR: 2, 1195.893%, test BER: 0.05979466810822487                \n",
      "\n",
      "SNR: 3, 780.587%, test BER: 0.039029333740472794                \n",
      "\n",
      "SNR: 4, 470.453%, test BER: 0.023522667586803436                \n",
      "\n",
      "TRAINING ITERATION #441/500\n"
     ]
    },
    {
     "name": "stderr",
     "output_type": "stream",
     "text": [
      " 33%|████████████████████████████████████████                                                                                | 1/3 [00:01<00:02,  1.41s/it]"
     ]
    },
    {
     "name": "stdout",
     "output_type": "stream",
     "text": [
      "[Epoch 1] train loss: 40.765; train acc: 14.56; test loss: 40.764; test acc: 14.56\n"
     ]
    },
    {
     "name": "stderr",
     "output_type": "stream",
     "text": [
      " 67%|████████████████████████████████████████████████████████████████████████████████                                        | 2/3 [00:02<00:01,  1.44s/it]"
     ]
    },
    {
     "name": "stdout",
     "output_type": "stream",
     "text": [
      "[Epoch 2] train loss: 40.764; train acc: 14.56; test loss: 40.764; test acc: 14.56\n"
     ]
    },
    {
     "name": "stderr",
     "output_type": "stream",
     "text": [
      "100%|████████████████████████████████████████████████████████████████████████████████████████████████████████████████████████| 3/3 [00:04<00:00,  1.44s/it]\n"
     ]
    },
    {
     "name": "stdout",
     "output_type": "stream",
     "text": [
      "[Epoch 3] train loss: 40.764; train acc: 14.56; test loss: 40.764; test acc: 14.56\n",
      "TRAINING ITERATION #442/500\n"
     ]
    },
    {
     "name": "stderr",
     "output_type": "stream",
     "text": [
      " 33%|████████████████████████████████████████                                                                                | 1/3 [00:01<00:02,  1.46s/it]"
     ]
    },
    {
     "name": "stdout",
     "output_type": "stream",
     "text": [
      "[Epoch 1] train loss: 40.766; train acc: 14.55; test loss: 40.765; test acc: 14.56\n"
     ]
    },
    {
     "name": "stderr",
     "output_type": "stream",
     "text": [
      " 67%|████████████████████████████████████████████████████████████████████████████████                                        | 2/3 [00:02<00:01,  1.41s/it]"
     ]
    },
    {
     "name": "stdout",
     "output_type": "stream",
     "text": [
      "[Epoch 2] train loss: 40.766; train acc: 14.55; test loss: 40.765; test acc: 14.56\n"
     ]
    },
    {
     "name": "stderr",
     "output_type": "stream",
     "text": [
      "100%|████████████████████████████████████████████████████████████████████████████████████████████████████████████████████████| 3/3 [00:04<00:00,  1.42s/it]\n"
     ]
    },
    {
     "name": "stdout",
     "output_type": "stream",
     "text": [
      "[Epoch 3] train loss: 40.765; train acc: 14.55; test loss: 40.764; test acc: 14.56\n",
      "TRAINING ITERATION #443/500\n"
     ]
    },
    {
     "name": "stderr",
     "output_type": "stream",
     "text": [
      " 33%|████████████████████████████████████████                                                                                | 1/3 [00:01<00:02,  1.39s/it]"
     ]
    },
    {
     "name": "stdout",
     "output_type": "stream",
     "text": [
      "[Epoch 1] train loss: 40.764; train acc: 14.56; test loss: 40.764; test acc: 14.56\n"
     ]
    },
    {
     "name": "stderr",
     "output_type": "stream",
     "text": [
      " 67%|████████████████████████████████████████████████████████████████████████████████                                        | 2/3 [00:02<00:01,  1.49s/it]"
     ]
    },
    {
     "name": "stdout",
     "output_type": "stream",
     "text": [
      "[Epoch 2] train loss: 40.764; train acc: 14.56; test loss: 40.763; test acc: 14.56\n"
     ]
    },
    {
     "name": "stderr",
     "output_type": "stream",
     "text": [
      "100%|████████████████████████████████████████████████████████████████████████████████████████████████████████████████████████| 3/3 [00:04<00:00,  1.48s/it]\n"
     ]
    },
    {
     "name": "stdout",
     "output_type": "stream",
     "text": [
      "[Epoch 3] train loss: 40.764; train acc: 14.56; test loss: 40.763; test acc: 14.56\n",
      "TRAINING ITERATION #444/500\n"
     ]
    },
    {
     "name": "stderr",
     "output_type": "stream",
     "text": [
      " 33%|████████████████████████████████████████                                                                                | 1/3 [00:01<00:02,  1.46s/it]"
     ]
    },
    {
     "name": "stdout",
     "output_type": "stream",
     "text": [
      "[Epoch 1] train loss: 40.763; train acc: 14.56; test loss: 40.764; test acc: 14.56\n"
     ]
    },
    {
     "name": "stderr",
     "output_type": "stream",
     "text": [
      " 67%|████████████████████████████████████████████████████████████████████████████████                                        | 2/3 [00:02<00:01,  1.50s/it]"
     ]
    },
    {
     "name": "stdout",
     "output_type": "stream",
     "text": [
      "[Epoch 2] train loss: 40.763; train acc: 14.56; test loss: 40.764; test acc: 14.56\n"
     ]
    },
    {
     "name": "stderr",
     "output_type": "stream",
     "text": [
      "100%|████████████████████████████████████████████████████████████████████████████████████████████████████████████████████████| 3/3 [00:04<00:00,  1.48s/it]\n"
     ]
    },
    {
     "name": "stdout",
     "output_type": "stream",
     "text": [
      "[Epoch 3] train loss: 40.763; train acc: 14.56; test loss: 40.763; test acc: 14.56\n",
      "TRAINING ITERATION #445/500\n"
     ]
    },
    {
     "name": "stderr",
     "output_type": "stream",
     "text": [
      " 33%|████████████████████████████████████████                                                                                | 1/3 [00:01<00:02,  1.43s/it]"
     ]
    },
    {
     "name": "stdout",
     "output_type": "stream",
     "text": [
      "[Epoch 1] train loss: 40.762; train acc: 14.57; test loss: 40.764; test acc: 14.56\n"
     ]
    },
    {
     "name": "stderr",
     "output_type": "stream",
     "text": [
      " 67%|████████████████████████████████████████████████████████████████████████████████                                        | 2/3 [00:02<00:01,  1.43s/it]"
     ]
    },
    {
     "name": "stdout",
     "output_type": "stream",
     "text": [
      "[Epoch 2] train loss: 40.761; train acc: 14.57; test loss: 40.764; test acc: 14.56\n"
     ]
    },
    {
     "name": "stderr",
     "output_type": "stream",
     "text": [
      "100%|████████████████████████████████████████████████████████████████████████████████████████████████████████████████████████| 3/3 [00:04<00:00,  1.42s/it]"
     ]
    },
    {
     "name": "stdout",
     "output_type": "stream",
     "text": [
      "[Epoch 3] train loss: 40.761; train acc: 14.57; test loss: 40.764; test acc: 14.56\n",
      "SNR: -10, 7033.333%, test BER: 0.351666659116745                \n",
      "\n"
     ]
    },
    {
     "name": "stderr",
     "output_type": "stream",
     "text": [
      "\n"
     ]
    },
    {
     "name": "stdout",
     "output_type": "stream",
     "text": [
      "SNR: -9, 6688.040%, test BER: 0.3344019949436188                \n",
      "\n",
      "SNR: -8, 6301.107%, test BER: 0.31505534052848816                \n",
      "\n",
      "SNR: -7, 5904.693%, test BER: 0.29523468017578125                \n",
      "\n",
      "SNR: -6, 5446.493%, test BER: 0.27232468128204346                \n",
      "\n",
      "SNR: -5, 4966.840%, test BER: 0.24834200739860535                \n",
      "\n",
      "SNR: -4, 4448.440%, test BER: 0.22242200374603271                \n",
      "\n",
      "SNR: -3, 3905.587%, test BER: 0.1952793300151825                \n",
      "\n",
      "SNR: -2, 3348.067%, test BER: 0.16740334033966064                \n",
      "\n",
      "SNR: -1, 2766.827%, test BER: 0.13834133744239807                \n",
      "\n",
      "SNR: 0, 2209.160%, test BER: 0.11045800149440765                \n",
      "\n",
      "SNR: 1, 1668.893%, test BER: 0.08344466984272003                \n",
      "\n",
      "SNR: 2, 1182.867%, test BER: 0.05914333462715149                \n",
      "\n",
      "SNR: 3, 782.533%, test BER: 0.039126668125391006                \n",
      "\n",
      "SNR: 4, 467.267%, test BER: 0.023363333195447922                \n",
      "\n",
      "TRAINING ITERATION #446/500\n"
     ]
    },
    {
     "name": "stderr",
     "output_type": "stream",
     "text": [
      " 33%|████████████████████████████████████████                                                                                | 1/3 [00:01<00:02,  1.43s/it]"
     ]
    },
    {
     "name": "stdout",
     "output_type": "stream",
     "text": [
      "[Epoch 1] train loss: 40.763; train acc: 14.56; test loss: 40.766; test acc: 14.55\n"
     ]
    },
    {
     "name": "stderr",
     "output_type": "stream",
     "text": [
      " 67%|████████████████████████████████████████████████████████████████████████████████                                        | 2/3 [00:02<00:01,  1.45s/it]"
     ]
    },
    {
     "name": "stdout",
     "output_type": "stream",
     "text": [
      "[Epoch 2] train loss: 40.764; train acc: 14.56; test loss: 40.766; test acc: 14.55\n"
     ]
    },
    {
     "name": "stderr",
     "output_type": "stream",
     "text": [
      "100%|████████████████████████████████████████████████████████████████████████████████████████████████████████████████████████| 3/3 [00:04<00:00,  1.44s/it]\n"
     ]
    },
    {
     "name": "stdout",
     "output_type": "stream",
     "text": [
      "[Epoch 3] train loss: 40.764; train acc: 14.56; test loss: 40.766; test acc: 14.55\n",
      "TRAINING ITERATION #447/500\n"
     ]
    },
    {
     "name": "stderr",
     "output_type": "stream",
     "text": [
      " 33%|████████████████████████████████████████                                                                                | 1/3 [00:01<00:02,  1.43s/it]"
     ]
    },
    {
     "name": "stdout",
     "output_type": "stream",
     "text": [
      "[Epoch 1] train loss: 40.763; train acc: 14.56; test loss: 40.764; test acc: 14.56\n"
     ]
    },
    {
     "name": "stderr",
     "output_type": "stream",
     "text": [
      " 67%|████████████████████████████████████████████████████████████████████████████████                                        | 2/3 [00:02<00:01,  1.45s/it]"
     ]
    },
    {
     "name": "stdout",
     "output_type": "stream",
     "text": [
      "[Epoch 2] train loss: 40.763; train acc: 14.56; test loss: 40.765; test acc: 14.55\n"
     ]
    },
    {
     "name": "stderr",
     "output_type": "stream",
     "text": [
      "100%|████████████████████████████████████████████████████████████████████████████████████████████████████████████████████████| 3/3 [00:04<00:00,  1.46s/it]\n"
     ]
    },
    {
     "name": "stdout",
     "output_type": "stream",
     "text": [
      "[Epoch 3] train loss: 40.763; train acc: 14.56; test loss: 40.765; test acc: 14.55\n",
      "TRAINING ITERATION #448/500\n"
     ]
    },
    {
     "name": "stderr",
     "output_type": "stream",
     "text": [
      " 33%|████████████████████████████████████████                                                                                | 1/3 [00:01<00:02,  1.42s/it]"
     ]
    },
    {
     "name": "stdout",
     "output_type": "stream",
     "text": [
      "[Epoch 1] train loss: 40.765; train acc: 14.56; test loss: 40.765; test acc: 14.55\n"
     ]
    },
    {
     "name": "stderr",
     "output_type": "stream",
     "text": [
      " 67%|████████████████████████████████████████████████████████████████████████████████                                        | 2/3 [00:02<00:01,  1.45s/it]"
     ]
    },
    {
     "name": "stdout",
     "output_type": "stream",
     "text": [
      "[Epoch 2] train loss: 40.764; train acc: 14.56; test loss: 40.765; test acc: 14.55\n"
     ]
    },
    {
     "name": "stderr",
     "output_type": "stream",
     "text": [
      "100%|████████████████████████████████████████████████████████████████████████████████████████████████████████████████████████| 3/3 [00:04<00:00,  1.44s/it]\n"
     ]
    },
    {
     "name": "stdout",
     "output_type": "stream",
     "text": [
      "[Epoch 3] train loss: 40.766; train acc: 14.56; test loss: 40.767; test acc: 14.55\n",
      "TRAINING ITERATION #449/500\n"
     ]
    },
    {
     "name": "stderr",
     "output_type": "stream",
     "text": [
      " 33%|████████████████████████████████████████                                                                                | 1/3 [00:01<00:03,  1.54s/it]"
     ]
    },
    {
     "name": "stdout",
     "output_type": "stream",
     "text": [
      "[Epoch 1] train loss: 40.764; train acc: 14.56; test loss: 40.764; test acc: 14.56\n"
     ]
    },
    {
     "name": "stderr",
     "output_type": "stream",
     "text": [
      " 67%|████████████████████████████████████████████████████████████████████████████████                                        | 2/3 [00:03<00:01,  1.58s/it]"
     ]
    },
    {
     "name": "stdout",
     "output_type": "stream",
     "text": [
      "[Epoch 2] train loss: 40.763; train acc: 14.56; test loss: 40.764; test acc: 14.56\n"
     ]
    },
    {
     "name": "stderr",
     "output_type": "stream",
     "text": [
      "100%|████████████████████████████████████████████████████████████████████████████████████████████████████████████████████████| 3/3 [00:04<00:00,  1.55s/it]\n"
     ]
    },
    {
     "name": "stdout",
     "output_type": "stream",
     "text": [
      "[Epoch 3] train loss: 40.764; train acc: 14.56; test loss: 40.764; test acc: 14.56\n",
      "TRAINING ITERATION #450/500\n"
     ]
    },
    {
     "name": "stderr",
     "output_type": "stream",
     "text": [
      " 33%|████████████████████████████████████████                                                                                | 1/3 [00:01<00:02,  1.41s/it]"
     ]
    },
    {
     "name": "stdout",
     "output_type": "stream",
     "text": [
      "[Epoch 1] train loss: 40.764; train acc: 14.56; test loss: 40.764; test acc: 14.56\n"
     ]
    },
    {
     "name": "stderr",
     "output_type": "stream",
     "text": [
      " 67%|████████████████████████████████████████████████████████████████████████████████                                        | 2/3 [00:02<00:01,  1.45s/it]"
     ]
    },
    {
     "name": "stdout",
     "output_type": "stream",
     "text": [
      "[Epoch 2] train loss: 40.764; train acc: 14.56; test loss: 40.763; test acc: 14.56\n"
     ]
    },
    {
     "name": "stderr",
     "output_type": "stream",
     "text": [
      "100%|████████████████████████████████████████████████████████████████████████████████████████████████████████████████████████| 3/3 [00:04<00:00,  1.45s/it]"
     ]
    },
    {
     "name": "stdout",
     "output_type": "stream",
     "text": [
      "[Epoch 3] train loss: 40.764; train acc: 14.56; test loss: 40.763; test acc: 14.56\n",
      "SNR: -10, 7035.760%, test BER: 0.3517880141735077                \n",
      "\n"
     ]
    },
    {
     "name": "stderr",
     "output_type": "stream",
     "text": [
      "\n"
     ]
    },
    {
     "name": "stdout",
     "output_type": "stream",
     "text": [
      "SNR: -9, 6695.827%, test BER: 0.3347913324832916                \n",
      "\n",
      "SNR: -8, 6310.693%, test BER: 0.31553468108177185                \n",
      "\n",
      "SNR: -7, 5915.827%, test BER: 0.2957913279533386                \n",
      "\n",
      "SNR: -6, 5455.227%, test BER: 0.27276134490966797                \n",
      "\n",
      "SNR: -5, 4970.320%, test BER: 0.2485159933567047                \n",
      "\n",
      "SNR: -4, 4450.773%, test BER: 0.22253866493701935                \n",
      "\n",
      "SNR: -3, 3897.333%, test BER: 0.19486667215824127                \n",
      "\n",
      "SNR: -2, 3347.760%, test BER: 0.16738800704479218                \n",
      "\n",
      "SNR: -1, 2777.187%, test BER: 0.1388593316078186                \n",
      "\n",
      "SNR: 0, 2209.853%, test BER: 0.11049266904592514                \n",
      "\n",
      "SNR: 1, 1665.533%, test BER: 0.08327666670084                \n",
      "\n",
      "SNR: 2, 1185.347%, test BER: 0.05926733464002609                \n",
      "\n",
      "SNR: 3, 783.013%, test BER: 0.0391506664454937                \n",
      "\n",
      "SNR: 4, 467.627%, test BER: 0.02338133379817009                \n",
      "\n",
      "TRAINING ITERATION #451/500\n"
     ]
    },
    {
     "name": "stderr",
     "output_type": "stream",
     "text": [
      " 33%|████████████████████████████████████████                                                                                | 1/3 [00:01<00:02,  1.46s/it]"
     ]
    },
    {
     "name": "stdout",
     "output_type": "stream",
     "text": [
      "[Epoch 1] train loss: 40.762; train acc: 14.56; test loss: 40.762; test acc: 14.56\n"
     ]
    },
    {
     "name": "stderr",
     "output_type": "stream",
     "text": [
      " 67%|████████████████████████████████████████████████████████████████████████████████                                        | 2/3 [00:02<00:01,  1.43s/it]"
     ]
    },
    {
     "name": "stdout",
     "output_type": "stream",
     "text": [
      "[Epoch 2] train loss: 40.762; train acc: 14.56; test loss: 40.763; test acc: 14.56\n"
     ]
    },
    {
     "name": "stderr",
     "output_type": "stream",
     "text": [
      "100%|████████████████████████████████████████████████████████████████████████████████████████████████████████████████████████| 3/3 [00:04<00:00,  1.42s/it]\n"
     ]
    },
    {
     "name": "stdout",
     "output_type": "stream",
     "text": [
      "[Epoch 3] train loss: 40.763; train acc: 14.56; test loss: 40.762; test acc: 14.56\n",
      "TRAINING ITERATION #452/500\n"
     ]
    },
    {
     "name": "stderr",
     "output_type": "stream",
     "text": [
      " 33%|████████████████████████████████████████                                                                                | 1/3 [00:01<00:02,  1.48s/it]"
     ]
    },
    {
     "name": "stdout",
     "output_type": "stream",
     "text": [
      "[Epoch 1] train loss: 40.763; train acc: 14.56; test loss: 40.765; test acc: 14.56\n"
     ]
    },
    {
     "name": "stderr",
     "output_type": "stream",
     "text": [
      " 67%|████████████████████████████████████████████████████████████████████████████████                                        | 2/3 [00:02<00:01,  1.41s/it]"
     ]
    },
    {
     "name": "stdout",
     "output_type": "stream",
     "text": [
      "[Epoch 2] train loss: 40.764; train acc: 14.56; test loss: 40.765; test acc: 14.56\n"
     ]
    },
    {
     "name": "stderr",
     "output_type": "stream",
     "text": [
      "100%|████████████████████████████████████████████████████████████████████████████████████████████████████████████████████████| 3/3 [00:04<00:00,  1.42s/it]\n"
     ]
    },
    {
     "name": "stdout",
     "output_type": "stream",
     "text": [
      "[Epoch 3] train loss: 40.763; train acc: 14.56; test loss: 40.764; test acc: 14.56\n",
      "TRAINING ITERATION #453/500\n"
     ]
    },
    {
     "name": "stderr",
     "output_type": "stream",
     "text": [
      " 33%|████████████████████████████████████████                                                                                | 1/3 [00:01<00:03,  1.51s/it]"
     ]
    },
    {
     "name": "stdout",
     "output_type": "stream",
     "text": [
      "[Epoch 1] train loss: 40.764; train acc: 14.56; test loss: 40.764; test acc: 14.56\n"
     ]
    },
    {
     "name": "stderr",
     "output_type": "stream",
     "text": [
      " 67%|████████████████████████████████████████████████████████████████████████████████                                        | 2/3 [00:03<00:01,  1.51s/it]"
     ]
    },
    {
     "name": "stdout",
     "output_type": "stream",
     "text": [
      "[Epoch 2] train loss: 40.764; train acc: 14.56; test loss: 40.764; test acc: 14.56\n"
     ]
    },
    {
     "name": "stderr",
     "output_type": "stream",
     "text": [
      "100%|████████████████████████████████████████████████████████████████████████████████████████████████████████████████████████| 3/3 [00:04<00:00,  1.51s/it]\n"
     ]
    },
    {
     "name": "stdout",
     "output_type": "stream",
     "text": [
      "[Epoch 3] train loss: 40.765; train acc: 14.56; test loss: 40.765; test acc: 14.56\n",
      "TRAINING ITERATION #454/500\n"
     ]
    },
    {
     "name": "stderr",
     "output_type": "stream",
     "text": [
      " 33%|████████████████████████████████████████                                                                                | 1/3 [00:01<00:02,  1.39s/it]"
     ]
    },
    {
     "name": "stdout",
     "output_type": "stream",
     "text": [
      "[Epoch 1] train loss: 40.763; train acc: 14.56; test loss: 40.764; test acc: 14.56\n"
     ]
    },
    {
     "name": "stderr",
     "output_type": "stream",
     "text": [
      " 67%|████████████████████████████████████████████████████████████████████████████████                                        | 2/3 [00:02<00:01,  1.44s/it]"
     ]
    },
    {
     "name": "stdout",
     "output_type": "stream",
     "text": [
      "[Epoch 2] train loss: 40.763; train acc: 14.56; test loss: 40.763; test acc: 14.56\n"
     ]
    },
    {
     "name": "stderr",
     "output_type": "stream",
     "text": [
      "100%|████████████████████████████████████████████████████████████████████████████████████████████████████████████████████████| 3/3 [00:04<00:00,  1.46s/it]\n"
     ]
    },
    {
     "name": "stdout",
     "output_type": "stream",
     "text": [
      "[Epoch 3] train loss: 40.763; train acc: 14.56; test loss: 40.764; test acc: 14.56\n",
      "TRAINING ITERATION #455/500\n"
     ]
    },
    {
     "name": "stderr",
     "output_type": "stream",
     "text": [
      " 33%|████████████████████████████████████████                                                                                | 1/3 [00:01<00:02,  1.48s/it]"
     ]
    },
    {
     "name": "stdout",
     "output_type": "stream",
     "text": [
      "[Epoch 1] train loss: 40.764; train acc: 14.56; test loss: 40.764; test acc: 14.56\n"
     ]
    },
    {
     "name": "stderr",
     "output_type": "stream",
     "text": [
      " 67%|████████████████████████████████████████████████████████████████████████████████                                        | 2/3 [00:03<00:01,  1.54s/it]"
     ]
    },
    {
     "name": "stdout",
     "output_type": "stream",
     "text": [
      "[Epoch 2] train loss: 40.763; train acc: 14.56; test loss: 40.764; test acc: 14.56\n"
     ]
    },
    {
     "name": "stderr",
     "output_type": "stream",
     "text": [
      "100%|████████████████████████████████████████████████████████████████████████████████████████████████████████████████████████| 3/3 [00:04<00:00,  1.51s/it]"
     ]
    },
    {
     "name": "stdout",
     "output_type": "stream",
     "text": [
      "[Epoch 3] train loss: 40.764; train acc: 14.56; test loss: 40.764; test acc: 14.56\n",
      "SNR: -10, 7035.133%, test BER: 0.35175666213035583                \n",
      "\n"
     ]
    },
    {
     "name": "stderr",
     "output_type": "stream",
     "text": [
      "\n"
     ]
    },
    {
     "name": "stdout",
     "output_type": "stream",
     "text": [
      "SNR: -9, 6686.467%, test BER: 0.33432334661483765                \n",
      "\n",
      "SNR: -8, 6325.213%, test BER: 0.3162606656551361                \n",
      "\n",
      "SNR: -7, 5899.414%, test BER: 0.29497066140174866                \n",
      "\n",
      "SNR: -6, 5453.560%, test BER: 0.2726779878139496                \n",
      "\n",
      "SNR: -5, 4971.667%, test BER: 0.2485833317041397                \n",
      "\n",
      "SNR: -4, 4447.227%, test BER: 0.22236132621765137                \n",
      "\n",
      "SNR: -3, 3900.933%, test BER: 0.19504666328430176                \n",
      "\n",
      "SNR: -2, 3341.640%, test BER: 0.16708199679851532                \n",
      "\n",
      "SNR: -1, 2783.147%, test BER: 0.13915733993053436                \n",
      "\n",
      "SNR: 0, 2202.933%, test BER: 0.110146664083004                \n",
      "\n",
      "SNR: 1, 1658.773%, test BER: 0.08293866366147995                \n",
      "\n",
      "SNR: 2, 1176.973%, test BER: 0.05884866788983345                \n",
      "\n",
      "SNR: 3, 776.173%, test BER: 0.0388086661696434                \n",
      "\n",
      "SNR: 4, 463.280%, test BER: 0.02316400036215782                \n",
      "\n",
      "TRAINING ITERATION #456/500\n"
     ]
    },
    {
     "name": "stderr",
     "output_type": "stream",
     "text": [
      " 33%|████████████████████████████████████████                                                                                | 1/3 [00:01<00:02,  1.40s/it]"
     ]
    },
    {
     "name": "stdout",
     "output_type": "stream",
     "text": [
      "[Epoch 1] train loss: 40.764; train acc: 14.56; test loss: 40.765; test acc: 14.56\n"
     ]
    },
    {
     "name": "stderr",
     "output_type": "stream",
     "text": [
      " 67%|████████████████████████████████████████████████████████████████████████████████                                        | 2/3 [00:02<00:01,  1.46s/it]"
     ]
    },
    {
     "name": "stdout",
     "output_type": "stream",
     "text": [
      "[Epoch 2] train loss: 40.764; train acc: 14.56; test loss: 40.765; test acc: 14.56\n"
     ]
    },
    {
     "name": "stderr",
     "output_type": "stream",
     "text": [
      "100%|████████████████████████████████████████████████████████████████████████████████████████████████████████████████████████| 3/3 [00:04<00:00,  1.45s/it]\n"
     ]
    },
    {
     "name": "stdout",
     "output_type": "stream",
     "text": [
      "[Epoch 3] train loss: 40.764; train acc: 14.56; test loss: 40.764; test acc: 14.56\n",
      "TRAINING ITERATION #457/500\n"
     ]
    },
    {
     "name": "stderr",
     "output_type": "stream",
     "text": [
      " 33%|████████████████████████████████████████                                                                                | 1/3 [00:01<00:02,  1.48s/it]"
     ]
    },
    {
     "name": "stdout",
     "output_type": "stream",
     "text": [
      "[Epoch 1] train loss: 40.765; train acc: 14.56; test loss: 40.765; test acc: 14.55\n"
     ]
    },
    {
     "name": "stderr",
     "output_type": "stream",
     "text": [
      " 67%|████████████████████████████████████████████████████████████████████████████████                                        | 2/3 [00:03<00:01,  1.56s/it]"
     ]
    },
    {
     "name": "stdout",
     "output_type": "stream",
     "text": [
      "[Epoch 2] train loss: 40.765; train acc: 14.56; test loss: 40.765; test acc: 14.56\n"
     ]
    },
    {
     "name": "stderr",
     "output_type": "stream",
     "text": [
      "100%|████████████████████████████████████████████████████████████████████████████████████████████████████████████████████████| 3/3 [00:04<00:00,  1.53s/it]\n"
     ]
    },
    {
     "name": "stdout",
     "output_type": "stream",
     "text": [
      "[Epoch 3] train loss: 40.766; train acc: 14.56; test loss: 40.765; test acc: 14.55\n",
      "TRAINING ITERATION #458/500\n"
     ]
    },
    {
     "name": "stderr",
     "output_type": "stream",
     "text": [
      " 33%|████████████████████████████████████████                                                                                | 1/3 [00:01<00:02,  1.42s/it]"
     ]
    },
    {
     "name": "stdout",
     "output_type": "stream",
     "text": [
      "[Epoch 1] train loss: 40.763; train acc: 14.56; test loss: 40.763; test acc: 14.56\n"
     ]
    },
    {
     "name": "stderr",
     "output_type": "stream",
     "text": [
      " 67%|████████████████████████████████████████████████████████████████████████████████                                        | 2/3 [00:02<00:01,  1.46s/it]"
     ]
    },
    {
     "name": "stdout",
     "output_type": "stream",
     "text": [
      "[Epoch 2] train loss: 40.762; train acc: 14.56; test loss: 40.763; test acc: 14.56\n"
     ]
    },
    {
     "name": "stderr",
     "output_type": "stream",
     "text": [
      "100%|████████████████████████████████████████████████████████████████████████████████████████████████████████████████████████| 3/3 [00:04<00:00,  1.44s/it]\n"
     ]
    },
    {
     "name": "stdout",
     "output_type": "stream",
     "text": [
      "[Epoch 3] train loss: 40.763; train acc: 14.56; test loss: 40.763; test acc: 14.56\n",
      "TRAINING ITERATION #459/500\n"
     ]
    },
    {
     "name": "stderr",
     "output_type": "stream",
     "text": [
      " 33%|████████████████████████████████████████                                                                                | 1/3 [00:01<00:02,  1.41s/it]"
     ]
    },
    {
     "name": "stdout",
     "output_type": "stream",
     "text": [
      "[Epoch 1] train loss: 40.765; train acc: 14.56; test loss: 40.762; test acc: 14.56\n"
     ]
    },
    {
     "name": "stderr",
     "output_type": "stream",
     "text": [
      " 67%|████████████████████████████████████████████████████████████████████████████████                                        | 2/3 [00:02<00:01,  1.46s/it]"
     ]
    },
    {
     "name": "stdout",
     "output_type": "stream",
     "text": [
      "[Epoch 2] train loss: 40.765; train acc: 14.56; test loss: 40.762; test acc: 14.56\n"
     ]
    },
    {
     "name": "stderr",
     "output_type": "stream",
     "text": [
      "100%|████████████████████████████████████████████████████████████████████████████████████████████████████████████████████████| 3/3 [00:04<00:00,  1.46s/it]\n"
     ]
    },
    {
     "name": "stdout",
     "output_type": "stream",
     "text": [
      "[Epoch 3] train loss: 40.765; train acc: 14.56; test loss: 40.762; test acc: 14.56\n",
      "TRAINING ITERATION #460/500\n"
     ]
    },
    {
     "name": "stderr",
     "output_type": "stream",
     "text": [
      " 33%|████████████████████████████████████████                                                                                | 1/3 [00:01<00:02,  1.42s/it]"
     ]
    },
    {
     "name": "stdout",
     "output_type": "stream",
     "text": [
      "[Epoch 1] train loss: 40.768; train acc: 14.55; test loss: 40.764; test acc: 14.56\n"
     ]
    },
    {
     "name": "stderr",
     "output_type": "stream",
     "text": [
      " 67%|████████████████████████████████████████████████████████████████████████████████                                        | 2/3 [00:03<00:01,  1.55s/it]"
     ]
    },
    {
     "name": "stdout",
     "output_type": "stream",
     "text": [
      "[Epoch 2] train loss: 40.768; train acc: 14.55; test loss: 40.764; test acc: 14.56\n"
     ]
    },
    {
     "name": "stderr",
     "output_type": "stream",
     "text": [
      "100%|████████████████████████████████████████████████████████████████████████████████████████████████████████████████████████| 3/3 [00:04<00:00,  1.53s/it]"
     ]
    },
    {
     "name": "stdout",
     "output_type": "stream",
     "text": [
      "[Epoch 3] train loss: 40.767; train acc: 14.55; test loss: 40.763; test acc: 14.56\n",
      "SNR: -10, 7030.733%, test BER: 0.35153666138648987                \n",
      "\n"
     ]
    },
    {
     "name": "stderr",
     "output_type": "stream",
     "text": [
      "\n"
     ]
    },
    {
     "name": "stdout",
     "output_type": "stream",
     "text": [
      "SNR: -9, 6692.894%, test BER: 0.3346446752548218                \n",
      "\n",
      "SNR: -8, 6309.293%, test BER: 0.31546467542648315                \n",
      "\n",
      "SNR: -7, 5887.947%, test BER: 0.2943973243236542                \n",
      "\n",
      "SNR: -6, 5460.467%, test BER: 0.2730233371257782                \n",
      "\n",
      "SNR: -5, 4965.854%, test BER: 0.24829266965389252                \n",
      "\n",
      "SNR: -4, 4465.480%, test BER: 0.22327400743961334                \n",
      "\n",
      "SNR: -3, 3905.240%, test BER: 0.19526199996471405                \n",
      "\n",
      "SNR: -2, 3341.693%, test BER: 0.16708466410636902                \n",
      "\n",
      "SNR: -1, 2772.280%, test BER: 0.1386139988899231                \n",
      "\n",
      "SNR: 0, 2210.040%, test BER: 0.11050199717283249                \n",
      "\n",
      "SNR: 1, 1665.133%, test BER: 0.08325666934251785                \n",
      "\n",
      "SNR: 2, 1179.187%, test BER: 0.05895933508872986                \n",
      "\n",
      "SNR: 3, 777.227%, test BER: 0.03886133432388306                \n",
      "\n",
      "SNR: 4, 464.627%, test BER: 0.02323133312165737                \n",
      "\n",
      "TRAINING ITERATION #461/500\n"
     ]
    },
    {
     "name": "stderr",
     "output_type": "stream",
     "text": [
      " 33%|████████████████████████████████████████                                                                                | 1/3 [00:01<00:02,  1.43s/it]"
     ]
    },
    {
     "name": "stdout",
     "output_type": "stream",
     "text": [
      "[Epoch 1] train loss: 40.765; train acc: 14.56; test loss: 40.762; test acc: 14.57\n"
     ]
    },
    {
     "name": "stderr",
     "output_type": "stream",
     "text": [
      " 67%|████████████████████████████████████████████████████████████████████████████████                                        | 2/3 [00:02<00:01,  1.47s/it]"
     ]
    },
    {
     "name": "stdout",
     "output_type": "stream",
     "text": [
      "[Epoch 2] train loss: 40.764; train acc: 14.56; test loss: 40.762; test acc: 14.57\n"
     ]
    },
    {
     "name": "stderr",
     "output_type": "stream",
     "text": [
      "100%|████████████████████████████████████████████████████████████████████████████████████████████████████████████████████████| 3/3 [00:04<00:00,  1.48s/it]\n"
     ]
    },
    {
     "name": "stdout",
     "output_type": "stream",
     "text": [
      "[Epoch 3] train loss: 40.765; train acc: 14.56; test loss: 40.761; test acc: 14.57\n",
      "TRAINING ITERATION #462/500\n"
     ]
    },
    {
     "name": "stderr",
     "output_type": "stream",
     "text": [
      " 33%|████████████████████████████████████████                                                                                | 1/3 [00:01<00:03,  1.51s/it]"
     ]
    },
    {
     "name": "stdout",
     "output_type": "stream",
     "text": [
      "[Epoch 1] train loss: 40.763; train acc: 14.56; test loss: 40.765; test acc: 14.55\n"
     ]
    },
    {
     "name": "stderr",
     "output_type": "stream",
     "text": [
      " 67%|████████████████████████████████████████████████████████████████████████████████                                        | 2/3 [00:02<00:01,  1.48s/it]"
     ]
    },
    {
     "name": "stdout",
     "output_type": "stream",
     "text": [
      "[Epoch 2] train loss: 40.764; train acc: 14.56; test loss: 40.766; test acc: 14.55\n"
     ]
    },
    {
     "name": "stderr",
     "output_type": "stream",
     "text": [
      "100%|████████████████████████████████████████████████████████████████████████████████████████████████████████████████████████| 3/3 [00:04<00:00,  1.48s/it]\n"
     ]
    },
    {
     "name": "stdout",
     "output_type": "stream",
     "text": [
      "[Epoch 3] train loss: 40.763; train acc: 14.56; test loss: 40.765; test acc: 14.55\n",
      "TRAINING ITERATION #463/500\n"
     ]
    },
    {
     "name": "stderr",
     "output_type": "stream",
     "text": [
      " 33%|████████████████████████████████████████                                                                                | 1/3 [00:01<00:02,  1.44s/it]"
     ]
    },
    {
     "name": "stdout",
     "output_type": "stream",
     "text": [
      "[Epoch 1] train loss: 40.766; train acc: 14.55; test loss: 40.763; test acc: 14.56\n"
     ]
    },
    {
     "name": "stderr",
     "output_type": "stream",
     "text": [
      " 67%|████████████████████████████████████████████████████████████████████████████████                                        | 2/3 [00:02<00:01,  1.49s/it]"
     ]
    },
    {
     "name": "stdout",
     "output_type": "stream",
     "text": [
      "[Epoch 2] train loss: 40.766; train acc: 14.55; test loss: 40.763; test acc: 14.56\n"
     ]
    },
    {
     "name": "stderr",
     "output_type": "stream",
     "text": [
      "100%|████████████████████████████████████████████████████████████████████████████████████████████████████████████████████████| 3/3 [00:04<00:00,  1.51s/it]\n"
     ]
    },
    {
     "name": "stdout",
     "output_type": "stream",
     "text": [
      "[Epoch 3] train loss: 40.765; train acc: 14.55; test loss: 40.763; test acc: 14.56\n",
      "TRAINING ITERATION #464/500\n"
     ]
    },
    {
     "name": "stderr",
     "output_type": "stream",
     "text": [
      " 33%|████████████████████████████████████████                                                                                | 1/3 [00:01<00:02,  1.41s/it]"
     ]
    },
    {
     "name": "stdout",
     "output_type": "stream",
     "text": [
      "[Epoch 1] train loss: 40.764; train acc: 14.56; test loss: 40.762; test acc: 14.56\n"
     ]
    },
    {
     "name": "stderr",
     "output_type": "stream",
     "text": [
      " 67%|████████████████████████████████████████████████████████████████████████████████                                        | 2/3 [00:02<00:01,  1.46s/it]"
     ]
    },
    {
     "name": "stdout",
     "output_type": "stream",
     "text": [
      "[Epoch 2] train loss: 40.765; train acc: 14.56; test loss: 40.761; test acc: 14.56\n"
     ]
    },
    {
     "name": "stderr",
     "output_type": "stream",
     "text": [
      "100%|████████████████████████████████████████████████████████████████████████████████████████████████████████████████████████| 3/3 [00:04<00:00,  1.45s/it]\n"
     ]
    },
    {
     "name": "stdout",
     "output_type": "stream",
     "text": [
      "[Epoch 3] train loss: 40.765; train acc: 14.56; test loss: 40.762; test acc: 14.56\n",
      "TRAINING ITERATION #465/500\n"
     ]
    },
    {
     "name": "stderr",
     "output_type": "stream",
     "text": [
      " 33%|████████████████████████████████████████                                                                                | 1/3 [00:01<00:03,  1.52s/it]"
     ]
    },
    {
     "name": "stdout",
     "output_type": "stream",
     "text": [
      "[Epoch 1] train loss: 40.765; train acc: 14.56; test loss: 40.763; test acc: 14.56\n"
     ]
    },
    {
     "name": "stderr",
     "output_type": "stream",
     "text": [
      " 67%|████████████████████████████████████████████████████████████████████████████████                                        | 2/3 [00:03<00:01,  1.52s/it]"
     ]
    },
    {
     "name": "stdout",
     "output_type": "stream",
     "text": [
      "[Epoch 2] train loss: 40.765; train acc: 14.56; test loss: 40.763; test acc: 14.56\n"
     ]
    },
    {
     "name": "stderr",
     "output_type": "stream",
     "text": [
      "100%|████████████████████████████████████████████████████████████████████████████████████████████████████████████████████████| 3/3 [00:04<00:00,  1.52s/it]"
     ]
    },
    {
     "name": "stdout",
     "output_type": "stream",
     "text": [
      "[Epoch 3] train loss: 40.764; train acc: 14.56; test loss: 40.762; test acc: 14.56\n",
      "SNR: -10, 7031.000%, test BER: 0.35155001282691956                \n",
      "\n"
     ]
    },
    {
     "name": "stderr",
     "output_type": "stream",
     "text": [
      "\n"
     ]
    },
    {
     "name": "stdout",
     "output_type": "stream",
     "text": [
      "SNR: -9, 6674.107%, test BER: 0.333705335855484                \n",
      "\n",
      "SNR: -8, 6316.693%, test BER: 0.3158346712589264                \n",
      "\n",
      "SNR: -7, 5900.347%, test BER: 0.2950173318386078                \n",
      "\n",
      "SNR: -6, 5460.667%, test BER: 0.2730333209037781                \n",
      "\n",
      "SNR: -5, 4969.227%, test BER: 0.24846133589744568                \n",
      "\n",
      "SNR: -4, 4441.747%, test BER: 0.2220873385667801                \n",
      "\n",
      "SNR: -3, 3905.600%, test BER: 0.19528000056743622                \n",
      "\n",
      "SNR: -2, 3336.080%, test BER: 0.1668040007352829                \n",
      "\n",
      "SNR: -1, 2767.173%, test BER: 0.13835866749286652                \n",
      "\n",
      "SNR: 0, 2203.027%, test BER: 0.11015133559703827                \n",
      "\n",
      "SNR: 1, 1681.493%, test BER: 0.08407466858625412                \n",
      "\n",
      "SNR: 2, 1181.213%, test BER: 0.05906066671013832                \n",
      "\n",
      "SNR: 3, 775.000%, test BER: 0.038750000298023224                \n",
      "\n",
      "SNR: 4, 467.280%, test BER: 0.023364000022411346                \n",
      "\n",
      "TRAINING ITERATION #466/500\n"
     ]
    },
    {
     "name": "stderr",
     "output_type": "stream",
     "text": [
      " 33%|████████████████████████████████████████                                                                                | 1/3 [00:01<00:03,  1.53s/it]"
     ]
    },
    {
     "name": "stdout",
     "output_type": "stream",
     "text": [
      "[Epoch 1] train loss: 40.761; train acc: 14.56; test loss: 40.765; test acc: 14.56\n"
     ]
    },
    {
     "name": "stderr",
     "output_type": "stream",
     "text": [
      " 67%|████████████████████████████████████████████████████████████████████████████████                                        | 2/3 [00:03<00:01,  1.55s/it]"
     ]
    },
    {
     "name": "stdout",
     "output_type": "stream",
     "text": [
      "[Epoch 2] train loss: 40.762; train acc: 14.56; test loss: 40.764; test acc: 14.56\n"
     ]
    },
    {
     "name": "stderr",
     "output_type": "stream",
     "text": [
      "100%|████████████████████████████████████████████████████████████████████████████████████████████████████████████████████████| 3/3 [00:04<00:00,  1.51s/it]\n"
     ]
    },
    {
     "name": "stdout",
     "output_type": "stream",
     "text": [
      "[Epoch 3] train loss: 40.762; train acc: 14.56; test loss: 40.764; test acc: 14.56\n",
      "TRAINING ITERATION #467/500\n"
     ]
    },
    {
     "name": "stderr",
     "output_type": "stream",
     "text": [
      " 33%|████████████████████████████████████████                                                                                | 1/3 [00:01<00:02,  1.40s/it]"
     ]
    },
    {
     "name": "stdout",
     "output_type": "stream",
     "text": [
      "[Epoch 1] train loss: 40.762; train acc: 14.56; test loss: 40.763; test acc: 14.57\n"
     ]
    },
    {
     "name": "stderr",
     "output_type": "stream",
     "text": [
      " 67%|████████████████████████████████████████████████████████████████████████████████                                        | 2/3 [00:02<00:01,  1.46s/it]"
     ]
    },
    {
     "name": "stdout",
     "output_type": "stream",
     "text": [
      "[Epoch 2] train loss: 40.762; train acc: 14.56; test loss: 40.763; test acc: 14.57\n"
     ]
    },
    {
     "name": "stderr",
     "output_type": "stream",
     "text": [
      "100%|████████████████████████████████████████████████████████████████████████████████████████████████████████████████████████| 3/3 [00:04<00:00,  1.44s/it]\n"
     ]
    },
    {
     "name": "stdout",
     "output_type": "stream",
     "text": [
      "[Epoch 3] train loss: 40.762; train acc: 14.57; test loss: 40.762; test acc: 14.57\n",
      "TRAINING ITERATION #468/500\n"
     ]
    },
    {
     "name": "stderr",
     "output_type": "stream",
     "text": [
      " 33%|████████████████████████████████████████                                                                                | 1/3 [00:01<00:02,  1.42s/it]"
     ]
    },
    {
     "name": "stdout",
     "output_type": "stream",
     "text": [
      "[Epoch 1] train loss: 40.765; train acc: 14.56; test loss: 40.763; test acc: 14.56\n"
     ]
    },
    {
     "name": "stderr",
     "output_type": "stream",
     "text": [
      " 67%|████████████████████████████████████████████████████████████████████████████████                                        | 2/3 [00:02<00:01,  1.44s/it]"
     ]
    },
    {
     "name": "stdout",
     "output_type": "stream",
     "text": [
      "[Epoch 2] train loss: 40.765; train acc: 14.56; test loss: 40.763; test acc: 14.56\n"
     ]
    },
    {
     "name": "stderr",
     "output_type": "stream",
     "text": [
      "100%|████████████████████████████████████████████████████████████████████████████████████████████████████████████████████████| 3/3 [00:04<00:00,  1.44s/it]\n"
     ]
    },
    {
     "name": "stdout",
     "output_type": "stream",
     "text": [
      "[Epoch 3] train loss: 40.765; train acc: 14.56; test loss: 40.763; test acc: 14.56\n",
      "TRAINING ITERATION #469/500\n"
     ]
    },
    {
     "name": "stderr",
     "output_type": "stream",
     "text": [
      " 33%|████████████████████████████████████████                                                                                | 1/3 [00:01<00:02,  1.42s/it]"
     ]
    },
    {
     "name": "stdout",
     "output_type": "stream",
     "text": [
      "[Epoch 1] train loss: 40.763; train acc: 14.56; test loss: 40.766; test acc: 14.55\n"
     ]
    },
    {
     "name": "stderr",
     "output_type": "stream",
     "text": [
      " 67%|████████████████████████████████████████████████████████████████████████████████                                        | 2/3 [00:02<00:01,  1.46s/it]"
     ]
    },
    {
     "name": "stdout",
     "output_type": "stream",
     "text": [
      "[Epoch 2] train loss: 40.764; train acc: 14.56; test loss: 40.766; test acc: 14.55\n"
     ]
    },
    {
     "name": "stderr",
     "output_type": "stream",
     "text": [
      "100%|████████████████████████████████████████████████████████████████████████████████████████████████████████████████████████| 3/3 [00:04<00:00,  1.44s/it]\n"
     ]
    },
    {
     "name": "stdout",
     "output_type": "stream",
     "text": [
      "[Epoch 3] train loss: 40.763; train acc: 14.56; test loss: 40.765; test acc: 14.55\n",
      "TRAINING ITERATION #470/500\n"
     ]
    },
    {
     "name": "stderr",
     "output_type": "stream",
     "text": [
      " 33%|████████████████████████████████████████                                                                                | 1/3 [00:01<00:02,  1.40s/it]"
     ]
    },
    {
     "name": "stdout",
     "output_type": "stream",
     "text": [
      "[Epoch 1] train loss: 40.762; train acc: 14.57; test loss: 40.763; test acc: 14.56\n"
     ]
    },
    {
     "name": "stderr",
     "output_type": "stream",
     "text": [
      " 67%|████████████████████████████████████████████████████████████████████████████████                                        | 2/3 [00:02<00:01,  1.46s/it]"
     ]
    },
    {
     "name": "stdout",
     "output_type": "stream",
     "text": [
      "[Epoch 2] train loss: 40.762; train acc: 14.57; test loss: 40.762; test acc: 14.56\n"
     ]
    },
    {
     "name": "stderr",
     "output_type": "stream",
     "text": [
      "100%|████████████████████████████████████████████████████████████████████████████████████████████████████████████████████████| 3/3 [00:04<00:00,  1.45s/it]"
     ]
    },
    {
     "name": "stdout",
     "output_type": "stream",
     "text": [
      "[Epoch 3] train loss: 40.762; train acc: 14.57; test loss: 40.762; test acc: 14.56\n",
      "SNR: -10, 7032.507%, test BER: 0.35162532329559326                \n",
      "\n"
     ]
    },
    {
     "name": "stderr",
     "output_type": "stream",
     "text": [
      "\n"
     ]
    },
    {
     "name": "stdout",
     "output_type": "stream",
     "text": [
      "SNR: -9, 6697.400%, test BER: 0.33487001061439514                \n",
      "\n",
      "SNR: -8, 6325.934%, test BER: 0.31629666686058044                \n",
      "\n",
      "SNR: -7, 5893.133%, test BER: 0.2946566641330719                \n",
      "\n",
      "SNR: -6, 5448.107%, test BER: 0.27240532636642456                \n",
      "\n",
      "SNR: -5, 4965.387%, test BER: 0.24826933443546295                \n",
      "\n",
      "SNR: -4, 4451.533%, test BER: 0.22257666289806366                \n",
      "\n",
      "SNR: -3, 3911.920%, test BER: 0.19559599459171295                \n",
      "\n",
      "SNR: -2, 3348.373%, test BER: 0.1674186736345291                \n",
      "\n",
      "SNR: -1, 2771.200%, test BER: 0.1385599970817566                \n",
      "\n",
      "SNR: 0, 2204.320%, test BER: 0.11021599918603897                \n",
      "\n",
      "SNR: 1, 1662.547%, test BER: 0.08312733471393585                \n",
      "\n",
      "SNR: 2, 1185.467%, test BER: 0.059273332357406616                \n",
      "\n",
      "SNR: 3, 776.360%, test BER: 0.03881800174713135                \n",
      "\n",
      "SNR: 4, 466.307%, test BER: 0.02331533282995224                \n",
      "\n",
      "TRAINING ITERATION #471/500\n"
     ]
    },
    {
     "name": "stderr",
     "output_type": "stream",
     "text": [
      " 33%|████████████████████████████████████████                                                                                | 1/3 [00:01<00:03,  1.51s/it]"
     ]
    },
    {
     "name": "stdout",
     "output_type": "stream",
     "text": [
      "[Epoch 1] train loss: 40.765; train acc: 14.55; test loss: 40.765; test acc: 14.55\n"
     ]
    },
    {
     "name": "stderr",
     "output_type": "stream",
     "text": [
      " 67%|████████████████████████████████████████████████████████████████████████████████                                        | 2/3 [00:03<00:01,  1.53s/it]"
     ]
    },
    {
     "name": "stdout",
     "output_type": "stream",
     "text": [
      "[Epoch 2] train loss: 40.766; train acc: 14.55; test loss: 40.766; test acc: 14.55\n"
     ]
    },
    {
     "name": "stderr",
     "output_type": "stream",
     "text": [
      "100%|████████████████████████████████████████████████████████████████████████████████████████████████████████████████████████| 3/3 [00:04<00:00,  1.52s/it]\n"
     ]
    },
    {
     "name": "stdout",
     "output_type": "stream",
     "text": [
      "[Epoch 3] train loss: 40.766; train acc: 14.55; test loss: 40.766; test acc: 14.55\n",
      "TRAINING ITERATION #472/500\n"
     ]
    },
    {
     "name": "stderr",
     "output_type": "stream",
     "text": [
      " 33%|████████████████████████████████████████                                                                                | 1/3 [00:01<00:03,  1.53s/it]"
     ]
    },
    {
     "name": "stdout",
     "output_type": "stream",
     "text": [
      "[Epoch 1] train loss: 40.764; train acc: 14.56; test loss: 40.765; test acc: 14.55\n"
     ]
    },
    {
     "name": "stderr",
     "output_type": "stream",
     "text": [
      " 67%|████████████████████████████████████████████████████████████████████████████████                                        | 2/3 [00:02<00:01,  1.49s/it]"
     ]
    },
    {
     "name": "stdout",
     "output_type": "stream",
     "text": [
      "[Epoch 2] train loss: 40.763; train acc: 14.56; test loss: 40.765; test acc: 14.55\n"
     ]
    },
    {
     "name": "stderr",
     "output_type": "stream",
     "text": [
      "100%|████████████████████████████████████████████████████████████████████████████████████████████████████████████████████████| 3/3 [00:04<00:00,  1.48s/it]\n"
     ]
    },
    {
     "name": "stdout",
     "output_type": "stream",
     "text": [
      "[Epoch 3] train loss: 40.762; train acc: 14.56; test loss: 40.765; test acc: 14.55\n",
      "TRAINING ITERATION #473/500\n"
     ]
    },
    {
     "name": "stderr",
     "output_type": "stream",
     "text": [
      " 33%|████████████████████████████████████████                                                                                | 1/3 [00:01<00:03,  1.50s/it]"
     ]
    },
    {
     "name": "stdout",
     "output_type": "stream",
     "text": [
      "[Epoch 1] train loss: 40.765; train acc: 14.56; test loss: 40.763; test acc: 14.56\n"
     ]
    },
    {
     "name": "stderr",
     "output_type": "stream",
     "text": [
      " 67%|████████████████████████████████████████████████████████████████████████████████                                        | 2/3 [00:02<00:01,  1.45s/it]"
     ]
    },
    {
     "name": "stdout",
     "output_type": "stream",
     "text": [
      "[Epoch 2] train loss: 40.765; train acc: 14.56; test loss: 40.762; test acc: 14.56\n"
     ]
    },
    {
     "name": "stderr",
     "output_type": "stream",
     "text": [
      "100%|████████████████████████████████████████████████████████████████████████████████████████████████████████████████████████| 3/3 [00:04<00:00,  1.45s/it]\n"
     ]
    },
    {
     "name": "stdout",
     "output_type": "stream",
     "text": [
      "[Epoch 3] train loss: 40.764; train acc: 14.56; test loss: 40.763; test acc: 14.56\n",
      "TRAINING ITERATION #474/500\n"
     ]
    },
    {
     "name": "stderr",
     "output_type": "stream",
     "text": [
      " 33%|████████████████████████████████████████                                                                                | 1/3 [00:01<00:02,  1.40s/it]"
     ]
    },
    {
     "name": "stdout",
     "output_type": "stream",
     "text": [
      "[Epoch 1] train loss: 40.764; train acc: 14.56; test loss: 40.764; test acc: 14.56\n"
     ]
    },
    {
     "name": "stderr",
     "output_type": "stream",
     "text": [
      " 67%|████████████████████████████████████████████████████████████████████████████████                                        | 2/3 [00:02<00:01,  1.48s/it]"
     ]
    },
    {
     "name": "stdout",
     "output_type": "stream",
     "text": [
      "[Epoch 2] train loss: 40.764; train acc: 14.56; test loss: 40.764; test acc: 14.56\n"
     ]
    },
    {
     "name": "stderr",
     "output_type": "stream",
     "text": [
      "100%|████████████████████████████████████████████████████████████████████████████████████████████████████████████████████████| 3/3 [00:04<00:00,  1.45s/it]\n"
     ]
    },
    {
     "name": "stdout",
     "output_type": "stream",
     "text": [
      "[Epoch 3] train loss: 40.764; train acc: 14.56; test loss: 40.764; test acc: 14.56\n",
      "TRAINING ITERATION #475/500\n"
     ]
    },
    {
     "name": "stderr",
     "output_type": "stream",
     "text": [
      " 33%|████████████████████████████████████████                                                                                | 1/3 [00:01<00:02,  1.40s/it]"
     ]
    },
    {
     "name": "stdout",
     "output_type": "stream",
     "text": [
      "[Epoch 1] train loss: 40.763; train acc: 14.56; test loss: 40.764; test acc: 14.56\n"
     ]
    },
    {
     "name": "stderr",
     "output_type": "stream",
     "text": [
      " 67%|████████████████████████████████████████████████████████████████████████████████                                        | 2/3 [00:02<00:01,  1.44s/it]"
     ]
    },
    {
     "name": "stdout",
     "output_type": "stream",
     "text": [
      "[Epoch 2] train loss: 40.763; train acc: 14.56; test loss: 40.764; test acc: 14.56\n"
     ]
    },
    {
     "name": "stderr",
     "output_type": "stream",
     "text": [
      "100%|████████████████████████████████████████████████████████████████████████████████████████████████████████████████████████| 3/3 [00:04<00:00,  1.44s/it]"
     ]
    },
    {
     "name": "stdout",
     "output_type": "stream",
     "text": [
      "[Epoch 3] train loss: 40.764; train acc: 14.56; test loss: 40.763; test acc: 14.56\n",
      "SNR: -10, 7027.707%, test BER: 0.35138532519340515                \n",
      "\n"
     ]
    },
    {
     "name": "stderr",
     "output_type": "stream",
     "text": [
      "\n"
     ]
    },
    {
     "name": "stdout",
     "output_type": "stream",
     "text": [
      "SNR: -9, 6680.000%, test BER: 0.33399999141693115                \n",
      "\n",
      "SNR: -8, 6311.480%, test BER: 0.3155739903450012                \n",
      "\n",
      "SNR: -7, 5907.013%, test BER: 0.29535067081451416                \n",
      "\n",
      "SNR: -6, 5449.347%, test BER: 0.27246734499931335                \n",
      "\n",
      "SNR: -5, 4966.973%, test BER: 0.248348668217659                \n",
      "\n",
      "SNR: -4, 4462.467%, test BER: 0.22312332689762115                \n",
      "\n",
      "SNR: -3, 3903.493%, test BER: 0.1951746642589569                \n",
      "\n",
      "SNR: -2, 3360.360%, test BER: 0.16801799833774567                \n",
      "\n",
      "SNR: -1, 2767.880%, test BER: 0.13839399814605713                \n",
      "\n",
      "SNR: 0, 2215.520%, test BER: 0.11077599972486496                \n",
      "\n",
      "SNR: 1, 1658.000%, test BER: 0.08290000259876251                \n",
      "\n",
      "SNR: 2, 1188.253%, test BER: 0.05941266566514969                \n",
      "\n",
      "SNR: 3, 780.040%, test BER: 0.03900200128555298                \n",
      "\n",
      "SNR: 4, 465.200%, test BER: 0.023259999230504036                \n",
      "\n",
      "TRAINING ITERATION #476/500\n"
     ]
    },
    {
     "name": "stderr",
     "output_type": "stream",
     "text": [
      " 33%|████████████████████████████████████████                                                                                | 1/3 [00:01<00:02,  1.39s/it]"
     ]
    },
    {
     "name": "stdout",
     "output_type": "stream",
     "text": [
      "[Epoch 1] train loss: 40.764; train acc: 14.56; test loss: 40.763; test acc: 14.56\n"
     ]
    },
    {
     "name": "stderr",
     "output_type": "stream",
     "text": [
      " 67%|████████████████████████████████████████████████████████████████████████████████                                        | 2/3 [00:02<00:01,  1.44s/it]"
     ]
    },
    {
     "name": "stdout",
     "output_type": "stream",
     "text": [
      "[Epoch 2] train loss: 40.763; train acc: 14.56; test loss: 40.763; test acc: 14.56\n"
     ]
    },
    {
     "name": "stderr",
     "output_type": "stream",
     "text": [
      "100%|████████████████████████████████████████████████████████████████████████████████████████████████████████████████████████| 3/3 [00:04<00:00,  1.44s/it]\n"
     ]
    },
    {
     "name": "stdout",
     "output_type": "stream",
     "text": [
      "[Epoch 3] train loss: 40.763; train acc: 14.56; test loss: 40.763; test acc: 14.56\n",
      "TRAINING ITERATION #477/500\n"
     ]
    },
    {
     "name": "stderr",
     "output_type": "stream",
     "text": [
      " 33%|████████████████████████████████████████                                                                                | 1/3 [00:01<00:03,  1.55s/it]"
     ]
    },
    {
     "name": "stdout",
     "output_type": "stream",
     "text": [
      "[Epoch 1] train loss: 40.763; train acc: 14.56; test loss: 40.763; test acc: 14.56\n"
     ]
    },
    {
     "name": "stderr",
     "output_type": "stream",
     "text": [
      " 67%|████████████████████████████████████████████████████████████████████████████████                                        | 2/3 [00:03<00:01,  1.58s/it]"
     ]
    },
    {
     "name": "stdout",
     "output_type": "stream",
     "text": [
      "[Epoch 2] train loss: 40.765; train acc: 14.56; test loss: 40.762; test acc: 14.56\n"
     ]
    },
    {
     "name": "stderr",
     "output_type": "stream",
     "text": [
      "100%|████████████████████████████████████████████████████████████████████████████████████████████████████████████████████████| 3/3 [00:04<00:00,  1.55s/it]\n"
     ]
    },
    {
     "name": "stdout",
     "output_type": "stream",
     "text": [
      "[Epoch 3] train loss: 40.763; train acc: 14.56; test loss: 40.763; test acc: 14.56\n",
      "TRAINING ITERATION #478/500\n"
     ]
    },
    {
     "name": "stderr",
     "output_type": "stream",
     "text": [
      " 33%|████████████████████████████████████████                                                                                | 1/3 [00:01<00:02,  1.41s/it]"
     ]
    },
    {
     "name": "stdout",
     "output_type": "stream",
     "text": [
      "[Epoch 1] train loss: 40.764; train acc: 14.56; test loss: 40.766; test acc: 14.55\n"
     ]
    },
    {
     "name": "stderr",
     "output_type": "stream",
     "text": [
      " 67%|████████████████████████████████████████████████████████████████████████████████                                        | 2/3 [00:02<00:01,  1.44s/it]"
     ]
    },
    {
     "name": "stdout",
     "output_type": "stream",
     "text": [
      "[Epoch 2] train loss: 40.764; train acc: 14.56; test loss: 40.765; test acc: 14.55\n"
     ]
    },
    {
     "name": "stderr",
     "output_type": "stream",
     "text": [
      "100%|████████████████████████████████████████████████████████████████████████████████████████████████████████████████████████| 3/3 [00:04<00:00,  1.43s/it]\n"
     ]
    },
    {
     "name": "stdout",
     "output_type": "stream",
     "text": [
      "[Epoch 3] train loss: 40.763; train acc: 14.56; test loss: 40.766; test acc: 14.55\n",
      "TRAINING ITERATION #479/500\n"
     ]
    },
    {
     "name": "stderr",
     "output_type": "stream",
     "text": [
      " 33%|████████████████████████████████████████                                                                                | 1/3 [00:01<00:02,  1.41s/it]"
     ]
    },
    {
     "name": "stdout",
     "output_type": "stream",
     "text": [
      "[Epoch 1] train loss: 40.765; train acc: 14.55; test loss: 40.765; test acc: 14.55\n"
     ]
    },
    {
     "name": "stderr",
     "output_type": "stream",
     "text": [
      " 67%|████████████████████████████████████████████████████████████████████████████████                                        | 2/3 [00:02<00:01,  1.43s/it]"
     ]
    },
    {
     "name": "stdout",
     "output_type": "stream",
     "text": [
      "[Epoch 2] train loss: 40.765; train acc: 14.55; test loss: 40.765; test acc: 14.55\n"
     ]
    },
    {
     "name": "stderr",
     "output_type": "stream",
     "text": [
      "100%|████████████████████████████████████████████████████████████████████████████████████████████████████████████████████████| 3/3 [00:04<00:00,  1.43s/it]\n"
     ]
    },
    {
     "name": "stdout",
     "output_type": "stream",
     "text": [
      "[Epoch 3] train loss: 40.766; train acc: 14.55; test loss: 40.765; test acc: 14.55\n",
      "TRAINING ITERATION #480/500\n"
     ]
    },
    {
     "name": "stderr",
     "output_type": "stream",
     "text": [
      " 33%|████████████████████████████████████████                                                                                | 1/3 [00:01<00:02,  1.39s/it]"
     ]
    },
    {
     "name": "stdout",
     "output_type": "stream",
     "text": [
      "[Epoch 1] train loss: 40.766; train acc: 14.55; test loss: 40.764; test acc: 14.56\n"
     ]
    },
    {
     "name": "stderr",
     "output_type": "stream",
     "text": [
      " 67%|████████████████████████████████████████████████████████████████████████████████                                        | 2/3 [00:02<00:01,  1.45s/it]"
     ]
    },
    {
     "name": "stdout",
     "output_type": "stream",
     "text": [
      "[Epoch 2] train loss: 40.764; train acc: 14.56; test loss: 40.765; test acc: 14.56\n"
     ]
    },
    {
     "name": "stderr",
     "output_type": "stream",
     "text": [
      "100%|████████████████████████████████████████████████████████████████████████████████████████████████████████████████████████| 3/3 [00:04<00:00,  1.43s/it]"
     ]
    },
    {
     "name": "stdout",
     "output_type": "stream",
     "text": [
      "[Epoch 3] train loss: 40.765; train acc: 14.56; test loss: 40.763; test acc: 14.56\n",
      "SNR: -10, 7035.080%, test BER: 0.35175400972366333                \n",
      "\n"
     ]
    },
    {
     "name": "stderr",
     "output_type": "stream",
     "text": [
      "\n"
     ]
    },
    {
     "name": "stdout",
     "output_type": "stream",
     "text": [
      "SNR: -9, 6703.827%, test BER: 0.3351913392543793                \n",
      "\n",
      "SNR: -8, 6311.253%, test BER: 0.3155626654624939                \n",
      "\n",
      "SNR: -7, 5903.987%, test BER: 0.29519933462142944                \n",
      "\n",
      "SNR: -6, 5445.173%, test BER: 0.2722586691379547                \n",
      "\n",
      "SNR: -5, 4973.200%, test BER: 0.24865999817848206                \n",
      "\n",
      "SNR: -4, 4444.080%, test BER: 0.22220399975776672                \n",
      "\n",
      "SNR: -3, 3912.147%, test BER: 0.19560733437538147                \n",
      "\n",
      "SNR: -2, 3346.653%, test BER: 0.16733266413211823                \n",
      "\n",
      "SNR: -1, 2765.840%, test BER: 0.13829199969768524                \n",
      "\n",
      "SNR: 0, 2196.853%, test BER: 0.10984266549348831                \n",
      "\n",
      "SNR: 1, 1665.413%, test BER: 0.08327066898345947                \n",
      "\n",
      "SNR: 2, 1183.240%, test BER: 0.05916199833154678                \n",
      "\n",
      "SNR: 3, 778.920%, test BER: 0.0389459989964962                \n",
      "\n",
      "SNR: 4, 467.573%, test BER: 0.02337866649031639                \n",
      "\n",
      "TRAINING ITERATION #481/500\n"
     ]
    },
    {
     "name": "stderr",
     "output_type": "stream",
     "text": [
      " 33%|████████████████████████████████████████                                                                                | 1/3 [00:01<00:02,  1.37s/it]"
     ]
    },
    {
     "name": "stdout",
     "output_type": "stream",
     "text": [
      "[Epoch 1] train loss: 40.765; train acc: 14.56; test loss: 40.763; test acc: 14.57\n"
     ]
    },
    {
     "name": "stderr",
     "output_type": "stream",
     "text": [
      " 67%|████████████████████████████████████████████████████████████████████████████████                                        | 2/3 [00:02<00:01,  1.42s/it]"
     ]
    },
    {
     "name": "stdout",
     "output_type": "stream",
     "text": [
      "[Epoch 2] train loss: 40.765; train acc: 14.56; test loss: 40.761; test acc: 14.57\n"
     ]
    },
    {
     "name": "stderr",
     "output_type": "stream",
     "text": [
      "100%|████████████████████████████████████████████████████████████████████████████████████████████████████████████████████████| 3/3 [00:04<00:00,  1.41s/it]\n"
     ]
    },
    {
     "name": "stdout",
     "output_type": "stream",
     "text": [
      "[Epoch 3] train loss: 40.764; train acc: 14.56; test loss: 40.761; test acc: 14.57\n",
      "TRAINING ITERATION #482/500\n"
     ]
    },
    {
     "name": "stderr",
     "output_type": "stream",
     "text": [
      " 33%|████████████████████████████████████████                                                                                | 1/3 [00:01<00:03,  1.54s/it]"
     ]
    },
    {
     "name": "stdout",
     "output_type": "stream",
     "text": [
      "[Epoch 1] train loss: 40.763; train acc: 14.56; test loss: 40.763; test acc: 14.56\n"
     ]
    },
    {
     "name": "stderr",
     "output_type": "stream",
     "text": [
      " 67%|████████████████████████████████████████████████████████████████████████████████                                        | 2/3 [00:03<00:01,  1.50s/it]"
     ]
    },
    {
     "name": "stdout",
     "output_type": "stream",
     "text": [
      "[Epoch 2] train loss: 40.763; train acc: 14.56; test loss: 40.764; test acc: 14.56\n"
     ]
    },
    {
     "name": "stderr",
     "output_type": "stream",
     "text": [
      "100%|████████████████████████████████████████████████████████████████████████████████████████████████████████████████████████| 3/3 [00:04<00:00,  1.53s/it]\n"
     ]
    },
    {
     "name": "stdout",
     "output_type": "stream",
     "text": [
      "[Epoch 3] train loss: 40.763; train acc: 14.56; test loss: 40.763; test acc: 14.56\n",
      "TRAINING ITERATION #483/500\n"
     ]
    },
    {
     "name": "stderr",
     "output_type": "stream",
     "text": [
      " 33%|████████████████████████████████████████                                                                                | 1/3 [00:01<00:02,  1.49s/it]"
     ]
    },
    {
     "name": "stdout",
     "output_type": "stream",
     "text": [
      "[Epoch 1] train loss: 40.765; train acc: 14.55; test loss: 40.763; test acc: 14.56\n"
     ]
    },
    {
     "name": "stderr",
     "output_type": "stream",
     "text": [
      " 67%|████████████████████████████████████████████████████████████████████████████████                                        | 2/3 [00:03<00:01,  1.51s/it]"
     ]
    },
    {
     "name": "stdout",
     "output_type": "stream",
     "text": [
      "[Epoch 2] train loss: 40.766; train acc: 14.55; test loss: 40.762; test acc: 14.56\n"
     ]
    },
    {
     "name": "stderr",
     "output_type": "stream",
     "text": [
      "100%|████████████████████████████████████████████████████████████████████████████████████████████████████████████████████████| 3/3 [00:04<00:00,  1.47s/it]\n"
     ]
    },
    {
     "name": "stdout",
     "output_type": "stream",
     "text": [
      "[Epoch 3] train loss: 40.766; train acc: 14.55; test loss: 40.763; test acc: 14.56\n",
      "TRAINING ITERATION #484/500\n"
     ]
    },
    {
     "name": "stderr",
     "output_type": "stream",
     "text": [
      " 33%|████████████████████████████████████████                                                                                | 1/3 [00:01<00:02,  1.39s/it]"
     ]
    },
    {
     "name": "stdout",
     "output_type": "stream",
     "text": [
      "[Epoch 1] train loss: 40.761; train acc: 14.57; test loss: 40.762; test acc: 14.57\n"
     ]
    },
    {
     "name": "stderr",
     "output_type": "stream",
     "text": [
      " 67%|████████████████████████████████████████████████████████████████████████████████                                        | 2/3 [00:02<00:01,  1.46s/it]"
     ]
    },
    {
     "name": "stdout",
     "output_type": "stream",
     "text": [
      "[Epoch 2] train loss: 40.761; train acc: 14.57; test loss: 40.762; test acc: 14.57\n"
     ]
    },
    {
     "name": "stderr",
     "output_type": "stream",
     "text": [
      "100%|████████████████████████████████████████████████████████████████████████████████████████████████████████████████████████| 3/3 [00:04<00:00,  1.44s/it]\n"
     ]
    },
    {
     "name": "stdout",
     "output_type": "stream",
     "text": [
      "[Epoch 3] train loss: 40.762; train acc: 14.57; test loss: 40.762; test acc: 14.57\n",
      "TRAINING ITERATION #485/500\n"
     ]
    },
    {
     "name": "stderr",
     "output_type": "stream",
     "text": [
      " 33%|████████████████████████████████████████                                                                                | 1/3 [00:01<00:02,  1.40s/it]"
     ]
    },
    {
     "name": "stdout",
     "output_type": "stream",
     "text": [
      "[Epoch 1] train loss: 40.764; train acc: 14.56; test loss: 40.763; test acc: 14.56\n"
     ]
    },
    {
     "name": "stderr",
     "output_type": "stream",
     "text": [
      " 67%|████████████████████████████████████████████████████████████████████████████████                                        | 2/3 [00:02<00:01,  1.45s/it]"
     ]
    },
    {
     "name": "stdout",
     "output_type": "stream",
     "text": [
      "[Epoch 2] train loss: 40.763; train acc: 14.56; test loss: 40.764; test acc: 14.56\n"
     ]
    },
    {
     "name": "stderr",
     "output_type": "stream",
     "text": [
      "100%|████████████████████████████████████████████████████████████████████████████████████████████████████████████████████████| 3/3 [00:04<00:00,  1.46s/it]"
     ]
    },
    {
     "name": "stdout",
     "output_type": "stream",
     "text": [
      "[Epoch 3] train loss: 40.764; train acc: 14.56; test loss: 40.764; test acc: 14.56\n",
      "SNR: -10, 7036.760%, test BER: 0.35183799266815186                \n",
      "\n"
     ]
    },
    {
     "name": "stderr",
     "output_type": "stream",
     "text": [
      "\n"
     ]
    },
    {
     "name": "stdout",
     "output_type": "stream",
     "text": [
      "SNR: -9, 6687.600%, test BER: 0.33438000082969666                \n",
      "\n",
      "SNR: -8, 6314.414%, test BER: 0.31572067737579346                \n",
      "\n",
      "SNR: -7, 5897.920%, test BER: 0.2948960065841675                \n",
      "\n",
      "SNR: -6, 5451.693%, test BER: 0.2725846767425537                \n",
      "\n",
      "SNR: -5, 4955.854%, test BER: 0.24779266119003296                \n",
      "\n",
      "SNR: -4, 4465.573%, test BER: 0.22327867150306702                \n",
      "\n",
      "SNR: -3, 3913.213%, test BER: 0.19566066563129425                \n",
      "\n",
      "SNR: -2, 3345.907%, test BER: 0.16729533672332764                \n",
      "\n",
      "SNR: -1, 2769.987%, test BER: 0.13849933445453644                \n",
      "\n",
      "SNR: 0, 2200.200%, test BER: 0.11000999808311462                \n",
      "\n",
      "SNR: 1, 1662.040%, test BER: 0.08310200273990631                \n",
      "\n",
      "SNR: 2, 1186.640%, test BER: 0.059331998229026794                \n",
      "\n",
      "SNR: 3, 785.747%, test BER: 0.03928733244538307                \n",
      "\n",
      "SNR: 4, 462.053%, test BER: 0.023102667182683945                \n",
      "\n",
      "TRAINING ITERATION #486/500\n"
     ]
    },
    {
     "name": "stderr",
     "output_type": "stream",
     "text": [
      " 33%|████████████████████████████████████████                                                                                | 1/3 [00:01<00:02,  1.42s/it]"
     ]
    },
    {
     "name": "stdout",
     "output_type": "stream",
     "text": [
      "[Epoch 1] train loss: 40.766; train acc: 14.55; test loss: 40.763; test acc: 14.56\n"
     ]
    },
    {
     "name": "stderr",
     "output_type": "stream",
     "text": [
      " 67%|████████████████████████████████████████████████████████████████████████████████                                        | 2/3 [00:02<00:01,  1.47s/it]"
     ]
    },
    {
     "name": "stdout",
     "output_type": "stream",
     "text": [
      "[Epoch 2] train loss: 40.765; train acc: 14.55; test loss: 40.764; test acc: 14.56\n"
     ]
    },
    {
     "name": "stderr",
     "output_type": "stream",
     "text": [
      "100%|████████████████████████████████████████████████████████████████████████████████████████████████████████████████████████| 3/3 [00:04<00:00,  1.45s/it]\n"
     ]
    },
    {
     "name": "stdout",
     "output_type": "stream",
     "text": [
      "[Epoch 3] train loss: 40.765; train acc: 14.55; test loss: 40.764; test acc: 14.56\n",
      "TRAINING ITERATION #487/500\n"
     ]
    },
    {
     "name": "stderr",
     "output_type": "stream",
     "text": [
      " 33%|████████████████████████████████████████                                                                                | 1/3 [00:01<00:02,  1.46s/it]"
     ]
    },
    {
     "name": "stdout",
     "output_type": "stream",
     "text": [
      "[Epoch 1] train loss: 40.764; train acc: 14.56; test loss: 40.764; test acc: 14.56\n"
     ]
    },
    {
     "name": "stderr",
     "output_type": "stream",
     "text": [
      " 67%|████████████████████████████████████████████████████████████████████████████████                                        | 2/3 [00:02<00:01,  1.50s/it]"
     ]
    },
    {
     "name": "stdout",
     "output_type": "stream",
     "text": [
      "[Epoch 2] train loss: 40.763; train acc: 14.56; test loss: 40.765; test acc: 14.56\n"
     ]
    },
    {
     "name": "stderr",
     "output_type": "stream",
     "text": [
      "100%|████████████████████████████████████████████████████████████████████████████████████████████████████████████████████████| 3/3 [00:04<00:00,  1.48s/it]\n"
     ]
    },
    {
     "name": "stdout",
     "output_type": "stream",
     "text": [
      "[Epoch 3] train loss: 40.764; train acc: 14.56; test loss: 40.764; test acc: 14.56\n",
      "TRAINING ITERATION #488/500\n"
     ]
    },
    {
     "name": "stderr",
     "output_type": "stream",
     "text": [
      " 33%|████████████████████████████████████████                                                                                | 1/3 [00:01<00:02,  1.43s/it]"
     ]
    },
    {
     "name": "stdout",
     "output_type": "stream",
     "text": [
      "[Epoch 1] train loss: 40.763; train acc: 14.56; test loss: 40.766; test acc: 14.55\n"
     ]
    },
    {
     "name": "stderr",
     "output_type": "stream",
     "text": [
      " 67%|████████████████████████████████████████████████████████████████████████████████                                        | 2/3 [00:02<00:01,  1.48s/it]"
     ]
    },
    {
     "name": "stdout",
     "output_type": "stream",
     "text": [
      "[Epoch 2] train loss: 40.764; train acc: 14.56; test loss: 40.766; test acc: 14.55\n"
     ]
    },
    {
     "name": "stderr",
     "output_type": "stream",
     "text": [
      "100%|████████████████████████████████████████████████████████████████████████████████████████████████████████████████████████| 3/3 [00:04<00:00,  1.49s/it]\n"
     ]
    },
    {
     "name": "stdout",
     "output_type": "stream",
     "text": [
      "[Epoch 3] train loss: 40.764; train acc: 14.56; test loss: 40.765; test acc: 14.55\n",
      "TRAINING ITERATION #489/500\n"
     ]
    },
    {
     "name": "stderr",
     "output_type": "stream",
     "text": [
      " 33%|████████████████████████████████████████                                                                                | 1/3 [00:01<00:02,  1.46s/it]"
     ]
    },
    {
     "name": "stdout",
     "output_type": "stream",
     "text": [
      "[Epoch 1] train loss: 40.764; train acc: 14.56; test loss: 40.763; test acc: 14.56\n"
     ]
    },
    {
     "name": "stderr",
     "output_type": "stream",
     "text": [
      " 67%|████████████████████████████████████████████████████████████████████████████████                                        | 2/3 [00:02<00:01,  1.48s/it]"
     ]
    },
    {
     "name": "stdout",
     "output_type": "stream",
     "text": [
      "[Epoch 2] train loss: 40.764; train acc: 14.56; test loss: 40.763; test acc: 14.56\n"
     ]
    },
    {
     "name": "stderr",
     "output_type": "stream",
     "text": [
      "100%|████████████████████████████████████████████████████████████████████████████████████████████████████████████████████████| 3/3 [00:04<00:00,  1.47s/it]\n"
     ]
    },
    {
     "name": "stdout",
     "output_type": "stream",
     "text": [
      "[Epoch 3] train loss: 40.764; train acc: 14.56; test loss: 40.762; test acc: 14.56\n",
      "TRAINING ITERATION #490/500\n"
     ]
    },
    {
     "name": "stderr",
     "output_type": "stream",
     "text": [
      " 33%|████████████████████████████████████████                                                                                | 1/3 [00:01<00:02,  1.45s/it]"
     ]
    },
    {
     "name": "stdout",
     "output_type": "stream",
     "text": [
      "[Epoch 1] train loss: 40.763; train acc: 14.56; test loss: 40.764; test acc: 14.56\n"
     ]
    },
    {
     "name": "stderr",
     "output_type": "stream",
     "text": [
      " 67%|████████████████████████████████████████████████████████████████████████████████                                        | 2/3 [00:02<00:01,  1.45s/it]"
     ]
    },
    {
     "name": "stdout",
     "output_type": "stream",
     "text": [
      "[Epoch 2] train loss: 40.765; train acc: 14.56; test loss: 40.764; test acc: 14.56\n"
     ]
    },
    {
     "name": "stderr",
     "output_type": "stream",
     "text": [
      "100%|████████████████████████████████████████████████████████████████████████████████████████████████████████████████████████| 3/3 [00:04<00:00,  1.46s/it]"
     ]
    },
    {
     "name": "stdout",
     "output_type": "stream",
     "text": [
      "[Epoch 3] train loss: 40.764; train acc: 14.56; test loss: 40.763; test acc: 14.56\n",
      "SNR: -10, 7031.627%, test BER: 0.351581335067749                \n",
      "\n"
     ]
    },
    {
     "name": "stderr",
     "output_type": "stream",
     "text": [
      "\n"
     ]
    },
    {
     "name": "stdout",
     "output_type": "stream",
     "text": [
      "SNR: -9, 6694.640%, test BER: 0.3347319960594177                \n",
      "\n",
      "SNR: -8, 6315.013%, test BER: 0.3157506585121155                \n",
      "\n",
      "SNR: -7, 5904.133%, test BER: 0.2952066659927368                \n",
      "\n",
      "SNR: -6, 5453.493%, test BER: 0.27267467975616455                \n",
      "\n",
      "SNR: -5, 4966.760%, test BER: 0.2483379989862442                \n",
      "\n",
      "SNR: -4, 4454.360%, test BER: 0.2227180004119873                \n",
      "\n",
      "SNR: -3, 3914.933%, test BER: 0.19574666023254395                \n",
      "\n",
      "SNR: -2, 3336.333%, test BER: 0.16681666672229767                \n",
      "\n",
      "SNR: -1, 2771.680%, test BER: 0.13858400285243988                \n",
      "\n",
      "SNR: 0, 2199.080%, test BER: 0.10995399951934814                \n",
      "\n",
      "SNR: 1, 1667.413%, test BER: 0.08337066322565079                \n",
      "\n",
      "SNR: 2, 1180.080%, test BER: 0.05900400131940842                \n",
      "\n",
      "SNR: 3, 778.427%, test BER: 0.038921333849430084                \n",
      "\n",
      "SNR: 4, 466.693%, test BER: 0.023334667086601257                \n",
      "\n",
      "TRAINING ITERATION #491/500\n"
     ]
    },
    {
     "name": "stderr",
     "output_type": "stream",
     "text": [
      " 33%|████████████████████████████████████████                                                                                | 1/3 [00:01<00:02,  1.48s/it]"
     ]
    },
    {
     "name": "stdout",
     "output_type": "stream",
     "text": [
      "[Epoch 1] train loss: 40.765; train acc: 14.56; test loss: 40.763; test acc: 14.56\n"
     ]
    },
    {
     "name": "stderr",
     "output_type": "stream",
     "text": [
      " 67%|████████████████████████████████████████████████████████████████████████████████                                        | 2/3 [00:02<00:01,  1.45s/it]"
     ]
    },
    {
     "name": "stdout",
     "output_type": "stream",
     "text": [
      "[Epoch 2] train loss: 40.765; train acc: 14.56; test loss: 40.763; test acc: 14.56\n"
     ]
    },
    {
     "name": "stderr",
     "output_type": "stream",
     "text": [
      "100%|████████████████████████████████████████████████████████████████████████████████████████████████████████████████████████| 3/3 [00:04<00:00,  1.47s/it]\n"
     ]
    },
    {
     "name": "stdout",
     "output_type": "stream",
     "text": [
      "[Epoch 3] train loss: 40.765; train acc: 14.56; test loss: 40.762; test acc: 14.56\n",
      "TRAINING ITERATION #492/500\n"
     ]
    },
    {
     "name": "stderr",
     "output_type": "stream",
     "text": [
      " 33%|████████████████████████████████████████                                                                                | 1/3 [00:01<00:02,  1.49s/it]"
     ]
    },
    {
     "name": "stdout",
     "output_type": "stream",
     "text": [
      "[Epoch 1] train loss: 40.762; train acc: 14.56; test loss: 40.763; test acc: 14.56\n"
     ]
    },
    {
     "name": "stderr",
     "output_type": "stream",
     "text": [
      " 67%|████████████████████████████████████████████████████████████████████████████████                                        | 2/3 [00:02<00:01,  1.44s/it]"
     ]
    },
    {
     "name": "stdout",
     "output_type": "stream",
     "text": [
      "[Epoch 2] train loss: 40.762; train acc: 14.56; test loss: 40.762; test acc: 14.56\n"
     ]
    },
    {
     "name": "stderr",
     "output_type": "stream",
     "text": [
      "100%|████████████████████████████████████████████████████████████████████████████████████████████████████████████████████████| 3/3 [00:04<00:00,  1.44s/it]\n"
     ]
    },
    {
     "name": "stdout",
     "output_type": "stream",
     "text": [
      "[Epoch 3] train loss: 40.763; train acc: 14.56; test loss: 40.763; test acc: 14.56\n",
      "TRAINING ITERATION #493/500\n"
     ]
    },
    {
     "name": "stderr",
     "output_type": "stream",
     "text": [
      " 33%|████████████████████████████████████████                                                                                | 1/3 [00:01<00:02,  1.47s/it]"
     ]
    },
    {
     "name": "stdout",
     "output_type": "stream",
     "text": [
      "[Epoch 1] train loss: 40.763; train acc: 14.56; test loss: 40.763; test acc: 14.56\n"
     ]
    },
    {
     "name": "stderr",
     "output_type": "stream",
     "text": [
      " 67%|████████████████████████████████████████████████████████████████████████████████                                        | 2/3 [00:02<00:01,  1.48s/it]"
     ]
    },
    {
     "name": "stdout",
     "output_type": "stream",
     "text": [
      "[Epoch 2] train loss: 40.763; train acc: 14.56; test loss: 40.763; test acc: 14.56\n"
     ]
    },
    {
     "name": "stderr",
     "output_type": "stream",
     "text": [
      "100%|████████████████████████████████████████████████████████████████████████████████████████████████████████████████████████| 3/3 [00:04<00:00,  1.48s/it]\n"
     ]
    },
    {
     "name": "stdout",
     "output_type": "stream",
     "text": [
      "[Epoch 3] train loss: 40.763; train acc: 14.56; test loss: 40.762; test acc: 14.56\n",
      "TRAINING ITERATION #494/500\n"
     ]
    },
    {
     "name": "stderr",
     "output_type": "stream",
     "text": [
      " 33%|████████████████████████████████████████                                                                                | 1/3 [00:01<00:03,  1.57s/it]"
     ]
    },
    {
     "name": "stdout",
     "output_type": "stream",
     "text": [
      "[Epoch 1] train loss: 40.766; train acc: 14.55; test loss: 40.762; test acc: 14.57\n"
     ]
    },
    {
     "name": "stderr",
     "output_type": "stream",
     "text": [
      " 67%|████████████████████████████████████████████████████████████████████████████████                                        | 2/3 [00:03<00:01,  1.60s/it]"
     ]
    },
    {
     "name": "stdout",
     "output_type": "stream",
     "text": [
      "[Epoch 2] train loss: 40.765; train acc: 14.56; test loss: 40.761; test acc: 14.57\n"
     ]
    },
    {
     "name": "stderr",
     "output_type": "stream",
     "text": [
      "100%|████████████████████████████████████████████████████████████████████████████████████████████████████████████████████████| 3/3 [00:04<00:00,  1.56s/it]\n"
     ]
    },
    {
     "name": "stdout",
     "output_type": "stream",
     "text": [
      "[Epoch 3] train loss: 40.765; train acc: 14.56; test loss: 40.761; test acc: 14.57\n",
      "TRAINING ITERATION #495/500\n"
     ]
    },
    {
     "name": "stderr",
     "output_type": "stream",
     "text": [
      " 33%|████████████████████████████████████████                                                                                | 1/3 [00:01<00:02,  1.41s/it]"
     ]
    },
    {
     "name": "stdout",
     "output_type": "stream",
     "text": [
      "[Epoch 1] train loss: 40.762; train acc: 14.56; test loss: 40.762; test acc: 14.56\n"
     ]
    },
    {
     "name": "stderr",
     "output_type": "stream",
     "text": [
      " 67%|████████████████████████████████████████████████████████████████████████████████                                        | 2/3 [00:02<00:01,  1.45s/it]"
     ]
    },
    {
     "name": "stdout",
     "output_type": "stream",
     "text": [
      "[Epoch 2] train loss: 40.762; train acc: 14.57; test loss: 40.761; test acc: 14.56\n"
     ]
    },
    {
     "name": "stderr",
     "output_type": "stream",
     "text": [
      "100%|████████████████████████████████████████████████████████████████████████████████████████████████████████████████████████| 3/3 [00:04<00:00,  1.43s/it]"
     ]
    },
    {
     "name": "stdout",
     "output_type": "stream",
     "text": [
      "[Epoch 3] train loss: 40.763; train acc: 14.57; test loss: 40.762; test acc: 14.56\n",
      "SNR: -10, 7030.374%, test BER: 0.3515186607837677                \n",
      "\n"
     ]
    },
    {
     "name": "stderr",
     "output_type": "stream",
     "text": [
      "\n"
     ]
    },
    {
     "name": "stdout",
     "output_type": "stream",
     "text": [
      "SNR: -9, 6688.974%, test BER: 0.3344486653804779                \n",
      "\n",
      "SNR: -8, 6304.827%, test BER: 0.31524133682250977                \n",
      "\n",
      "SNR: -7, 5891.347%, test BER: 0.294567346572876                \n",
      "\n",
      "SNR: -6, 5462.854%, test BER: 0.27314266562461853                \n",
      "\n",
      "SNR: -5, 4971.987%, test BER: 0.2485993355512619                \n",
      "\n",
      "SNR: -4, 4454.027%, test BER: 0.2227013260126114                \n",
      "\n",
      "SNR: -3, 3910.733%, test BER: 0.19553667306900024                \n",
      "\n",
      "SNR: -2, 3349.547%, test BER: 0.1674773395061493                \n",
      "\n",
      "SNR: -1, 2769.720%, test BER: 0.13848599791526794                \n",
      "\n",
      "SNR: 0, 2202.947%, test BER: 0.11014733463525772                \n",
      "\n",
      "SNR: 1, 1662.760%, test BER: 0.08313799649477005                \n",
      "\n",
      "SNR: 2, 1179.933%, test BER: 0.058996666222810745                \n",
      "\n",
      "SNR: 3, 778.827%, test BER: 0.038941334933042526                \n",
      "\n",
      "SNR: 4, 464.267%, test BER: 0.023213332518935204                \n",
      "\n",
      "TRAINING ITERATION #496/500\n"
     ]
    },
    {
     "name": "stderr",
     "output_type": "stream",
     "text": [
      " 33%|████████████████████████████████████████                                                                                | 1/3 [00:01<00:02,  1.40s/it]"
     ]
    },
    {
     "name": "stdout",
     "output_type": "stream",
     "text": [
      "[Epoch 1] train loss: 40.763; train acc: 14.56; test loss: 40.764; test acc: 14.56\n"
     ]
    },
    {
     "name": "stderr",
     "output_type": "stream",
     "text": [
      " 67%|████████████████████████████████████████████████████████████████████████████████                                        | 2/3 [00:02<00:01,  1.46s/it]"
     ]
    },
    {
     "name": "stdout",
     "output_type": "stream",
     "text": [
      "[Epoch 2] train loss: 40.763; train acc: 14.56; test loss: 40.764; test acc: 14.56\n"
     ]
    },
    {
     "name": "stderr",
     "output_type": "stream",
     "text": [
      "100%|████████████████████████████████████████████████████████████████████████████████████████████████████████████████████████| 3/3 [00:04<00:00,  1.44s/it]\n"
     ]
    },
    {
     "name": "stdout",
     "output_type": "stream",
     "text": [
      "[Epoch 3] train loss: 40.763; train acc: 14.56; test loss: 40.763; test acc: 14.56\n",
      "TRAINING ITERATION #497/500\n"
     ]
    },
    {
     "name": "stderr",
     "output_type": "stream",
     "text": [
      " 33%|████████████████████████████████████████                                                                                | 1/3 [00:01<00:02,  1.44s/it]"
     ]
    },
    {
     "name": "stdout",
     "output_type": "stream",
     "text": [
      "[Epoch 1] train loss: 40.764; train acc: 14.56; test loss: 40.764; test acc: 14.56\n"
     ]
    },
    {
     "name": "stderr",
     "output_type": "stream",
     "text": [
      " 67%|████████████████████████████████████████████████████████████████████████████████                                        | 2/3 [00:02<00:01,  1.48s/it]"
     ]
    },
    {
     "name": "stdout",
     "output_type": "stream",
     "text": [
      "[Epoch 2] train loss: 40.764; train acc: 14.56; test loss: 40.763; test acc: 14.56\n"
     ]
    },
    {
     "name": "stderr",
     "output_type": "stream",
     "text": [
      "100%|████████████████████████████████████████████████████████████████████████████████████████████████████████████████████████| 3/3 [00:04<00:00,  1.48s/it]\n"
     ]
    },
    {
     "name": "stdout",
     "output_type": "stream",
     "text": [
      "[Epoch 3] train loss: 40.764; train acc: 14.56; test loss: 40.763; test acc: 14.56\n",
      "TRAINING ITERATION #498/500\n"
     ]
    },
    {
     "name": "stderr",
     "output_type": "stream",
     "text": [
      " 33%|████████████████████████████████████████                                                                                | 1/3 [00:01<00:02,  1.44s/it]"
     ]
    },
    {
     "name": "stdout",
     "output_type": "stream",
     "text": [
      "[Epoch 1] train loss: 40.765; train acc: 14.56; test loss: 40.765; test acc: 14.56\n"
     ]
    },
    {
     "name": "stderr",
     "output_type": "stream",
     "text": [
      " 67%|████████████████████████████████████████████████████████████████████████████████                                        | 2/3 [00:02<00:01,  1.49s/it]"
     ]
    },
    {
     "name": "stdout",
     "output_type": "stream",
     "text": [
      "[Epoch 2] train loss: 40.766; train acc: 14.56; test loss: 40.764; test acc: 14.56\n"
     ]
    },
    {
     "name": "stderr",
     "output_type": "stream",
     "text": [
      "100%|████████████████████████████████████████████████████████████████████████████████████████████████████████████████████████| 3/3 [00:04<00:00,  1.45s/it]\n"
     ]
    },
    {
     "name": "stdout",
     "output_type": "stream",
     "text": [
      "[Epoch 3] train loss: 40.764; train acc: 14.56; test loss: 40.764; test acc: 14.56\n",
      "TRAINING ITERATION #499/500\n"
     ]
    },
    {
     "name": "stderr",
     "output_type": "stream",
     "text": [
      " 33%|████████████████████████████████████████                                                                                | 1/3 [00:01<00:02,  1.38s/it]"
     ]
    },
    {
     "name": "stdout",
     "output_type": "stream",
     "text": [
      "[Epoch 1] train loss: 40.765; train acc: 14.56; test loss: 40.761; test acc: 14.57\n"
     ]
    },
    {
     "name": "stderr",
     "output_type": "stream",
     "text": [
      " 67%|████████████████████████████████████████████████████████████████████████████████                                        | 2/3 [00:02<00:01,  1.43s/it]"
     ]
    },
    {
     "name": "stdout",
     "output_type": "stream",
     "text": [
      "[Epoch 2] train loss: 40.765; train acc: 14.56; test loss: 40.761; test acc: 14.57\n"
     ]
    },
    {
     "name": "stderr",
     "output_type": "stream",
     "text": [
      "100%|████████████████████████████████████████████████████████████████████████████████████████████████████████████████████████| 3/3 [00:04<00:00,  1.46s/it]\n"
     ]
    },
    {
     "name": "stdout",
     "output_type": "stream",
     "text": [
      "[Epoch 3] train loss: 40.765; train acc: 14.56; test loss: 40.760; test acc: 14.57\n",
      "TRAINING ITERATION #500/500\n"
     ]
    },
    {
     "name": "stderr",
     "output_type": "stream",
     "text": [
      " 33%|████████████████████████████████████████                                                                                | 1/3 [00:01<00:02,  1.47s/it]"
     ]
    },
    {
     "name": "stdout",
     "output_type": "stream",
     "text": [
      "[Epoch 1] train loss: 40.764; train acc: 14.56; test loss: 40.762; test acc: 14.56\n"
     ]
    },
    {
     "name": "stderr",
     "output_type": "stream",
     "text": [
      " 67%|████████████████████████████████████████████████████████████████████████████████                                        | 2/3 [00:03<00:01,  1.53s/it]"
     ]
    },
    {
     "name": "stdout",
     "output_type": "stream",
     "text": [
      "[Epoch 2] train loss: 40.764; train acc: 14.56; test loss: 40.764; test acc: 14.56\n"
     ]
    },
    {
     "name": "stderr",
     "output_type": "stream",
     "text": [
      "100%|████████████████████████████████████████████████████████████████████████████████████████████████████████████████████████| 3/3 [00:04<00:00,  1.51s/it]"
     ]
    },
    {
     "name": "stdout",
     "output_type": "stream",
     "text": [
      "[Epoch 3] train loss: 40.764; train acc: 14.56; test loss: 40.763; test acc: 14.56\n",
      "SNR: -10, 7030.027%, test BER: 0.35150134563446045                \n",
      "\n"
     ]
    },
    {
     "name": "stderr",
     "output_type": "stream",
     "text": [
      "\n"
     ]
    },
    {
     "name": "stdout",
     "output_type": "stream",
     "text": [
      "SNR: -9, 6700.333%, test BER: 0.335016667842865                \n",
      "\n",
      "SNR: -8, 6299.293%, test BER: 0.3149646520614624                \n",
      "\n",
      "SNR: -7, 5892.240%, test BER: 0.29461199045181274                \n",
      "\n",
      "SNR: -6, 5440.667%, test BER: 0.27203333377838135                \n",
      "\n",
      "SNR: -5, 4972.240%, test BER: 0.24861200153827667                \n",
      "\n",
      "SNR: -4, 4462.800%, test BER: 0.22314000129699707                \n",
      "\n",
      "SNR: -3, 3902.120%, test BER: 0.19510599970817566                \n",
      "\n",
      "SNR: -2, 3339.200%, test BER: 0.1669600009918213                \n",
      "\n",
      "SNR: -1, 2765.667%, test BER: 0.13828332722187042                \n",
      "\n",
      "SNR: 0, 2203.680%, test BER: 0.11018399894237518                \n",
      "\n",
      "SNR: 1, 1660.947%, test BER: 0.08304733037948608                \n",
      "\n",
      "SNR: 2, 1181.267%, test BER: 0.05906333401799202                \n",
      "\n",
      "SNR: 3, 781.667%, test BER: 0.039083331823349                \n",
      "\n",
      "SNR: 4, 466.880%, test BER: 0.023344000801444054                \n",
      "\n"
     ]
    }
   ],
   "source": [
    "train_size = 50000\n",
    "n_upd = 500\n",
    "bit_errors_nn = torch.zeros((n_upd, len(SNRs))).to(device)\n",
    "nb_bits_nn = torch.zeros((n_upd, len(SNRs))).to(device)\n",
    "ber_list = []\n",
    "\n",
    "for upd in range(n_upd):\n",
    "    print(f'TRAINING ITERATION #{upd+1}/{n_upd}')\n",
    "    training_loader, test_loader = update_loaders()\n",
    "    train(training_loader, test_loader, decoder, criterion, opt, n_epochs=3)\n",
    "\n",
    "    if (np.mod(upd+1,5)==0):\n",
    "        decoder.eval()\n",
    "        for i, snr in enumerate(SNRs):\n",
    "            while bit_errors_nn[upd][i] < req_err:\n",
    "                # messages = torch.randint(0, 2, (test_size, k))\n",
    "                # codewords = messages @ G % 2\n",
    "                # codewords = codewords.to(device)\n",
    "                # BPSK_codewords = (0.5 - codewords) * 2\n",
    "                codewords = torch.ones((test_size, n)).to(device)\n",
    "                BPSK_codewords = -1*torch.ones_like(codewords).to(device)\n",
    "                sigma = torch.sqrt(torch.tensor(1) / (2 * (np.float(k)/np.float(n)) * 10**(snr/10)))\n",
    "                noise = sigma * torch.randn(test_size, n).to(device)\n",
    "                soft_input = BPSK_codewords + noise\n",
    "                bit_errors_nn[upd][i] += torch.count_nonzero(torch.heaviside(decoder(soft_input) - 0.5, torch.tensor([0.]).to(device)) != codewords)\n",
    "                nb_bits_nn[upd][i] += test_size * n\n",
    "                print(f'SNR: {snr}, {100*bit_errors_nn[upd][i]/req_err :.3f}%, test BER: {bit_errors_nn[upd][i] / nb_bits_nn[upd][i]}                ', end='\\r')\n",
    "            print('\\n')\n",
    "        ber_list.append((bit_errors_nn[upd,-1].cpu() / nb_bits_nn[upd,-1].cpu()).numpy())    \n",
    "        np.savetxt('ber.txt', ber_list)"
   ]
  },
  {
   "cell_type": "code",
   "execution_count": 14,
   "metadata": {},
   "outputs": [
    {
     "data": {
      "image/png": "[encoded data removed]",
      "text/plain": [
       "<Figure size 1152x720 with 1 Axes>"
      ]
     },
     "metadata": {
      "needs_background": "light"
     },
     "output_type": "display_data"
    }
   ],
   "source": [
    "plt.figure(figsize=(16,10))\n",
    "plt.semilogy(SNRs, bit_errors_min_sum.cpu() / nb_bits_min_sum.cpu(), label='Classical Min-sum')\n",
    "plt.semilogy(SNRs, bit_errors_hard.cpu() / nb_bits_hard.cpu(), label='hard decision')\n",
    "# for i in range(10):\n",
    "plt.semilogy(SNRs, bit_errors_nn[77].cpu() / nb_bits_nn[77].cpu(), label=f'NN')\n",
    "plt.legend()\n",
    "plt.show()"
   ]
  },
  {
   "cell_type": "code",
   "execution_count": 15,
   "metadata": {},
   "outputs": [
    {
     "data": {
      "text/plain": [
       "tensor([ 0.3800,  0.2541,  0.1346,  0.2877,  0.3194,  0.3071,  0.3282,  0.1956,\n",
       "         0.1905,  0.2885, -0.0609,  0.1512,  0.0674,  0.2957,  0.2206],\n",
       "       device='cuda:0', grad_fn=<SubBackward0>)"
      ]
     },
     "execution_count": 15,
     "metadata": {},
     "output_type": "execute_result"
    }
   ],
   "source": [
    "decoder(soft_input)[0] - 0.5"
   ]
  },
  {
   "cell_type": "code",
   "execution_count": 16,
   "metadata": {},
   "outputs": [
    {
     "data": {
      "text/plain": [
       "tensor([1., 1., 1., 1., 1., 1., 1., 1., 1., 1., 1., 1., 1., 1., 1.],\n",
       "       device='cuda:0')"
      ]
     },
     "execution_count": 16,
     "metadata": {},
     "output_type": "execute_result"
    }
   ],
   "source": [
    "codewords[0]"
   ]
  },
  {
   "cell_type": "code",
   "execution_count": 17,
   "metadata": {},
   "outputs": [
    {
     "data": {
      "text/plain": [
       "Parameter containing:\n",
       "tensor([[0.5830, 0.5247, 0.3474, 0.2779, 0.0779, 1.0077, 0.5689, 2.3038, 0.5753,\n",
       "         1.0836, 0.2880, 0.3106, 0.5674, 2.2085, 2.0353, 0.2394, 1.2389, 0.4239,\n",
       "         1.0792, 0.4784, 1.9006, 1.4196, 0.5626, 0.2366, 1.5963, 0.3488, 1.3359,\n",
       "         1.3751, 0.7135, 0.3214, 0.5912, 0.8903],\n",
       "        [0.7034, 0.5157, 0.2705, 1.6992, 0.1572, 0.8288, 0.5347, 1.1905, 0.3927,\n",
       "         0.4966, 0.8318, 1.3949, 0.6431, 0.7269, 0.2019, 1.4643, 0.0632, 0.0844,\n",
       "         1.9979, 0.5505, 0.1488, 0.2179, 1.4777, 0.2420, 0.2521, 1.3464, 1.8138,\n",
       "         0.5404, 0.6906, 0.9023, 0.8250, 1.1046],\n",
       "        [0.6171, 0.3797, 0.8749, 0.5181, 0.3217, 1.0620, 1.9209, 0.2616, 1.1972,\n",
       "         0.5924, 0.3344, 0.4486, 0.3623, 0.1755, 2.5400, 0.5223, 1.0737, 0.6765,\n",
       "         0.7578, 1.0843, 0.3591, 0.8660, 0.5200, 0.1159, 1.8499, 0.5865, 0.6620,\n",
       "         0.0399, 0.6925, 1.9201, 0.7606, 1.5453],\n",
       "        [0.6567, 0.0391, 0.6251, 1.1110, 0.3361, 0.5267, 0.0190, 0.8810, 0.6659,\n",
       "         0.0541, 1.3998, 0.9575, 0.3804, 0.5710, 0.4646, 0.0473, 0.7054, 0.4025,\n",
       "         2.3665, 0.3363, 0.4350, 0.4847, 2.0043, 0.0602, 1.1027, 1.4734, 0.2776,\n",
       "         1.4578, 0.1911, 1.1624, 0.4744, 1.5403],\n",
       "        [0.1614, 0.9117, 0.6982, 1.1120, 2.4966, 0.4247, 1.5485, 0.1683, 1.6159,\n",
       "         0.1067, 0.8160, 0.0433, 0.0793, 2.6255, 0.0501, 1.2638, 1.3979, 0.2899,\n",
       "         0.0581, 0.4708, 0.5509, 0.3461, 1.2586, 1.2949, 1.5388, 1.4472, 0.4171,\n",
       "         1.4366, 0.1217, 0.1023, 0.4258, 0.1453]], device='cuda:0',\n",
       "       requires_grad=True)"
      ]
     },
     "execution_count": 17,
     "metadata": {},
     "output_type": "execute_result"
    }
   ],
   "source": [
    "decoder.W_cv"
   ]
  },
  {
   "cell_type": "code",
   "execution_count": 18,
   "metadata": {},
   "outputs": [
    {
     "data": {
      "text/plain": [
       "Parameter containing:\n",
       "tensor([[0.6306, 2.1131, 0.9339, 0.6698, 0.4331, 0.2294, 0.5381, 1.5161, 0.2964,\n",
       "         0.3299, 0.6441, 0.2231, 0.2362, 1.3550, 0.2450, 0.3114, 1.2802, 1.7974,\n",
       "         1.3755, 0.4993, 0.3191, 1.1621, 0.2767, 1.7009, 2.8481, 0.2752, 1.8519,\n",
       "         2.9740, 0.8793, 0.3564, 1.6593, 0.2232],\n",
       "        [0.1259, 1.1352, 0.5586, 1.4111, 0.2892, 0.7176, 1.4421, 2.1338, 1.0673,\n",
       "         2.0640, 0.0864, 0.9451, 0.6602, 1.4973, 1.1811, 1.2205, 0.0963, 2.4258,\n",
       "         0.2375, 1.2550, 0.9312, 0.6549, 1.1843, 0.6977, 0.0191, 0.8281, 0.6440,\n",
       "         1.6842, 0.9658, 1.4133, 0.3054, 0.3617],\n",
       "        [1.4866, 0.0387, 1.0001, 0.4812, 0.8063, 0.9006, 1.3319, 0.2439, 0.2794,\n",
       "         1.0639, 0.2044, 0.8394, 0.9414, 1.6817, 0.8140, 1.1897, 0.6587, 0.4302,\n",
       "         2.0665, 0.4267, 0.8961, 0.4352, 0.2945, 0.8164, 0.3223, 1.7000, 0.3851,\n",
       "         1.4490, 0.1660, 0.2620, 0.7675, 1.1989],\n",
       "        [0.6951, 1.3708, 0.1479, 1.2369, 0.0487, 1.9450, 0.4564, 1.1790, 0.9492,\n",
       "         0.7366, 0.2721, 0.8616, 1.9310, 0.6136, 0.5751, 1.1452, 0.6781, 0.2849,\n",
       "         0.0327, 1.3881, 0.3687, 0.1111, 0.1887, 2.1036, 1.4634, 1.1131, 0.8235,\n",
       "         0.3183, 1.1857, 0.5090, 0.2567, 0.2434],\n",
       "        [0.8081, 0.2353, 0.2398, 0.9925, 2.3296, 0.3595, 0.7382, 0.2014, 0.2350,\n",
       "         2.1169, 0.6431, 0.7425, 0.0835, 1.3754, 1.2794, 0.5820, 0.5369, 1.2430,\n",
       "         1.1370, 0.0638, 1.3501, 0.5442, 0.7524, 0.6719, 0.3686, 0.0815, 1.1479,\n",
       "         0.0170, 1.4571, 0.8127, 0.5312, 0.2186]], device='cuda:0',\n",
       "       requires_grad=True)"
      ]
     },
     "execution_count": 18,
     "metadata": {},
     "output_type": "execute_result"
    }
   ],
   "source": [
    "decoder.B_cv"
   ]
  },
  {
   "cell_type": "code",
   "execution_count": null,
   "metadata": {},
   "outputs": [],
   "source": []
  }
 ],
 "metadata": {
  "interpreter": {
   "hash": "40d3a090f54c6569ab1632332b64b2c03c39dcf918b08424e98f38b5ae0af88f"
  },
  "kernelspec": {
   "display_name": "Python 3 (ipykernel)",
   "language": "python",
   "name": "python3"
  },
  "language_info": {
   "codemirror_mode": {
    "name": "ipython",
    "version": 3
   },
   "file_extension": ".py",
   "mimetype": "text/x-python",
   "name": "python",
   "nbconvert_exporter": "python",
   "pygments_lexer": "ipython3",
   "version": "3.9.10"
  }
 },
 "nbformat": 4,
 "nbformat_minor": 4
}
